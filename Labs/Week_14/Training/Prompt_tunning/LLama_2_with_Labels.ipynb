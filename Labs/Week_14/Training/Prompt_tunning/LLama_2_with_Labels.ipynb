{
 "cells": [
  {
   "cell_type": "code",
   "execution_count": null,
   "metadata": {
    "vscode": {
     "languageId": "plaintext"
    }
   },
   "outputs": [],
   "source": [
    "from peft import PromptTuningConfig, PeftModel\n",
    "from transformers import AutoModelForCausalLM, AutoTokenizer\n",
    "\n",
    "# Load the model and tokenizer\n",
    "model_name = \"meta-llama/Llama-2-7b-hf\"\n",
    "model = AutoModelForCausalLM.from_pretrained(model_name)\n",
    "tokenizer = AutoTokenizer.from_pretrained(model_name)\n",
    "\n",
    "# Define soft prompt configuration\n",
    "prompt_config = PromptTuningConfig(\n",
    "    task_type=\"TEXT_CLASSIFICATION\",  # Task type\n",
    "    num_virtual_tokens=20,            # Number of trainable prompt tokens\n",
    "    tokenizer_name_or_path=model_name,\n",
    ")\n",
    "\n",
    "# Add soft prompts to the model\n",
    "peft_model = PeftModel(model, prompt_config)\n"
   ]
  },
  {
   "cell_type": "code",
   "execution_count": null,
   "metadata": {
    "vscode": {
     "languageId": "plaintext"
    }
   },
   "outputs": [],
   "source": [
    "from transformers import Trainer, TrainingArguments\n",
    "from datasets import load_dataset\n",
    "\n",
    "# Load a dataset\n",
    "dataset = load_dataset(\"imdb\")\n",
    "\n",
    "# Preprocess the dataset\n",
    "def preprocess_function(examples):\n",
    "    return tokenizer(\n",
    "        examples[\"text\"], truncation=True, padding=\"max_length\", max_length=512\n",
    "    )\n",
    "\n",
    "tokenized_dataset = dataset.map(preprocess_function, batched=True)\n",
    "\n",
    "# Define training arguments\n",
    "training_args = TrainingArguments(\n",
    "    output_dir=\"./soft_prompt_tuning\",\n",
    "    per_device_train_batch_size=4,\n",
    "    num_train_epochs=3,\n",
    "    evaluation_strategy=\"epoch\",\n",
    "    learning_rate=5e-4,  # Higher learning rate for soft prompts\n",
    "    logging_dir=\"./logs\",\n",
    ")\n",
    "\n",
    "# Create a Trainer for the soft prompts\n",
    "trainer = Trainer(\n",
    "    model=peft_model,\n",
    "    args=training_args,\n",
    "    train_dataset=tokenized_dataset[\"train\"],\n",
    "    eval_dataset=tokenized_dataset[\"test\"],\n",
    "    tokenizer=tokenizer,\n",
    ")\n",
    "\n",
    "# Train the soft prompts\n",
    "trainer.train()\n",
    "\n",
    "# Save the trained soft prompts\n",
    "peft_model.save_pretrained(\"./soft_prompt_tuning\")\n"
   ]
  },
  {
   "cell_type": "code",
   "execution_count": null,
   "metadata": {
    "vscode": {
     "languageId": "plaintext"
    }
   },
   "outputs": [],
   "source": []
  }
 ],
 "metadata": {
  "language_info": {
   "name": "python"
  }
 },
 "nbformat": 4,
 "nbformat_minor": 2
}
