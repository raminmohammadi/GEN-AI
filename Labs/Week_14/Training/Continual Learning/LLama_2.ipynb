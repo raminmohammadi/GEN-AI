{
 "cells": [
  {
   "cell_type": "code",
   "execution_count": null,
   "metadata": {
    "vscode": {
     "languageId": "plaintext"
    }
   },
   "outputs": [],
   "source": [
    "from transformers import AutoModelForCausalLM, AutoTokenizer, Trainer, TrainingArguments\n",
    "from datasets import concatenate_datasets, load_dataset\n",
    "\n",
    "# Load the pretrained LLaMA 2 model and tokenizer\n",
    "model_name = \"meta-llama/Llama-2-7b-hf\"\n",
    "model = AutoModelForCausalLM.from_pretrained(model_name)\n",
    "tokenizer = AutoTokenizer.from_pretrained(model_name)\n",
    "\n",
    "# Load new task dataset\n",
    "new_task_dataset = load_dataset(\"ag_news\", split=\"train[:10%]\")  # News classification task\n",
    "\n",
    "# Tokenize the new dataset\n",
    "def tokenize_function(examples):\n",
    "    return tokenizer(examples[\"text\"], truncation=True, padding=\"max_length\", max_length=512)\n",
    "\n",
    "tokenized_new_task = new_task_dataset.map(tokenize_function, batched=True)\n",
    "\n",
    "# Create a replay buffer with examples from the original task (e.g., IMDb dataset)\n",
    "old_task_dataset = load_dataset(\"imdb\", split=\"train[:1%]\")  # Small subset of original task\n",
    "tokenized_old_task = old_task_dataset.map(tokenize_function, batched=True)\n",
    "\n",
    "# Combine the new task data with the replay buffer\n",
    "combined_dataset = concatenate_datasets([tokenized_new_task, tokenized_old_task])\n"
   ]
  },
  {
   "cell_type": "code",
   "execution_count": null,
   "metadata": {
    "vscode": {
     "languageId": "plaintext"
    }
   },
   "outputs": [],
   "source": [
    "# Define training arguments\n",
    "training_args = TrainingArguments(\n",
    "    output_dir=\"./llama2-continual-learning\",\n",
    "    evaluation_strategy=\"epoch\",\n",
    "    learning_rate=5e-5,\n",
    "    per_device_train_batch_size=4,\n",
    "    per_device_eval_batch_size=4,\n",
    "    num_train_epochs=3,\n",
    "    logging_dir=\"./logs\",\n",
    ")\n",
    "\n",
    "# Define a Trainer object\n",
    "trainer = Trainer(\n",
    "    model=model,\n",
    "    args=training_args,\n",
    "    train_dataset=combined_dataset,\n",
    "    tokenizer=tokenizer,\n",
    ")\n",
    "\n",
    "# Fine-tune the model\n",
    "trainer.train()\n",
    "\n",
    "# Save the continually learned model\n",
    "trainer.save_model(\"./llama2-continual-learning\")\n"
   ]
  },
  {
   "cell_type": "code",
   "execution_count": null,
   "metadata": {
    "vscode": {
     "languageId": "plaintext"
    }
   },
   "outputs": [],
   "source": []
  }
 ],
 "metadata": {
  "language_info": {
   "name": "python"
  }
 },
 "nbformat": 4,
 "nbformat_minor": 2
}
