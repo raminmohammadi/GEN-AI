{
 "cells": [
  {
   "cell_type": "code",
   "execution_count": null,
   "metadata": {
    "vscode": {
     "languageId": "plaintext"
    }
   },
   "outputs": [],
   "source": [
    "# Define a few-shot prompt\n",
    "prompt = \"\"\"\n",
    "Classify the sentiment of the following reviews as Positive or Negative:\n",
    "Review: \"The movie was thrilling and kept me on the edge of my seat.\"\n",
    "Sentiment: Positive\n",
    "\n",
    "Review: \"The plot was dull and the acting was subpar.\"\n",
    "Sentiment: Negative\n",
    "\n",
    "Review: \"The movie was a masterpiece with incredible acting and a moving story.\"\n",
    "Sentiment:\n",
    "\"\"\"\n",
    "\n",
    "# Tokenize the input\n",
    "inputs = tokenizer(prompt, return_tensors=\"pt\")\n",
    "\n",
    "# Generate the output\n",
    "model.eval()\n",
    "with torch.no_grad():\n",
    "    outputs = model.generate(inputs[\"input_ids\"], max_new_tokens=50)\n",
    "\n",
    "# Decode the output\n",
    "result = tokenizer.decode(outputs[0], skip_special_tokens=True)\n",
    "print(result)\n"
   ]
  },
  {
   "cell_type": "code",
   "execution_count": null,
   "metadata": {
    "vscode": {
     "languageId": "plaintext"
    }
   },
   "outputs": [],
   "source": []
  }
 ],
 "metadata": {
  "language_info": {
   "name": "python"
  }
 },
 "nbformat": 4,
 "nbformat_minor": 2
}
