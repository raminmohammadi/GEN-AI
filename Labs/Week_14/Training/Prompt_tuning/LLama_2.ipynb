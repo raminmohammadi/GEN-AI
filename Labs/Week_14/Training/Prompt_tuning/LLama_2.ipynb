{
 "cells": [
  {
   "cell_type": "code",
   "execution_count": null,
   "metadata": {
    "vscode": {
     "languageId": "plaintext"
    }
   },
   "outputs": [],
   "source": [
    "from transformers import AutoModelForCausalLM, AutoTokenizer, TextGenerationPipeline\n",
    "import torch\n",
    "\n",
    "# Load the pretrained LLaMA 2 model and tokenizer\n",
    "model_name = \"meta-llama/Llama-2-7b-hf\"  # Adjust to 13B or 70B if needed\n",
    "model = AutoModelForCausalLM.from_pretrained(model_name)\n",
    "tokenizer = AutoTokenizer.from_pretrained(model_name)\n",
    "\n",
    "# Define a task-specific prompt\n",
    "prompt = \"\"\"\n",
    "Classify the sentiment of the following review as either Positive or Negative:\n",
    "\"Despite its slow start, the movie captivated me with its emotional depth and brilliant acting.\"\n",
    "Sentiment:\n",
    "\"\"\"\n",
    "\n",
    "# Tokenize the prompt\n",
    "inputs = tokenizer(prompt, return_tensors=\"pt\")\n",
    "\n",
    "# Generate a response\n",
    "model.eval()\n",
    "with torch.no_grad():\n",
    "    outputs = model.generate(\n",
    "        inputs[\"input_ids\"], \n",
    "        max_new_tokens=50, \n",
    "        temperature=0.7, \n",
    "        top_p=0.9\n",
    "    )\n",
    "\n",
    "# Decode and print the model's output\n",
    "generated_text = tokenizer.decode(outputs[0], skip_special_tokens=True)\n",
    "print(generated_text)\n"
   ]
  },
  {
   "cell_type": "code",
   "execution_count": null,
   "metadata": {
    "vscode": {
     "languageId": "plaintext"
    }
   },
   "outputs": [],
   "source": []
  }
 ],
 "metadata": {
  "language_info": {
   "name": "python"
  }
 },
 "nbformat": 4,
 "nbformat_minor": 2
}
