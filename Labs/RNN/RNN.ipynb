{
  "cells": [
    {
      "cell_type": "markdown",
      "metadata": {
        "id": "ePTJ548EONuN"
      },
      "source": [
        "<center>\n",
        "    <h1>Recurrent Neural Networks(RNNs)</h1>\n",
        "</center>"
      ]
    },
    {
      "cell_type": "markdown",
      "metadata": {
        "id": "6JpLigzlOWIe"
      },
      "source": [
        "# Brief Recap\n",
        "\n",
        "Recurrent Neural Networks (RNNs) are a type of artificial neural network designed for processing sequential data, where the output depends not just on the current input but also on previous inputs. This makes them particularly well-suited for tasks like time series forecasting, language modeling, speech recognition, and machine translation. <br>\n",
        "They were introduced in the 1980s. The foundational work on RNNs is attributed to John Hopfield, who introduced the Hopfield Network in 1982, and David Rumelhart, along with Geoffrey Hinton and Ronald J. Williams, who formalized the concept of backpropagation through time (BPTT) in the mid-1980s.\n",
        "\n"
      ]
    },
    {
      "cell_type": "markdown",
      "metadata": {
        "id": "AjzcBTOwOdy5"
      },
      "source": [
        "## RNN Architecture Description\n",
        "\n",
        "\n",
        "<img src='assets/rnn.png' width=500/>\n",
        "\n",
        "1. **Input Layer:** The input to an RNN is typically a sequence of vectors, where each element of the sequence corresponds to one time step. For example, in a sequence of words (like a sentence), each word can be represented as a vector (often a word embedding).\n",
        "2. **Hidden Layer:** The defining feature of an RNN is its hidden state, which acts as a memory of the network. This state is updated at each time step based on the current input and the previous hidden state.\n",
        "3. **Output Layer:** At each time step, the RNN can produce an output, which might be a prediction(e.g., the next word in a sentence), a classification(e.g., positive or negative sentiment of a sentence) or a final output after the whole sequence has been processed(e.g., classifying a video).  \n",
        "4. **Recurrent Loop:** Unlike traditional neural networks, which process inputs independently, RNNs have recurrent connections that loop information back into the network. This loop allows information to flow from one time step to the next."
      ]
    },
    {
      "cell_type": "markdown",
      "metadata": {
        "id": "0xKeRJctOiL1"
      },
      "source": [
        "## Advantages of RNNs\n",
        "* **Sequential Data Processing:** They can process input data one element at a time while retaining information about previous inputs, making them ideal for tasks where the order of data matters.\n",
        "* **Memory of previous inputs:** Retains past information through hidden states, capturing context and temporal dependencies.\n",
        "* **Parameter Efficiency:** Uses shared weights across time steps, reducing the number of parameters.\n",
        "* **Variable-Length Inputs:** Can handle sequences of different lengths without architectural changes.\n",
        "* **Contextual Understanding:** Captures broader context in tasks like sentiment analysis and question answering."
      ]
    },
    {
      "cell_type": "markdown",
      "metadata": {
        "id": "iEu3F362OltO"
      },
      "source": [
        "# Implementing RNNs with TensorFlow\n",
        "\n",
        "TensorFlow provides an easy way to implement LSTM layers using the `tf.keras.layers.SimpleRNN` class. Here's an overview of the key components:\n",
        "* `units`: Number of neurons in an RNN layer\n",
        "* `input_shape` (`timesteps`, `input_dim`): Defines shape of the input to the RNN.`timesteps` refers to the number of time steps in each input sequence, and `input_dim` refers to the number of features in each time step.\n",
        "* `return_sequences`: Determines whether to return the output for each time step (`True`) or only the final time step's output (`False`).\n",
        "* `activation`: Specifies the activation function for the output layer.\n",
        "\n",
        "For more detailed information, refer to the TensorFlow documentation on [SimpleRNN](https://www.tensorflow.org/api_docs/python/tf/keras/layers/SimpleRNN)."
      ]
    },
    {
      "cell_type": "code",
      "execution_count": null,
      "metadata": {
        "colab": {
          "base_uri": "https://localhost:8080/",
          "height": 199
        },
        "id": "EPf7Wq2BN5XU",
        "outputId": "c682c8c3-b829-41f0-b98f-a35f9728b934"
      },
      "outputs": [],
      "source": [
        "import tensorflow as tf\n",
        "from tensorflow.keras.models import Sequential\n",
        "from tensorflow.keras.layers import SimpleRNN, Dense, Input\n",
        "\n",
        "# Define model parameters\n",
        "input_dim = 10  # Number of features in each time step\n",
        "timesteps = 5   # Number of time steps in each sequence\n",
        "num_classes = 3 # Number of output classes\n",
        "\n",
        "# Build the RNN model\n",
        "model = Sequential()\n",
        "\n",
        "# Add an RNN layer\n",
        "model.add(Input(shape=(timesteps, input_dim)))\n",
        "model.add(SimpleRNN(50, return_sequences=False))\n",
        "\n",
        "# Add a dense output layer\n",
        "model.add(Dense(num_classes, activation='softmax'))\n",
        "\n",
        "# Summarize the model\n",
        "model.summary()\n"
      ]
    },
    {
      "cell_type": "markdown",
      "metadata": {
        "id": "V1LfEaQphBK8"
      },
      "source": [
        "**SimpleRNN Layer:**\n",
        "\n",
        "This is the recurrent layer with 50 units (neurons). It takes a sequence of shape (timesteps, input_dim) as input, where timesteps = 5 and input_dim = 10.\n",
        "The parameter `return_sequences=False` means that only the output of the last time step is passed to the next layer.\n",
        "\n",
        "**Dense Layer:**\n",
        "\n",
        "A fully connected layer with num_classes = 3 neurons, each corresponding to one output class. The `activation` function is softmax, which is typically used for multi-class classification tasks."
      ]
    },
    {
      "cell_type": "markdown",
      "metadata": {
        "id": "mdUrCFUwl8n8"
      },
      "source": [
        "# Sample Q/A Use Case with RNN\n",
        "\n",
        "Let's build a **Question Answering problem** and solve it using `SimpleRNN`.\n",
        "\n",
        "Preparing data for **Recurrent Neural Networks(RNNs)** in TensorFlow involves several key steps to ensure that your sequential data is in the right format for training and evaluation.\n",
        "\n"
      ]
    },
    {
      "cell_type": "code",
      "execution_count": null,
      "metadata": {
        "id": "emUIBm0Smhd1"
      },
      "outputs": [],
      "source": [
        "import numpy as np\n",
        "import tensorflow as tf\n",
        "from tensorflow.keras.preprocessing.text import Tokenizer\n",
        "from tensorflow.keras.preprocessing.sequence import pad_sequences\n",
        "from tensorflow.keras.utils import to_categorical"
      ]
    },
    {
      "cell_type": "code",
      "execution_count": null,
      "metadata": {
        "id": "Tnk6dHaDeDVD"
      },
      "outputs": [],
      "source": [
        "# Dummy dataset\n",
        "questions = [\n",
        "    \"What is your name?\",\n",
        "    \"How are you?\",\n",
        "    \"What is your profession?\",\n",
        "    \"Where do you live?\",\n",
        "    \"What is your favorite color?\"\n",
        "]\n",
        "\n",
        "# Corresponding answers (encoded as class labels)\n",
        "# We'll assign a unique class to each answer\n",
        "answers = [0, 1, 0, 2, 3]"
      ]
    },
    {
      "cell_type": "markdown",
      "metadata": {
        "id": "199_bQLMm-kC"
      },
      "source": [
        "### Tokenizing and Preprocessing\n",
        "* `Tokenizer`: It is used to convert words in questions into integer sequences.\n",
        "* `pad_sequences`: It ensures that all sequences are of same length by padding shorter sequences with zeros."
      ]
    },
    {
      "cell_type": "code",
      "execution_count": null,
      "metadata": {
        "id": "_BqNhJApeDTE"
      },
      "outputs": [],
      "source": [
        "# Initialize tokenizer to convert text to sequences\n",
        "\n",
        "tokenizer = Tokenizer()\n",
        "tokenizer.fit_on_texts(questions)"
      ]
    },
    {
      "cell_type": "markdown",
      "metadata": {
        "id": "VUP-KRaMa8Rl"
      },
      "source": [
        "You can check how each word is encoded using `tokenizer.word_index`"
      ]
    },
    {
      "cell_type": "code",
      "execution_count": null,
      "metadata": {
        "colab": {
          "base_uri": "https://localhost:8080/"
        },
        "id": "ppiCt1JCa47R",
        "outputId": "5a525d4b-5c9d-44b0-9fa0-d1de62b2c30a"
      },
      "outputs": [],
      "source": [
        "tokenizer.word_index"
      ]
    },
    {
      "cell_type": "code",
      "execution_count": null,
      "metadata": {
        "id": "bw5ZcUnLmf7x"
      },
      "outputs": [],
      "source": [
        "# Convert text to sequences of integers\n",
        "sequences = tokenizer.texts_to_sequences(questions)\n",
        "\n",
        "# Pad sequences to ensure all have the same length\n",
        "max_sequence_length = max(len(seq) for seq in sequences)\n",
        "X = pad_sequences(sequences, maxlen=max_sequence_length)"
      ]
    },
    {
      "cell_type": "code",
      "execution_count": null,
      "metadata": {
        "colab": {
          "base_uri": "https://localhost:8080/"
        },
        "id": "RltoE3YWsXcr",
        "outputId": "95b81a96-fac4-43ea-e286-e992682ab7fb"
      },
      "outputs": [],
      "source": [
        "sequences"
      ]
    },
    {
      "cell_type": "code",
      "execution_count": null,
      "metadata": {
        "colab": {
          "base_uri": "https://localhost:8080/"
        },
        "id": "grZIWrHGmf5i",
        "outputId": "11f2bb7c-9ecb-439f-b392-587b0fce5e1a"
      },
      "outputs": [],
      "source": [
        "# Convert answers to numpy array\n",
        "y = np.array(answers)\n",
        "\n",
        "# Print the preprocessed data\n",
        "print(\"Padded Sequences:\\n\", X)\n",
        "print(\"\\nLabels:\\n\", y)"
      ]
    },
    {
      "cell_type": "markdown",
      "metadata": {
        "id": "JPn5Mqf-ao7J"
      },
      "source": [
        "## Build and train a `SimpleRNN` model\n",
        "\n",
        "The **SimpleRNN** layer processes the input sequences. We use an embedding dimension based on the vocabulary size (number of unique words), followed by a `dense` output layer for classification.\n",
        "\n",
        "**Training:**\n",
        "The model is trained for 20 epochs using `sparse_categorical_crossentropy` as the loss function, which is suitable for multi-class classification.\n"
      ]
    },
    {
      "cell_type": "code",
      "execution_count": null,
      "metadata": {
        "id": "e0W3JvdFb4fw"
      },
      "outputs": [],
      "source": [
        "from tensorflow.keras.models import Sequential\n",
        "from tensorflow.keras.layers import SimpleRNN, Dense, Input"
      ]
    },
    {
      "cell_type": "code",
      "execution_count": null,
      "metadata": {
        "colab": {
          "base_uri": "https://localhost:8080/"
        },
        "id": "ASJzPF4xmf3r",
        "outputId": "523a9e88-8352-46e9-8ff9-5c90c42fbd80"
      },
      "outputs": [],
      "source": [
        "# Define the model\n",
        "model = Sequential()\n",
        "\n",
        "# Add SimpleRNN layer\n",
        "\n",
        "# 50 units in the RNN\n",
        "model.add(SimpleRNN(50, input_shape=(5, 1))) # Sending 1 feature at each time-step\n",
        "\n",
        "# Output layer (using softmax for multi-class classification)\n",
        "model.add(Dense(4, activation='softmax'))  # 4 unique answer classes\n",
        "\n",
        "# Compile the model\n",
        "model.compile(optimizer='adam', loss='sparse_categorical_crossentropy', metrics=['accuracy'])\n",
        "\n",
        "# Train the model\n",
        "model.fit(X, y, epochs=20, verbose=1)\n",
        "\n",
        "# Evaluate the model\n",
        "loss, accuracy = model.evaluate(X, y, verbose=1)\n",
        "print(f\"Model Accuracy: {accuracy:.4f}\")\n"
      ]
    },
    {
      "cell_type": "markdown",
      "metadata": {
        "id": "jPdwPxkRhHcb"
      },
      "source": [
        "## Inference\n",
        "\n",
        "| Questions                       | Answers |\n",
        "|----------------------------------|---------|\n",
        "| What is your name?               | 0       |\n",
        "| How are you?                     | 1       |\n",
        "| What is your profession?         | 0       |\n",
        "| Where do you live?               | 2       |\n",
        "| What is your favorite color?     | 3       |\n",
        "\n",
        "<br>\n",
        "\n",
        "You can ask the above questions under `new_question` variable and check the output if they are true."
      ]
    },
    {
      "cell_type": "code",
      "execution_count": null,
      "metadata": {
        "colab": {
          "base_uri": "https://localhost:8080/"
        },
        "id": "Ea5-250Dmf1l",
        "outputId": "1a9cfa11-00e7-4763-8b90-fd0ebee53f22"
      },
      "outputs": [],
      "source": [
        "# New question for inference\n",
        "new_question = [\"How are you?\"]\n",
        "\n",
        "# Tokenize the new question (same tokenizer used during training)\n",
        "new_sequence = tokenizer.texts_to_sequences(new_question)\n",
        "\n",
        "# Pad the new sequence to the same length as the training data\n",
        "new_padded_sequence = pad_sequences(new_sequence, maxlen=max_sequence_length)\n",
        "\n",
        "# new_padded_sequence = to_categorical(new_padded_sequence, num_classes=vocab_size)\n",
        "\n",
        "# Make prediction\n",
        "predicted_probabilities = model.predict(new_padded_sequence)\n",
        "\n",
        "# Get the predicted class (answer) with the highest probability\n",
        "predicted_class = np.argmax(predicted_probabilities)\n",
        "\n",
        "# Print the predicted class\n",
        "print(f\"\\nPredicted Answer: {predicted_class}\")\n"
      ]
    },
    {
      "cell_type": "markdown",
      "metadata": {
        "id": "0wlv5IpFIF-N"
      },
      "source": [
        "## Embedding Layer\n",
        "\n",
        "\n",
        "\n",
        "It's primarily used to map categorical data, such as words or items, into a continuous vector space. This vector space is learned during the training process and allows the model to capture semantic relationships and similarities between the items.\n",
        "\n",
        "**Commonly used to represent words as dense vectors, capturing semantic similarities and relationships.**\n",
        "\n",
        "<img src='https://www.researchgate.net/publication/349630764/figure/fig3/AS:999014610788354@1615195052671/Detail-of-the-embedding-layer-of-the-NN-implementing-the-Encoding-model-used-for-the.png' width=400/>\n",
        "\n",
        "**Benefits:**\n",
        "* The learned embeddings often capture semantic relationships between the items. For example, words with similar meanings might be located closer together in the embedding space.\n",
        "* Using embeddings can significantly improve the performance of neural networks on tasks like text classification, machine translation, and recommendation systems.\n",
        "* Embeddings reduce the high-dimensional categorical data into a lower-dimensional, dense vector space. This makes it easier for the neural network to process and learn patterns.\n",
        "\n",
        "[`tf.keras.layers.Embedding`](https://www.tensorflow.org/api_docs/python/tf/keras/layers/Embedding)\n"
      ]
    },
    {
      "cell_type": "code",
      "execution_count": null,
      "metadata": {
        "id": "ibWM1tr8JjBA"
      },
      "outputs": [],
      "source": [
        "import tensorflow as tf\n",
        "\n",
        "# Sample input text\n",
        "input_text = [\"hello world\", \"this is a sentence\"]\n",
        "\n",
        "# Create a vocabulary mapping words to unique indices\n",
        "vocab = [\"hello\", \"world\", \"this\", \"is\", \"a\", \"sentence\"]\n",
        "word_to_index = {word: i for i, word in enumerate(vocab)}"
      ]
    },
    {
      "cell_type": "code",
      "execution_count": null,
      "metadata": {
        "id": "ycDe8wFvKkfO"
      },
      "outputs": [],
      "source": [
        "# Convert input text to sequences of indices\n",
        "input_sequences = [[word_to_index[word] for word in sentence.split()] for sentence in input_text]\n",
        "\n",
        "# Create an embedding layer with a vocabulary size of 6 (matching the number of words),\n",
        "# an embedding dimension of 10, and padding to ensure all sequences have the same length\n",
        "embedding_layer = tf.keras.layers.Embedding(input_dim=len(vocab), output_dim=10)\n"
      ]
    },
    {
      "cell_type": "code",
      "execution_count": null,
      "metadata": {
        "colab": {
          "base_uri": "https://localhost:8080/"
        },
        "id": "jdTFiK9UKCbM",
        "outputId": "1e2523ab-791c-44bf-e7f8-3ce287cd06de"
      },
      "outputs": [],
      "source": [
        "print(input_sequences)"
      ]
    },
    {
      "cell_type": "markdown",
      "metadata": {
        "id": "GcHezMqyLzH_"
      },
      "source": [
        "Input sentences represented in a sequence of numbers."
      ]
    },
    {
      "cell_type": "code",
      "execution_count": null,
      "metadata": {
        "colab": {
          "base_uri": "https://localhost:8080/"
        },
        "id": "9MS9lCTqKl3c",
        "outputId": "8b55069f-c5c0-4774-ca70-eb4f34b1a008"
      },
      "outputs": [],
      "source": [
        "# Pad sequences using tf.keras.preprocessing.sequence.pad_sequences\n",
        "from tensorflow.keras.preprocessing.sequence import pad_sequences\n",
        "input_sequences = pad_sequences(input_sequences)\n",
        "\n",
        "# Convert input_sequences to a tensor\n",
        "input_sequences = tf.convert_to_tensor(input_sequences)\n",
        "\n",
        "# Embed the input sequences\n",
        "embedded_sequences = embedding_layer(input_sequences)\n",
        "\n",
        "# Print the embedded sequences\n",
        "print(embedded_sequences)"
      ]
    },
    {
      "cell_type": "markdown",
      "metadata": {
        "id": "8Ky3NlVEL6zq"
      },
      "source": [
        "Now both the sentences are represented as a sequence of vectors."
      ]
    },
    {
      "cell_type": "markdown",
      "metadata": {
        "id": "3acd-Fq00wdx"
      },
      "source": [
        "# Sentiment Analysis using RNN"
      ]
    },
    {
      "cell_type": "code",
      "execution_count": null,
      "metadata": {
        "id": "ucnFs8RH9vWA"
      },
      "outputs": [],
      "source": [
        "import tensorflow as tf\n",
        "from tensorflow.keras.preprocessing.text import Tokenizer\n",
        "from tensorflow.keras.preprocessing.sequence import pad_sequences\n",
        "\n",
        "# Load the IMDB dataset\n",
        "data = tf.keras.datasets.imdb.load_data()\n",
        "(x_train, y_train), (x_test, y_test) = data"
      ]
    },
    {
      "cell_type": "markdown",
      "metadata": {
        "id": "M6NdQjlN9RWS"
      },
      "source": [
        "All the reviews in this dataset have already been tokenized. <br>\n",
        "If we check the first review in the training set,"
      ]
    },
    {
      "cell_type": "code",
      "execution_count": null,
      "metadata": {
        "colab": {
          "base_uri": "https://localhost:8080/"
        },
        "id": "vvWpurtc6OGT",
        "outputId": "5daff4f1-36ef-4853-fadc-d56df4695c48"
      },
      "outputs": [],
      "source": [
        "print(\"First review in the training set:\\n\", x_train[0], \"length:\", len(x_train[0]), \"class:\", y_train[0])\n"
      ]
    },
    {
      "cell_type": "code",
      "execution_count": null,
      "metadata": {
        "id": "WmSdWmTS9zQD"
      },
      "outputs": [],
      "source": [
        "vocab_size = 10000  # Limit the vocabulary size to the top 10,000 words\n",
        "maxlen = 200  # Limit each review to 200 words\n",
        "\n",
        "# Pad sequences to have the same length\n",
        "x_train = pad_sequences(x_train,padding='post',maxlen=maxlen)\n",
        "x_test = pad_sequences(x_test,padding='post',maxlen=maxlen)\n"
      ]
    },
    {
      "cell_type": "markdown",
      "metadata": {
        "id": "j2LVFNRe-Gmh"
      },
      "source": [
        "The max length of sequence is quite huge. Hence, we try to limit it to a max length of 100 to avoid inconsistencies while training."
      ]
    },
    {
      "cell_type": "code",
      "execution_count": null,
      "metadata": {
        "colab": {
          "base_uri": "https://localhost:8080/"
        },
        "id": "DP7CB-VYAQky",
        "outputId": "3dd0fc4c-c855-4e63-b2f7-f1f6457bae74"
      },
      "outputs": [],
      "source": [
        "x_train.shape"
      ]
    },
    {
      "cell_type": "code",
      "execution_count": null,
      "metadata": {
        "colab": {
          "base_uri": "https://localhost:8080/",
          "height": 232
        },
        "id": "z4XhrbFr0HXn",
        "outputId": "648726b3-ebce-4515-9968-c6e5f8e79de3"
      },
      "outputs": [],
      "source": [
        "\n",
        "# Create an RNN model\n",
        "model = tf.keras.Sequential([\n",
        "    tf.keras.layers.Embedding(vocab_size, 32),\n",
        "    tf.keras.layers.SimpleRNN(64),\n",
        "    tf.keras.layers.Dense(1, activation='sigmoid')\n",
        "])\n",
        "\n",
        "model.summary()"
      ]
    },
    {
      "cell_type": "code",
      "execution_count": null,
      "metadata": {
        "colab": {
          "base_uri": "https://localhost:8080/"
        },
        "id": "5ZmtvtMcACIs",
        "outputId": "9cba4252-c2d1-47bd-eddc-8f8c84548f1d"
      },
      "outputs": [],
      "source": [
        "# Compile the model\n",
        "model.compile(optimizer='adam', loss='binary_crossentropy', metrics=['accuracy'])\n",
        "\n",
        "# Train the model\n",
        "model.fit(x_train, y_train, epochs=10, batch_size=64, validation_split=0.2)"
      ]
    },
    {
      "cell_type": "code",
      "execution_count": null,
      "metadata": {
        "colab": {
          "base_uri": "https://localhost:8080/"
        },
        "id": "fT1f2_3e3tQc",
        "outputId": "9ef2ba49-24dc-49ac-a98d-020410893b6f"
      },
      "outputs": [],
      "source": [
        "loss, accuracy = model.evaluate(x_test, y_test)\n",
        "print(f'Test Accuracy: {accuracy:.4f}')"
      ]
    },
    {
      "cell_type": "code",
      "execution_count": null,
      "metadata": {
        "colab": {
          "base_uri": "https://localhost:8080/"
        },
        "id": "dVsBURxY0HTW",
        "outputId": "4dfeecfe-992e-4668-e358-025fbd800546"
      },
      "outputs": [],
      "source": [
        "# Assuming you have the model and tokenizer defined as in the previous code\n",
        "\n",
        "tokenizer = Tokenizer(num_words=100)\n",
        "\n",
        "# Convert a new text to a sequence\n",
        "new_text = \"the movie was bad!\"\n",
        "tokenizer.fit_on_texts(new_text)\n",
        "new_sequence = tokenizer.texts_to_sequences([new_text])\n",
        "new_sequence = pad_sequences(new_sequence, maxlen=100)\n",
        "\n",
        "# Make a prediction\n",
        "prediction = model.predict(new_sequence)\n",
        "\n",
        "print(prediction)\n",
        "# Interpret the prediction (assuming a binary classification task)\n",
        "if prediction[0][0] > 0.5:\n",
        "    print(\"Positive sentiment\")\n",
        "else:\n",
        "    print(\"Negative sentiment\")"
      ]
    },
    {
      "cell_type": "markdown",
      "metadata": {
        "id": "oCcp6RxcGsy0"
      },
      "source": [
        "## Improvement Strategies\n",
        "\n",
        "Consider the following strategies to help improve the accuracy of the above model.\n",
        "\n",
        "1. **Increase max length of sequence:** Increasing the maxlen might help in increasing the accuracy as more information from each review would be available to the model.\n",
        "2. **Increase the number of epochs**: The model might need more training iterations to learn the patterns in the data effectively.\n",
        "3. **Add more RNN layers:** Stacking multiple RNN layers can help the model capture more complex dependencies in the sequence.\n",
        "  * **Increase the number of units in the RNN layers:** More units can enhance the model's capacity to learn intricate patterns.\n",
        "4. **Adjust the learning rate:** Fine-tuning the learning rate can impact the model's convergence speed and performance.\n"
      ]
    },
    {
      "cell_type": "code",
      "execution_count": null,
      "metadata": {
        "id": "25CivCq5eDP1"
      },
      "outputs": [],
      "source": []
    },
    {
      "cell_type": "code",
      "execution_count": null,
      "metadata": {
        "id": "dKqYKqxj58xI"
      },
      "outputs": [],
      "source": []
    },
    {
      "cell_type": "code",
      "execution_count": null,
      "metadata": {
        "id": "v3KEC5ux58vA"
      },
      "outputs": [],
      "source": []
    },
    {
      "cell_type": "code",
      "execution_count": null,
      "metadata": {
        "id": "XLVpbxdG58su"
      },
      "outputs": [],
      "source": []
    },
    {
      "cell_type": "code",
      "execution_count": null,
      "metadata": {
        "id": "DD4e1LHC58pN"
      },
      "outputs": [],
      "source": []
    },
    {
      "cell_type": "code",
      "execution_count": null,
      "metadata": {
        "id": "W9CoJ3eV58nM"
      },
      "outputs": [],
      "source": []
    },
    {
      "cell_type": "code",
      "execution_count": null,
      "metadata": {
        "id": "fFFPMmOw58kz"
      },
      "outputs": [],
      "source": []
    }
  ],
  "metadata": {
    "accelerator": "GPU",
    "colab": {
      "gpuType": "T4",
      "provenance": []
    },
    "kernelspec": {
      "display_name": "Python 3",
      "name": "python3"
    },
    "language_info": {
      "name": "python"
    }
  },
  "nbformat": 4,
  "nbformat_minor": 0
}
