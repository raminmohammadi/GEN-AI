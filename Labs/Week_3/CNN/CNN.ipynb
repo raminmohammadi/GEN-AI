{
 "cells": [
  {
   "cell_type": "markdown",
   "metadata": {
    "id": "-y1JLnKZA-XJ"
   },
   "source": [
    "<center>\n",
    "    <h1>Convolutional Neural Networks (CNN)</h1>\n",
    "</center>"
   ]
  },
  {
   "cell_type": "markdown",
   "metadata": {
    "id": "Ju8wvgDPBBJx"
   },
   "source": [
    "# Brief Recap of Convolutional Neural Networks"
   ]
  },
  {
   "cell_type": "markdown",
   "metadata": {
    "id": "MYEujv4WMqaX"
   },
   "source": [
    "Convolutional Neural Networks (CNNs) are a specialized class of deep learning models designed primarily for processing structured grid-like data, particularly images. They have revolutionized the field of computer vision and are widely used for tasks such as image classification, object detection, and facial recognition.\n",
    "\n",
    "CNNs are inspired by the organization of the animal visual cortex and are particularly effective at capturing spatial hierarchies and patterns in visual data. Their ability to automatically learn relevant features from raw input makes them powerful tools for image analysis tasks."
   ]
  },
  {
   "cell_type": "markdown",
   "metadata": {
    "id": "HtfKA9UnBBDe"
   },
   "source": [
    "## CNN Architecture"
   ]
  },
  {
   "cell_type": "markdown",
   "metadata": {},
   "source": [
    "A typical CNN architecture consists of several key components:"
   ]
  },
  {
   "cell_type": "markdown",
   "metadata": {
    "id": "Cia7i9anBA9V"
   },
   "source": [
    "### Convolutional Layers"
   ]
  },
  {
   "cell_type": "markdown",
   "metadata": {
    "id": "lr2srcRnNZaU"
   },
   "source": [
    "Convolutional layers form the core of a CNN. They apply learnable filters (kernels) to the input, detecting various features such as edges, textures, and patterns. Key characteristics include:\n",
    "\n",
    "- **Local connectivity**: Each neuron connects to only a small region of the input\n",
    "- **Parameter sharing**: The same filter is applied across the entire input\n",
    "- **Translation invariance**: Features can be detected regardless of their position in the image"
   ]
  },
  {
   "cell_type": "code",
   "execution_count": 1,
   "metadata": {},
   "outputs": [
    {
     "name": "stdout",
     "output_type": "stream",
     "text": [
      "[-70, -90, -60, -30, 170]\n",
      "[150, 0, 0, 0, 330]\n",
      "[300, 0, 0, 0, 480]\n",
      "[450, 0, 0, 0, 630]\n",
      "[1130, 810, 840, 870, 1370]\n"
     ]
    }
   ],
   "source": [
    "def convolve2d_naive(image, kernel):\n",
    "    # Get dimensions of the image and kernel\n",
    "    img_height, img_width = len(image), len(image[0])\n",
    "    kernel_height, kernel_width = len(kernel), len(kernel[0])\n",
    "    \n",
    "    # Determine the padding size (assuming kernel size is odd)\n",
    "    pad_h = kernel_height // 2\n",
    "    pad_w = kernel_width // 2\n",
    "    \n",
    "    # Pad the image with zeros\n",
    "    padded_image = [[0] * (img_width + 2 * pad_w) for _ in range(img_height + 2 * pad_h)]\n",
    "    for i in range(img_height):\n",
    "        for j in range(img_width):\n",
    "            padded_image[i + pad_h][j + pad_w] = image[i][j]\n",
    "    \n",
    "    # Prepare the output image\n",
    "    output = [[0] * img_width for _ in range(img_height)]\n",
    "    \n",
    "    # Perform convolution\n",
    "    for i in range(img_height):\n",
    "        for j in range(img_width):\n",
    "            result = 0\n",
    "            for ki in range(kernel_height):\n",
    "                for kj in range(kernel_width):\n",
    "                    result += (padded_image[i + ki][j + kj] * kernel[ki][kj])\n",
    "            output[i][j] = result\n",
    "    \n",
    "    return output\n",
    "\n",
    "# Example grayscale image (5x5)\n",
    "image = [\n",
    "    [10, 20, 30, 40, 50],\n",
    "    [60, 70, 80, 90, 100],\n",
    "    [110, 120, 130, 140, 150],\n",
    "    [160, 170, 180, 190, 200],\n",
    "    [210, 220, 230, 240, 250]\n",
    "]\n",
    "\n",
    "# Example 3x3 kernel (edge detection)\n",
    "kernel = [\n",
    "    [-1, -1, -1],\n",
    "    [-1,  8, -1],\n",
    "    [-1, -1, -1]\n",
    "]\n",
    "\n",
    "# Perform convolution\n",
    "convolved_image = convolve2d_naive(image, kernel)\n",
    "\n",
    "# Print the result\n",
    "for row in convolved_image:\n",
    "    print(row)\n"
   ]
  },
  {
   "cell_type": "markdown",
   "metadata": {
    "id": "KA1_DCU7BA6C"
   },
   "source": [
    "### Pooling Layers"
   ]
  },
  {
   "cell_type": "markdown",
   "metadata": {
    "id": "wTr9fRePNWV-"
   },
   "source": [
    "Pooling layers reduce the spatial dimensions of the feature maps, making the network more computationally efficient and helping to achieve spatial invariance. Common types include:\n",
    "\n",
    "- Max pooling: Selecting the maximum value in each pooling window\n",
    "- Average pooling: Calculating the average value in each pooling window"
   ]
  },
  {
   "cell_type": "markdown",
   "metadata": {
    "id": "D5T_vSMoBA2u"
   },
   "source": [
    "### Fully Connected Layers"
   ]
  },
  {
   "cell_type": "markdown",
   "metadata": {
    "id": "TCLaU90MNS-U"
   },
   "source": [
    "These layers typically appear at the end of the network and are responsible for:\n",
    "\n",
    "- Combining features learned by convolutional layers\n",
    "- Performing high-level reasoning\n",
    "- Producing the final output (e.g., class probabilities for classification tasks)"
   ]
  },
  {
   "cell_type": "markdown",
   "metadata": {
    "id": "SJsHqtqFBAz9"
   },
   "source": [
    "### Activation Functions"
   ]
  },
  {
   "cell_type": "markdown",
   "metadata": {
    "id": "MtdJT8m6NPmU"
   },
   "source": [
    "Activation functions introduce non-linearity into the network, allowing it to learn complex patterns. Common choices include ReLU (Rectified Linear Unit) for hidden layers and softmax for the output layer in classification tasks.\n",
    "\n",
    "By stacking multiple convolutional and pooling layers, followed by fully connected layers, CNNs can effectively learn hierarchical representations of visual data. Lower layers typically capture low-level features like edges and textures, while deeper layers learn more complex, high-level features specific to the task at hand."
   ]
  },
  {
   "cell_type": "markdown",
   "metadata": {
    "id": "PYaB_CMrMPiD"
   },
   "source": [
    "<center>\n",
    "    <img src=\"static/image1.jpg\" alt=\"CNN Architecture\" style=\"width:50%;\">\n",
    "</center>"
   ]
  },
  {
   "cell_type": "markdown",
   "metadata": {
    "id": "dod5cvgNMVJe"
   },
   "source": [
    "## Advantages of CNNs"
   ]
  },
  {
   "cell_type": "markdown",
   "metadata": {
    "id": "zxDO_VVbMcFe"
   },
   "source": [
    "- **Automatic Feature Extraction:** CNNs learn and extract relevant features from raw data without manual feature engineering, making them highly adaptable to various tasks and datasets.\n",
    "\n",
    "- **Translation Invariance:** CNNs can recognize patterns regardless of their position in the image, making them robust to object translations, rotations, and scaling.\n",
    "\n",
    "- **Parameter Sharing:** The use of shared weights in convolutional layers reduces the number of parameters, improving computational efficiency and generalization.\n",
    "\n",
    "- **Hierarchical Feature Learning:** CNNs learn hierarchical representations of data, with lower layers capturing simple features and deeper layers learning complex, abstract features."
   ]
  },
  {
   "cell_type": "markdown",
   "metadata": {
    "id": "-tLXJjBCBAw7"
   },
   "source": [
    "# Implementing CNN with TensorFlow"
   ]
  },
  {
   "cell_type": "markdown",
   "metadata": {},
   "source": [
    "TensorFlow provides an easy way to implement Convolutional Neural Networks (CNNs) using the `tf.keras.layers` module. Here's an overview of the key components:"
   ]
  },
  {
   "cell_type": "markdown",
   "metadata": {
    "id": "Nsh38PnkI1u1"
   },
   "source": [
    "## Key Layers"
   ]
  },
  {
   "cell_type": "markdown",
   "metadata": {
    "id": "6JNPAvttKiE6"
   },
   "source": [
    "### `Conv2D`: 2D convolution layer"
   ]
  },
  {
   "cell_type": "markdown",
   "metadata": {},
   "source": [
    "- This layer creates a convolution kernel that is convolved with the layer input over a single spatial (or temporal) dimension to produce a tensor of outputs. \n",
    "\n",
    "- If use_bias is True, a bias vector is created and added to the outputs.\n",
    "- Finally, if activation is not None, it is applied to the outputs as well.\n",
    "- Key Parameters:\n",
    "  - `filters`: Number of output filters in the convolution\n",
    "  - `kernel_size`: Size of the convolution kernel\n",
    "  - `activation`: Activation function to use\n",
    "  - `padding`: Padding method, either 'valid' or 'same'\n",
    "  - `strides`: Stride length of the convolution\n",
    "  - `input_shape`: Shape of the input (for the first layer)\n",
    "- Expected Output: A 4D tensor with shape (batch_size, new_height, new_width, filters)\n",
    "- For more information, refer this link: [TensorFlow Conv2D documentation](https://www.tensorflow.org/api_docs/python/tf/keras/layers/Conv2D)"
   ]
  },
  {
   "cell_type": "code",
   "execution_count": null,
   "metadata": {},
   "outputs": [],
   "source": [
    "# Example Code: Conv2D Layer\n",
    "import numpy as np\n",
    "from tensorflow import keras\n",
    "\n",
    "x = np.random.rand(4, 10, 10, 128)\n",
    "y = keras.layers.Conv2D(32, 3, activation='relu')(x)\n",
    "print(y.shape)"
   ]
  },
  {
   "cell_type": "markdown",
   "metadata": {
    "id": "nPDfsUsTI1pP"
   },
   "source": [
    "### `MaxPooling2D`: Max pooling operation for 2D spatial data"
   ]
  },
  {
   "cell_type": "markdown",
   "metadata": {},
   "source": [
    "- Downsamples the input along its spatial dimensions (height and width) by taking the maximum value over an input window (of size defined by pool_size) for each channel of the input. \n",
    "\n",
    "- The window is shifted by strides along each dimension.\n",
    "\n",
    "- The resulting output when using the \"valid\" padding option has a spatial shape (number of rows or columns) of: output_shape = math.floor((input_shape - pool_size) / strides) + 1 (when input_shape >= pool_size)\n",
    "\n",
    "- The resulting output shape when using the \"same\" padding option is: output_shape = math.floor((input_shape - 1) / strides) + 1\n",
    "- Key Parameters:\n",
    "  - `pool_size`: Size of the pooling window\n",
    "  - `strides`: Stride length of the pooling operation\n",
    "  - `padding`: Padding method, either 'valid' or 'same'\n",
    "- Expected Output: A 4D tensor with reduced spatial dimensions\n",
    "\n",
    "- For more information, refer this link: [TensorFlow MaxPool2D documentation](https://www.tensorflow.org/api_docs/python/tf/keras/layers/MaxPool2D)"
   ]
  },
  {
   "cell_type": "code",
   "execution_count": null,
   "metadata": {},
   "outputs": [],
   "source": [
    "# Example Code: MaxPooling2D Layer\n",
    "x = np.array([[1., 2., 3.],\n",
    "              [4., 5., 6.],\n",
    "              [7., 8., 9.]])\n",
    "x = np.reshape(x, [1, 3, 3, 1])\n",
    "max_pool_2d = keras.layers.MaxPooling2D(pool_size=(2, 2),\n",
    "   strides=(1, 1), padding=\"valid\")\n",
    "max_pool_2d(x)"
   ]
  },
  {
   "cell_type": "markdown",
   "metadata": {
    "id": "7-UyiFeRI1lt"
   },
   "source": [
    "### `Flatten`: Flattens the input"
   ]
  },
  {
   "cell_type": "markdown",
   "metadata": {},
   "source": [
    "- Flattens the input. \n",
    "- Does not affect the batch size.\n",
    "- Key Parameters:\n",
    "  - `data_format`: Specifies the channel order ('channels_last' or 'channels_first')\n",
    "- Expected Output: A 2D tensor with shape (batch_size, flattened_features)\n",
    "\n",
    "- For more information, refer this link: [TensorFlow Flatten documentation](https://www.tensorflow.org/api_docs/python/tf/keras/layers/Flatten)"
   ]
  },
  {
   "cell_type": "code",
   "execution_count": null,
   "metadata": {},
   "outputs": [],
   "source": [
    "# Example Code: Flatten Layer\n",
    "x = keras.Input(shape=(10, 64))\n",
    "y = keras.layers.Flatten()(x)\n",
    "y.shape"
   ]
  },
  {
   "cell_type": "markdown",
   "metadata": {
    "id": "Q6PZnMGYI1jB"
   },
   "source": [
    "### `Dense`: Fully connected layer"
   ]
  },
  {
   "cell_type": "markdown",
   "metadata": {},
   "source": [
    "- Just your regular densely-connected NN layer.\n",
    "\n",
    "- Dense implements the operation: output = activation(dot(input, kernel) + bias) where activation is the element-wise activation function passed as the activation argument, kernel is a weights matrix created by the layer, and bias is a bias vector created by the layer (only applicable if use_bias is True).\n",
    "\n",
    "- Key Parameters:\n",
    "  - `units`: Dimensionality of the output space\n",
    "  - `activation`: Activation function to use\n",
    "  - `use_bias`: Whether to include a bias vector\n",
    "  - `kernel_initializer`: Initializer for the kernel weights matrix\n",
    "  - `bias_initializer`: Initializer for the bias vector\n",
    "\n",
    "- Expected Output: A tensor with shape (batch_size, units)\n",
    "\n",
    "- For more information, refer this link: [TensorFlow Dense documentation](https://www.tensorflow.org/api_docs/python/tf/keras/layers/Dense)"
   ]
  },
  {
   "cell_type": "markdown",
   "metadata": {},
   "source": [
    "### A simple CNN model"
   ]
  },
  {
   "cell_type": "code",
   "execution_count": null,
   "metadata": {
    "colab": {
     "base_uri": "https://localhost:8080/"
    },
    "id": "yqLp1DT5K4vQ",
    "outputId": "c343d830-ffe8-48b8-bacc-514a16f14837"
   },
   "outputs": [],
   "source": [
    "# Example of a Simple CNN Model\n",
    "import numpy as np\n",
    "import tensorflow as tf\n",
    "from tensorflow import keras\n",
    "\n",
    "model = keras.Sequential([\n",
    "    keras.layers.Conv2D(32, (3, 3), activation='relu', input_shape=(28, 28, 1)),\n",
    "    keras.layers.MaxPooling2D((2, 2)),\n",
    "    keras.layers.Conv2D(64, (3, 3), activation='relu'),\n",
    "    keras.layers.MaxPooling2D((2, 2)),\n",
    "    keras.layers.Conv2D(64, (3, 3), activation='relu'),\n",
    "    keras.layers.Flatten(),\n",
    "    keras.layers.Dense(64, activation='relu'),\n",
    "    keras.layers.Dense(10, activation='softmax')\n",
    "])"
   ]
  },
  {
   "cell_type": "code",
   "execution_count": null,
   "metadata": {
    "colab": {
     "base_uri": "https://localhost:8080/",
     "height": 397
    },
    "id": "ZJF4bMcdK9cE",
    "outputId": "04382bb2-1d23-4bba-b17e-f44e71c96c92"
   },
   "outputs": [],
   "source": [
    "model.summary()"
   ]
  },
  {
   "cell_type": "markdown",
   "metadata": {
    "id": "pJC71VJpI1gQ"
   },
   "source": [
    "#### Key Points on the above code snippet"
   ]
  },
  {
   "cell_type": "markdown",
   "metadata": {
    "id": "_8LdAoKVLdFt"
   },
   "source": [
    "\n",
    "- The `Conv2D` layers apply convolution operations to extract features from the input images.\n",
    "- `MaxPooling2D` layers reduce the spatial dimensions of the feature maps.\n",
    "- The `Flatten` layer converts the 2D feature maps to a 1D vector for input to the dense layers.\n",
    "- Dense layers at the end perform the final classification.\n",
    "- The model is compiled with an optimizer, loss function, and metrics."
   ]
  },
  {
   "cell_type": "markdown",
   "metadata": {
    "id": "7hCgaZTOqrhd"
   },
   "source": [
    "# Let's Build a Real world Project to understand the concept of CNNs better"
   ]
  },
  {
   "cell_type": "markdown",
   "metadata": {},
   "source": [
    "# The CIFAR-10 Problem"
   ]
  },
  {
   "cell_type": "markdown",
   "metadata": {},
   "source": [
    "- CIFAR-10 is a widely-used dataset for image classification, consisting of 60,000 32x32 color images across 10 classes.\n",
    "\n",
    "- The dataset is divided into 50,000 training images and 10,000 test images, with 6,000 images per class.\n",
    "- The task is to train a model that can accurately classify these images into their correct categories: airplane, automobile, bird, cat, deer, dog, frog, horse, ship, and truck.\n",
    "\n",
    "- For more information, refer to this link: [CIFAR-10 Dataset](https://www.cs.toronto.edu/~kriz/cifar.html)"
   ]
  },
  {
   "cell_type": "markdown",
   "metadata": {
    "id": "16IhMiTWOFS5"
   },
   "source": [
    "## Loading and Preprocessing data for CNN"
   ]
  },
  {
   "cell_type": "markdown",
   "metadata": {
    "id": "9mNtasyeOizr"
   },
   "source": [
    "Here, for learning, we will be using the CIFAR-10 dataset  available in the TensorFlow datasets\n",
    "\n",
    "The CIFAR-10 dataset consists of 60,000 32x32 color images in 10 classes, with 6,000 images per class. There are 50,000 training images and 10,000 test images."
   ]
  },
  {
   "cell_type": "code",
   "execution_count": null,
   "metadata": {
    "colab": {
     "base_uri": "https://localhost:8080/",
     "height": 222,
     "referenced_widgets": [
      "99253a0645bd41e78b385caa120b5eee",
      "9ded42e8b18d4524a520ea2ace374200",
      "25291f35d2a04d76bb6744eb51eff3d3",
      "f6b675f9be26413882266905c6c94011",
      "de3681a08d234e3d8b679ea2da31a160",
      "2faae36e366e456d92afe35798543cb7",
      "76a6b71ad4ee4150aaaabc9e6b712c70",
      "b1352c53c4a54e9aab4be0fb3bbb236f",
      "f33bf35daa304f1498f826af56d9d1f1",
      "35d00eef6ac64d1fa73d4d8d276fb20b",
      "f49948a8927a437ba8e31e6f6b4db785",
      "b719b6a87edc4b608afdd8f388a8026f",
      "99c4c3beace84c4991c2b8ce52a154f3",
      "3cf8401b737b46f6b0aa77c437ceea99",
      "7892199b64b84a5da13f373abd7ed9d2",
      "052e68577cd841bf8518fdbf0402ea4b",
      "a67e388be3df4e2ba3f7cee7befaf4f2",
      "f00c9df70fff4c5684581b348862a7c2",
      "8fc2e2ac39c84488956b3c86474ff7ea",
      "bde9c4cb701447ba9266b130c37afc88",
      "5c57a1e9d2ef4fbb86fe89a7e00d9102",
      "3098153e795f4191bdb1625636fd3f3e",
      "819efa100e434971b8a976942e57df97",
      "b3aecd710c3e4dc89a3dd5f37f184977",
      "4c4e019dbc0b4098b91086e527885002",
      "e9644fe6c0204fcfab71b96779df6051",
      "eecb3d7a1da749d8b9cba3e0cee2af0f",
      "8a216114a6b24de09e0655cbd60bbc94",
      "54b3ea1a113547a4b8adc8ebceb5c582",
      "671b00c4f2fa4e598650a44e05845f2e",
      "d3a87325564346e99f3f81e8502c7e70",
      "62d456210d9045e0a7879b89ccc02331",
      "e9e5300536b9491288d7b7f33a792d0f",
      "2d8b20ed1738471d8527768cad561420",
      "c0471bca5e484ca1985deeced1a89562",
      "85c034b0e9b04cf9afa4a2754b19aee1",
      "e1eb5b711bc24b02b6d7d13228a86319",
      "f5e33b46363f44c4a5967d620b9df349",
      "9356da1d6e8e48e2b45a4a90a57c711d",
      "30f628bfe5fe4bda8e6523228af50b80",
      "63e82f12f2ea4cfab1ce6b868d546800",
      "76996bfebf7f4d1c8422cc466a9b2f17",
      "90b61ddb7e5940e9891c2d6a6ac03f84",
      "357d918deaca448599f852141f88043c",
      "4cd0a9c353b4474fa1d9ade6e3c22191",
      "6e4423f9556646d3a4bf489ea0634f61",
      "632af80732864b43a49413854526ce53",
      "c32703b664a141bc979ec178756fc266",
      "aab4fe98f9b14ae1bf88f9cfd63bb590",
      "2814d633045e42dc80b8eeec325253b7",
      "1c88c0f0ad564cb2b75d7b92c7f31ac9",
      "25fcd87a7b2746cbb1dafd27dfe2e154",
      "e581a19d24b44b2daaddac3659274fa0",
      "f934ef7e15f245aca9317e048d931082",
      "17f7b19a01104262a216fbe11b24bc5a",
      "40592d4dd03a4ac499234d5068c1c314",
      "de95d86aa37b467aacd47ac78bbc3776",
      "aeaa63c90f5744dbad6aa544065d7603",
      "870285a97ea34db9adbd4f4033122cb2",
      "23bbd49f1b01402eabd2ff9f10f4a04b",
      "77e13f3e386344068151dd509dda34f7",
      "5287a5bdcb5843a79108e99c40b34533",
      "9d43925a263a4af5b825560bd4e5e3e7",
      "00d8261d5c80434192df127144753b52",
      "f0d1752d36f34d56b9a947c3f2eb4977",
      "13ddc2fa5838417e971b93af92674276",
      "f00cb60542374fe1aa2dde1f2eb81749",
      "010c2859759a4f779759b644afa91d1b",
      "8753d8bd0b7a429da8cc82ac4cbe78e4",
      "420c14391cc74ea19ea7fad18aa67bf2",
      "5a212117a7e5440c95de1f64793597cb",
      "eac6b8ff167c42d8b18ffe46feef1a23",
      "03773f9aee5f43dc85472116ef4d1813",
      "2653789f9d90476887484ed34c14a612",
      "61b6ff2b02dc452eaeda177632a135f0",
      "eeb49691222e41039abea00af1eeccd2",
      "de02a245d088490bb5b1753e913f2892",
      "626b879edff24bcda8fe861d02221203",
      "4228e7d7dc514f519ae6d30e53722883",
      "d118c28f3826425da8a8bdf42f89048a",
      "fd68214fc6364e79b63104b9747843ee",
      "3051f84f9e5a45bbae32a2657abc6d9f",
      "a1855030f15b45118c547442d39113ee",
      "d0a48527235046769a8366ff3033ac05",
      "e8b093f4a2ce493eb7fa827aa1fbb109",
      "7818b02dd2d04afca9cd60d31200b983",
      "9a843627dd014381b2090b5984d95e7a",
      "cd419973ac8042a882c64ab34af79cef"
     ]
    },
    "id": "ZANg6wSTOyPL",
    "outputId": "a9469dd2-9111-4687-a115-20093195d645"
   },
   "outputs": [],
   "source": [
    "import tensorflow as tf\n",
    "import tensorflow_datasets as tfds\n",
    "\n",
    "# Load the CIFAR-10 dataset\n",
    "(train_ds, test_ds), ds_info = tfds.load('cifar10', split=['train', 'test'], as_supervised=True, with_info=True)\n",
    "\n",
    "# Get the number of classes\n",
    "num_classes = ds_info.features['label'].num_classes\n",
    "\n",
    "print(f\"Number of training examples: {ds_info.splits['train'].num_examples}\")\n",
    "print(f\"Number of test examples: {ds_info.splits['test'].num_examples}\")\n",
    "print(f\"Number of classes: {num_classes}\")"
   ]
  },
  {
   "cell_type": "markdown",
   "metadata": {
    "id": "-cUVUcIsPOJ_"
   },
   "source": [
    "### Normalizing pixel values\n",
    "\n",
    "To improve model training, we need to normalize the pixel values to be between 0 and 1. We can do this by dividing the pixel values by 255:"
   ]
  },
  {
   "cell_type": "code",
   "execution_count": 5,
   "metadata": {
    "id": "MyrRWNJGPQ1v"
   },
   "outputs": [],
   "source": [
    "def normalize_img(image, label):\n",
    "    return tf.cast(image, tf.float32) / 255., label\n",
    "\n",
    "# Apply normalization to both training and test datasets\n",
    "train_ds = train_ds.map(normalize_img)\n",
    "test_ds = test_ds.map(normalize_img)"
   ]
  },
  {
   "cell_type": "markdown",
   "metadata": {
    "id": "taOHCJ86PZTD"
   },
   "source": [
    "### One-hot encoding labels\n",
    "\n",
    "While TensorFlow can work with integer labels directly, some models may require one-hot encoded labels. Here's how to apply one-hot encoding:"
   ]
  },
  {
   "cell_type": "code",
   "execution_count": 6,
   "metadata": {
    "id": "iS2aSagiPdiC"
   },
   "outputs": [],
   "source": [
    "def one_hot_encode(image, label):\n",
    "    return image, tf.one_hot(tf.cast(label, tf.int32), ds_info.features['label'].num_classes)\n",
    "\n",
    "# Apply one-hot encoding to both training and test datasets\n",
    "train_ds = train_ds.map(one_hot_encode)\n",
    "test_ds = test_ds.map(one_hot_encode)"
   ]
  },
  {
   "cell_type": "markdown",
   "metadata": {
    "id": "JUSuCvtBPhWX"
   },
   "source": [
    "The `tf.one_hot()` function creates a one-hot tensor for each label[7]. For CIFAR-10, this will create a 10-dimensional vector for each label, where the index corresponding to the class is set to 1 and all other indices are 0."
   ]
  },
  {
   "cell_type": "markdown",
   "metadata": {
    "id": "8PqBgx0bOJJT"
   },
   "source": [
    "## Preparing the datasets for training"
   ]
  },
  {
   "cell_type": "markdown",
   "metadata": {},
   "source": [
    "Finally, we can prepare the datasets for efficient training by caching the datasets, shuffling the training data, batching the datasets, and prefetching data for improved performance during training:\n"
   ]
  },
  {
   "cell_type": "code",
   "execution_count": 7,
   "metadata": {
    "id": "avBXd6fAP0jl"
   },
   "outputs": [],
   "source": [
    "AUTOTUNE = tf.data.experimental.AUTOTUNE\n",
    "BATCH_SIZE = 64\n",
    "\n",
    "train_ds = train_ds.cache().shuffle(1000).batch(BATCH_SIZE).prefetch(AUTOTUNE)\n",
    "test_ds = test_ds.cache().batch(BATCH_SIZE).prefetch(AUTOTUNE)"
   ]
  },
  {
   "cell_type": "markdown",
   "metadata": {
    "id": "B7mWJm7rei_q"
   },
   "source": [
    "## Training the CNN model"
   ]
  },
  {
   "cell_type": "markdown",
   "metadata": {
    "id": "jgaO4ZRPhXx2"
   },
   "source": [
    "### Splitting data into training and validation sets"
   ]
  },
  {
   "cell_type": "markdown",
   "metadata": {},
   "source": [
    "We'll use part of the training data as a validation set to monitor our model's performance during training:"
   ]
  },
  {
   "cell_type": "code",
   "execution_count": 8,
   "metadata": {
    "id": "AkhRgkjYenMp"
   },
   "outputs": [],
   "source": [
    "# Assuming train_ds is your full training dataset\n",
    "train_size = 45000\n",
    "val_size = 5000\n",
    "\n",
    "train_ds = train_ds.take(train_size)\n",
    "val_ds = train_ds.skip(train_size).take(val_size)"
   ]
  },
  {
   "cell_type": "markdown",
   "metadata": {
    "id": "xdU87Lq1hpU3"
   },
   "source": [
    "### Setting up training parameters\n"
   ]
  },
  {
   "cell_type": "code",
   "execution_count": 9,
   "metadata": {
    "id": "mfm3asZBhtTw"
   },
   "outputs": [],
   "source": [
    "BATCH_SIZE = 64\n",
    "EPOCHS = 20"
   ]
  },
  {
   "cell_type": "markdown",
   "metadata": {
    "id": "hfmF9qmAhyRY"
   },
   "source": [
    "### Designing the model"
   ]
  },
  {
   "cell_type": "code",
   "execution_count": null,
   "metadata": {
    "colab": {
     "base_uri": "https://localhost:8080/",
     "height": 452
    },
    "id": "hEToD0DLh23l",
    "outputId": "341542c2-dbd5-43b7-8144-0388e25855dd"
   },
   "outputs": [],
   "source": [
    "model = tf.keras.Sequential([\n",
    "    tf.keras.layers.Conv2D(32, (3, 3), activation='relu', input_shape=(32, 32, 3)),\n",
    "    tf.keras.layers.MaxPooling2D((2, 2)),\n",
    "    tf.keras.layers.Conv2D(64, (3, 3), activation='relu'),\n",
    "    tf.keras.layers.MaxPooling2D((2, 2)),\n",
    "    tf.keras.layers.Conv2D(64, (3, 3), activation='relu'),\n",
    "    tf.keras.layers.Flatten(),\n",
    "    tf.keras.layers.Dense(64, activation='relu'),\n",
    "    tf.keras.layers.Dense(10, activation='softmax')\n",
    "])\n",
    "\n",
    "model.compile(optimizer='adam',\n",
    "              loss='categorical_crossentropy',\n",
    "              metrics=['accuracy'])\n",
    "\n",
    "model.summary()"
   ]
  },
  {
   "cell_type": "markdown",
   "metadata": {
    "id": "9iZFrtCEh8pY"
   },
   "source": [
    "### Training the model using model.fit()"
   ]
  },
  {
   "cell_type": "code",
   "execution_count": null,
   "metadata": {
    "colab": {
     "base_uri": "https://localhost:8080/"
    },
    "id": "E2_U5FiFh-f1",
    "outputId": "adca9da6-2d29-4920-cdb1-cbef1cd069fa"
   },
   "outputs": [],
   "source": [
    "history = model.fit(\n",
    "    train_ds,\n",
    "    validation_data=test_ds,\n",
    "    epochs=EPOCHS,\n",
    "    verbose=1\n",
    ")"
   ]
  },
  {
   "cell_type": "markdown",
   "metadata": {
    "id": "uuS5jfDGpPUc"
   },
   "source": [
    "## Visualizing training history (accuracy and loss curves)"
   ]
  },
  {
   "cell_type": "markdown",
   "metadata": {},
   "source": [
    "After training, the training history can be visualized as:"
   ]
  },
  {
   "cell_type": "code",
   "execution_count": null,
   "metadata": {
    "colab": {
     "base_uri": "https://localhost:8080/",
     "height": 391
    },
    "id": "8lndQBqOpOyx",
    "outputId": "73f4c28e-dbcc-4eb8-daca-5f55ea067e67"
   },
   "outputs": [],
   "source": [
    "import matplotlib.pyplot as plt\n",
    "\n",
    "def plot_training_history(history):\n",
    "    acc = history.history['accuracy']\n",
    "    val_acc = history.history['val_accuracy']\n",
    "    loss = history.history['loss']\n",
    "    val_loss = history.history['val_loss']\n",
    "\n",
    "    epochs_range = range(EPOCHS)\n",
    "\n",
    "    plt.figure(figsize=(12, 4))\n",
    "    plt.subplot(1, 2, 1)\n",
    "    plt.plot(epochs_range, acc, label='Training Accuracy')\n",
    "    plt.plot(epochs_range, val_acc, label='Validation Accuracy')\n",
    "    plt.legend(loc='lower right')\n",
    "    plt.title('Training and Validation Accuracy')\n",
    "\n",
    "    plt.subplot(1, 2, 2)\n",
    "    plt.plot(epochs_range, loss, label='Training Loss')\n",
    "    plt.plot(epochs_range, val_loss, label='Validation Loss')\n",
    "    plt.legend(loc='upper right')\n",
    "    plt.title('Training and Validation Loss')\n",
    "    plt.show()\n",
    "\n",
    "plot_training_history(history)"
   ]
  },
  {
   "cell_type": "markdown",
   "metadata": {
    "id": "hz-qWdxjhJqi"
   },
   "source": [
    "## Important observations from the model training"
   ]
  },
  {
   "cell_type": "markdown",
   "metadata": {
    "id": "jKpnHydmrgnP"
   },
   "source": [
    "1. Training Progress:\n",
    "- The model's training accuracy improves from about 54.72% in the first epoch to 87.30% by the 20th epoch.\n",
    "- The training loss decreases from 1.2759 to 0.3524 over the 20 epochs.\n",
    "\n",
    "2. Validation Performance:\n",
    "- The validation accuracy improves from 57.93% to a peak of 71.79% (in epoch 15), but then declines slightly.\n",
    "- The validation loss initially decreases but starts increasing after a certain point.\n",
    "\n",
    "3. Overfitting:\n",
    "- There's a clear sign of overfitting as the training continues. The training accuracy and loss continue to improve, but the validation metrics start to worsen after a certain point.\n",
    "- The gap between training and validation accuracy widens significantly in later epochs."
   ]
  },
  {
   "cell_type": "markdown",
   "metadata": {
    "id": "phM2Fyfor9YB"
   },
   "source": [
    "## How to avoid overfitting?"
   ]
  },
  {
   "cell_type": "markdown",
   "metadata": {
    "id": "MaymafK_sBGR"
   },
   "source": [
    "### Data Augmentation Techniques"
   ]
  },
  {
   "cell_type": "markdown",
   "metadata": {
    "id": "a2VHedb4sFyu"
   },
   "source": [
    "\n",
    "Data augmentation is a technique used to increase the diversity of our training set by applying random (but realistic) transformations to the existing images. This helps the model generalize better and reduces overfitting. Our augmentation function applies three transformations:\n",
    "\n",
    "1. Random horizontal flip\n",
    "2. Random brightness adjustment\n",
    "3. Random contrast adjustment\n",
    "\n",
    "\n",
    "For more details on these functions, refer to the TensorFlow documentation:\n",
    "\n",
    "- [random_flip_left_right](https://www.tensorflow.org/api_docs/python/tf/image/random_flip_left_right)\n",
    "- [random_brightness](https://www.tensorflow.org/api_docs/python/tf/image/random_brightness)\n",
    "- [random_contrast](https://www.tensorflow.org/api_docs/python/tf/image/random_contrast)"
   ]
  },
  {
   "cell_type": "code",
   "execution_count": 9,
   "metadata": {
    "id": "hM5pflD5qWFc"
   },
   "outputs": [],
   "source": [
    "# Data Augmentation\n",
    "def augment(image, label):\n",
    "    image = tf.image.random_flip_left_right(image)\n",
    "    image = tf.image.random_brightness(image, max_delta=0.1)\n",
    "    image = tf.image.random_contrast(image, lower=0.9, upper=1.1)\n",
    "    return image, label"
   ]
  },
  {
   "cell_type": "code",
   "execution_count": 14,
   "metadata": {
    "id": "MuXak6Fevt9E"
   },
   "outputs": [],
   "source": [
    "# Load the CIFAR-10 dataset\n",
    "(train_ds, test_ds), ds_info = tfds.load('cifar10', split=['train', 'test'], as_supervised=True, with_info=True)\n",
    "\n",
    "# Normalize pixel values and one-hot encode labels\n",
    "def preprocess(image, label):\n",
    "    image = tf.cast(image, tf.float32) / 255.0\n",
    "    label = tf.one_hot(label, ds_info.features['label'].num_classes)\n",
    "    return image, label\n",
    "\n",
    "# Data augmentation function\n",
    "def augment(image, label):\n",
    "    image = tf.image.random_flip_left_right(image)\n",
    "    image = tf.image.random_brightness(image, max_delta=0.1)\n",
    "    image = tf.image.random_contrast(image, lower=0.9, upper=1.1)\n",
    "    return image, label\n",
    "\n",
    "# Apply preprocessing and augmentation\n",
    "AUTOTUNE = tf.data.AUTOTUNE\n",
    "\n",
    "train_ds = (train_ds\n",
    "            .map(preprocess, num_parallel_calls=AUTOTUNE)\n",
    "            .cache()\n",
    "            .shuffle(10000)\n",
    "            .batch(BATCH_SIZE)\n",
    "            .map(augment, num_parallel_calls=AUTOTUNE)\n",
    "            .prefetch(AUTOTUNE))\n",
    "\n",
    "test_ds = (test_ds\n",
    "           .map(preprocess, num_parallel_calls=AUTOTUNE)\n",
    "           .batch(BATCH_SIZE)\n",
    "           .cache()\n",
    "           .prefetch(AUTOTUNE))"
   ]
  },
  {
   "cell_type": "markdown",
   "metadata": {
    "id": "QPnqoNZatDu_"
   },
   "source": [
    "### Introduce dropout and L2 regularization"
   ]
  },
  {
   "cell_type": "markdown",
   "metadata": {
    "id": "051VcQBYtNqG"
   },
   "source": [
    "\n",
    "#### Dropout"
   ]
  },
  {
   "cell_type": "markdown",
   "metadata": {
    "id": "w6Ph3xrPuMKX"
   },
   "source": [
    "- Dropout is a regularization technique where randomly selected neurons are ignored during training. This helps prevent complex co-adaptations on the training data and reduces overfitting. In our model, we use dropout after convolutional and dense layers:\n",
    "\n",
    "- Example\n",
    "    ```python\n",
    "    layers.Dropout(0.25)  # After convolutional layers\n",
    "    layers.Dropout(0.5)   # After dense layer\n",
    "    ```\n",
    "\n",
    "- The argument to Dropout represents the fraction of units to drop.\n",
    "\n",
    "- [TensorFlow Dropout Documentation](https://www.tensorflow.org/api_docs/python/tf/keras/layers/Dropout)"
   ]
  },
  {
   "cell_type": "markdown",
   "metadata": {
    "id": "r6Gb4oOmuQZn"
   },
   "source": [
    "#### L2 Regularization"
   ]
  },
  {
   "cell_type": "markdown",
   "metadata": {
    "id": "rYqc8ATsuTAR"
   },
   "source": [
    "L2 regularization (also known as weight decay) adds a penalty term to the loss function, discouraging the weights from becoming too large. This helps in creating a simpler model that's less likely to overfit. We apply L2 regularization to the kernel weights of our convolutional and dense layers:\n",
    "\n",
    "```python\n",
    "kernel_regularizer=regularizers.l2(0.01)\n",
    "```\n",
    "\n",
    "The argument 0.01 is the regularization factor, controlling the strength of the regularization.\n",
    "\n",
    "[TensorFlow Regularizers Documentation](https://www.tensorflow.org/api_docs/python/tf/keras/regularizers)"
   ]
  },
  {
   "cell_type": "markdown",
   "metadata": {},
   "source": [
    "#### Modified Model Architecture with Dropout and Regularization\n",
    "\n",
    "By combining these techniques, we aim to create a model that generalizes well to unseen data, reducing the gap between training and validation performance."
   ]
  },
  {
   "cell_type": "code",
   "execution_count": null,
   "metadata": {
    "colab": {
     "base_uri": "https://localhost:8080/",
     "height": 496
    },
    "id": "3oEW2e57sd8U",
    "outputId": "1e167a01-a363-4da4-8b3b-923352d0a72b"
   },
   "outputs": [],
   "source": [
    "from tensorflow.keras import layers, models, regularizers\n",
    "from tensorflow.keras.callbacks import EarlyStopping\n",
    "\n",
    "# Create the CNN model with dropout and L2 regularization\n",
    "def create_cnn_model():\n",
    "    model = models.Sequential([\n",
    "        layers.Input(shape=(32, 32, 3)),  # Explicitly define input shape\n",
    "        layers.Conv2D(32, (3, 3), activation='relu', kernel_regularizer=regularizers.l2(0.01)),\n",
    "        layers.MaxPooling2D((2, 2)),\n",
    "        layers.Dropout(0.25),\n",
    "        layers.Conv2D(64, (3, 3), activation='relu', kernel_regularizer=regularizers.l2(0.01)),\n",
    "        layers.MaxPooling2D((2, 2)),\n",
    "        layers.Dropout(0.25),\n",
    "        layers.Conv2D(64, (3, 3), activation='relu', kernel_regularizer=regularizers.l2(0.01)),\n",
    "        layers.Flatten(),\n",
    "        layers.Dense(64, activation='relu', kernel_regularizer=regularizers.l2(0.01)),\n",
    "        layers.Dropout(0.5),\n",
    "        layers.Dense(10, activation='softmax')\n",
    "    ])\n",
    "    return model\n",
    "\n",
    "# Create and compile the model\n",
    "model = create_cnn_model()\n",
    "model.compile(optimizer='adam',\n",
    "              loss='categorical_crossentropy',\n",
    "              metrics=['accuracy'])\n",
    "\n",
    "# Display model summary\n",
    "model.summary()\n"
   ]
  },
  {
   "cell_type": "markdown",
   "metadata": {
    "id": "8l_QdL39uyz1"
   },
   "source": [
    "### Early Stopping"
   ]
  },
  {
   "cell_type": "markdown",
   "metadata": {
    "id": "j6yRfbNPu6Ic"
   },
   "source": [
    "- Early stopping is a technique used to prevent overfitting by halting the training process when the model's performance on the validation set stops improving. We implement this using Keras' EarlyStopping callback:\n",
    "\n",
    "- Key components:\n",
    "    - `monitor='val_loss'`: We monitor the validation loss to determine when to stop training.\n",
    "    - `patience=5`: Training will stop if the monitored metric doesn't improve for 5 consecutive epochs.\n",
    "    - `restore_best_weights=True`: This ensures that we keep the model weights from the epoch with the best performance.\n",
    "    - `EPOCHS = 50`: We set a maximum of 50 epochs, but early stopping may end training earlier if no improvement is observed.\n",
    "\n",
    "- Early stopping helps us find the optimal point to stop training, balancing between underfitting and overfitting. It allows us to train for a potentially longer time without the risk of severe overfitting, as we'll revert to the best weights once the model's performance plateaus.\n",
    "\n",
    "For more details, refer to the TensorFlow documentation:\n",
    "[EarlyStopping Callback](https://www.tensorflow.org/api_docs/python/tf/keras/callbacks/EarlyStopping)"
   ]
  },
  {
   "cell_type": "code",
   "execution_count": 16,
   "metadata": {
    "id": "S0ogitC5uVoE"
   },
   "outputs": [],
   "source": [
    "# Early stopping callback\n",
    "early_stopping = EarlyStopping(\n",
    "    monitor='val_loss',\n",
    "    patience=5,\n",
    "    restore_best_weights=True\n",
    ")\n",
    "\n",
    "# Train the model\n",
    "EPOCHS = 50  # Increased epochs, but early stopping will likely end training earlier"
   ]
  },
  {
   "cell_type": "markdown",
   "metadata": {
    "id": "LiSQsMnZvF89"
   },
   "source": [
    "## Re-training the model again to prevent overfitting"
   ]
  },
  {
   "cell_type": "code",
   "execution_count": null,
   "metadata": {
    "colab": {
     "base_uri": "https://localhost:8080/"
    },
    "collapsed": true,
    "id": "D1Q5DZXwvEtM",
    "outputId": "197b9c2b-9241-4746-ea5e-03a450d4d87b"
   },
   "outputs": [],
   "source": [
    "# Train the model\n",
    "history = model.fit(\n",
    "    train_ds,\n",
    "    validation_data=test_ds,\n",
    "    epochs=EPOCHS,\n",
    "    callbacks=[early_stopping],\n",
    "    verbose=1\n",
    ")\n",
    "\n",
    "# Evaluate the model on the test set\n",
    "test_loss, test_accuracy = model.evaluate(test_ds)\n",
    "print(f\"Test accuracy: {test_accuracy:.4f}\")\n"
   ]
  },
  {
   "cell_type": "code",
   "execution_count": null,
   "metadata": {
    "colab": {
     "base_uri": "https://localhost:8080/",
     "height": 391
    },
    "id": "NaoHVbkKvJHZ",
    "outputId": "0e267dfa-e64c-4907-c4ae-7c7a5f76ff01"
   },
   "outputs": [],
   "source": [
    "# Visualize the training history\n",
    "import matplotlib.pyplot as plt\n",
    "\n",
    "def plot_training_history(history):\n",
    "    acc = history.history['accuracy']\n",
    "    val_acc = history.history['val_accuracy']\n",
    "    loss = history.history['loss']\n",
    "    val_loss = history.history['val_loss']\n",
    "\n",
    "    epochs_range = range(len(acc))\n",
    "\n",
    "    plt.figure(figsize=(12, 4))\n",
    "    plt.subplot(1, 2, 1)\n",
    "    plt.plot(epochs_range, acc, label='Training Accuracy')\n",
    "    plt.plot(epochs_range, val_acc, label='Validation Accuracy')\n",
    "    plt.legend(loc='lower right')\n",
    "    plt.title('Training and Validation Accuracy')\n",
    "\n",
    "    plt.subplot(1, 2, 2)\n",
    "    plt.plot(epochs_range, loss, label='Training Loss')\n",
    "    plt.plot(epochs_range, val_loss, label='Validation Loss')\n",
    "    plt.legend(loc='upper right')\n",
    "    plt.title('Training and Validation Loss')\n",
    "    plt.show()\n",
    "\n",
    "plot_training_history(history)"
   ]
  },
  {
   "cell_type": "markdown",
   "metadata": {
    "id": "mDT4TK3kgscf"
   },
   "source": [
    "## Important observations from the model training"
   ]
  },
  {
   "cell_type": "markdown",
   "metadata": {
    "id": "trMrU4AjhrHP"
   },
   "source": [
    "1. Training Progress:\n",
    "    - The model's training accuracy improves from 18.11% in the first epoch to 45.33% by the 37th epoch.\n",
    "    - The training loss decreases from 2.5511 to 1.6879 over the 37 epochs.\n",
    "\n",
    "2. Validation Performance:\n",
    "    - The validation accuracy improves from 33.42% in the first epoch to a peak of 51.92% (in epoch 33).\n",
    "    - The validation loss decreases from 1.9670 to 1.5305 over the course of training.\n",
    "\n",
    "3. Underfitting:\n",
    "    - There's a clear sign of underfitting as both training and validation accuracies remain relatively low for the CIFAR-10 dataset.\n",
    "    - The gap between training and validation accuracy remains small, with validation accuracy consistently higher than training accuracy.\n",
    "    - Both training and validation losses remain high throughout the training process, indicating the model's struggle to fit the data well."
   ]
  },
  {
   "cell_type": "markdown",
   "metadata": {
    "id": "Idg8P7UZjjQt"
   },
   "source": [
    "## How to avoid underfitting?"
   ]
  },
  {
   "cell_type": "markdown",
   "metadata": {},
   "source": [
    "#### Increase Model Capacity:"
   ]
  },
  {
   "cell_type": "markdown",
   "metadata": {
    "id": "CboyotdGjqVh"
   },
   "source": [
    "- Add more convolutional layers\n",
    "- Increase the number of filters in existing layers\n",
    "- Add more dense layers or increase the number of neurons in existing dense layers\n",
    "\n",
    "- For more information, refer to this link:\n",
    "\n",
    "    - [Keras Sequential Model Guide](https://www.tensorflow.org/guide/keras/sequential_model)\n",
    "\n",
    "    - [Dense Layer](https://www.tensorflow.org/api_docs/python/tf/keras/layers/Dense)"
   ]
  },
  {
   "cell_type": "markdown",
   "metadata": {
    "id": "hXdFy6e1kPZY"
   },
   "source": [
    "#### Reduce Regularization:"
   ]
  },
  {
   "cell_type": "markdown",
   "metadata": {},
   "source": [
    "- Decrease dropout rates\n",
    "\n",
    "- Reduce L2 regularization strength\n",
    "- For more information, refer to this link: \n",
    "    - [Keras Regularizers](https://www.tensorflow.org/api_docs/python/tf/keras/regularizers)\n",
    "    - [Dropout Layer](https://www.tensorflow.org/api_docs/python/tf/keras/layers/Dropout)"
   ]
  },
  {
   "cell_type": "markdown",
   "metadata": {
    "id": "_AtYnSnDkTe9"
   },
   "source": [
    "#### Add Batch Normalization:"
   ]
  },
  {
   "cell_type": "markdown",
   "metadata": {},
   "source": [
    "- Include batch normalization layers after convolutional layers\n",
    "\n",
    "- For more information, refer to this link: [Batch Normalization Layer](https://www.tensorflow.org/api_docs/python/tf/keras/layers/BatchNormalization)"
   ]
  },
  {
   "cell_type": "markdown",
   "metadata": {
    "id": "tLVRgdxCkYX2"
   },
   "source": [
    "## Re-training the model again to prevent underfitting"
   ]
  },
  {
   "cell_type": "code",
   "execution_count": null,
   "metadata": {
    "colab": {
     "base_uri": "https://localhost:8080/",
     "height": 1000
    },
    "id": "CVe8Y8i5cxQ0",
    "outputId": "65961fd5-b7c5-4e72-87d4-ef0ed3799031"
   },
   "outputs": [],
   "source": [
    "# Create the CNN model with dropout and L2 regularization\n",
    "def create_cnn_model():\n",
    "    model = models.Sequential([\n",
    "        layers.Input(shape=(32, 32, 3)),\n",
    "        layers.Conv2D(64, (3, 3), activation='relu', padding='same'),\n",
    "        layers.BatchNormalization(),\n",
    "        layers.Conv2D(64, (3, 3), activation='relu', padding='same'),\n",
    "        layers.BatchNormalization(),\n",
    "        layers.MaxPooling2D((2, 2)),\n",
    "        layers.Dropout(0.2),\n",
    "\n",
    "        layers.Conv2D(128, (3, 3), activation='relu', padding='same'),\n",
    "        layers.BatchNormalization(),\n",
    "        layers.Conv2D(128, (3, 3), activation='relu', padding='same'),\n",
    "        layers.BatchNormalization(),\n",
    "        layers.MaxPooling2D((2, 2)),\n",
    "        layers.Dropout(0.3),\n",
    "\n",
    "        layers.Conv2D(256, (3, 3), activation='relu', padding='same'),\n",
    "        layers.BatchNormalization(),\n",
    "        layers.Conv2D(256, (3, 3), activation='relu', padding='same'),\n",
    "        layers.BatchNormalization(),\n",
    "        layers.MaxPooling2D((2, 2)),\n",
    "        layers.Dropout(0.4),\n",
    "\n",
    "        layers.Flatten(),\n",
    "        layers.Dense(512, activation='relu', kernel_regularizer=regularizers.l2(0.001)),\n",
    "        layers.BatchNormalization(),\n",
    "        layers.Dropout(0.5),\n",
    "        layers.Dense(10, activation='softmax')\n",
    "    ])\n",
    "    return model\n",
    "\n",
    "# Create and compile the model\n",
    "model = create_cnn_model()\n",
    "model.compile(optimizer='adam',\n",
    "              loss='categorical_crossentropy',\n",
    "              metrics=['accuracy'])\n",
    "\n",
    "# Display model summary\n",
    "model.summary()"
   ]
  },
  {
   "cell_type": "code",
   "execution_count": null,
   "metadata": {
    "colab": {
     "base_uri": "https://localhost:8080/"
    },
    "id": "--8eTInOkxRm",
    "outputId": "b4017496-552e-4bc1-8af0-78099bd561bd"
   },
   "outputs": [],
   "source": [
    "# Train the model\n",
    "history = model.fit(\n",
    "    train_ds,\n",
    "    validation_data=test_ds,\n",
    "    epochs=EPOCHS,\n",
    "    callbacks=[early_stopping],\n",
    "    verbose=1\n",
    ")\n",
    "\n",
    "# Evaluate the model on the test set\n",
    "test_loss, test_accuracy = model.evaluate(test_ds)\n",
    "print(f\"Test accuracy: {test_accuracy:.4f}\")"
   ]
  },
  {
   "cell_type": "code",
   "execution_count": null,
   "metadata": {
    "colab": {
     "base_uri": "https://localhost:8080/",
     "height": 391
    },
    "id": "mMTHcEEWk68G",
    "outputId": "503669e8-9259-4f77-baf8-a9a3f94f0cef"
   },
   "outputs": [],
   "source": [
    "import matplotlib.pyplot as plt\n",
    "\n",
    "# Visualize the training history\n",
    "def plot_training_history(history):\n",
    "    acc = history.history['accuracy']\n",
    "    val_acc = history.history['val_accuracy']\n",
    "    loss = history.history['loss']\n",
    "    val_loss = history.history['val_loss']\n",
    "\n",
    "    epochs_range = range(len(acc))\n",
    "\n",
    "    plt.figure(figsize=(12, 4))\n",
    "    plt.subplot(1, 2, 1)\n",
    "    plt.plot(epochs_range, acc, label='Training Accuracy')\n",
    "    plt.plot(epochs_range, val_acc, label='Validation Accuracy')\n",
    "    plt.legend(loc='lower right')\n",
    "    plt.title('Training and Validation Accuracy')\n",
    "\n",
    "    plt.subplot(1, 2, 2)\n",
    "    plt.plot(epochs_range, loss, label='Training Loss')\n",
    "    plt.plot(epochs_range, val_loss, label='Validation Loss')\n",
    "    plt.legend(loc='upper right')\n",
    "    plt.title('Training and Validation Loss')\n",
    "    plt.show()\n",
    "\n",
    "plot_training_history(history)"
   ]
  },
  {
   "cell_type": "markdown",
   "metadata": {
    "id": "HAlWCKN4o7Ye"
   },
   "source": [
    "## Important observations from the model training"
   ]
  },
  {
   "cell_type": "markdown",
   "metadata": {
    "id": "z82wnXe7pBmZ"
   },
   "source": [
    "1. Rapid Initial Improvement:\n",
    "   - Both training and validation accuracies improve rapidly in the first few epochs, with training accuracy increasing from 38.38% to 82.97% and validation accuracy from 56.71% to 82.23% by epoch 8.\n",
    "   - This suggests that the model is learning effectively and is not underfitting.\n",
    "\n",
    "2. Divergence Between Training and Validation Accuracy:\n",
    "   - As training progresses, a gap develops between training and validation accuracies.\n",
    "   - By the final epoch, training accuracy reaches 94.59% while validation accuracy is at 89.98%.\n",
    "   - This growing gap is an indicator of some overfitting, as the model is performing better on the training data than on unseen validation data.\n",
    "\n",
    "3. Plateauing of Validation Accuracy:\n",
    "   - Validation accuracy shows slower improvement after about epoch 20, fluctuating between 87% and 90%.\n",
    "   - Meanwhile, training accuracy continues to improve, reaching over 94%.\n",
    "   - This plateauing of validation accuracy while training accuracy continues to improve is another sign of overfitting.\n",
    "\n",
    "4. Final Performance:\n",
    "   - The final test accuracy of 89.98% is good for the CIFAR-10 dataset, indicating that despite some overfitting, the model generalizes reasonably well.\n",
    "   - The model is not underfitting, as both training and validation accuracies are high."
   ]
  },
  {
   "cell_type": "markdown",
   "metadata": {},
   "source": [
    "## Conclusion"
   ]
  },
  {
   "cell_type": "markdown",
   "metadata": {},
   "source": [
    "In conclusion, the model shows signs of slight to moderate overfitting, evidenced by the growing gap between training and validation accuracies and the plateauing of validation accuracy.\n",
    "\n",
    "However, the high final test accuracy suggests that this overfitting is not severe enough to significantly compromise the model's performance on unseen data."
   ]
  },
  {
   "cell_type": "markdown",
   "metadata": {},
   "source": []
  }
 ],
 "metadata": {
  "accelerator": "GPU",
  "colab": {
   "gpuType": "T4",
   "provenance": [],
   "toc_visible": true
  },
  "kernelspec": {
   "display_name": "env",
   "language": "python",
   "name": "python3"
  },
  "language_info": {
   "codemirror_mode": {
    "name": "ipython",
    "version": 3
   },
   "file_extension": ".py",
   "mimetype": "text/x-python",
   "name": "python",
   "nbconvert_exporter": "python",
   "pygments_lexer": "ipython3",
   "version": "3.10.12"
  },
  "widgets": {
   "application/vnd.jupyter.widget-state+json": {
    "00d8261d5c80434192df127144753b52": {
     "model_module": "@jupyter-widgets/controls",
     "model_module_version": "1.5.0",
     "model_name": "ProgressStyleModel",
     "state": {
      "_model_module": "@jupyter-widgets/controls",
      "_model_module_version": "1.5.0",
      "_model_name": "ProgressStyleModel",
      "_view_count": null,
      "_view_module": "@jupyter-widgets/base",
      "_view_module_version": "1.2.0",
      "_view_name": "StyleView",
      "bar_color": null,
      "description_width": ""
     }
    },
    "010c2859759a4f779759b644afa91d1b": {
     "model_module": "@jupyter-widgets/controls",
     "model_module_version": "1.5.0",
     "model_name": "HTMLModel",
     "state": {
      "_dom_classes": [],
      "_model_module": "@jupyter-widgets/controls",
      "_model_module_version": "1.5.0",
      "_model_name": "HTMLModel",
      "_view_count": null,
      "_view_module": "@jupyter-widgets/controls",
      "_view_module_version": "1.5.0",
      "_view_name": "HTMLView",
      "description": "",
      "description_tooltip": null,
      "layout": "IPY_MODEL_eac6b8ff167c42d8b18ffe46feef1a23",
      "placeholder": "​",
      "style": "IPY_MODEL_03773f9aee5f43dc85472116ef4d1813",
      "value": "Generating test examples...:  97%"
     }
    },
    "03773f9aee5f43dc85472116ef4d1813": {
     "model_module": "@jupyter-widgets/controls",
     "model_module_version": "1.5.0",
     "model_name": "DescriptionStyleModel",
     "state": {
      "_model_module": "@jupyter-widgets/controls",
      "_model_module_version": "1.5.0",
      "_model_name": "DescriptionStyleModel",
      "_view_count": null,
      "_view_module": "@jupyter-widgets/base",
      "_view_module_version": "1.2.0",
      "_view_name": "StyleView",
      "description_width": ""
     }
    },
    "052e68577cd841bf8518fdbf0402ea4b": {
     "model_module": "@jupyter-widgets/base",
     "model_module_version": "1.2.0",
     "model_name": "LayoutModel",
     "state": {
      "_model_module": "@jupyter-widgets/base",
      "_model_module_version": "1.2.0",
      "_model_name": "LayoutModel",
      "_view_count": null,
      "_view_module": "@jupyter-widgets/base",
      "_view_module_version": "1.2.0",
      "_view_name": "LayoutView",
      "align_content": null,
      "align_items": null,
      "align_self": null,
      "border": null,
      "bottom": null,
      "display": null,
      "flex": null,
      "flex_flow": null,
      "grid_area": null,
      "grid_auto_columns": null,
      "grid_auto_flow": null,
      "grid_auto_rows": null,
      "grid_column": null,
      "grid_gap": null,
      "grid_row": null,
      "grid_template_areas": null,
      "grid_template_columns": null,
      "grid_template_rows": null,
      "height": null,
      "justify_content": null,
      "justify_items": null,
      "left": null,
      "margin": null,
      "max_height": null,
      "max_width": null,
      "min_height": null,
      "min_width": null,
      "object_fit": null,
      "object_position": null,
      "order": null,
      "overflow": null,
      "overflow_x": null,
      "overflow_y": null,
      "padding": null,
      "right": null,
      "top": null,
      "visibility": null,
      "width": null
     }
    },
    "13ddc2fa5838417e971b93af92674276": {
     "model_module": "@jupyter-widgets/controls",
     "model_module_version": "1.5.0",
     "model_name": "DescriptionStyleModel",
     "state": {
      "_model_module": "@jupyter-widgets/controls",
      "_model_module_version": "1.5.0",
      "_model_name": "DescriptionStyleModel",
      "_view_count": null,
      "_view_module": "@jupyter-widgets/base",
      "_view_module_version": "1.2.0",
      "_view_name": "StyleView",
      "description_width": ""
     }
    },
    "17f7b19a01104262a216fbe11b24bc5a": {
     "model_module": "@jupyter-widgets/controls",
     "model_module_version": "1.5.0",
     "model_name": "DescriptionStyleModel",
     "state": {
      "_model_module": "@jupyter-widgets/controls",
      "_model_module_version": "1.5.0",
      "_model_name": "DescriptionStyleModel",
      "_view_count": null,
      "_view_module": "@jupyter-widgets/base",
      "_view_module_version": "1.2.0",
      "_view_name": "StyleView",
      "description_width": ""
     }
    },
    "1c88c0f0ad564cb2b75d7b92c7f31ac9": {
     "model_module": "@jupyter-widgets/controls",
     "model_module_version": "1.5.0",
     "model_name": "DescriptionStyleModel",
     "state": {
      "_model_module": "@jupyter-widgets/controls",
      "_model_module_version": "1.5.0",
      "_model_name": "DescriptionStyleModel",
      "_view_count": null,
      "_view_module": "@jupyter-widgets/base",
      "_view_module_version": "1.2.0",
      "_view_name": "StyleView",
      "description_width": ""
     }
    },
    "23bbd49f1b01402eabd2ff9f10f4a04b": {
     "model_module": "@jupyter-widgets/base",
     "model_module_version": "1.2.0",
     "model_name": "LayoutModel",
     "state": {
      "_model_module": "@jupyter-widgets/base",
      "_model_module_version": "1.2.0",
      "_model_name": "LayoutModel",
      "_view_count": null,
      "_view_module": "@jupyter-widgets/base",
      "_view_module_version": "1.2.0",
      "_view_name": "LayoutView",
      "align_content": null,
      "align_items": null,
      "align_self": null,
      "border": null,
      "bottom": null,
      "display": null,
      "flex": null,
      "flex_flow": null,
      "grid_area": null,
      "grid_auto_columns": null,
      "grid_auto_flow": null,
      "grid_auto_rows": null,
      "grid_column": null,
      "grid_gap": null,
      "grid_row": null,
      "grid_template_areas": null,
      "grid_template_columns": null,
      "grid_template_rows": null,
      "height": null,
      "justify_content": null,
      "justify_items": null,
      "left": null,
      "margin": null,
      "max_height": null,
      "max_width": null,
      "min_height": null,
      "min_width": null,
      "object_fit": null,
      "object_position": null,
      "order": null,
      "overflow": null,
      "overflow_x": null,
      "overflow_y": null,
      "padding": null,
      "right": null,
      "top": null,
      "visibility": "hidden",
      "width": null
     }
    },
    "25291f35d2a04d76bb6744eb51eff3d3": {
     "model_module": "@jupyter-widgets/controls",
     "model_module_version": "1.5.0",
     "model_name": "FloatProgressModel",
     "state": {
      "_dom_classes": [],
      "_model_module": "@jupyter-widgets/controls",
      "_model_module_version": "1.5.0",
      "_model_name": "FloatProgressModel",
      "_view_count": null,
      "_view_module": "@jupyter-widgets/controls",
      "_view_module_version": "1.5.0",
      "_view_name": "ProgressView",
      "bar_style": "success",
      "description": "",
      "description_tooltip": null,
      "layout": "IPY_MODEL_b1352c53c4a54e9aab4be0fb3bbb236f",
      "max": 1,
      "min": 0,
      "orientation": "horizontal",
      "style": "IPY_MODEL_f33bf35daa304f1498f826af56d9d1f1",
      "value": 1
     }
    },
    "25fcd87a7b2746cbb1dafd27dfe2e154": {
     "model_module": "@jupyter-widgets/base",
     "model_module_version": "1.2.0",
     "model_name": "LayoutModel",
     "state": {
      "_model_module": "@jupyter-widgets/base",
      "_model_module_version": "1.2.0",
      "_model_name": "LayoutModel",
      "_view_count": null,
      "_view_module": "@jupyter-widgets/base",
      "_view_module_version": "1.2.0",
      "_view_name": "LayoutView",
      "align_content": null,
      "align_items": null,
      "align_self": null,
      "border": null,
      "bottom": null,
      "display": null,
      "flex": null,
      "flex_flow": null,
      "grid_area": null,
      "grid_auto_columns": null,
      "grid_auto_flow": null,
      "grid_auto_rows": null,
      "grid_column": null,
      "grid_gap": null,
      "grid_row": null,
      "grid_template_areas": null,
      "grid_template_columns": null,
      "grid_template_rows": null,
      "height": null,
      "justify_content": null,
      "justify_items": null,
      "left": null,
      "margin": null,
      "max_height": null,
      "max_width": null,
      "min_height": null,
      "min_width": null,
      "object_fit": null,
      "object_position": null,
      "order": null,
      "overflow": null,
      "overflow_x": null,
      "overflow_y": null,
      "padding": null,
      "right": null,
      "top": null,
      "visibility": null,
      "width": null
     }
    },
    "2653789f9d90476887484ed34c14a612": {
     "model_module": "@jupyter-widgets/base",
     "model_module_version": "1.2.0",
     "model_name": "LayoutModel",
     "state": {
      "_model_module": "@jupyter-widgets/base",
      "_model_module_version": "1.2.0",
      "_model_name": "LayoutModel",
      "_view_count": null,
      "_view_module": "@jupyter-widgets/base",
      "_view_module_version": "1.2.0",
      "_view_name": "LayoutView",
      "align_content": null,
      "align_items": null,
      "align_self": null,
      "border": null,
      "bottom": null,
      "display": null,
      "flex": null,
      "flex_flow": null,
      "grid_area": null,
      "grid_auto_columns": null,
      "grid_auto_flow": null,
      "grid_auto_rows": null,
      "grid_column": null,
      "grid_gap": null,
      "grid_row": null,
      "grid_template_areas": null,
      "grid_template_columns": null,
      "grid_template_rows": null,
      "height": null,
      "justify_content": null,
      "justify_items": null,
      "left": null,
      "margin": null,
      "max_height": null,
      "max_width": null,
      "min_height": null,
      "min_width": null,
      "object_fit": null,
      "object_position": null,
      "order": null,
      "overflow": null,
      "overflow_x": null,
      "overflow_y": null,
      "padding": null,
      "right": null,
      "top": null,
      "visibility": null,
      "width": null
     }
    },
    "2814d633045e42dc80b8eeec325253b7": {
     "model_module": "@jupyter-widgets/base",
     "model_module_version": "1.2.0",
     "model_name": "LayoutModel",
     "state": {
      "_model_module": "@jupyter-widgets/base",
      "_model_module_version": "1.2.0",
      "_model_name": "LayoutModel",
      "_view_count": null,
      "_view_module": "@jupyter-widgets/base",
      "_view_module_version": "1.2.0",
      "_view_name": "LayoutView",
      "align_content": null,
      "align_items": null,
      "align_self": null,
      "border": null,
      "bottom": null,
      "display": null,
      "flex": null,
      "flex_flow": null,
      "grid_area": null,
      "grid_auto_columns": null,
      "grid_auto_flow": null,
      "grid_auto_rows": null,
      "grid_column": null,
      "grid_gap": null,
      "grid_row": null,
      "grid_template_areas": null,
      "grid_template_columns": null,
      "grid_template_rows": null,
      "height": null,
      "justify_content": null,
      "justify_items": null,
      "left": null,
      "margin": null,
      "max_height": null,
      "max_width": null,
      "min_height": null,
      "min_width": null,
      "object_fit": null,
      "object_position": null,
      "order": null,
      "overflow": null,
      "overflow_x": null,
      "overflow_y": null,
      "padding": null,
      "right": null,
      "top": null,
      "visibility": null,
      "width": null
     }
    },
    "2d8b20ed1738471d8527768cad561420": {
     "model_module": "@jupyter-widgets/controls",
     "model_module_version": "1.5.0",
     "model_name": "HBoxModel",
     "state": {
      "_dom_classes": [],
      "_model_module": "@jupyter-widgets/controls",
      "_model_module_version": "1.5.0",
      "_model_name": "HBoxModel",
      "_view_count": null,
      "_view_module": "@jupyter-widgets/controls",
      "_view_module_version": "1.5.0",
      "_view_name": "HBoxView",
      "box_style": "",
      "children": [
       "IPY_MODEL_c0471bca5e484ca1985deeced1a89562",
       "IPY_MODEL_85c034b0e9b04cf9afa4a2754b19aee1",
       "IPY_MODEL_e1eb5b711bc24b02b6d7d13228a86319"
      ],
      "layout": "IPY_MODEL_f5e33b46363f44c4a5967d620b9df349"
     }
    },
    "2faae36e366e456d92afe35798543cb7": {
     "model_module": "@jupyter-widgets/base",
     "model_module_version": "1.2.0",
     "model_name": "LayoutModel",
     "state": {
      "_model_module": "@jupyter-widgets/base",
      "_model_module_version": "1.2.0",
      "_model_name": "LayoutModel",
      "_view_count": null,
      "_view_module": "@jupyter-widgets/base",
      "_view_module_version": "1.2.0",
      "_view_name": "LayoutView",
      "align_content": null,
      "align_items": null,
      "align_self": null,
      "border": null,
      "bottom": null,
      "display": null,
      "flex": null,
      "flex_flow": null,
      "grid_area": null,
      "grid_auto_columns": null,
      "grid_auto_flow": null,
      "grid_auto_rows": null,
      "grid_column": null,
      "grid_gap": null,
      "grid_row": null,
      "grid_template_areas": null,
      "grid_template_columns": null,
      "grid_template_rows": null,
      "height": null,
      "justify_content": null,
      "justify_items": null,
      "left": null,
      "margin": null,
      "max_height": null,
      "max_width": null,
      "min_height": null,
      "min_width": null,
      "object_fit": null,
      "object_position": null,
      "order": null,
      "overflow": null,
      "overflow_x": null,
      "overflow_y": null,
      "padding": null,
      "right": null,
      "top": null,
      "visibility": null,
      "width": null
     }
    },
    "3051f84f9e5a45bbae32a2657abc6d9f": {
     "model_module": "@jupyter-widgets/base",
     "model_module_version": "1.2.0",
     "model_name": "LayoutModel",
     "state": {
      "_model_module": "@jupyter-widgets/base",
      "_model_module_version": "1.2.0",
      "_model_name": "LayoutModel",
      "_view_count": null,
      "_view_module": "@jupyter-widgets/base",
      "_view_module_version": "1.2.0",
      "_view_name": "LayoutView",
      "align_content": null,
      "align_items": null,
      "align_self": null,
      "border": null,
      "bottom": null,
      "display": null,
      "flex": null,
      "flex_flow": null,
      "grid_area": null,
      "grid_auto_columns": null,
      "grid_auto_flow": null,
      "grid_auto_rows": null,
      "grid_column": null,
      "grid_gap": null,
      "grid_row": null,
      "grid_template_areas": null,
      "grid_template_columns": null,
      "grid_template_rows": null,
      "height": null,
      "justify_content": null,
      "justify_items": null,
      "left": null,
      "margin": null,
      "max_height": null,
      "max_width": null,
      "min_height": null,
      "min_width": null,
      "object_fit": null,
      "object_position": null,
      "order": null,
      "overflow": null,
      "overflow_x": null,
      "overflow_y": null,
      "padding": null,
      "right": null,
      "top": null,
      "visibility": "hidden",
      "width": null
     }
    },
    "3098153e795f4191bdb1625636fd3f3e": {
     "model_module": "@jupyter-widgets/controls",
     "model_module_version": "1.5.0",
     "model_name": "DescriptionStyleModel",
     "state": {
      "_model_module": "@jupyter-widgets/controls",
      "_model_module_version": "1.5.0",
      "_model_name": "DescriptionStyleModel",
      "_view_count": null,
      "_view_module": "@jupyter-widgets/base",
      "_view_module_version": "1.2.0",
      "_view_name": "StyleView",
      "description_width": ""
     }
    },
    "30f628bfe5fe4bda8e6523228af50b80": {
     "model_module": "@jupyter-widgets/controls",
     "model_module_version": "1.5.0",
     "model_name": "DescriptionStyleModel",
     "state": {
      "_model_module": "@jupyter-widgets/controls",
      "_model_module_version": "1.5.0",
      "_model_name": "DescriptionStyleModel",
      "_view_count": null,
      "_view_module": "@jupyter-widgets/base",
      "_view_module_version": "1.2.0",
      "_view_name": "StyleView",
      "description_width": ""
     }
    },
    "357d918deaca448599f852141f88043c": {
     "model_module": "@jupyter-widgets/controls",
     "model_module_version": "1.5.0",
     "model_name": "DescriptionStyleModel",
     "state": {
      "_model_module": "@jupyter-widgets/controls",
      "_model_module_version": "1.5.0",
      "_model_name": "DescriptionStyleModel",
      "_view_count": null,
      "_view_module": "@jupyter-widgets/base",
      "_view_module_version": "1.2.0",
      "_view_name": "StyleView",
      "description_width": ""
     }
    },
    "35d00eef6ac64d1fa73d4d8d276fb20b": {
     "model_module": "@jupyter-widgets/base",
     "model_module_version": "1.2.0",
     "model_name": "LayoutModel",
     "state": {
      "_model_module": "@jupyter-widgets/base",
      "_model_module_version": "1.2.0",
      "_model_name": "LayoutModel",
      "_view_count": null,
      "_view_module": "@jupyter-widgets/base",
      "_view_module_version": "1.2.0",
      "_view_name": "LayoutView",
      "align_content": null,
      "align_items": null,
      "align_self": null,
      "border": null,
      "bottom": null,
      "display": null,
      "flex": null,
      "flex_flow": null,
      "grid_area": null,
      "grid_auto_columns": null,
      "grid_auto_flow": null,
      "grid_auto_rows": null,
      "grid_column": null,
      "grid_gap": null,
      "grid_row": null,
      "grid_template_areas": null,
      "grid_template_columns": null,
      "grid_template_rows": null,
      "height": null,
      "justify_content": null,
      "justify_items": null,
      "left": null,
      "margin": null,
      "max_height": null,
      "max_width": null,
      "min_height": null,
      "min_width": null,
      "object_fit": null,
      "object_position": null,
      "order": null,
      "overflow": null,
      "overflow_x": null,
      "overflow_y": null,
      "padding": null,
      "right": null,
      "top": null,
      "visibility": null,
      "width": null
     }
    },
    "3cf8401b737b46f6b0aa77c437ceea99": {
     "model_module": "@jupyter-widgets/controls",
     "model_module_version": "1.5.0",
     "model_name": "FloatProgressModel",
     "state": {
      "_dom_classes": [],
      "_model_module": "@jupyter-widgets/controls",
      "_model_module_version": "1.5.0",
      "_model_name": "FloatProgressModel",
      "_view_count": null,
      "_view_module": "@jupyter-widgets/controls",
      "_view_module_version": "1.5.0",
      "_view_name": "ProgressView",
      "bar_style": "success",
      "description": "",
      "description_tooltip": null,
      "layout": "IPY_MODEL_8fc2e2ac39c84488956b3c86474ff7ea",
      "max": 1,
      "min": 0,
      "orientation": "horizontal",
      "style": "IPY_MODEL_bde9c4cb701447ba9266b130c37afc88",
      "value": 1
     }
    },
    "40592d4dd03a4ac499234d5068c1c314": {
     "model_module": "@jupyter-widgets/controls",
     "model_module_version": "1.5.0",
     "model_name": "HBoxModel",
     "state": {
      "_dom_classes": [],
      "_model_module": "@jupyter-widgets/controls",
      "_model_module_version": "1.5.0",
      "_model_name": "HBoxModel",
      "_view_count": null,
      "_view_module": "@jupyter-widgets/controls",
      "_view_module_version": "1.5.0",
      "_view_name": "HBoxView",
      "box_style": "",
      "children": [
       "IPY_MODEL_de95d86aa37b467aacd47ac78bbc3776",
       "IPY_MODEL_aeaa63c90f5744dbad6aa544065d7603",
       "IPY_MODEL_870285a97ea34db9adbd4f4033122cb2"
      ],
      "layout": "IPY_MODEL_23bbd49f1b01402eabd2ff9f10f4a04b"
     }
    },
    "420c14391cc74ea19ea7fad18aa67bf2": {
     "model_module": "@jupyter-widgets/controls",
     "model_module_version": "1.5.0",
     "model_name": "HTMLModel",
     "state": {
      "_dom_classes": [],
      "_model_module": "@jupyter-widgets/controls",
      "_model_module_version": "1.5.0",
      "_model_name": "HTMLModel",
      "_view_count": null,
      "_view_module": "@jupyter-widgets/controls",
      "_view_module_version": "1.5.0",
      "_view_name": "HTMLView",
      "description": "",
      "description_tooltip": null,
      "layout": "IPY_MODEL_eeb49691222e41039abea00af1eeccd2",
      "placeholder": "​",
      "style": "IPY_MODEL_de02a245d088490bb5b1753e913f2892",
      "value": " 9660/10000 [00:08&lt;00:00, 1140.28 examples/s]"
     }
    },
    "4228e7d7dc514f519ae6d30e53722883": {
     "model_module": "@jupyter-widgets/controls",
     "model_module_version": "1.5.0",
     "model_name": "HTMLModel",
     "state": {
      "_dom_classes": [],
      "_model_module": "@jupyter-widgets/controls",
      "_model_module_version": "1.5.0",
      "_model_name": "HTMLModel",
      "_view_count": null,
      "_view_module": "@jupyter-widgets/controls",
      "_view_module_version": "1.5.0",
      "_view_name": "HTMLView",
      "description": "",
      "description_tooltip": null,
      "layout": "IPY_MODEL_a1855030f15b45118c547442d39113ee",
      "placeholder": "​",
      "style": "IPY_MODEL_d0a48527235046769a8366ff3033ac05",
      "value": "Shuffling /root/tensorflow_datasets/cifar10/incomplete.Q8583A_3.0.2/cifar10-test.tfrecord*...:   0%"
     }
    },
    "4c4e019dbc0b4098b91086e527885002": {
     "model_module": "@jupyter-widgets/controls",
     "model_module_version": "1.5.0",
     "model_name": "FloatProgressModel",
     "state": {
      "_dom_classes": [],
      "_model_module": "@jupyter-widgets/controls",
      "_model_module_version": "1.5.0",
      "_model_name": "FloatProgressModel",
      "_view_count": null,
      "_view_module": "@jupyter-widgets/controls",
      "_view_module_version": "1.5.0",
      "_view_name": "ProgressView",
      "bar_style": "success",
      "description": "",
      "description_tooltip": null,
      "layout": "IPY_MODEL_671b00c4f2fa4e598650a44e05845f2e",
      "max": 1,
      "min": 0,
      "orientation": "horizontal",
      "style": "IPY_MODEL_d3a87325564346e99f3f81e8502c7e70",
      "value": 1
     }
    },
    "4cd0a9c353b4474fa1d9ade6e3c22191": {
     "model_module": "@jupyter-widgets/controls",
     "model_module_version": "1.5.0",
     "model_name": "HBoxModel",
     "state": {
      "_dom_classes": [],
      "_model_module": "@jupyter-widgets/controls",
      "_model_module_version": "1.5.0",
      "_model_name": "HBoxModel",
      "_view_count": null,
      "_view_module": "@jupyter-widgets/controls",
      "_view_module_version": "1.5.0",
      "_view_name": "HBoxView",
      "box_style": "",
      "children": [
       "IPY_MODEL_6e4423f9556646d3a4bf489ea0634f61",
       "IPY_MODEL_632af80732864b43a49413854526ce53",
       "IPY_MODEL_c32703b664a141bc979ec178756fc266"
      ],
      "layout": "IPY_MODEL_aab4fe98f9b14ae1bf88f9cfd63bb590"
     }
    },
    "5287a5bdcb5843a79108e99c40b34533": {
     "model_module": "@jupyter-widgets/controls",
     "model_module_version": "1.5.0",
     "model_name": "DescriptionStyleModel",
     "state": {
      "_model_module": "@jupyter-widgets/controls",
      "_model_module_version": "1.5.0",
      "_model_name": "DescriptionStyleModel",
      "_view_count": null,
      "_view_module": "@jupyter-widgets/base",
      "_view_module_version": "1.2.0",
      "_view_name": "StyleView",
      "description_width": ""
     }
    },
    "54b3ea1a113547a4b8adc8ebceb5c582": {
     "model_module": "@jupyter-widgets/controls",
     "model_module_version": "1.5.0",
     "model_name": "DescriptionStyleModel",
     "state": {
      "_model_module": "@jupyter-widgets/controls",
      "_model_module_version": "1.5.0",
      "_model_name": "DescriptionStyleModel",
      "_view_count": null,
      "_view_module": "@jupyter-widgets/base",
      "_view_module_version": "1.2.0",
      "_view_name": "StyleView",
      "description_width": ""
     }
    },
    "5a212117a7e5440c95de1f64793597cb": {
     "model_module": "@jupyter-widgets/base",
     "model_module_version": "1.2.0",
     "model_name": "LayoutModel",
     "state": {
      "_model_module": "@jupyter-widgets/base",
      "_model_module_version": "1.2.0",
      "_model_name": "LayoutModel",
      "_view_count": null,
      "_view_module": "@jupyter-widgets/base",
      "_view_module_version": "1.2.0",
      "_view_name": "LayoutView",
      "align_content": null,
      "align_items": null,
      "align_self": null,
      "border": null,
      "bottom": null,
      "display": null,
      "flex": null,
      "flex_flow": null,
      "grid_area": null,
      "grid_auto_columns": null,
      "grid_auto_flow": null,
      "grid_auto_rows": null,
      "grid_column": null,
      "grid_gap": null,
      "grid_row": null,
      "grid_template_areas": null,
      "grid_template_columns": null,
      "grid_template_rows": null,
      "height": null,
      "justify_content": null,
      "justify_items": null,
      "left": null,
      "margin": null,
      "max_height": null,
      "max_width": null,
      "min_height": null,
      "min_width": null,
      "object_fit": null,
      "object_position": null,
      "order": null,
      "overflow": null,
      "overflow_x": null,
      "overflow_y": null,
      "padding": null,
      "right": null,
      "top": null,
      "visibility": "hidden",
      "width": null
     }
    },
    "5c57a1e9d2ef4fbb86fe89a7e00d9102": {
     "model_module": "@jupyter-widgets/base",
     "model_module_version": "1.2.0",
     "model_name": "LayoutModel",
     "state": {
      "_model_module": "@jupyter-widgets/base",
      "_model_module_version": "1.2.0",
      "_model_name": "LayoutModel",
      "_view_count": null,
      "_view_module": "@jupyter-widgets/base",
      "_view_module_version": "1.2.0",
      "_view_name": "LayoutView",
      "align_content": null,
      "align_items": null,
      "align_self": null,
      "border": null,
      "bottom": null,
      "display": null,
      "flex": null,
      "flex_flow": null,
      "grid_area": null,
      "grid_auto_columns": null,
      "grid_auto_flow": null,
      "grid_auto_rows": null,
      "grid_column": null,
      "grid_gap": null,
      "grid_row": null,
      "grid_template_areas": null,
      "grid_template_columns": null,
      "grid_template_rows": null,
      "height": null,
      "justify_content": null,
      "justify_items": null,
      "left": null,
      "margin": null,
      "max_height": null,
      "max_width": null,
      "min_height": null,
      "min_width": null,
      "object_fit": null,
      "object_position": null,
      "order": null,
      "overflow": null,
      "overflow_x": null,
      "overflow_y": null,
      "padding": null,
      "right": null,
      "top": null,
      "visibility": null,
      "width": null
     }
    },
    "61b6ff2b02dc452eaeda177632a135f0": {
     "model_module": "@jupyter-widgets/controls",
     "model_module_version": "1.5.0",
     "model_name": "ProgressStyleModel",
     "state": {
      "_model_module": "@jupyter-widgets/controls",
      "_model_module_version": "1.5.0",
      "_model_name": "ProgressStyleModel",
      "_view_count": null,
      "_view_module": "@jupyter-widgets/base",
      "_view_module_version": "1.2.0",
      "_view_name": "StyleView",
      "bar_color": null,
      "description_width": ""
     }
    },
    "626b879edff24bcda8fe861d02221203": {
     "model_module": "@jupyter-widgets/controls",
     "model_module_version": "1.5.0",
     "model_name": "HBoxModel",
     "state": {
      "_dom_classes": [],
      "_model_module": "@jupyter-widgets/controls",
      "_model_module_version": "1.5.0",
      "_model_name": "HBoxModel",
      "_view_count": null,
      "_view_module": "@jupyter-widgets/controls",
      "_view_module_version": "1.5.0",
      "_view_name": "HBoxView",
      "box_style": "",
      "children": [
       "IPY_MODEL_4228e7d7dc514f519ae6d30e53722883",
       "IPY_MODEL_d118c28f3826425da8a8bdf42f89048a",
       "IPY_MODEL_fd68214fc6364e79b63104b9747843ee"
      ],
      "layout": "IPY_MODEL_3051f84f9e5a45bbae32a2657abc6d9f"
     }
    },
    "62d456210d9045e0a7879b89ccc02331": {
     "model_module": "@jupyter-widgets/base",
     "model_module_version": "1.2.0",
     "model_name": "LayoutModel",
     "state": {
      "_model_module": "@jupyter-widgets/base",
      "_model_module_version": "1.2.0",
      "_model_name": "LayoutModel",
      "_view_count": null,
      "_view_module": "@jupyter-widgets/base",
      "_view_module_version": "1.2.0",
      "_view_name": "LayoutView",
      "align_content": null,
      "align_items": null,
      "align_self": null,
      "border": null,
      "bottom": null,
      "display": null,
      "flex": null,
      "flex_flow": null,
      "grid_area": null,
      "grid_auto_columns": null,
      "grid_auto_flow": null,
      "grid_auto_rows": null,
      "grid_column": null,
      "grid_gap": null,
      "grid_row": null,
      "grid_template_areas": null,
      "grid_template_columns": null,
      "grid_template_rows": null,
      "height": null,
      "justify_content": null,
      "justify_items": null,
      "left": null,
      "margin": null,
      "max_height": null,
      "max_width": null,
      "min_height": null,
      "min_width": null,
      "object_fit": null,
      "object_position": null,
      "order": null,
      "overflow": null,
      "overflow_x": null,
      "overflow_y": null,
      "padding": null,
      "right": null,
      "top": null,
      "visibility": null,
      "width": null
     }
    },
    "632af80732864b43a49413854526ce53": {
     "model_module": "@jupyter-widgets/controls",
     "model_module_version": "1.5.0",
     "model_name": "FloatProgressModel",
     "state": {
      "_dom_classes": [],
      "_model_module": "@jupyter-widgets/controls",
      "_model_module_version": "1.5.0",
      "_model_name": "FloatProgressModel",
      "_view_count": null,
      "_view_module": "@jupyter-widgets/controls",
      "_view_module_version": "1.5.0",
      "_view_name": "ProgressView",
      "bar_style": "",
      "description": "",
      "description_tooltip": null,
      "layout": "IPY_MODEL_25fcd87a7b2746cbb1dafd27dfe2e154",
      "max": 50000,
      "min": 0,
      "orientation": "horizontal",
      "style": "IPY_MODEL_e581a19d24b44b2daaddac3659274fa0",
      "value": 50000
     }
    },
    "63e82f12f2ea4cfab1ce6b868d546800": {
     "model_module": "@jupyter-widgets/base",
     "model_module_version": "1.2.0",
     "model_name": "LayoutModel",
     "state": {
      "_model_module": "@jupyter-widgets/base",
      "_model_module_version": "1.2.0",
      "_model_name": "LayoutModel",
      "_view_count": null,
      "_view_module": "@jupyter-widgets/base",
      "_view_module_version": "1.2.0",
      "_view_name": "LayoutView",
      "align_content": null,
      "align_items": null,
      "align_self": null,
      "border": null,
      "bottom": null,
      "display": null,
      "flex": null,
      "flex_flow": null,
      "grid_area": null,
      "grid_auto_columns": null,
      "grid_auto_flow": null,
      "grid_auto_rows": null,
      "grid_column": null,
      "grid_gap": null,
      "grid_row": null,
      "grid_template_areas": null,
      "grid_template_columns": null,
      "grid_template_rows": null,
      "height": null,
      "justify_content": null,
      "justify_items": null,
      "left": null,
      "margin": null,
      "max_height": null,
      "max_width": null,
      "min_height": null,
      "min_width": null,
      "object_fit": null,
      "object_position": null,
      "order": null,
      "overflow": null,
      "overflow_x": null,
      "overflow_y": null,
      "padding": null,
      "right": null,
      "top": null,
      "visibility": null,
      "width": null
     }
    },
    "671b00c4f2fa4e598650a44e05845f2e": {
     "model_module": "@jupyter-widgets/base",
     "model_module_version": "1.2.0",
     "model_name": "LayoutModel",
     "state": {
      "_model_module": "@jupyter-widgets/base",
      "_model_module_version": "1.2.0",
      "_model_name": "LayoutModel",
      "_view_count": null,
      "_view_module": "@jupyter-widgets/base",
      "_view_module_version": "1.2.0",
      "_view_name": "LayoutView",
      "align_content": null,
      "align_items": null,
      "align_self": null,
      "border": null,
      "bottom": null,
      "display": null,
      "flex": null,
      "flex_flow": null,
      "grid_area": null,
      "grid_auto_columns": null,
      "grid_auto_flow": null,
      "grid_auto_rows": null,
      "grid_column": null,
      "grid_gap": null,
      "grid_row": null,
      "grid_template_areas": null,
      "grid_template_columns": null,
      "grid_template_rows": null,
      "height": null,
      "justify_content": null,
      "justify_items": null,
      "left": null,
      "margin": null,
      "max_height": null,
      "max_width": null,
      "min_height": null,
      "min_width": null,
      "object_fit": null,
      "object_position": null,
      "order": null,
      "overflow": null,
      "overflow_x": null,
      "overflow_y": null,
      "padding": null,
      "right": null,
      "top": null,
      "visibility": null,
      "width": "20px"
     }
    },
    "6e4423f9556646d3a4bf489ea0634f61": {
     "model_module": "@jupyter-widgets/controls",
     "model_module_version": "1.5.0",
     "model_name": "HTMLModel",
     "state": {
      "_dom_classes": [],
      "_model_module": "@jupyter-widgets/controls",
      "_model_module_version": "1.5.0",
      "_model_name": "HTMLModel",
      "_view_count": null,
      "_view_module": "@jupyter-widgets/controls",
      "_view_module_version": "1.5.0",
      "_view_name": "HTMLView",
      "description": "",
      "description_tooltip": null,
      "layout": "IPY_MODEL_2814d633045e42dc80b8eeec325253b7",
      "placeholder": "​",
      "style": "IPY_MODEL_1c88c0f0ad564cb2b75d7b92c7f31ac9",
      "value": "Generating train examples...:  98%"
     }
    },
    "76996bfebf7f4d1c8422cc466a9b2f17": {
     "model_module": "@jupyter-widgets/controls",
     "model_module_version": "1.5.0",
     "model_name": "ProgressStyleModel",
     "state": {
      "_model_module": "@jupyter-widgets/controls",
      "_model_module_version": "1.5.0",
      "_model_name": "ProgressStyleModel",
      "_view_count": null,
      "_view_module": "@jupyter-widgets/base",
      "_view_module_version": "1.2.0",
      "_view_name": "StyleView",
      "bar_color": null,
      "description_width": ""
     }
    },
    "76a6b71ad4ee4150aaaabc9e6b712c70": {
     "model_module": "@jupyter-widgets/controls",
     "model_module_version": "1.5.0",
     "model_name": "DescriptionStyleModel",
     "state": {
      "_model_module": "@jupyter-widgets/controls",
      "_model_module_version": "1.5.0",
      "_model_name": "DescriptionStyleModel",
      "_view_count": null,
      "_view_module": "@jupyter-widgets/base",
      "_view_module_version": "1.2.0",
      "_view_name": "StyleView",
      "description_width": ""
     }
    },
    "77e13f3e386344068151dd509dda34f7": {
     "model_module": "@jupyter-widgets/base",
     "model_module_version": "1.2.0",
     "model_name": "LayoutModel",
     "state": {
      "_model_module": "@jupyter-widgets/base",
      "_model_module_version": "1.2.0",
      "_model_name": "LayoutModel",
      "_view_count": null,
      "_view_module": "@jupyter-widgets/base",
      "_view_module_version": "1.2.0",
      "_view_name": "LayoutView",
      "align_content": null,
      "align_items": null,
      "align_self": null,
      "border": null,
      "bottom": null,
      "display": null,
      "flex": null,
      "flex_flow": null,
      "grid_area": null,
      "grid_auto_columns": null,
      "grid_auto_flow": null,
      "grid_auto_rows": null,
      "grid_column": null,
      "grid_gap": null,
      "grid_row": null,
      "grid_template_areas": null,
      "grid_template_columns": null,
      "grid_template_rows": null,
      "height": null,
      "justify_content": null,
      "justify_items": null,
      "left": null,
      "margin": null,
      "max_height": null,
      "max_width": null,
      "min_height": null,
      "min_width": null,
      "object_fit": null,
      "object_position": null,
      "order": null,
      "overflow": null,
      "overflow_x": null,
      "overflow_y": null,
      "padding": null,
      "right": null,
      "top": null,
      "visibility": null,
      "width": null
     }
    },
    "7818b02dd2d04afca9cd60d31200b983": {
     "model_module": "@jupyter-widgets/controls",
     "model_module_version": "1.5.0",
     "model_name": "ProgressStyleModel",
     "state": {
      "_model_module": "@jupyter-widgets/controls",
      "_model_module_version": "1.5.0",
      "_model_name": "ProgressStyleModel",
      "_view_count": null,
      "_view_module": "@jupyter-widgets/base",
      "_view_module_version": "1.2.0",
      "_view_name": "StyleView",
      "bar_color": null,
      "description_width": ""
     }
    },
    "7892199b64b84a5da13f373abd7ed9d2": {
     "model_module": "@jupyter-widgets/controls",
     "model_module_version": "1.5.0",
     "model_name": "HTMLModel",
     "state": {
      "_dom_classes": [],
      "_model_module": "@jupyter-widgets/controls",
      "_model_module_version": "1.5.0",
      "_model_name": "HTMLModel",
      "_view_count": null,
      "_view_module": "@jupyter-widgets/controls",
      "_view_module_version": "1.5.0",
      "_view_name": "HTMLView",
      "description": "",
      "description_tooltip": null,
      "layout": "IPY_MODEL_5c57a1e9d2ef4fbb86fe89a7e00d9102",
      "placeholder": "​",
      "style": "IPY_MODEL_3098153e795f4191bdb1625636fd3f3e",
      "value": " 162/162 [00:08&lt;00:00, 28.29 MiB/s]"
     }
    },
    "819efa100e434971b8a976942e57df97": {
     "model_module": "@jupyter-widgets/controls",
     "model_module_version": "1.5.0",
     "model_name": "HBoxModel",
     "state": {
      "_dom_classes": [],
      "_model_module": "@jupyter-widgets/controls",
      "_model_module_version": "1.5.0",
      "_model_name": "HBoxModel",
      "_view_count": null,
      "_view_module": "@jupyter-widgets/controls",
      "_view_module_version": "1.5.0",
      "_view_name": "HBoxView",
      "box_style": "",
      "children": [
       "IPY_MODEL_b3aecd710c3e4dc89a3dd5f37f184977",
       "IPY_MODEL_4c4e019dbc0b4098b91086e527885002",
       "IPY_MODEL_e9644fe6c0204fcfab71b96779df6051"
      ],
      "layout": "IPY_MODEL_eecb3d7a1da749d8b9cba3e0cee2af0f"
     }
    },
    "85c034b0e9b04cf9afa4a2754b19aee1": {
     "model_module": "@jupyter-widgets/controls",
     "model_module_version": "1.5.0",
     "model_name": "FloatProgressModel",
     "state": {
      "_dom_classes": [],
      "_model_module": "@jupyter-widgets/controls",
      "_model_module_version": "1.5.0",
      "_model_name": "FloatProgressModel",
      "_view_count": null,
      "_view_module": "@jupyter-widgets/controls",
      "_view_module_version": "1.5.0",
      "_view_name": "ProgressView",
      "bar_style": "",
      "description": "",
      "description_tooltip": null,
      "layout": "IPY_MODEL_63e82f12f2ea4cfab1ce6b868d546800",
      "max": 2,
      "min": 0,
      "orientation": "horizontal",
      "style": "IPY_MODEL_76996bfebf7f4d1c8422cc466a9b2f17",
      "value": 2
     }
    },
    "870285a97ea34db9adbd4f4033122cb2": {
     "model_module": "@jupyter-widgets/controls",
     "model_module_version": "1.5.0",
     "model_name": "HTMLModel",
     "state": {
      "_dom_classes": [],
      "_model_module": "@jupyter-widgets/controls",
      "_model_module_version": "1.5.0",
      "_model_name": "HTMLModel",
      "_view_count": null,
      "_view_module": "@jupyter-widgets/controls",
      "_view_module_version": "1.5.0",
      "_view_name": "HTMLView",
      "description": "",
      "description_tooltip": null,
      "layout": "IPY_MODEL_f0d1752d36f34d56b9a947c3f2eb4977",
      "placeholder": "​",
      "style": "IPY_MODEL_13ddc2fa5838417e971b93af92674276",
      "value": " 0/50000 [00:00&lt;?, ? examples/s]"
     }
    },
    "8753d8bd0b7a429da8cc82ac4cbe78e4": {
     "model_module": "@jupyter-widgets/controls",
     "model_module_version": "1.5.0",
     "model_name": "FloatProgressModel",
     "state": {
      "_dom_classes": [],
      "_model_module": "@jupyter-widgets/controls",
      "_model_module_version": "1.5.0",
      "_model_name": "FloatProgressModel",
      "_view_count": null,
      "_view_module": "@jupyter-widgets/controls",
      "_view_module_version": "1.5.0",
      "_view_name": "ProgressView",
      "bar_style": "",
      "description": "",
      "description_tooltip": null,
      "layout": "IPY_MODEL_2653789f9d90476887484ed34c14a612",
      "max": 10000,
      "min": 0,
      "orientation": "horizontal",
      "style": "IPY_MODEL_61b6ff2b02dc452eaeda177632a135f0",
      "value": 10000
     }
    },
    "8a216114a6b24de09e0655cbd60bbc94": {
     "model_module": "@jupyter-widgets/base",
     "model_module_version": "1.2.0",
     "model_name": "LayoutModel",
     "state": {
      "_model_module": "@jupyter-widgets/base",
      "_model_module_version": "1.2.0",
      "_model_name": "LayoutModel",
      "_view_count": null,
      "_view_module": "@jupyter-widgets/base",
      "_view_module_version": "1.2.0",
      "_view_name": "LayoutView",
      "align_content": null,
      "align_items": null,
      "align_self": null,
      "border": null,
      "bottom": null,
      "display": null,
      "flex": null,
      "flex_flow": null,
      "grid_area": null,
      "grid_auto_columns": null,
      "grid_auto_flow": null,
      "grid_auto_rows": null,
      "grid_column": null,
      "grid_gap": null,
      "grid_row": null,
      "grid_template_areas": null,
      "grid_template_columns": null,
      "grid_template_rows": null,
      "height": null,
      "justify_content": null,
      "justify_items": null,
      "left": null,
      "margin": null,
      "max_height": null,
      "max_width": null,
      "min_height": null,
      "min_width": null,
      "object_fit": null,
      "object_position": null,
      "order": null,
      "overflow": null,
      "overflow_x": null,
      "overflow_y": null,
      "padding": null,
      "right": null,
      "top": null,
      "visibility": null,
      "width": null
     }
    },
    "8fc2e2ac39c84488956b3c86474ff7ea": {
     "model_module": "@jupyter-widgets/base",
     "model_module_version": "1.2.0",
     "model_name": "LayoutModel",
     "state": {
      "_model_module": "@jupyter-widgets/base",
      "_model_module_version": "1.2.0",
      "_model_name": "LayoutModel",
      "_view_count": null,
      "_view_module": "@jupyter-widgets/base",
      "_view_module_version": "1.2.0",
      "_view_name": "LayoutView",
      "align_content": null,
      "align_items": null,
      "align_self": null,
      "border": null,
      "bottom": null,
      "display": null,
      "flex": null,
      "flex_flow": null,
      "grid_area": null,
      "grid_auto_columns": null,
      "grid_auto_flow": null,
      "grid_auto_rows": null,
      "grid_column": null,
      "grid_gap": null,
      "grid_row": null,
      "grid_template_areas": null,
      "grid_template_columns": null,
      "grid_template_rows": null,
      "height": null,
      "justify_content": null,
      "justify_items": null,
      "left": null,
      "margin": null,
      "max_height": null,
      "max_width": null,
      "min_height": null,
      "min_width": null,
      "object_fit": null,
      "object_position": null,
      "order": null,
      "overflow": null,
      "overflow_x": null,
      "overflow_y": null,
      "padding": null,
      "right": null,
      "top": null,
      "visibility": null,
      "width": "20px"
     }
    },
    "90b61ddb7e5940e9891c2d6a6ac03f84": {
     "model_module": "@jupyter-widgets/base",
     "model_module_version": "1.2.0",
     "model_name": "LayoutModel",
     "state": {
      "_model_module": "@jupyter-widgets/base",
      "_model_module_version": "1.2.0",
      "_model_name": "LayoutModel",
      "_view_count": null,
      "_view_module": "@jupyter-widgets/base",
      "_view_module_version": "1.2.0",
      "_view_name": "LayoutView",
      "align_content": null,
      "align_items": null,
      "align_self": null,
      "border": null,
      "bottom": null,
      "display": null,
      "flex": null,
      "flex_flow": null,
      "grid_area": null,
      "grid_auto_columns": null,
      "grid_auto_flow": null,
      "grid_auto_rows": null,
      "grid_column": null,
      "grid_gap": null,
      "grid_row": null,
      "grid_template_areas": null,
      "grid_template_columns": null,
      "grid_template_rows": null,
      "height": null,
      "justify_content": null,
      "justify_items": null,
      "left": null,
      "margin": null,
      "max_height": null,
      "max_width": null,
      "min_height": null,
      "min_width": null,
      "object_fit": null,
      "object_position": null,
      "order": null,
      "overflow": null,
      "overflow_x": null,
      "overflow_y": null,
      "padding": null,
      "right": null,
      "top": null,
      "visibility": null,
      "width": null
     }
    },
    "9356da1d6e8e48e2b45a4a90a57c711d": {
     "model_module": "@jupyter-widgets/base",
     "model_module_version": "1.2.0",
     "model_name": "LayoutModel",
     "state": {
      "_model_module": "@jupyter-widgets/base",
      "_model_module_version": "1.2.0",
      "_model_name": "LayoutModel",
      "_view_count": null,
      "_view_module": "@jupyter-widgets/base",
      "_view_module_version": "1.2.0",
      "_view_name": "LayoutView",
      "align_content": null,
      "align_items": null,
      "align_self": null,
      "border": null,
      "bottom": null,
      "display": null,
      "flex": null,
      "flex_flow": null,
      "grid_area": null,
      "grid_auto_columns": null,
      "grid_auto_flow": null,
      "grid_auto_rows": null,
      "grid_column": null,
      "grid_gap": null,
      "grid_row": null,
      "grid_template_areas": null,
      "grid_template_columns": null,
      "grid_template_rows": null,
      "height": null,
      "justify_content": null,
      "justify_items": null,
      "left": null,
      "margin": null,
      "max_height": null,
      "max_width": null,
      "min_height": null,
      "min_width": null,
      "object_fit": null,
      "object_position": null,
      "order": null,
      "overflow": null,
      "overflow_x": null,
      "overflow_y": null,
      "padding": null,
      "right": null,
      "top": null,
      "visibility": null,
      "width": null
     }
    },
    "99253a0645bd41e78b385caa120b5eee": {
     "model_module": "@jupyter-widgets/controls",
     "model_module_version": "1.5.0",
     "model_name": "HBoxModel",
     "state": {
      "_dom_classes": [],
      "_model_module": "@jupyter-widgets/controls",
      "_model_module_version": "1.5.0",
      "_model_name": "HBoxModel",
      "_view_count": null,
      "_view_module": "@jupyter-widgets/controls",
      "_view_module_version": "1.5.0",
      "_view_name": "HBoxView",
      "box_style": "",
      "children": [
       "IPY_MODEL_9ded42e8b18d4524a520ea2ace374200",
       "IPY_MODEL_25291f35d2a04d76bb6744eb51eff3d3",
       "IPY_MODEL_f6b675f9be26413882266905c6c94011"
      ],
      "layout": "IPY_MODEL_de3681a08d234e3d8b679ea2da31a160"
     }
    },
    "99c4c3beace84c4991c2b8ce52a154f3": {
     "model_module": "@jupyter-widgets/controls",
     "model_module_version": "1.5.0",
     "model_name": "HTMLModel",
     "state": {
      "_dom_classes": [],
      "_model_module": "@jupyter-widgets/controls",
      "_model_module_version": "1.5.0",
      "_model_name": "HTMLModel",
      "_view_count": null,
      "_view_module": "@jupyter-widgets/controls",
      "_view_module_version": "1.5.0",
      "_view_name": "HTMLView",
      "description": "",
      "description_tooltip": null,
      "layout": "IPY_MODEL_a67e388be3df4e2ba3f7cee7befaf4f2",
      "placeholder": "​",
      "style": "IPY_MODEL_f00c9df70fff4c5684581b348862a7c2",
      "value": "Dl Size...: 100%"
     }
    },
    "9a843627dd014381b2090b5984d95e7a": {
     "model_module": "@jupyter-widgets/base",
     "model_module_version": "1.2.0",
     "model_name": "LayoutModel",
     "state": {
      "_model_module": "@jupyter-widgets/base",
      "_model_module_version": "1.2.0",
      "_model_name": "LayoutModel",
      "_view_count": null,
      "_view_module": "@jupyter-widgets/base",
      "_view_module_version": "1.2.0",
      "_view_name": "LayoutView",
      "align_content": null,
      "align_items": null,
      "align_self": null,
      "border": null,
      "bottom": null,
      "display": null,
      "flex": null,
      "flex_flow": null,
      "grid_area": null,
      "grid_auto_columns": null,
      "grid_auto_flow": null,
      "grid_auto_rows": null,
      "grid_column": null,
      "grid_gap": null,
      "grid_row": null,
      "grid_template_areas": null,
      "grid_template_columns": null,
      "grid_template_rows": null,
      "height": null,
      "justify_content": null,
      "justify_items": null,
      "left": null,
      "margin": null,
      "max_height": null,
      "max_width": null,
      "min_height": null,
      "min_width": null,
      "object_fit": null,
      "object_position": null,
      "order": null,
      "overflow": null,
      "overflow_x": null,
      "overflow_y": null,
      "padding": null,
      "right": null,
      "top": null,
      "visibility": null,
      "width": null
     }
    },
    "9d43925a263a4af5b825560bd4e5e3e7": {
     "model_module": "@jupyter-widgets/base",
     "model_module_version": "1.2.0",
     "model_name": "LayoutModel",
     "state": {
      "_model_module": "@jupyter-widgets/base",
      "_model_module_version": "1.2.0",
      "_model_name": "LayoutModel",
      "_view_count": null,
      "_view_module": "@jupyter-widgets/base",
      "_view_module_version": "1.2.0",
      "_view_name": "LayoutView",
      "align_content": null,
      "align_items": null,
      "align_self": null,
      "border": null,
      "bottom": null,
      "display": null,
      "flex": null,
      "flex_flow": null,
      "grid_area": null,
      "grid_auto_columns": null,
      "grid_auto_flow": null,
      "grid_auto_rows": null,
      "grid_column": null,
      "grid_gap": null,
      "grid_row": null,
      "grid_template_areas": null,
      "grid_template_columns": null,
      "grid_template_rows": null,
      "height": null,
      "justify_content": null,
      "justify_items": null,
      "left": null,
      "margin": null,
      "max_height": null,
      "max_width": null,
      "min_height": null,
      "min_width": null,
      "object_fit": null,
      "object_position": null,
      "order": null,
      "overflow": null,
      "overflow_x": null,
      "overflow_y": null,
      "padding": null,
      "right": null,
      "top": null,
      "visibility": null,
      "width": null
     }
    },
    "9ded42e8b18d4524a520ea2ace374200": {
     "model_module": "@jupyter-widgets/controls",
     "model_module_version": "1.5.0",
     "model_name": "HTMLModel",
     "state": {
      "_dom_classes": [],
      "_model_module": "@jupyter-widgets/controls",
      "_model_module_version": "1.5.0",
      "_model_name": "HTMLModel",
      "_view_count": null,
      "_view_module": "@jupyter-widgets/controls",
      "_view_module_version": "1.5.0",
      "_view_name": "HTMLView",
      "description": "",
      "description_tooltip": null,
      "layout": "IPY_MODEL_2faae36e366e456d92afe35798543cb7",
      "placeholder": "​",
      "style": "IPY_MODEL_76a6b71ad4ee4150aaaabc9e6b712c70",
      "value": "Dl Completed...: 100%"
     }
    },
    "a1855030f15b45118c547442d39113ee": {
     "model_module": "@jupyter-widgets/base",
     "model_module_version": "1.2.0",
     "model_name": "LayoutModel",
     "state": {
      "_model_module": "@jupyter-widgets/base",
      "_model_module_version": "1.2.0",
      "_model_name": "LayoutModel",
      "_view_count": null,
      "_view_module": "@jupyter-widgets/base",
      "_view_module_version": "1.2.0",
      "_view_name": "LayoutView",
      "align_content": null,
      "align_items": null,
      "align_self": null,
      "border": null,
      "bottom": null,
      "display": null,
      "flex": null,
      "flex_flow": null,
      "grid_area": null,
      "grid_auto_columns": null,
      "grid_auto_flow": null,
      "grid_auto_rows": null,
      "grid_column": null,
      "grid_gap": null,
      "grid_row": null,
      "grid_template_areas": null,
      "grid_template_columns": null,
      "grid_template_rows": null,
      "height": null,
      "justify_content": null,
      "justify_items": null,
      "left": null,
      "margin": null,
      "max_height": null,
      "max_width": null,
      "min_height": null,
      "min_width": null,
      "object_fit": null,
      "object_position": null,
      "order": null,
      "overflow": null,
      "overflow_x": null,
      "overflow_y": null,
      "padding": null,
      "right": null,
      "top": null,
      "visibility": null,
      "width": null
     }
    },
    "a67e388be3df4e2ba3f7cee7befaf4f2": {
     "model_module": "@jupyter-widgets/base",
     "model_module_version": "1.2.0",
     "model_name": "LayoutModel",
     "state": {
      "_model_module": "@jupyter-widgets/base",
      "_model_module_version": "1.2.0",
      "_model_name": "LayoutModel",
      "_view_count": null,
      "_view_module": "@jupyter-widgets/base",
      "_view_module_version": "1.2.0",
      "_view_name": "LayoutView",
      "align_content": null,
      "align_items": null,
      "align_self": null,
      "border": null,
      "bottom": null,
      "display": null,
      "flex": null,
      "flex_flow": null,
      "grid_area": null,
      "grid_auto_columns": null,
      "grid_auto_flow": null,
      "grid_auto_rows": null,
      "grid_column": null,
      "grid_gap": null,
      "grid_row": null,
      "grid_template_areas": null,
      "grid_template_columns": null,
      "grid_template_rows": null,
      "height": null,
      "justify_content": null,
      "justify_items": null,
      "left": null,
      "margin": null,
      "max_height": null,
      "max_width": null,
      "min_height": null,
      "min_width": null,
      "object_fit": null,
      "object_position": null,
      "order": null,
      "overflow": null,
      "overflow_x": null,
      "overflow_y": null,
      "padding": null,
      "right": null,
      "top": null,
      "visibility": null,
      "width": null
     }
    },
    "aab4fe98f9b14ae1bf88f9cfd63bb590": {
     "model_module": "@jupyter-widgets/base",
     "model_module_version": "1.2.0",
     "model_name": "LayoutModel",
     "state": {
      "_model_module": "@jupyter-widgets/base",
      "_model_module_version": "1.2.0",
      "_model_name": "LayoutModel",
      "_view_count": null,
      "_view_module": "@jupyter-widgets/base",
      "_view_module_version": "1.2.0",
      "_view_name": "LayoutView",
      "align_content": null,
      "align_items": null,
      "align_self": null,
      "border": null,
      "bottom": null,
      "display": null,
      "flex": null,
      "flex_flow": null,
      "grid_area": null,
      "grid_auto_columns": null,
      "grid_auto_flow": null,
      "grid_auto_rows": null,
      "grid_column": null,
      "grid_gap": null,
      "grid_row": null,
      "grid_template_areas": null,
      "grid_template_columns": null,
      "grid_template_rows": null,
      "height": null,
      "justify_content": null,
      "justify_items": null,
      "left": null,
      "margin": null,
      "max_height": null,
      "max_width": null,
      "min_height": null,
      "min_width": null,
      "object_fit": null,
      "object_position": null,
      "order": null,
      "overflow": null,
      "overflow_x": null,
      "overflow_y": null,
      "padding": null,
      "right": null,
      "top": null,
      "visibility": "hidden",
      "width": null
     }
    },
    "aeaa63c90f5744dbad6aa544065d7603": {
     "model_module": "@jupyter-widgets/controls",
     "model_module_version": "1.5.0",
     "model_name": "FloatProgressModel",
     "state": {
      "_dom_classes": [],
      "_model_module": "@jupyter-widgets/controls",
      "_model_module_version": "1.5.0",
      "_model_name": "FloatProgressModel",
      "_view_count": null,
      "_view_module": "@jupyter-widgets/controls",
      "_view_module_version": "1.5.0",
      "_view_name": "ProgressView",
      "bar_style": "",
      "description": "",
      "description_tooltip": null,
      "layout": "IPY_MODEL_9d43925a263a4af5b825560bd4e5e3e7",
      "max": 50000,
      "min": 0,
      "orientation": "horizontal",
      "style": "IPY_MODEL_00d8261d5c80434192df127144753b52",
      "value": 50000
     }
    },
    "b1352c53c4a54e9aab4be0fb3bbb236f": {
     "model_module": "@jupyter-widgets/base",
     "model_module_version": "1.2.0",
     "model_name": "LayoutModel",
     "state": {
      "_model_module": "@jupyter-widgets/base",
      "_model_module_version": "1.2.0",
      "_model_name": "LayoutModel",
      "_view_count": null,
      "_view_module": "@jupyter-widgets/base",
      "_view_module_version": "1.2.0",
      "_view_name": "LayoutView",
      "align_content": null,
      "align_items": null,
      "align_self": null,
      "border": null,
      "bottom": null,
      "display": null,
      "flex": null,
      "flex_flow": null,
      "grid_area": null,
      "grid_auto_columns": null,
      "grid_auto_flow": null,
      "grid_auto_rows": null,
      "grid_column": null,
      "grid_gap": null,
      "grid_row": null,
      "grid_template_areas": null,
      "grid_template_columns": null,
      "grid_template_rows": null,
      "height": null,
      "justify_content": null,
      "justify_items": null,
      "left": null,
      "margin": null,
      "max_height": null,
      "max_width": null,
      "min_height": null,
      "min_width": null,
      "object_fit": null,
      "object_position": null,
      "order": null,
      "overflow": null,
      "overflow_x": null,
      "overflow_y": null,
      "padding": null,
      "right": null,
      "top": null,
      "visibility": null,
      "width": "20px"
     }
    },
    "b3aecd710c3e4dc89a3dd5f37f184977": {
     "model_module": "@jupyter-widgets/controls",
     "model_module_version": "1.5.0",
     "model_name": "HTMLModel",
     "state": {
      "_dom_classes": [],
      "_model_module": "@jupyter-widgets/controls",
      "_model_module_version": "1.5.0",
      "_model_name": "HTMLModel",
      "_view_count": null,
      "_view_module": "@jupyter-widgets/controls",
      "_view_module_version": "1.5.0",
      "_view_name": "HTMLView",
      "description": "",
      "description_tooltip": null,
      "layout": "IPY_MODEL_8a216114a6b24de09e0655cbd60bbc94",
      "placeholder": "​",
      "style": "IPY_MODEL_54b3ea1a113547a4b8adc8ebceb5c582",
      "value": "Extraction completed...: 100%"
     }
    },
    "b719b6a87edc4b608afdd8f388a8026f": {
     "model_module": "@jupyter-widgets/controls",
     "model_module_version": "1.5.0",
     "model_name": "HBoxModel",
     "state": {
      "_dom_classes": [],
      "_model_module": "@jupyter-widgets/controls",
      "_model_module_version": "1.5.0",
      "_model_name": "HBoxModel",
      "_view_count": null,
      "_view_module": "@jupyter-widgets/controls",
      "_view_module_version": "1.5.0",
      "_view_name": "HBoxView",
      "box_style": "",
      "children": [
       "IPY_MODEL_99c4c3beace84c4991c2b8ce52a154f3",
       "IPY_MODEL_3cf8401b737b46f6b0aa77c437ceea99",
       "IPY_MODEL_7892199b64b84a5da13f373abd7ed9d2"
      ],
      "layout": "IPY_MODEL_052e68577cd841bf8518fdbf0402ea4b"
     }
    },
    "bde9c4cb701447ba9266b130c37afc88": {
     "model_module": "@jupyter-widgets/controls",
     "model_module_version": "1.5.0",
     "model_name": "ProgressStyleModel",
     "state": {
      "_model_module": "@jupyter-widgets/controls",
      "_model_module_version": "1.5.0",
      "_model_name": "ProgressStyleModel",
      "_view_count": null,
      "_view_module": "@jupyter-widgets/base",
      "_view_module_version": "1.2.0",
      "_view_name": "StyleView",
      "bar_color": null,
      "description_width": ""
     }
    },
    "c0471bca5e484ca1985deeced1a89562": {
     "model_module": "@jupyter-widgets/controls",
     "model_module_version": "1.5.0",
     "model_name": "HTMLModel",
     "state": {
      "_dom_classes": [],
      "_model_module": "@jupyter-widgets/controls",
      "_model_module_version": "1.5.0",
      "_model_name": "HTMLModel",
      "_view_count": null,
      "_view_module": "@jupyter-widgets/controls",
      "_view_module_version": "1.5.0",
      "_view_name": "HTMLView",
      "description": "",
      "description_tooltip": null,
      "layout": "IPY_MODEL_9356da1d6e8e48e2b45a4a90a57c711d",
      "placeholder": "​",
      "style": "IPY_MODEL_30f628bfe5fe4bda8e6523228af50b80",
      "value": "Generating splits...: 100%"
     }
    },
    "c32703b664a141bc979ec178756fc266": {
     "model_module": "@jupyter-widgets/controls",
     "model_module_version": "1.5.0",
     "model_name": "HTMLModel",
     "state": {
      "_dom_classes": [],
      "_model_module": "@jupyter-widgets/controls",
      "_model_module_version": "1.5.0",
      "_model_name": "HTMLModel",
      "_view_count": null,
      "_view_module": "@jupyter-widgets/controls",
      "_view_module_version": "1.5.0",
      "_view_name": "HTMLView",
      "description": "",
      "description_tooltip": null,
      "layout": "IPY_MODEL_f934ef7e15f245aca9317e048d931082",
      "placeholder": "​",
      "style": "IPY_MODEL_17f7b19a01104262a216fbe11b24bc5a",
      "value": " 49218/50000 [00:41&lt;00:00, 1210.17 examples/s]"
     }
    },
    "cd419973ac8042a882c64ab34af79cef": {
     "model_module": "@jupyter-widgets/controls",
     "model_module_version": "1.5.0",
     "model_name": "DescriptionStyleModel",
     "state": {
      "_model_module": "@jupyter-widgets/controls",
      "_model_module_version": "1.5.0",
      "_model_name": "DescriptionStyleModel",
      "_view_count": null,
      "_view_module": "@jupyter-widgets/base",
      "_view_module_version": "1.2.0",
      "_view_name": "StyleView",
      "description_width": ""
     }
    },
    "d0a48527235046769a8366ff3033ac05": {
     "model_module": "@jupyter-widgets/controls",
     "model_module_version": "1.5.0",
     "model_name": "DescriptionStyleModel",
     "state": {
      "_model_module": "@jupyter-widgets/controls",
      "_model_module_version": "1.5.0",
      "_model_name": "DescriptionStyleModel",
      "_view_count": null,
      "_view_module": "@jupyter-widgets/base",
      "_view_module_version": "1.2.0",
      "_view_name": "StyleView",
      "description_width": ""
     }
    },
    "d118c28f3826425da8a8bdf42f89048a": {
     "model_module": "@jupyter-widgets/controls",
     "model_module_version": "1.5.0",
     "model_name": "FloatProgressModel",
     "state": {
      "_dom_classes": [],
      "_model_module": "@jupyter-widgets/controls",
      "_model_module_version": "1.5.0",
      "_model_name": "FloatProgressModel",
      "_view_count": null,
      "_view_module": "@jupyter-widgets/controls",
      "_view_module_version": "1.5.0",
      "_view_name": "ProgressView",
      "bar_style": "",
      "description": "",
      "description_tooltip": null,
      "layout": "IPY_MODEL_e8b093f4a2ce493eb7fa827aa1fbb109",
      "max": 10000,
      "min": 0,
      "orientation": "horizontal",
      "style": "IPY_MODEL_7818b02dd2d04afca9cd60d31200b983",
      "value": 10000
     }
    },
    "d3a87325564346e99f3f81e8502c7e70": {
     "model_module": "@jupyter-widgets/controls",
     "model_module_version": "1.5.0",
     "model_name": "ProgressStyleModel",
     "state": {
      "_model_module": "@jupyter-widgets/controls",
      "_model_module_version": "1.5.0",
      "_model_name": "ProgressStyleModel",
      "_view_count": null,
      "_view_module": "@jupyter-widgets/base",
      "_view_module_version": "1.2.0",
      "_view_name": "StyleView",
      "bar_color": null,
      "description_width": ""
     }
    },
    "de02a245d088490bb5b1753e913f2892": {
     "model_module": "@jupyter-widgets/controls",
     "model_module_version": "1.5.0",
     "model_name": "DescriptionStyleModel",
     "state": {
      "_model_module": "@jupyter-widgets/controls",
      "_model_module_version": "1.5.0",
      "_model_name": "DescriptionStyleModel",
      "_view_count": null,
      "_view_module": "@jupyter-widgets/base",
      "_view_module_version": "1.2.0",
      "_view_name": "StyleView",
      "description_width": ""
     }
    },
    "de3681a08d234e3d8b679ea2da31a160": {
     "model_module": "@jupyter-widgets/base",
     "model_module_version": "1.2.0",
     "model_name": "LayoutModel",
     "state": {
      "_model_module": "@jupyter-widgets/base",
      "_model_module_version": "1.2.0",
      "_model_name": "LayoutModel",
      "_view_count": null,
      "_view_module": "@jupyter-widgets/base",
      "_view_module_version": "1.2.0",
      "_view_name": "LayoutView",
      "align_content": null,
      "align_items": null,
      "align_self": null,
      "border": null,
      "bottom": null,
      "display": null,
      "flex": null,
      "flex_flow": null,
      "grid_area": null,
      "grid_auto_columns": null,
      "grid_auto_flow": null,
      "grid_auto_rows": null,
      "grid_column": null,
      "grid_gap": null,
      "grid_row": null,
      "grid_template_areas": null,
      "grid_template_columns": null,
      "grid_template_rows": null,
      "height": null,
      "justify_content": null,
      "justify_items": null,
      "left": null,
      "margin": null,
      "max_height": null,
      "max_width": null,
      "min_height": null,
      "min_width": null,
      "object_fit": null,
      "object_position": null,
      "order": null,
      "overflow": null,
      "overflow_x": null,
      "overflow_y": null,
      "padding": null,
      "right": null,
      "top": null,
      "visibility": null,
      "width": null
     }
    },
    "de95d86aa37b467aacd47ac78bbc3776": {
     "model_module": "@jupyter-widgets/controls",
     "model_module_version": "1.5.0",
     "model_name": "HTMLModel",
     "state": {
      "_dom_classes": [],
      "_model_module": "@jupyter-widgets/controls",
      "_model_module_version": "1.5.0",
      "_model_name": "HTMLModel",
      "_view_count": null,
      "_view_module": "@jupyter-widgets/controls",
      "_view_module_version": "1.5.0",
      "_view_name": "HTMLView",
      "description": "",
      "description_tooltip": null,
      "layout": "IPY_MODEL_77e13f3e386344068151dd509dda34f7",
      "placeholder": "​",
      "style": "IPY_MODEL_5287a5bdcb5843a79108e99c40b34533",
      "value": "Shuffling /root/tensorflow_datasets/cifar10/incomplete.Q8583A_3.0.2/cifar10-train.tfrecord*...:   0%"
     }
    },
    "e1eb5b711bc24b02b6d7d13228a86319": {
     "model_module": "@jupyter-widgets/controls",
     "model_module_version": "1.5.0",
     "model_name": "HTMLModel",
     "state": {
      "_dom_classes": [],
      "_model_module": "@jupyter-widgets/controls",
      "_model_module_version": "1.5.0",
      "_model_name": "HTMLModel",
      "_view_count": null,
      "_view_module": "@jupyter-widgets/controls",
      "_view_module_version": "1.5.0",
      "_view_name": "HTMLView",
      "description": "",
      "description_tooltip": null,
      "layout": "IPY_MODEL_90b61ddb7e5940e9891c2d6a6ac03f84",
      "placeholder": "​",
      "style": "IPY_MODEL_357d918deaca448599f852141f88043c",
      "value": " 2/2 [00:50&lt;00:00, 22.51s/ splits]"
     }
    },
    "e581a19d24b44b2daaddac3659274fa0": {
     "model_module": "@jupyter-widgets/controls",
     "model_module_version": "1.5.0",
     "model_name": "ProgressStyleModel",
     "state": {
      "_model_module": "@jupyter-widgets/controls",
      "_model_module_version": "1.5.0",
      "_model_name": "ProgressStyleModel",
      "_view_count": null,
      "_view_module": "@jupyter-widgets/base",
      "_view_module_version": "1.2.0",
      "_view_name": "StyleView",
      "bar_color": null,
      "description_width": ""
     }
    },
    "e8b093f4a2ce493eb7fa827aa1fbb109": {
     "model_module": "@jupyter-widgets/base",
     "model_module_version": "1.2.0",
     "model_name": "LayoutModel",
     "state": {
      "_model_module": "@jupyter-widgets/base",
      "_model_module_version": "1.2.0",
      "_model_name": "LayoutModel",
      "_view_count": null,
      "_view_module": "@jupyter-widgets/base",
      "_view_module_version": "1.2.0",
      "_view_name": "LayoutView",
      "align_content": null,
      "align_items": null,
      "align_self": null,
      "border": null,
      "bottom": null,
      "display": null,
      "flex": null,
      "flex_flow": null,
      "grid_area": null,
      "grid_auto_columns": null,
      "grid_auto_flow": null,
      "grid_auto_rows": null,
      "grid_column": null,
      "grid_gap": null,
      "grid_row": null,
      "grid_template_areas": null,
      "grid_template_columns": null,
      "grid_template_rows": null,
      "height": null,
      "justify_content": null,
      "justify_items": null,
      "left": null,
      "margin": null,
      "max_height": null,
      "max_width": null,
      "min_height": null,
      "min_width": null,
      "object_fit": null,
      "object_position": null,
      "order": null,
      "overflow": null,
      "overflow_x": null,
      "overflow_y": null,
      "padding": null,
      "right": null,
      "top": null,
      "visibility": null,
      "width": null
     }
    },
    "e9644fe6c0204fcfab71b96779df6051": {
     "model_module": "@jupyter-widgets/controls",
     "model_module_version": "1.5.0",
     "model_name": "HTMLModel",
     "state": {
      "_dom_classes": [],
      "_model_module": "@jupyter-widgets/controls",
      "_model_module_version": "1.5.0",
      "_model_name": "HTMLModel",
      "_view_count": null,
      "_view_module": "@jupyter-widgets/controls",
      "_view_module_version": "1.5.0",
      "_view_name": "HTMLView",
      "description": "",
      "description_tooltip": null,
      "layout": "IPY_MODEL_62d456210d9045e0a7879b89ccc02331",
      "placeholder": "​",
      "style": "IPY_MODEL_e9e5300536b9491288d7b7f33a792d0f",
      "value": " 8/8 [00:07&lt;00:00,  7.94s/ file]"
     }
    },
    "e9e5300536b9491288d7b7f33a792d0f": {
     "model_module": "@jupyter-widgets/controls",
     "model_module_version": "1.5.0",
     "model_name": "DescriptionStyleModel",
     "state": {
      "_model_module": "@jupyter-widgets/controls",
      "_model_module_version": "1.5.0",
      "_model_name": "DescriptionStyleModel",
      "_view_count": null,
      "_view_module": "@jupyter-widgets/base",
      "_view_module_version": "1.2.0",
      "_view_name": "StyleView",
      "description_width": ""
     }
    },
    "eac6b8ff167c42d8b18ffe46feef1a23": {
     "model_module": "@jupyter-widgets/base",
     "model_module_version": "1.2.0",
     "model_name": "LayoutModel",
     "state": {
      "_model_module": "@jupyter-widgets/base",
      "_model_module_version": "1.2.0",
      "_model_name": "LayoutModel",
      "_view_count": null,
      "_view_module": "@jupyter-widgets/base",
      "_view_module_version": "1.2.0",
      "_view_name": "LayoutView",
      "align_content": null,
      "align_items": null,
      "align_self": null,
      "border": null,
      "bottom": null,
      "display": null,
      "flex": null,
      "flex_flow": null,
      "grid_area": null,
      "grid_auto_columns": null,
      "grid_auto_flow": null,
      "grid_auto_rows": null,
      "grid_column": null,
      "grid_gap": null,
      "grid_row": null,
      "grid_template_areas": null,
      "grid_template_columns": null,
      "grid_template_rows": null,
      "height": null,
      "justify_content": null,
      "justify_items": null,
      "left": null,
      "margin": null,
      "max_height": null,
      "max_width": null,
      "min_height": null,
      "min_width": null,
      "object_fit": null,
      "object_position": null,
      "order": null,
      "overflow": null,
      "overflow_x": null,
      "overflow_y": null,
      "padding": null,
      "right": null,
      "top": null,
      "visibility": null,
      "width": null
     }
    },
    "eeb49691222e41039abea00af1eeccd2": {
     "model_module": "@jupyter-widgets/base",
     "model_module_version": "1.2.0",
     "model_name": "LayoutModel",
     "state": {
      "_model_module": "@jupyter-widgets/base",
      "_model_module_version": "1.2.0",
      "_model_name": "LayoutModel",
      "_view_count": null,
      "_view_module": "@jupyter-widgets/base",
      "_view_module_version": "1.2.0",
      "_view_name": "LayoutView",
      "align_content": null,
      "align_items": null,
      "align_self": null,
      "border": null,
      "bottom": null,
      "display": null,
      "flex": null,
      "flex_flow": null,
      "grid_area": null,
      "grid_auto_columns": null,
      "grid_auto_flow": null,
      "grid_auto_rows": null,
      "grid_column": null,
      "grid_gap": null,
      "grid_row": null,
      "grid_template_areas": null,
      "grid_template_columns": null,
      "grid_template_rows": null,
      "height": null,
      "justify_content": null,
      "justify_items": null,
      "left": null,
      "margin": null,
      "max_height": null,
      "max_width": null,
      "min_height": null,
      "min_width": null,
      "object_fit": null,
      "object_position": null,
      "order": null,
      "overflow": null,
      "overflow_x": null,
      "overflow_y": null,
      "padding": null,
      "right": null,
      "top": null,
      "visibility": null,
      "width": null
     }
    },
    "eecb3d7a1da749d8b9cba3e0cee2af0f": {
     "model_module": "@jupyter-widgets/base",
     "model_module_version": "1.2.0",
     "model_name": "LayoutModel",
     "state": {
      "_model_module": "@jupyter-widgets/base",
      "_model_module_version": "1.2.0",
      "_model_name": "LayoutModel",
      "_view_count": null,
      "_view_module": "@jupyter-widgets/base",
      "_view_module_version": "1.2.0",
      "_view_name": "LayoutView",
      "align_content": null,
      "align_items": null,
      "align_self": null,
      "border": null,
      "bottom": null,
      "display": null,
      "flex": null,
      "flex_flow": null,
      "grid_area": null,
      "grid_auto_columns": null,
      "grid_auto_flow": null,
      "grid_auto_rows": null,
      "grid_column": null,
      "grid_gap": null,
      "grid_row": null,
      "grid_template_areas": null,
      "grid_template_columns": null,
      "grid_template_rows": null,
      "height": null,
      "justify_content": null,
      "justify_items": null,
      "left": null,
      "margin": null,
      "max_height": null,
      "max_width": null,
      "min_height": null,
      "min_width": null,
      "object_fit": null,
      "object_position": null,
      "order": null,
      "overflow": null,
      "overflow_x": null,
      "overflow_y": null,
      "padding": null,
      "right": null,
      "top": null,
      "visibility": null,
      "width": null
     }
    },
    "f00c9df70fff4c5684581b348862a7c2": {
     "model_module": "@jupyter-widgets/controls",
     "model_module_version": "1.5.0",
     "model_name": "DescriptionStyleModel",
     "state": {
      "_model_module": "@jupyter-widgets/controls",
      "_model_module_version": "1.5.0",
      "_model_name": "DescriptionStyleModel",
      "_view_count": null,
      "_view_module": "@jupyter-widgets/base",
      "_view_module_version": "1.2.0",
      "_view_name": "StyleView",
      "description_width": ""
     }
    },
    "f00cb60542374fe1aa2dde1f2eb81749": {
     "model_module": "@jupyter-widgets/controls",
     "model_module_version": "1.5.0",
     "model_name": "HBoxModel",
     "state": {
      "_dom_classes": [],
      "_model_module": "@jupyter-widgets/controls",
      "_model_module_version": "1.5.0",
      "_model_name": "HBoxModel",
      "_view_count": null,
      "_view_module": "@jupyter-widgets/controls",
      "_view_module_version": "1.5.0",
      "_view_name": "HBoxView",
      "box_style": "",
      "children": [
       "IPY_MODEL_010c2859759a4f779759b644afa91d1b",
       "IPY_MODEL_8753d8bd0b7a429da8cc82ac4cbe78e4",
       "IPY_MODEL_420c14391cc74ea19ea7fad18aa67bf2"
      ],
      "layout": "IPY_MODEL_5a212117a7e5440c95de1f64793597cb"
     }
    },
    "f0d1752d36f34d56b9a947c3f2eb4977": {
     "model_module": "@jupyter-widgets/base",
     "model_module_version": "1.2.0",
     "model_name": "LayoutModel",
     "state": {
      "_model_module": "@jupyter-widgets/base",
      "_model_module_version": "1.2.0",
      "_model_name": "LayoutModel",
      "_view_count": null,
      "_view_module": "@jupyter-widgets/base",
      "_view_module_version": "1.2.0",
      "_view_name": "LayoutView",
      "align_content": null,
      "align_items": null,
      "align_self": null,
      "border": null,
      "bottom": null,
      "display": null,
      "flex": null,
      "flex_flow": null,
      "grid_area": null,
      "grid_auto_columns": null,
      "grid_auto_flow": null,
      "grid_auto_rows": null,
      "grid_column": null,
      "grid_gap": null,
      "grid_row": null,
      "grid_template_areas": null,
      "grid_template_columns": null,
      "grid_template_rows": null,
      "height": null,
      "justify_content": null,
      "justify_items": null,
      "left": null,
      "margin": null,
      "max_height": null,
      "max_width": null,
      "min_height": null,
      "min_width": null,
      "object_fit": null,
      "object_position": null,
      "order": null,
      "overflow": null,
      "overflow_x": null,
      "overflow_y": null,
      "padding": null,
      "right": null,
      "top": null,
      "visibility": null,
      "width": null
     }
    },
    "f33bf35daa304f1498f826af56d9d1f1": {
     "model_module": "@jupyter-widgets/controls",
     "model_module_version": "1.5.0",
     "model_name": "ProgressStyleModel",
     "state": {
      "_model_module": "@jupyter-widgets/controls",
      "_model_module_version": "1.5.0",
      "_model_name": "ProgressStyleModel",
      "_view_count": null,
      "_view_module": "@jupyter-widgets/base",
      "_view_module_version": "1.2.0",
      "_view_name": "StyleView",
      "bar_color": null,
      "description_width": ""
     }
    },
    "f49948a8927a437ba8e31e6f6b4db785": {
     "model_module": "@jupyter-widgets/controls",
     "model_module_version": "1.5.0",
     "model_name": "DescriptionStyleModel",
     "state": {
      "_model_module": "@jupyter-widgets/controls",
      "_model_module_version": "1.5.0",
      "_model_name": "DescriptionStyleModel",
      "_view_count": null,
      "_view_module": "@jupyter-widgets/base",
      "_view_module_version": "1.2.0",
      "_view_name": "StyleView",
      "description_width": ""
     }
    },
    "f5e33b46363f44c4a5967d620b9df349": {
     "model_module": "@jupyter-widgets/base",
     "model_module_version": "1.2.0",
     "model_name": "LayoutModel",
     "state": {
      "_model_module": "@jupyter-widgets/base",
      "_model_module_version": "1.2.0",
      "_model_name": "LayoutModel",
      "_view_count": null,
      "_view_module": "@jupyter-widgets/base",
      "_view_module_version": "1.2.0",
      "_view_name": "LayoutView",
      "align_content": null,
      "align_items": null,
      "align_self": null,
      "border": null,
      "bottom": null,
      "display": null,
      "flex": null,
      "flex_flow": null,
      "grid_area": null,
      "grid_auto_columns": null,
      "grid_auto_flow": null,
      "grid_auto_rows": null,
      "grid_column": null,
      "grid_gap": null,
      "grid_row": null,
      "grid_template_areas": null,
      "grid_template_columns": null,
      "grid_template_rows": null,
      "height": null,
      "justify_content": null,
      "justify_items": null,
      "left": null,
      "margin": null,
      "max_height": null,
      "max_width": null,
      "min_height": null,
      "min_width": null,
      "object_fit": null,
      "object_position": null,
      "order": null,
      "overflow": null,
      "overflow_x": null,
      "overflow_y": null,
      "padding": null,
      "right": null,
      "top": null,
      "visibility": "hidden",
      "width": null
     }
    },
    "f6b675f9be26413882266905c6c94011": {
     "model_module": "@jupyter-widgets/controls",
     "model_module_version": "1.5.0",
     "model_name": "HTMLModel",
     "state": {
      "_dom_classes": [],
      "_model_module": "@jupyter-widgets/controls",
      "_model_module_version": "1.5.0",
      "_model_name": "HTMLModel",
      "_view_count": null,
      "_view_module": "@jupyter-widgets/controls",
      "_view_module_version": "1.5.0",
      "_view_name": "HTMLView",
      "description": "",
      "description_tooltip": null,
      "layout": "IPY_MODEL_35d00eef6ac64d1fa73d4d8d276fb20b",
      "placeholder": "​",
      "style": "IPY_MODEL_f49948a8927a437ba8e31e6f6b4db785",
      "value": " 1/1 [00:08&lt;00:00,  6.10s/ url]"
     }
    },
    "f934ef7e15f245aca9317e048d931082": {
     "model_module": "@jupyter-widgets/base",
     "model_module_version": "1.2.0",
     "model_name": "LayoutModel",
     "state": {
      "_model_module": "@jupyter-widgets/base",
      "_model_module_version": "1.2.0",
      "_model_name": "LayoutModel",
      "_view_count": null,
      "_view_module": "@jupyter-widgets/base",
      "_view_module_version": "1.2.0",
      "_view_name": "LayoutView",
      "align_content": null,
      "align_items": null,
      "align_self": null,
      "border": null,
      "bottom": null,
      "display": null,
      "flex": null,
      "flex_flow": null,
      "grid_area": null,
      "grid_auto_columns": null,
      "grid_auto_flow": null,
      "grid_auto_rows": null,
      "grid_column": null,
      "grid_gap": null,
      "grid_row": null,
      "grid_template_areas": null,
      "grid_template_columns": null,
      "grid_template_rows": null,
      "height": null,
      "justify_content": null,
      "justify_items": null,
      "left": null,
      "margin": null,
      "max_height": null,
      "max_width": null,
      "min_height": null,
      "min_width": null,
      "object_fit": null,
      "object_position": null,
      "order": null,
      "overflow": null,
      "overflow_x": null,
      "overflow_y": null,
      "padding": null,
      "right": null,
      "top": null,
      "visibility": null,
      "width": null
     }
    },
    "fd68214fc6364e79b63104b9747843ee": {
     "model_module": "@jupyter-widgets/controls",
     "model_module_version": "1.5.0",
     "model_name": "HTMLModel",
     "state": {
      "_dom_classes": [],
      "_model_module": "@jupyter-widgets/controls",
      "_model_module_version": "1.5.0",
      "_model_name": "HTMLModel",
      "_view_count": null,
      "_view_module": "@jupyter-widgets/controls",
      "_view_module_version": "1.5.0",
      "_view_name": "HTMLView",
      "description": "",
      "description_tooltip": null,
      "layout": "IPY_MODEL_9a843627dd014381b2090b5984d95e7a",
      "placeholder": "​",
      "style": "IPY_MODEL_cd419973ac8042a882c64ab34af79cef",
      "value": " 0/10000 [00:00&lt;?, ? examples/s]"
     }
    }
   }
  }
 },
 "nbformat": 4,
 "nbformat_minor": 0
}
