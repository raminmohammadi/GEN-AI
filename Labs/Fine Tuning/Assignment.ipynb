{
 "cells": [
  {
   "cell_type": "markdown",
   "metadata": {},
   "source": [
    "# Fine Tuning Assignment (Graded): Customer Service Response Generator using Few-Shot Learning"
   ]
  },
  {
   "cell_type": "markdown",
   "metadata": {},
   "source": [
    "Welcome to your programming assignment on prompting! You will build a comprehensive Customer Service Response Generator."
   ]
  },
  {
   "cell_type": "markdown",
   "metadata": {},
   "source": [
    "## Problem Description"
   ]
  },
  {
   "cell_type": "markdown",
   "metadata": {},
   "source": [
    "- Customer service teams often need to maintain consistency in their responses while personalizing them for each customer. \n",
    "\n",
    "- In this assignment, you will build a system that learns from examples of high-quality customer service interactions to generate appropriate responses for new customer inquiries."
   ]
  },
  {
   "cell_type": "markdown",
   "metadata": {},
   "source": [
    "## Assignment Tasks"
   ]
  },
  {
   "cell_type": "markdown",
   "metadata": {},
   "source": [
    "**1. Class Setup and API Integration**\n",
    "- Implement the `CustomerServiceBot` class constructor with OpenAI client integration\n",
    "\n",
    "\n",
    "**2. Basic Prompting Implementation**\n",
    "- Implement `generate_response` method with error handling to fetch response from OpenAI API\n",
    "\n",
    "\n",
    "**3. Content Generation Methods**\n",
    "- Implement `_create_prompt`.\n",
    "\n",
    "\n",
    "**4. Few-Shot Learning Implementation**"
   ]
  },
  {
   "cell_type": "markdown",
   "metadata": {},
   "source": [
    "## Instructions"
   ]
  },
  {
   "cell_type": "markdown",
   "metadata": {},
   "source": [
    "- Only write code when you see any of the below prompts,\n",
    "\n",
    "    ```\n",
    "    # YOUR CODE GOES HERE\n",
    "    # YOUR CODE ENDS HERE\n",
    "    # TODO\n",
    "    ```\n",
    "\n",
    "- Do not modify any other section of the code unless tated otherwise in the comments."
   ]
  },
  {
   "cell_type": "markdown",
   "metadata": {},
   "source": [
    "# Code Section"
   ]
  },
  {
   "cell_type": "code",
   "execution_count": 1,
   "metadata": {},
   "outputs": [],
   "source": [
    "from openai import OpenAI\n",
    "from typing import List, Dict, Optional\n",
    "import os\n",
    "import json\n",
    "import logging\n",
    "from pathlib import Path\n",
    "from tests.test_methods import TestAICustomerServiceBot, print_test_results"
   ]
  },
  {
   "cell_type": "markdown",
   "metadata": {},
   "source": [
    "## Task: Fill in your OpenAI API Key Below"
   ]
  },
  {
   "cell_type": "code",
   "execution_count": 2,
   "metadata": {},
   "outputs": [],
   "source": [
    "# Load environment variables\n",
    "os.environ[\"OPENAI_API_KEY\"] = \"FILL_IN_YOUR_API_KEY\""
   ]
  },
  {
   "cell_type": "code",
   "execution_count": 3,
   "metadata": {},
   "outputs": [],
   "source": [
    "# Configure logging\n",
    "logging.basicConfig(level=logging.INFO)\n",
    "logger = logging.getLogger(__name__)"
   ]
  },
  {
   "cell_type": "markdown",
   "metadata": {},
   "source": [
    "## Task: Implement the CustomerServiceBot Class"
   ]
  },
  {
   "cell_type": "markdown",
   "metadata": {},
   "source": [
    "**Task Hints:**\n",
    "\n",
    "- Implement the `__init__` method to initialize the bot fundamentals and configuration. You'll need to set up the OpenAI API client and prepare your working environment. \n",
    "\n",
    "- Implement the `load_examples` method to manage your example database. This method serves as the foundation for few-shot learning, so carefully consider how to organize and retrieve relevant examples.\n",
    "\n",
    "- Implement the `_create_prompt` method to generate effective prompts for the AI. \n",
    "\n",
    "- Implement the `generate_response` method as your main interface for getting AI responses. "
   ]
  },
  {
   "cell_type": "code",
   "execution_count": 4,
   "metadata": {},
   "outputs": [],
   "source": [
    "class CustomerServiceBot:\n",
    "    \"\"\"\n",
    "    A customer service bot that uses few-shot learning to generate\n",
    "    appropriate responses to customer inquiries.\n",
    "    \"\"\"\n",
    "    \n",
    "    def __init__(self, api_key: str):\n",
    "        \"\"\"\n",
    "        Initialize the customer service bot with OpenAI credentials\n",
    "        \n",
    "        Args:\n",
    "            api_key: OpenAI API key\n",
    "        \"\"\"\n",
    "        # TODO: Initialize OpenAI client\n",
    "        self.client = \n",
    "        \n",
    "        # Define standard tones and their characteristics\n",
    "        # TODO: Update with a couple of more tones and descriptions\n",
    "        self.valid_tones = {\n",
    "            \"professional\": \"formal and business-like\",\n",
    "            \"friendly\": \"warm and conversational\",\n",
    "            \"formal\": \"highly polite and structured\",\n",
    "            \"empathetic\": \"understanding and compassionate\"\n",
    "        }\n",
    "        \n",
    "        # Load example database\n",
    "        self.example_database = self._initialize_example_database()\n",
    "\n",
    "    # TODO: Add 1 or 2 more categories and examples\n",
    "    def _initialize_example_database(self) -> Dict[str, List[Dict]]:\n",
    "        \"\"\"Initialize the example database with predefined examples\"\"\"\n",
    "        return {\n",
    "            \"refund\": [\n",
    "                {\n",
    "                    \"customer\": \"My product arrived damaged and I want a refund.\",\n",
    "                    \"response\": \"I sincerely apologize for the damaged product. I understand this is frustrating. I'll be happy to help process your refund right away. Could you please provide your order number and a photo of the damage? Once received, we'll process your refund within 2-3 business days.\",\n",
    "                    \"tone\": \"empathetic\"\n",
    "                },\n",
    "                {\n",
    "                    \"customer\": \"I want to return my purchase for a refund.\",\n",
    "                    \"response\": \"I'll assist you with your refund request. Please provide your order number and the reason for the return. Our refund policy allows returns within 30 days of purchase, and I'll guide you through the process step by step.\",\n",
    "                    \"tone\": \"professional\"\n",
    "                }\n",
    "            ],\n",
    "            \"technical_support\": [\n",
    "                {\n",
    "                    \"customer\": \"The app keeps crashing on my phone.\",\n",
    "                    \"response\": \"I understand how frustrating app crashes can be. Let's solve this together. First, could you tell me your phone model and operating system version? Also, have you tried these quick fixes:\\n1. Force-stopping the app\\n2. Clearing the app cache\\n3. Restarting your phone\",\n",
    "                    \"tone\": \"friendly\"\n",
    "                },\n",
    "                {\n",
    "                    \"customer\": \"I can't log into my account.\",\n",
    "                    \"response\": \"Thank you for reporting this login issue. To assist you effectively, please confirm:\\n1. Are you receiving any specific error messages?\\n2. Have you tried resetting your password?\\n3. Are you using the correct email address for login?\\nThis information will help me provide the most appropriate solution.\",\n",
    "                    \"tone\": \"professional\"\n",
    "                }\n",
    "            ],\n",
    "            \"general_inquiry\": [\n",
    "                {\n",
    "                    \"customer\": \"What are your business hours?\",\n",
    "                    \"response\": \"Our customer service team is available Monday through Friday, 9:00 AM to 6:00 PM EST. For urgent matters outside these hours, you can use our 24/7 automated support system on our website or leave a message, and we'll respond on the next business day.\",\n",
    "                    \"tone\": \"professional\"\n",
    "                },\n",
    "                {\n",
    "                    \"customer\": \"Do you ship internationally?\",\n",
    "                    \"response\": \"Yes, we're happy to serve our customers worldwide! We ship to most countries through our trusted shipping partners. Shipping costs and delivery times vary by location. Would you like me to check the specific details for your country?\",\n",
    "                    \"tone\": \"friendly\"\n",
    "                }\n",
    "            ]\n",
    "        }\n",
    "\n",
    "    def load_examples(self, category: str) -> List[Dict]:\n",
    "        \"\"\"\n",
    "        Load relevant examples for the given category\n",
    "        \n",
    "        Args:\n",
    "            category: The type of customer service interaction\n",
    "            \n",
    "        Returns:\n",
    "            List of example interactions\n",
    "            \n",
    "        Raises:\n",
    "            ValueError: If category is invalid\n",
    "        \"\"\"\n",
    "        if category not in self.example_database:\n",
    "            raise ValueError(f\"Invalid category. Must be one of: {list(self.example_database.keys())}\")\n",
    "            \n",
    "        return self.example_database[category]\n",
    "\n",
    "    def _create_prompt(self,\n",
    "                      customer_message: str,\n",
    "                      category: str,\n",
    "                      tone: str,\n",
    "                      examples: List[Dict]) -> str:\n",
    "        \"\"\"\n",
    "        Create prompt with examples and specific instructions\n",
    "        \"\"\"\n",
    "        # TODO: Create the prompt with more detailed instructions\n",
    "        # TODO: Add examples to the prompt to enable few-shot learning\n",
    "        \n",
    "        # Start with tone instruction\n",
    "        prompt = \n",
    "        return prompt\n",
    "\n",
    "    def generate_response(self,\n",
    "                         customer_message: str,\n",
    "                         category: str,\n",
    "                         tone: str = \"professional\",\n",
    "                         examples: Optional[List[Dict]] = None) -> str:\n",
    "        \"\"\"\n",
    "        Generate a response based on customer message and examples\n",
    "        \"\"\"\n",
    "        # TODO: Validate inputs: customer_message, category, tone\n",
    "        \n",
    "            \n",
    "        # Get examples if not provided\n",
    "        if examples is None:\n",
    "            examples = self.load_examples(category)\n",
    "            \n",
    "        if not examples:\n",
    "            raise ValueError(f\"No examples available for category: {category}\")\n",
    "        \n",
    "        # Select the most relevant examples for the tone\n",
    "        tone_matched_examples = [ex for ex in examples if ex.get('tone') == tone]\n",
    "        if tone_matched_examples:\n",
    "            examples = tone_matched_examples[:2]  # Use up to 2 tone-matched examples\n",
    "        else:\n",
    "            examples = examples[:2]  # Use first 2 examples if no tone matches\n",
    "            \n",
    "        # Create prompt\n",
    "        prompt = self._create_prompt(customer_message, category, tone, examples)\n",
    "        \n",
    "        try:\n",
    "            # TODO: Get response from OpenAI\n",
    "            response = \n",
    "            \n",
    "            return response.choices[0].message.content\n",
    "            \n",
    "        except Exception as e:\n",
    "            logger.error(f\"Error generating response: {str(e)}\")\n",
    "            raise"
   ]
  },
  {
   "cell_type": "code",
   "execution_count": 5,
   "metadata": {},
   "outputs": [],
   "source": [
    "def main():\n",
    "    \"\"\"\n",
    "    Demonstrate the customer service bot functionality with various scenarios\n",
    "    \"\"\"\n",
    "    # Get API key\n",
    "    api_key = os.getenv(\"OPENAI_API_KEY\")\n",
    "    if not api_key:\n",
    "        raise ValueError(\"Please set OPENAI_API_KEY environment variable\")\n",
    "\n",
    "    # Initialize bot\n",
    "    bot = CustomerServiceBot(api_key)\n",
    "\n",
    "    # Test scenarios\n",
    "    test_messages = [\n",
    "        {\n",
    "            \"message\": \"My product arrived damaged. I want a refund.\",\n",
    "            \"category\": \"refund\",\n",
    "            \"tone\": \"empathetic\"\n",
    "        },\n",
    "        {\n",
    "            \"message\": \"How do I reset my password?\",\n",
    "            \"category\": \"technical_support\",\n",
    "            \"tone\": \"professional\"\n",
    "        },\n",
    "        {\n",
    "            \"message\": \"What's your shipping policy?\",\n",
    "            \"category\": \"general_inquiry\",\n",
    "            \"tone\": \"friendly\"\n",
    "        },\n",
    "        {\n",
    "            \"message\": \"The instructions in your manual are wrong!\",\n",
    "            \"category\": \"technical_support\",\n",
    "            \"tone\": \"empathetic\"\n",
    "        }\n",
    "    ]\n",
    "\n",
    "    # Process each test message\n",
    "    for test in test_messages:\n",
    "        try:\n",
    "            print(\"\\n\" + \"=\"*50)\n",
    "            print(f\"Customer Message: {test['message']}\")\n",
    "            print(f\"Category: {test['category']}\")\n",
    "            print(f\"Tone: {test['tone']}\")\n",
    "            print(\"-\"*50)\n",
    "            \n",
    "            response = bot.generate_response(\n",
    "                test['message'],\n",
    "                test['category'],\n",
    "                test['tone']\n",
    "            )\n",
    "            \n",
    "            print(\"Bot Response:\")\n",
    "            print(response)\n",
    "            print(\"=\"*50)\n",
    "            \n",
    "        except Exception as e:\n",
    "            print(f\"Error: {str(e)}\")"
   ]
  },
  {
   "cell_type": "code",
   "execution_count": null,
   "metadata": {},
   "outputs": [],
   "source": [
    "if __name__ == \"__main__\":\n",
    "    main()\n",
    "    \n",
    "    print(\"\\nRunning implementation tests...\")\n",
    "    # Create bot instance for testing\n",
    "    api_key = os.getenv(\"OPENAI_API_KEY\")\n",
    "    bot = CustomerServiceBot(api_key)\n",
    "        \n",
    "    # Create test bench instance\n",
    "    tester = TestAICustomerServiceBot(bot)\n",
    "    \n",
    "    # Run tests and print results\n",
    "    results = tester.run_all_tests()\n",
    "    print_test_results(results)"
   ]
  }
 ],
 "metadata": {
  "kernelspec": {
   "display_name": "env",
   "language": "python",
   "name": "python3"
  },
  "language_info": {
   "codemirror_mode": {
    "name": "ipython",
    "version": 3
   },
   "file_extension": ".py",
   "mimetype": "text/x-python",
   "name": "python",
   "nbconvert_exporter": "python",
   "pygments_lexer": "ipython3",
   "version": "3.12.6"
  }
 },
 "nbformat": 4,
 "nbformat_minor": 2
}
