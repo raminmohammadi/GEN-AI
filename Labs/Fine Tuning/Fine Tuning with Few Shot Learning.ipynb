{
 "cells": [
  {
   "cell_type": "markdown",
   "metadata": {},
   "source": [
    "<center>\n",
    "    <h1>Fine-tuning with Few-Shot Learning</h1>\n",
    "</center>"
   ]
  },
  {
   "cell_type": "markdown",
   "metadata": {},
   "source": [
    "Traditional fine-tuning methods:\n",
    "\n",
    "- Require large amounts of labeled training data\n",
    "- Can be computationally intensive and time-consuming\n",
    "- Risk overfitting on small datasets\n",
    "- May need extensive hyperparameter tuning"
   ]
  },
  {
   "cell_type": "markdown",
   "metadata": {},
   "source": [
    "# Brief recap of Few-Shot Learning"
   ]
  },
  {
   "cell_type": "markdown",
   "metadata": {},
   "source": [
    "## What is Few-Shot Learning?"
   ]
  },
  {
   "cell_type": "markdown",
   "metadata": {},
   "source": [
    "- Few-shot learning (FSL) is a machine learning approach where models learn to recognize new patterns or classes from very few examples, typically 1-5 samples per class. \n",
    "\n",
    "- Think of it like a human being able to recognize a new type of fruit after seeing just a couple of examples, by drawing on their prior knowledge of similar fruits."
   ]
  },
  {
   "cell_type": "markdown",
   "metadata": {},
   "source": [
    "Key characteristics:\n",
    "- Learns from minimal examples (1-5 samples per class)\n",
    "- Leverages prior knowledge from similar tasks\n",
    "- Adapts quickly to new scenarios\n",
    "- Maintains good generalization"
   ]
  },
  {
   "cell_type": "markdown",
   "metadata": {},
   "source": [
    "## The Problem Few-Shot Learning Solves"
   ]
  },
  {
   "cell_type": "markdown",
   "metadata": {},
   "source": [
    "### 1. Data Scarcity"
   ]
  },
  {
   "cell_type": "markdown",
   "metadata": {},
   "source": [
    "Real-world ML applications face significant data challenges:\n",
    "\n",
    "* **Limited Training Examples**\n",
    "  - Many scenarios have very few examples\n",
    "  - Rare cases or events are hard to collect\n",
    "  - New classes emerge frequently\n",
    "  - Data collection is expensive or time-consuming\n",
    "\n",
    "* **Data Collection Constraints**\n",
    "  - Privacy concerns limit data availability\n",
    "  - Legal restrictions on data gathering\n",
    "  - Time-sensitive scenarios\n",
    "  - Resource limitations\n",
    "\n",
    "* **Domain-Specific Challenges**\n",
    "  - Specialized knowledge required\n",
    "  - Expert annotation costs\n",
    "  - Evolving categories\n",
    "  - Rapid deployment needs\n",
    "\n",
    "* **Real-world Limitations**\n",
    "  - Imbalanced class distributions\n",
    "  - High data acquisition costs\n",
    "  - Time constraints\n",
    "  - Resource constraints"
   ]
  },
  {
   "cell_type": "markdown",
   "metadata": {},
   "source": [
    "### 2. Adaptation Requirements"
   ]
  },
  {
   "cell_type": "markdown",
   "metadata": {},
   "source": [
    "Modern ML systems need quick adaptation capabilities:\n",
    "\n",
    "* **Fast Learning**\n",
    "  - Quick response to new situations\n",
    "  - Rapid prototype development\n",
    "  - Immediate deployment needs\n",
    "  - Market responsiveness\n",
    "\n",
    "* **Efficient Transfer**\n",
    "  - Knowledge reuse\n",
    "  - Cross-domain adaptation\n",
    "  - Skill transfer\n",
    "  - Experience leverage\n",
    "\n",
    "* **Resource Optimization**\n",
    "  - Minimal data requirements\n",
    "  - Reduced computation needs\n",
    "  - Lower energy consumption\n",
    "  - Faster deployment\n",
    "\n",
    "* **Practical Constraints**\n",
    "  - Budget limitations\n",
    "  - Time restrictions\n",
    "  - Hardware constraints\n",
    "  - Deployment requirements"
   ]
  },
  {
   "cell_type": "markdown",
   "metadata": {},
   "source": [
    "### 3. Model Flexibility"
   ]
  },
  {
   "cell_type": "markdown",
   "metadata": {},
   "source": [
    "Systems need to be adaptable:\n",
    "\n",
    "* **Quick Adaptation**\n",
    "  - New task learning\n",
    "  - Domain transfer\n",
    "  - Concept drift handling\n",
    "  - Dynamic environments\n",
    "\n",
    "* **Generalization**\n",
    "  - Cross-domain performance\n",
    "  - Novel situation handling\n",
    "  - Robust predictions\n",
    "  - Transfer learning"
   ]
  },
  {
   "cell_type": "markdown",
   "metadata": {},
   "source": [
    "## How does Few Shot Learning work?"
   ]
  },
  {
   "cell_type": "markdown",
   "metadata": {},
   "source": [
    "Few-shot learning combines several key concepts to achieve efficient learning from limited data:"
   ]
  },
  {
   "cell_type": "markdown",
   "metadata": {},
   "source": [
    "### Core Concepts"
   ]
  },
  {
   "cell_type": "markdown",
   "metadata": {},
   "source": [
    "**1. Meta-Learning**\n",
    "- Learns how to learn from few examples\n",
    "- Develops adaptable feature representations\n",
    "- Creates flexible learning strategies\n",
    "\n",
    "**2. Transfer Learning**\n",
    "- Leverages knowledge from related tasks\n",
    "- Adapts pre-trained models\n",
    "- Utilizes domain knowledge\n",
    "\n",
    "**3. Metric Learning**\n",
    "- Learns similarity measures\n",
    "- Creates embedded space representations\n",
    "- Enables comparison-based learning"
   ]
  },
  {
   "cell_type": "markdown",
   "metadata": {},
   "source": [
    "### Core Components"
   ]
  },
  {
   "cell_type": "markdown",
   "metadata": {},
   "source": [
    "**1. Support Set**\n",
    "- Contains few examples per class\n",
    "- Provides reference patterns\n",
    "- Establishes class prototypes\n",
    "\n",
    "**2. Query Set**\n",
    "- New examples to classify\n",
    "- Test cases for evaluation\n",
    "- Unknown samples for prediction\n",
    "\n",
    "**3. Episode Training**\n",
    "- Simulates few-shot scenarios\n",
    "- Creates learning episodes\n",
    "- Builds robust representations"
   ]
  },
  {
   "cell_type": "markdown",
   "metadata": {},
   "source": [
    "### Implementation Approach"
   ]
  },
  {
   "cell_type": "markdown",
   "metadata": {},
   "source": [
    "**1. Pre-training Phase**\n",
    "- Model learns on large dataset\n",
    "- Develops feature extraction\n",
    "- Creates base knowledge\n",
    "\n",
    "**2. Fine-tuning Phase**\n",
    "- Adapts to new tasks\n",
    "- Uses few examples\n",
    "- Maintains performance\n",
    "\n",
    "**3. Inference Process**\n",
    "- Compares new samples\n",
    "- Uses learned metrics\n",
    "- Makes predictions"
   ]
  },
  {
   "cell_type": "markdown",
   "metadata": {},
   "source": [
    "## Advantages"
   ]
  },
  {
   "cell_type": "markdown",
   "metadata": {},
   "source": [
    "1. **Data Efficiency**\n",
    "   - Works with limited data\n",
    "   - Reduces data collection needs\n",
    "   - Enables quick deployment\n",
    "\n",
    "2. **Quick Adaptation**\n",
    "   - Fast learning of new tasks\n",
    "   - Minimal fine-tuning needed\n",
    "   - Rapid prototyping\n",
    "\n",
    "3. **Cost Effectiveness**\n",
    "   - Reduced data annotation costs\n",
    "   - Lower computational requirements\n",
    "   - Faster development cycle"
   ]
  },
  {
   "cell_type": "markdown",
   "metadata": {},
   "source": [
    "## Applications"
   ]
  },
  {
   "cell_type": "markdown",
   "metadata": {},
   "source": [
    "1. **Computer Vision**\n",
    "   - Face recognition\n",
    "   - Object detection\n",
    "   - Medical imaging\n",
    "\n",
    "2. **Natural Language Processing**\n",
    "   - Intent classification\n",
    "   - Named entity recognition\n",
    "   - Translation for low-resource languages\n",
    "\n",
    "3. **Robotics**\n",
    "   - Task learning\n",
    "   - Behavior adaptation\n",
    "   - Skill transfer"
   ]
  },
  {
   "cell_type": "markdown",
   "metadata": {},
   "source": [
    "# Implementing Few Shot Learning in a real life project"
   ]
  },
  {
   "cell_type": "markdown",
   "metadata": {},
   "source": [
    "# Practical Project: Restaurant Review Classifier"
   ]
  },
  {
   "cell_type": "markdown",
   "metadata": {},
   "source": [
    "In this project, we'll implement few-shot learning to classify restaurant reviews. We'll use OpenAI's API for demonstration, but the concepts apply to any LLM."
   ]
  },
  {
   "cell_type": "markdown",
   "metadata": {},
   "source": [
    "## Project Overview"
   ]
  },
  {
   "cell_type": "markdown",
   "metadata": {},
   "source": [
    "- Task: Classify restaurant reviews into detailed categories\n",
    "- Method: Few-shot learning with 3 examples per category\n",
    "- Categories: Food Quality, Service, Ambiance, Value"
   ]
  },
  {
   "cell_type": "markdown",
   "metadata": {},
   "source": [
    "## Implementation"
   ]
  },
  {
   "cell_type": "markdown",
   "metadata": {},
   "source": [
    "### 1. Setup and Dependencies"
   ]
  },
  {
   "cell_type": "code",
   "execution_count": 11,
   "metadata": {},
   "outputs": [],
   "source": [
    "import openai\n",
    "import pandas as pd\n",
    "from typing import List, Dict\n",
    "import os"
   ]
  },
  {
   "cell_type": "code",
   "execution_count": 12,
   "metadata": {},
   "outputs": [],
   "source": [
    "os.environ[\"OPENAI_API_KEY\"] = \"FILL_IN_YOUR_API_KEY\""
   ]
  },
  {
   "cell_type": "code",
   "execution_count": 13,
   "metadata": {},
   "outputs": [],
   "source": [
    "# Set up the client\n",
    "client = openai.OpenAI(api_key=os.getenv(\"OPENAI_API_KEY\"))"
   ]
  },
  {
   "cell_type": "markdown",
   "metadata": {},
   "source": [
    "### 2. Define Example Database"
   ]
  },
  {
   "cell_type": "code",
   "execution_count": 14,
   "metadata": {},
   "outputs": [],
   "source": [
    "few_shot_examples = {\n",
    "    \"food_quality\": [\n",
    "        {\"review\": \"The pasta was perfectly al dente and the sauce was rich and flavorful.\", \n",
    "            \"category\": \"Food Quality: Positive - Mentions cooking technique and taste\"},\n",
    "        {\"review\": \"My steak was overcooked and dry, not what I expected.\", \n",
    "            \"category\": \"Food Quality: Negative - Mentions cooking issues\"},\n",
    "        {\"review\": \"Fresh ingredients but the seasoning was a bit overwhelming.\", \n",
    "            \"category\": \"Food Quality: Mixed - Acknowledges quality but notes issues\"}\n",
    "    ],\n",
    "    \"service\": [\n",
    "        {\"review\": \"Our waiter was attentive and provided excellent recommendations.\", \n",
    "            \"category\": \"Service: Positive - Mentions staff helpfulness\"},\n",
    "        {\"review\": \"Had to wait 45 minutes for our appetizers, no explanation given.\", \n",
    "            \"category\": \"Service: Negative - Mentions timing issues\"},\n",
    "        {\"review\": \"Friendly staff but seemed understaffed during peak hours.\", \n",
    "            \"category\": \"Service: Mixed - Notes good attitude but operational issues\"}\n",
    "    ],\n",
    "    \"value\": [\n",
    "        {\"review\": \"Large portions and reasonable prices, great deal for the quality.\", \n",
    "            \"category\": \"Value: Positive - Mentions portion size and price\"},\n",
    "        {\"review\": \"Small portions for the high price point, felt overpriced.\", \n",
    "            \"category\": \"Value: Negative - Comments on poor price-to-portion ratio\"},\n",
    "        {\"review\": \"Slightly pricey but the quality justifies the cost.\", \n",
    "            \"category\": \"Value: Mixed - Acknowledges cost but justifies value\"}\n",
    "    ]\n",
    "}"
   ]
  },
  {
   "cell_type": "markdown",
   "metadata": {},
   "source": [
    "### 3. Prompt Construction Function"
   ]
  },
  {
   "cell_type": "code",
   "execution_count": 15,
   "metadata": {},
   "outputs": [],
   "source": [
    "def create_few_shot_prompt(examples: Dict, new_review: str) -> str:\n",
    "    \"\"\"\n",
    "    Create a few-shot prompt using examples and a new review.\n",
    "    \n",
    "    Args:\n",
    "        examples (Dict): Dictionary containing categorized example reviews\n",
    "        new_review (str): New review to be classified\n",
    "    \n",
    "    Returns:\n",
    "        str: Formatted prompt for the LLM\n",
    "    \"\"\"\n",
    "    prompt = \"Task: Classify restaurant reviews into categories (Food Quality, Service, or Value) and determine the sentiment (Positive, Negative, or Mixed). Provide a brief explanation for the classification.\\n\\n\"\n",
    "    prompt += \"Examples:\\n\\n\"\n",
    "    \n",
    "    # Add examples from each category\n",
    "    for category, category_examples in examples.items():\n",
    "        for example in category_examples:\n",
    "            prompt += f\"Review: {example['review']}\\n\"\n",
    "            prompt += f\"Classification: {example['category']}\\n\\n\"\n",
    "    \n",
    "    # Add new review\n",
    "    prompt += f\"Review: {new_review}\\n\"\n",
    "    prompt += \"Classification:\"\n",
    "    \n",
    "    return prompt"
   ]
  },
  {
   "cell_type": "markdown",
   "metadata": {},
   "source": [
    "### 4. Classification Function"
   ]
  },
  {
   "cell_type": "code",
   "execution_count": 16,
   "metadata": {},
   "outputs": [],
   "source": [
    "def classify_review(review: str, examples: Dict) -> str:\n",
    "    \"\"\"\n",
    "    Classify a restaurant review using few-shot learning.\n",
    "    \n",
    "    Args:\n",
    "        review (str): Review text to classify\n",
    "        examples (Dict): Few-shot examples dictionary\n",
    "    \n",
    "    Returns:\n",
    "        str: Classification result\n",
    "    \"\"\"\n",
    "    prompt = create_few_shot_prompt(examples, review)\n",
    "    \n",
    "    try:\n",
    "        response = client.chat.completions.create(\n",
    "            model=\"gpt-3.5-turbo\",\n",
    "            messages=[\n",
    "                {\"role\": \"system\", \"content\": \"You are a helpful restaurant review classifier.\"},\n",
    "                {\"role\": \"user\", \"content\": prompt}\n",
    "            ],\n",
    "            temperature=0.3,\n",
    "            max_tokens=100\n",
    "        )\n",
    "        return response.choices[0].message.content.strip()\n",
    "    except Exception as e:\n",
    "        return f\"Error in classification: {str(e)}\""
   ]
  },
  {
   "cell_type": "markdown",
   "metadata": {},
   "source": [
    "### 5. Testing Function"
   ]
  },
  {
   "cell_type": "code",
   "execution_count": 17,
   "metadata": {},
   "outputs": [],
   "source": [
    "def test_classifier(test_reviews: List[str], examples: Dict) -> pd.DataFrame:\n",
    "    \"\"\"\n",
    "    Test the classifier on multiple reviews and return results.\n",
    "    \n",
    "    Args:\n",
    "        test_reviews (List[str]): List of reviews to classify\n",
    "        examples (Dict): Few-shot examples dictionary\n",
    "    \n",
    "    Returns:\n",
    "        pd.DataFrame: Results of classification\n",
    "    \"\"\"\n",
    "    results = []\n",
    "    for review in test_reviews:\n",
    "        classification = classify_review(review, examples)\n",
    "        results.append({\n",
    "            'review': review,\n",
    "            'classification': classification\n",
    "        })\n",
    "    \n",
    "    return pd.DataFrame(results)"
   ]
  },
  {
   "cell_type": "markdown",
   "metadata": {},
   "source": [
    "### 6. Example Usage"
   ]
  },
  {
   "cell_type": "code",
   "execution_count": null,
   "metadata": {},
   "outputs": [],
   "source": [
    "test_reviews = [\n",
    "    \"The flavors were amazing but $40 for a small plate seemed excessive.\",\n",
    "    \"Our server was incredibly helpful and checked on us regularly.\",\n",
    "    \"Burnt food and rude service, definitely not worth the price.\",\n",
    "    \"The new chef has really improved the menu, every dish was perfect.\"\n",
    "]\n",
    "\n",
    "# Run classification\n",
    "results_df = test_classifier(test_reviews, few_shot_examples)\n",
    "print(results_df)"
   ]
  }
 ],
 "metadata": {
  "kernelspec": {
   "display_name": "env",
   "language": "python",
   "name": "python3"
  },
  "language_info": {
   "codemirror_mode": {
    "name": "ipython",
    "version": 3
   },
   "file_extension": ".py",
   "mimetype": "text/x-python",
   "name": "python",
   "nbconvert_exporter": "python",
   "pygments_lexer": "ipython3",
   "version": "3.12.6"
  }
 },
 "nbformat": 4,
 "nbformat_minor": 2
}
