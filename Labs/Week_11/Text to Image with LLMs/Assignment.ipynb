{
 "cells": [
  {
   "cell_type": "markdown",
   "metadata": {},
   "source": [
    "# Image Generation with DALL-E Assignment (Graded): Emoji to Image Generator"
   ]
  },
  {
   "cell_type": "markdown",
   "metadata": {},
   "source": [
    "Welcome to your programming assignment on DALL-E! You will build an emoji to image generator."
   ]
  },
  {
   "cell_type": "markdown",
   "metadata": {},
   "source": [
    "## Problem Description"
   ]
  },
  {
   "cell_type": "markdown",
   "metadata": {},
   "source": [
    "- Create a Python application that converts emoji combinations into AI-generated images using OpenAI's DALL-E 3 API. \n",
    "\n",
    "- The application should allow users to input emoji combinations and generate corresponding images in different artistic styles."
   ]
  },
  {
   "cell_type": "markdown",
   "metadata": {},
   "source": [
    "## Input Data Examples"
   ]
  },
  {
   "cell_type": "markdown",
   "metadata": {},
   "source": [
    "- Emoji Combinations:\n",
    "\n",
    "    - \"🌞🌊\" (sun and wave)\n",
    "\n",
    "    - \"🐘🦋\" (elephant and butterfly)\n",
    "\n",
    "    - \"🌳🏠\" (tree and house)\n",
    "\n",
    "- Style Options:\n",
    "    - Basic\n",
    "    \n",
    "    - Detailed\n",
    "    \n",
    "    - Artistic"
   ]
  },
  {
   "cell_type": "markdown",
   "metadata": {},
   "source": [
    "## Assignment Tasks"
   ]
  },
  {
   "cell_type": "markdown",
   "metadata": {},
   "source": [
    "### Task 1: API Integration"
   ]
  },
  {
   "cell_type": "markdown",
   "metadata": {},
   "source": [
    "\n",
    "Complete the `__init__` method in the `EmojiImageGenerator` class:\n",
    "```python\n",
    "def __init__(self, api_key: str):\n",
    "    \"\"\"\n",
    "    TODO: Initialize the OpenAI client with the provided API key\n",
    "    and set up prompt templates for different styles\n",
    "    \"\"\"\n",
    "    # Your code here\n",
    "```"
   ]
  },
  {
   "cell_type": "markdown",
   "metadata": {},
   "source": [
    "### Task 2: Emoji Validation"
   ]
  },
  {
   "cell_type": "markdown",
   "metadata": {},
   "source": [
    "Implement the `is_valid_emoji` method:\n",
    "```python\n",
    "def is_valid_emoji(self, text: str) -> bool:\n",
    "    \"\"\"\n",
    "    TODO: Check if the input contains at least one valid emoji\n",
    "    Return: True if valid emoji found, False otherwise\n",
    "    \"\"\"\n",
    "    # Your code here\n",
    "```"
   ]
  },
  {
   "cell_type": "markdown",
   "metadata": {},
   "source": [
    "### Task 3: Emoji Description Generation"
   ]
  },
  {
   "cell_type": "markdown",
   "metadata": {},
   "source": [
    "Complete the `emoji_to_description` method:\n",
    "```python\n",
    "def emoji_to_description(self, emoji_text: str) -> str:\n",
    "    \"\"\"\n",
    "    TODO: Convert emoji characters to descriptive text\n",
    "    Example: \"🌞🌊\" → \"sun and wave\"\n",
    "    \"\"\"\n",
    "    # Your code here\n",
    "```"
   ]
  },
  {
   "cell_type": "markdown",
   "metadata": {},
   "source": [
    "### Task 4: Image Generation"
   ]
  },
  {
   "cell_type": "markdown",
   "metadata": {},
   "source": [
    "Implement the DALL-E API call in `generate_image`:\n",
    "```python\n",
    "def generate_image(self, emoji_combination: str, style: str = \"basic\") -> Optional[str]:\n",
    "    \"\"\"\n",
    "    TODO: Generate image using DALL-E API\n",
    "    1. Validate emoji input\n",
    "    2. Convert emoji to description\n",
    "    3. Create prompt using template\n",
    "    4. Make API call to generate image\n",
    "    5. Return image URL\n",
    "    \"\"\"\n",
    "    # Your code here\n",
    "```"
   ]
  },
  {
   "cell_type": "markdown",
   "metadata": {},
   "source": [
    "### Task 5: Style Selection"
   ]
  },
  {
   "cell_type": "markdown",
   "metadata": {},
   "source": [
    "Complete the `get_style` function:\n",
    "```python\n",
    "def get_style():\n",
    "    \"\"\"\n",
    "    TODO: Implement style selection menu\n",
    "    Return: Selected style string (\"basic\", \"detailed\", or \"artistic\")\n",
    "    \"\"\"\n",
    "    # Your code here\n",
    "```"
   ]
  },
  {
   "cell_type": "markdown",
   "metadata": {},
   "source": [
    "## Instructions"
   ]
  },
  {
   "cell_type": "markdown",
   "metadata": {},
   "source": [
    "- Only write code when you see any of the below prompts,\n",
    "\n",
    "    ```\n",
    "    # YOUR CODE GOES HERE\n",
    "    # YOUR CODE ENDS HERE\n",
    "    # TODO\n",
    "    ```\n",
    "\n",
    "- Do not modify any other section of the code unless tated otherwise in the comments."
   ]
  },
  {
   "cell_type": "code",
   "execution_count": null,
   "metadata": {},
   "outputs": [],
   "source": [
    "from openai import OpenAI\n",
    "from typing import Optional, List\n",
    "import emoji\n",
    "import time\n",
    "import requests\n",
    "from PIL import Image\n",
    "from io import BytesIO\n",
    "from IPython.display import display, Image as IPythonImage\n",
    "from tests.test_methods import run_all_tests\n",
    "from helpers.methods import print_menu, get_style"
   ]
  },
  {
   "cell_type": "markdown",
   "metadata": {},
   "source": [
    "## Task: Implementing an Emoji to Image Generator"
   ]
  },
  {
   "cell_type": "markdown",
   "metadata": {},
   "source": [
    "**Task Hints:**\n",
    "\n",
    "Complete the EmojiImageGenerator class implementation for converting emojis to AI-generated images.\n",
    "\n",
    "Design a system that accomplishes:\n",
    "- Proper initialization with API key and prompt templates\n",
    "- Accurate emoji validation and detection\n",
    "- Converting emoji combinations to descriptive text\n",
    "- Generating images based on emoji descriptions\n",
    "- Supporting multiple artistic styles (basic, detailed, artistic)\n",
    "\n",
    "Requirements:\n",
    "- Must validate emoji input before processing\n",
    "- Must convert emojis to meaningful text descriptions\n",
    "- Must generate appropriate prompts for DALL-E\n",
    "- Must handle different artistic styles correctly"
   ]
  },
  {
   "cell_type": "code",
   "execution_count": null,
   "metadata": {},
   "outputs": [],
   "source": [
    "# Define a class to generate images from emoji combinations using OpenAI's DALL-E model\n",
    "class EmojiImageGenerator:\n",
    "    # Initialize the generator with OpenAI API key\n",
    "    def __init__(self, api_key: str):\n",
    "        \"\"\"Initialize the generator with OpenAI API key\"\"\"\n",
    "        \n",
    "        # Create an OpenAI client with the provided API key \n",
    "        self.client = \n",
    "        \n",
    "        # Define prompt templates for different styles: basic, detailed, artistic\n",
    "        # For the prompt, we use the emoji description generated from the input emoji combination\n",
    "        # The {emoji} placeholder will be replaced with the description\n",
    "        # The user can select the style when generating the image\n",
    "        # For the basic style, we provide a simple prompt to create an image based on the emoji combination\n",
    "        # For the detailed style, we ask for a realistic and vibrant scene capturing the essence of the emojis\n",
    "        # For the artistic style, we request an artistic interpretation of the emojis using creative\n",
    "        self.prompt_templates = {\n",
    "            \"basic\": ,\n",
    "            \"detailed\":,\n",
    "            \"artistic\": \n",
    "        }\n",
    "    \n",
    "    def is_valid_emoji(self, text: str) -> bool:\n",
    "        \"\"\"Check if the input contains at least one emoji\"\"\"\n",
    "        # Check if any character in the input text is an emoji character using the emoji library data\n",
    "        # Return True if at least one emoji is found, False otherwise\n",
    "        # Example: 'Hello 😊' -> True, 'Hello' -> False\n",
    "        \n",
    "    \n",
    "    def emoji_to_description(self, emoji_text: str) -> str:\n",
    "        \"\"\"Convert emoji to descriptive text\"\"\"\n",
    "        # Get the description of each emoji character using the emoji library data\n",
    "        # Replace underscores with spaces in the emoji names\n",
    "        # Join the emoji names with 'and' to create a descriptive text\n",
    "        # Example: '🐶🐱' -> 'dog and cat'\n",
    "\n",
    "    \n",
    "    def generate_and_display_image(self, emoji_combination: str, style: str = \"basic\") -> Optional[str]:\n",
    "        \"\"\"Generate image from emoji combination using DALL-E and display it\"\"\"\n",
    "        if not self.is_valid_emoji(emoji_combination):\n",
    "            raise ValueError(\"Input must contain at least one emoji\")\n",
    "        \n",
    "        try:\n",
    "            description = self.emoji_to_description(emoji_combination)\n",
    "            template = self.prompt_templates.get(style, self.prompt_templates[\"basic\"])\n",
    "            prompt = template.format(emoji=description)\n",
    "            \n",
    "            print(f\"\\nGenerating image for prompt: {prompt}\")\n",
    "            print(\"Please wait...\")\n",
    "            \n",
    "            # Generate an image using the DALL-E model with the specified prompt\n",
    "            # Request a single image with a resolution of 1024x1024 and standard quality\n",
    "            # The response contains the URL of the generated image\n",
    "            \n",
    "            response = \n",
    "            \n",
    "            # Get the image URL\n",
    "            img_url = response.data[0].url\n",
    "            \n",
    "            # Display the image in the notebook\n",
    "            display(IPythonImage(url=img_url))\n",
    "            return img_url\n",
    "            \n",
    "        except Exception as e:\n",
    "            raise Exception(f\"Image generation failed: {str(e)}\")"
   ]
  },
  {
   "cell_type": "code",
   "execution_count": null,
   "metadata": {},
   "outputs": [],
   "source": [
    "# DO NOT MODIFY THE CODE BELOW\n",
    "\n",
    "def main():\n",
    "    \"\"\"Main function to run the application\"\"\"\n",
    "    print(\"Welcome to Emoji to Image Creator!\")\n",
    "    \n",
    "    # Get API key\n",
    "    api_key = input(\"\\nEnter your OpenAI API key: \").strip()\n",
    "    test_gen_object = EmojiImageGenerator(api_key)\n",
    "    run_all_tests(test_gen_object)\n",
    "    \n",
    "    try:\n",
    "        # Initialize generator\n",
    "        generator = EmojiImageGenerator(api_key)\n",
    "        print(\"\\nSuccessfully connected to OpenAI API!\")\n",
    "        \n",
    "        current_style = \"basic\"\n",
    "        \n",
    "        while True:\n",
    "            choice = print_menu()\n",
    "            \n",
    "            if choice == \"1\":\n",
    "                # Generate image\n",
    "                emoji_input = input(\"\\nEnter emoji combination (e.g., 🌞🌊): \").strip()\n",
    "                try:\n",
    "                    url = generator.generate_and_display_image(emoji_input, current_style)\n",
    "                    print(\"\\nSuccess! Generated image URL:\")\n",
    "                    print(url)\n",
    "                    input(\"\\nPress Enter to continue...\")\n",
    "                except ValueError as ve:\n",
    "                    print(f\"\\nError: {str(ve)}\")\n",
    "                except Exception as e:\n",
    "                    print(f\"\\nError: {str(e)}\")\n",
    "            \n",
    "            elif choice == \"2\":\n",
    "                # Change style\n",
    "                current_style = get_style()\n",
    "                print(f\"\\nStyle changed to: {current_style}\")\n",
    "            \n",
    "            elif choice == \"3\":\n",
    "                # Exit\n",
    "                print(\"\\nThank you for using Emoji to Image Creator!\")\n",
    "                break\n",
    "            \n",
    "            else:\n",
    "                print(\"\\nInvalid choice. Please try again.\")\n",
    "                \n",
    "    except Exception as e:\n",
    "        print(f\"\\nError: {str(e)}\")\n",
    "        print(\"\\nPlease check your API key and try again.\")"
   ]
  },
  {
   "cell_type": "code",
   "execution_count": null,
   "metadata": {},
   "outputs": [],
   "source": [
    "# DO NOT MODIFY THE CODE BELOW\n",
    "if __name__ == \"__main__\":\n",
    "    try:\n",
    "        main()\n",
    "    except KeyboardInterrupt:\n",
    "        print(\"\\n\\nProgram terminated by user.\")\n",
    "    except Exception as e:\n",
    "        print(f\"\\nAn unexpected error occurred: {str(e)}\")"
   ]
  },
  {
   "cell_type": "code",
   "execution_count": null,
   "metadata": {},
   "outputs": [],
   "source": []
  }
 ],
 "metadata": {
  "kernelspec": {
   "display_name": "env",
   "language": "python",
   "name": "python3"
  },
  "language_info": {
   "codemirror_mode": {
    "name": "ipython",
    "version": 3
   },
   "file_extension": ".py",
   "mimetype": "text/x-python",
   "name": "python",
   "nbconvert_exporter": "python",
   "pygments_lexer": "ipython3",
   "version": "3.12.6"
  }
 },
 "nbformat": 4,
 "nbformat_minor": 2
}
