{
 "cells": [
  {
   "cell_type": "markdown",
   "metadata": {},
   "source": [
    "<center>\n",
    "    <h1>Deep Reinforcement Learning</h1>\n",
    "</center>"
   ]
  },
  {
   "cell_type": "markdown",
   "metadata": {},
   "source": [
    "# Brief Recap of Deep Reinforcement Learning"
   ]
  },
  {
   "cell_type": "markdown",
   "metadata": {},
   "source": [
    "- Deep Reinforcement Learning (DRL) is a machine learning approach that combines deep neural networks with reinforcement learning to create systems that can learn optimal behaviors through interaction with an environment.\n",
    "\n",
    "- It revolutionized autonomous decision-making by enabling agents to learn complex strategies directly from raw input data without explicit programming of rules or behaviors.\n",
    "\n",
    "- Deep Reinforcement Learning has several key advantages over traditional machine learning approaches:\n",
    "    1. End-to-end learning: Can learn directly from raw sensory inputs to actions\n",
    "    2. Adaptability: Capable of learning and adjusting strategies in dynamic environments\n",
    "    3. Generalization: Can transfer learned skills to similar but previously unseen situations\n",
    "\n",
    "- DRL uses various algorithms like Deep Q-Networks (DQN), Policy Gradients, and Actor-Critic methods to achieve efficient learning in complex environments with large state and action spaces.\n",
    "\n",
    "- It has become foundational for many cutting-edge applications, including game playing, robotics control, autonomous vehicles, and resource management systems.\n",
    "\n",
    "- Popular DRL frameworks and implementations include OpenAI Gym, Stable Baselines, RLlib, and TensorFlow-Agents, each offering different features and optimization capabilities.\n",
    "\n",
    "- These technologies continue to evolve, finding new applications across industries such as healthcare, finance, manufacturing, and logistics optimization."
   ]
  },
  {
   "cell_type": "markdown",
   "metadata": {},
   "source": [
    "<center>\n",
    "    <img src=\"static/image1.gif\" alt=\"Deep Reinforcement Learning Example\" style=\"width:50%;\">\n",
    "</center>"
   ]
  },
  {
   "cell_type": "markdown",
   "metadata": {},
   "source": [
    "## Architecture of Deep Reinforcement Learning"
   ]
  },
  {
   "cell_type": "markdown",
   "metadata": {},
   "source": [
    "- Deep Reinforcement Learning architectures are specialized neural network systems designed to learn optimal decision-making policies through environment interaction and reward optimization.\n",
    "\n",
    "- They revolutionized autonomous learning by combining deep neural networks with traditional reinforcement learning principles, enabling end-to-end learning from raw inputs to actions.\n",
    "\n",
    "- Deep RL architectures have several fundamental components:\n",
    "    1. Input Processing: Handles raw state information from the environment\n",
    "    2. Feature Extraction: Transforms raw inputs into meaningful representations\n",
    "    3. Policy/Value Estimation: Determines actions or state values\n",
    "    4. Action Selection: Chooses optimal actions based on learned policies\n",
    "\n",
    "- The architecture typically consists of multiple interconnected layers:\n",
    "    1. Input Layer: Receives state observations from the environment\n",
    "    2. Hidden Layers: Process and transform state information\n",
    "    3. Output Layer: Generates action probabilities or value estimates\n",
    "    4. Memory Buffer: Stores experience for replay and learning\n",
    "\n",
    "- These architectures employ various optimization techniques:\n",
    "    1. Experience Replay: Stores and reuses past experiences\n",
    "    2. Target Networks: Stabilizes training through delayed updates\n",
    "    3. Advantage Estimation: Improves policy gradient calculations\n",
    "\n",
    "- Popular architectural variants include:\n",
    "    - Deep Q-Networks (DQN) for discrete action spaces\n",
    "    - Policy Gradient Networks for continuous action spaces\n",
    "    - Actor-Critic Networks for combined policy and value learning\n",
    "\n",
    "- These architectures continue to evolve, incorporating new advances in deep learning such as attention mechanisms, transformers, and multi-agent learning capabilities."
   ]
  },
  {
   "cell_type": "markdown",
   "metadata": {},
   "source": [
    "<center>\n",
    "    <img src=\"static/image2.jpg\" alt=\"Deep Reinforcement Learning\" style=\"width:50%;\">\n",
    "</center>"
   ]
  },
  {
   "cell_type": "markdown",
   "metadata": {},
   "source": [
    "## Applications of Deep Reinforcement Learning"
   ]
  },
  {
   "cell_type": "markdown",
   "metadata": {},
   "source": [
    "Deep Reinforcement Learning (DRL) is a powerful approach that combines deep learning and reinforcement learning to solve complex problems in various domains such as:\n",
    "\n",
    "- Robotics\n",
    "    - **Autonomous Navigation**: DRL is used to train robots for navigation tasks in dynamic environments. Robots learn to make decisions based on sensory input to navigate through obstacles and reach goals.\n",
    "    - **Manipulation Tasks**: In industrial settings, DRL helps robots learn to perform tasks like picking, placing, and assembling objects with precision.\n",
    "\n",
    "- Game Playing\n",
    "    - **Atari Games**: DRL algorithms, such as Deep Q-Networks (DQN), have been successfully applied to play Atari games, achieving superhuman performance in many cases.\n",
    "    - **Board Games**: DRL has been used in games like Go (AlphaGo) and chess, where agents learn strategies through self-play, leading to groundbreaking results.\n",
    "\n",
    "- Finance\n",
    "    - **Algorithmic Trading**: DRL can optimize trading strategies by learning from historical market data and making buy/sell decisions to maximize returns.\n",
    "    - **Portfolio Management**: It helps in dynamically adjusting asset allocations in a portfolio to balance risk and reward based on changing market conditions.\n",
    "\n",
    "- Healthcare\n",
    "    - **Personalized Treatment Plans**: DRL can assist in developing personalized treatment strategies by learning optimal interventions for individual patients based on their health data.\n",
    "    - **Drug Discovery**: In pharmaceuticals, DRL models are utilized to explore molecular space for potential drug candidates by predicting interactions and outcomes.\n",
    "\n",
    "- Transportation\n",
    "    - **Traffic Signal Control**: DRL algorithms optimize traffic light timings to reduce congestion and improve traffic flow in urban areas.\n",
    "    - **Autonomous Vehicles**: DRL is integral to developing autonomous driving systems, enabling vehicles to make real-time decisions based on environmental conditions.\n",
    "\n",
    "- Natural Language Processing\n",
    "    - **Dialogue Systems**: DRL enhances conversational agents by optimizing response strategies based on user interactions, leading to more engaging and context-aware dialogues.\n",
    "    - **Text Summarization**: It is applied to learn how to summarize text effectively by evaluating the quality of generated summaries through reinforcement signals.\n",
    "\n",
    "- Energy Management\n",
    "    - **Smart Grid Optimization**: DRL can optimize energy distribution and consumption in smart grids, balancing supply and demand while minimizing costs.\n",
    "    - **Demand Response**: It helps in managing energy consumption patterns in response to changing prices and grid conditions, promoting efficient energy usage.\n",
    "\n",
    "- Game Development\n",
    "    - **Procedural Content Generation**: DRL is used to create dynamic and adaptive game content, enhancing player experience by adjusting difficulty levels based on player performance.\n",
    "    - **Player Behavior Modeling**: It can model and predict player behavior to improve game design and user engagement."
   ]
  },
  {
   "cell_type": "markdown",
   "metadata": {},
   "source": [
    "# Implementing some core concepts of building a Deep Reinforcement Learning Model with Tensorflow"
   ]
  },
  {
   "cell_type": "code",
   "execution_count": 1,
   "metadata": {},
   "outputs": [],
   "source": [
    "import gym\n",
    "import numpy as np\n",
    "import tensorflow as tf\n",
    "from tensorflow.keras import layers"
   ]
  },
  {
   "cell_type": "markdown",
   "metadata": {},
   "source": [
    "`gym`: OpenAI Gym is a toolkit for developing and comparing reinforcement learning algorithms. We use it to create the environment (CartPole in this case)."
   ]
  },
  {
   "cell_type": "markdown",
   "metadata": {},
   "source": [
    "## Environment Setup"
   ]
  },
  {
   "cell_type": "markdown",
   "metadata": {},
   "source": [
    "- `env = gym.make('CartPole-v1')`: We create an instance of the CartPole environment where the agent will interact and learn. The environment provides the state, action space, and rewards.\n",
    "- `state_shape`: This variable holds the shape of the state space (input) for the neural network. For CartPole, the state consists of position, velocity, angle, and angular velocity.\n",
    "- `num_actions`: This is the number of possible actions the agent can take, which is 2 (move left or right)."
   ]
  },
  {
   "cell_type": "code",
   "execution_count": 2,
   "metadata": {},
   "outputs": [],
   "source": [
    "env = gym.make('CartPole-v1')\n",
    "state_shape = env.observation_space.shape\n",
    "num_actions = env.action_space.n"
   ]
  },
  {
   "cell_type": "markdown",
   "metadata": {},
   "source": [
    "## Defining the Q-Network"
   ]
  },
  {
   "cell_type": "markdown",
   "metadata": {},
   "source": [
    "- **Q-Network**: This neural network approximates the Q-value function. It takes the state as input and outputs the Q-values for all possible actions.\n",
    "    - `layers.Dense(128, activation='relu')`: We use fully connected layers (Dense) with 128 neurons, using the ReLU activation function to introduce non-linearity.\n",
    "    - `layers.Dense(num_actions)`: The output layer has `num_actions` neurons (2 for CartPole), each representing the predicted Q-value for that action.\n",
    "    - `Sequential`: A simple feed-forward neural network where each layer's output is the next layer's input."
   ]
  },
  {
   "cell_type": "code",
   "execution_count": 3,
   "metadata": {},
   "outputs": [],
   "source": [
    "def create_q_network(state_shape, num_actions):\n",
    "    model = tf.keras.Sequential([\n",
    "        layers.Dense(128, activation='relu', input_shape=state_shape),\n",
    "        layers.Dense(128, activation='relu'),\n",
    "        layers.Dense(num_actions)\n",
    "    ])\n",
    "    return model"
   ]
  },
  {
   "cell_type": "markdown",
   "metadata": {},
   "source": [
    "## Defining the Replay Buffer"
   ]
  },
  {
   "cell_type": "markdown",
   "metadata": {},
   "source": [
    "- **Replay Buffer**: This class stores past experiences in the form of `(state, action, reward, next_state, done)` tuples.\n",
    "- **add()**: This method adds new experiences to the buffer. If the buffer is full, it replaces older experiences in a circular manner.\n",
    "- **sample()**: It randomly selects a batch of experiences from the buffer to break correlations between consecutive experiences. This helps stabilize training.\n",
    "- **Purpose**: Replay buffer allows the agent to learn from a wider variety of experiences, enhancing sample efficiency and reducing instability in training."
   ]
  },
  {
   "cell_type": "code",
   "execution_count": 4,
   "metadata": {},
   "outputs": [],
   "source": [
    "class ReplayBuffer:\n",
    "    def __init__(self, size):\n",
    "        self.buffer = []\n",
    "        self.max_size = size\n",
    "        self.size = 0\n",
    "\n",
    "    def add(self, experience):\n",
    "        if self.size < self.max_size:\n",
    "            self.buffer.append(experience)\n",
    "            self.size += 1\n",
    "        else:\n",
    "            self.buffer[self.size % self.max_size] = experience\n",
    "\n",
    "    def sample(self, batch_size):\n",
    "        idx = np.random.choice(len(self.buffer), batch_size)\n",
    "        return [self.buffer[i] for i in idx]"
   ]
  },
  {
   "cell_type": "markdown",
   "metadata": {},
   "source": [
    "## Epsilon-Greedy Policy for Exploration"
   ]
  },
  {
   "cell_type": "markdown",
   "metadata": {},
   "source": [
    "- **Epsilon-Greedy Policy**: This policy balances exploration and exploitation.\n",
    "  - **Exploration**: With a probability `epsilon`, the agent takes a random action, encouraging exploration of new states.\n",
    "  - **Exploitation**: With a probability `1 - epsilon`, the agent chooses the action with the highest Q-value, exploiting current knowledge.\n",
    "- `np.random.rand() < epsilon`: Generates a random number between 0 and 1. If it’s less than `epsilon`, the agent explores; otherwise, it exploits."
   ]
  },
  {
   "cell_type": "code",
   "execution_count": 5,
   "metadata": {},
   "outputs": [],
   "source": [
    "def epsilon_greedy_policy(q_values, epsilon):\n",
    "    if np.random.rand() < epsilon:\n",
    "        return np.random.randint(num_actions)\n",
    "    else:\n",
    "        return np.argmax(q_values)"
   ]
  },
  {
   "cell_type": "markdown",
   "metadata": {},
   "source": [
    "## Training the DQN"
   ]
  },
  {
   "cell_type": "markdown",
   "metadata": {},
   "source": [
    "```python\n",
    "def train_dqn(env, episodes, batch_size=64, gamma=0.99, epsilon=1.0, epsilon_decay=0.995, min_epsilon=0.1):\n",
    "    # Create Q-network and target Q-network\n",
    "    q_network = create_q_network(state_shape, num_actions)\n",
    "    target_q_network = create_q_network(state_shape, num_actions)\n",
    "    optimizer = tf.keras.optimizers.Adam(learning_rate=0.001)\n",
    "    loss_fn = tf.keras.losses.MeanSquaredError()\n",
    "\n",
    "    replay_buffer = ReplayBuffer(100000)  # Large replay buffer\n",
    "```\n",
    "\n",
    "### Explanation:\n",
    "- **Q-Network**: The main neural network that learns to approximate the Q-values.\n",
    "- **Target Q-Network**: A separate network used to stabilize training. The weights of this network are updated less frequently (every few episodes) to avoid oscillating Q-values during training.\n",
    "- **Optimizer**: Adam optimizer is used to minimize the loss by adjusting the network's weights.\n",
    "- **Loss Function**: Mean Squared Error is used to minimize the difference between the predicted Q-values and the target Q-values.\n",
    "- **Replay Buffer**: A buffer with a size of 100,000 to store experiences."
   ]
  },
  {
   "cell_type": "markdown",
   "metadata": {},
   "source": [
    "```python\n",
    "    for episode in range(episodes):\n",
    "        state = env.reset()\n",
    "        total_reward = 0\n",
    "        done = False\n",
    "\n",
    "        while not done:\n",
    "            state_input = np.expand_dims(state, axis=0).astype(np.float32)\n",
    "            q_values = q_network(state_input)\n",
    "            action = epsilon_greedy_policy(q_values, epsilon)\n",
    "            \n",
    "            # Take the chosen action in the environment\n",
    "            next_state, reward, done, _ = env.step(action)\n",
    "            replay_buffer.add((state, action, reward, next_state, done))\n",
    "\n",
    "            state = next_state\n",
    "            total_reward += reward\n",
    "```\n",
    "\n",
    "### Explanation:\n",
    "- **Episode Loop**: The outer loop runs for the specified number of episodes. Each episode is a complete run of the environment (from start to terminal state).\n",
    "- `env.reset()`: Resets the environment to the initial state.\n",
    "- **Action Selection**: The agent selects an action using the epsilon-greedy policy based on the Q-values predicted by the Q-network.\n",
    "- **Environment Interaction**: `env.step(action)` executes the selected action and returns the next state, reward, and whether the episode is done.\n",
    "- **Experience Storage**: The `(state, action, reward, next_state, done)` tuple is stored in the replay buffer for future training.\n",
    "- **Total Reward**: Tracks the cumulative reward obtained by the agent in the episode."
   ]
  },
  {
   "cell_type": "markdown",
   "metadata": {},
   "source": [
    "```python\n",
    "            if len(replay_buffer.buffer) > batch_size:\n",
    "                # Sample a batch from the replay buffer\n",
    "                experiences = replay_buffer.sample(batch_size)\n",
    "                states, actions, rewards, next_states, dones = map(np.array, zip(*experiences))\n",
    "\n",
    "                # Predict Q-values for the next states using the target network\n",
    "                next_q_values = target_q_network(next_states)\n",
    "                max_next_q_values = np.max(next_q_values, axis=1)\n",
    "\n",
    "                # Bellman equation for the target Q-value\n",
    "                targets = rewards + gamma * max_next_q_values * (1 - dones)\n",
    "```\n",
    "\n",
    "### Explanation:\n",
    "- **Experience Sampling**: A batch of experiences is sampled from the replay buffer once there are enough experiences to fill the batch.\n",
    "- **Target Calculation**: \n",
    "  - `next_q_values`: The Q-values for the next states are predicted by the target network.\n",
    "  - `max_next_q_values`: The highest Q-value for the next state is chosen (maximizing future reward).\n",
    "  - **Bellman Equation**: The target Q-value is calculated using the Bellman equation: `reward + (discount factor * max future reward)`. The factor `(1 - dones)` ensures that no future reward is added if the episode is done."
   ]
  },
  {
   "cell_type": "markdown",
   "metadata": {},
   "source": [
    "```python\n",
    "                # Gradient descent to update the Q-network\n",
    "                with tf.GradientTape() as tape:\n",
    "                    q_values = q_network(states)\n",
    "                    action_masks = tf.one_hot(actions, num_actions)\n",
    "                    q_values_taken = tf.reduce_sum(q_values * action_masks, axis=1)\n",
    "                    loss = loss_fn(targets, q_values_taken)\n",
    "\n",
    "                grads = tape.gradient(loss, q_network.trainable_variables)\n",
    "                optimizer.apply_gradients(zip(grads, q_network.trainable_variables))\n",
    "```\n",
    "\n",
    "### Explanation:\n",
    "- **Q-Value Prediction**: The Q-network predicts the Q-values for the batch of states.\n",
    "- **Action Mask**: A one-hot mask is created for the actions taken in those states to extract the Q-values corresponding to the actions the agent chose.\n",
    "- **Loss Calculation**: The difference between the predicted Q-values and the target Q-values is calculated using Mean Squared Error.\n",
    "- **Gradient Descent**: The gradients of the loss are computed with respect to the network's weights, and the optimizer applies these gradients to update the Q-network's parameters."
   ]
  },
  {
   "cell_type": "markdown",
   "metadata": {},
   "source": [
    "```python\n",
    "            if done:\n",
    "                print(f\"Episode {episode + 1}, Total Reward: {total_reward}\")\n",
    "                break\n",
    "\n",
    "        # Update epsilon for the next episode\n",
    "        epsilon = max(min_epsilon, epsilon * epsilon_decay)\n",
    "\n",
    "        # Periodically update the target network\n",
    "        if episode % 10 == 0:\n",
    "            target_q_network.set_weights(q_network.get_weights())\n",
    "```"
   ]
  },
  {
   "cell_type": "markdown",
   "metadata": {},
   "source": [
    "# Let's Build a Real world project to understand the concept of Deep Reinfocement Learning better"
   ]
  },
  {
   "cell_type": "markdown",
   "metadata": {},
   "source": [
    "## Problem Description"
   ]
  },
  {
   "cell_type": "markdown",
   "metadata": {},
   "source": [
    "- The goal of the Cart-Pole problem is to develop an agent that learns to balance the pole by applying the correct forces to the cart. \n",
    "\n",
    "- This requires the agent to continuously adjust its actions based on the pole's current angle and velocity, learning to maintain balance over time."
   ]
  },
  {
   "cell_type": "markdown",
   "metadata": {},
   "source": [
    "## CartPole Dataset Description"
   ]
  },
  {
   "cell_type": "markdown",
   "metadata": {},
   "source": [
    "### Environment Overview"
   ]
  },
  {
   "cell_type": "markdown",
   "metadata": {},
   "source": [
    "The dataset in the CartPole environment is generated through agent-environment interactions. Each instance of the dataset represents the current state of the system, the action taken by the agent, and the resulting next state and reward. The dataset is used to train a reinforcement learning agent, such as a Deep Q-Network (DQN), to learn optimal policies."
   ]
  },
  {
   "cell_type": "markdown",
   "metadata": {},
   "source": [
    "### Features (State Space)"
   ]
  },
  {
   "cell_type": "markdown",
   "metadata": {},
   "source": [
    "The state space in the CartPole environment is a continuous space described by four key features:\n",
    "\n",
    "1. **Cart Position**:\n",
    "   - **Type**: Continuous (Float)\n",
    "   - **Range**: [-2.4, 2.4]\n",
    "   - Describes the position of the cart along the horizontal axis of the track.\n",
    "\n",
    "2. **Cart Velocity**:\n",
    "   - **Type**: Continuous (Float)\n",
    "   - **Range**: [-Inf, Inf]\n",
    "   - Represents the speed and direction of the cart's movement.\n",
    "\n",
    "3. **Pole Angle**:\n",
    "   - **Type**: Continuous (Float)\n",
    "   - **Range**: [-41.8°, 41.8°] (measured in radians)\n",
    "   - Describes the angle of the pole relative to the vertical axis.\n",
    "\n",
    "4. **Pole Angular Velocity**:\n",
    "   - **Type**: Continuous (Float)\n",
    "   - **Range**: [-Inf, Inf]\n",
    "   - Represents the rate of change of the pole's angle, indicating how quickly it is falling or rising."
   ]
  },
  {
   "cell_type": "markdown",
   "metadata": {},
   "source": [
    "### Actions"
   ]
  },
  {
   "cell_type": "markdown",
   "metadata": {},
   "source": [
    "The action space is discrete, consisting of two possible actions:\n",
    "\n",
    "1. **Move Cart Left (Action = 0)**:\n",
    "   - The agent applies a force to move the cart to the left.\n",
    "\n",
    "2. **Move Cart Right (Action = 1)**:\n",
    "   - The agent applies a force to move the cart to the right."
   ]
  },
  {
   "cell_type": "markdown",
   "metadata": {},
   "source": [
    "### Rewards"
   ]
  },
  {
   "cell_type": "markdown",
   "metadata": {},
   "source": [
    "- **Reward**: A constant reward of **+1** is given for each time step where the pole remains upright (i.e., the agent successfully balances the pole).\n",
    "- The goal of the agent is to maximize cumulative rewards over an episode."
   ]
  },
  {
   "cell_type": "markdown",
   "metadata": {},
   "source": [
    "### Episode Termination Conditions"
   ]
  },
  {
   "cell_type": "markdown",
   "metadata": {},
   "source": [
    "The environment episode ends when one of the following conditions is met:\n",
    "1. **Pole Angle exceeds ±12°**: The pole falls beyond a certain angle threshold.\n",
    "2. **Cart Position exceeds ±2.4 units**: The cart moves off the edge of the track.\n",
    "3. **Max Time Steps (500)**: The agent successfully balances the pole for 500 time steps (win condition)."
   ]
  },
  {
   "cell_type": "markdown",
   "metadata": {},
   "source": [
    "### Sample Data Instance"
   ]
  },
  {
   "cell_type": "markdown",
   "metadata": {},
   "source": [
    "A typical dataset instance consists of the following elements:\n",
    "```plaintext\n",
    "[State, Action, Reward, Next State, Done]"
   ]
  },
  {
   "cell_type": "markdown",
   "metadata": {},
   "source": [
    "## Setting up the Environment"
   ]
  },
  {
   "cell_type": "code",
   "execution_count": null,
   "metadata": {},
   "outputs": [],
   "source": [
    "# Importing the required libraries\n",
    "import gym\n",
    "import numpy as np\n",
    "import random\n",
    "from collections import deque\n",
    "import tensorflow as tf\n",
    "from tensorflow.keras.models import Sequential\n",
    "from tensorflow.keras.layers import Dense\n",
    "from tensorflow.keras.optimizers import Adam\n",
    "from tqdm import tqdm\n",
    "import matplotlib.pyplot as plt  # Importing Matplotlib for visualization"
   ]
  },
  {
   "cell_type": "markdown",
   "metadata": {},
   "source": [
    "### Variable Descriptions"
   ]
  },
  {
   "cell_type": "markdown",
   "metadata": {},
   "source": [
    "- **`state_size`**: This variable will hold the size of the state space, which represents the number of features used to describe the environment. For the CartPole problem, this typically includes variables such as the cart position, cart velocity, pole angle, and pole velocity at the tip.\n",
    "\n",
    "- **`action_size`**: This variable represents the number of possible actions the agent can take. In the CartPole environment, there are generally two actions: moving the cart left or moving it right.\n",
    "\n",
    "- **`memory`**: This is a deque (double-ended queue) that will store experiences of the agent during training. The experiences are used for training the model and are limited to the most recent 2000 entries. This helps in efficient memory management by discarding older experiences that may not be relevant.\n",
    "\n",
    "- **`gamma`**: This is the discount factor used in reinforcement learning. It determines the importance of future rewards. A value closer to 1 means that future rewards are considered almost equally to immediate rewards, while a value closer to 0 makes the agent focus on immediate rewards. In this case, `gamma` is set to 0.95.\n",
    "\n",
    "- **`epsilon`**: This is the exploration rate, which controls how often the agent explores new actions versus exploiting known actions. Initially set to 1.0, it encourages the agent to explore the action space. Over time, `epsilon` will decay to promote more exploitation of learned behaviors.\n",
    "\n",
    "- **`epsilon_min`**: This variable defines the minimum value that `epsilon` can decay to. This ensures that the agent maintains some level of exploration even after extensive training.\n",
    "\n",
    "- **`epsilon_decay`**: This factor determines how quickly the exploration rate decays. In this case, it is set to 0.995, meaning the agent will gradually reduce its exploration rate after each episode, allowing it to exploit its learned knowledge more over time.\n",
    "\n",
    "- **`learning_rate`**: This variable sets the learning rate for the Q-learning algorithm, which controls how much the model's weights are updated during training. A smaller learning rate leads to smaller updates and slower convergence.\n",
    "\n",
    "- **`model`**: This variable will eventually hold the neural network model that approximates the Q-values for each action given a state. It will be defined and trained later in the code."
   ]
  },
  {
   "cell_type": "markdown",
   "metadata": {},
   "source": [
    "The following global variables are defined to set up the environment and the parameters for the Deep Q-Learning model:"
   ]
  },
  {
   "cell_type": "code",
   "execution_count": null,
   "metadata": {},
   "outputs": [],
   "source": [
    "# Global variables\n",
    "state_size = 0\n",
    "action_size = 0\n",
    "memory = deque(maxlen=2000)\n",
    "gamma = 0.95    # discount rate\n",
    "epsilon = 1.0   # exploration rate\n",
    "epsilon_min = 0.01\n",
    "epsilon_decay = 0.995\n",
    "learning_rate = 0.001\n",
    "model = None"
   ]
  },
  {
   "cell_type": "markdown",
   "metadata": {},
   "source": [
    "### Parameter Descriptions"
   ]
  },
  {
   "cell_type": "markdown",
   "metadata": {},
   "source": [
    "- **`patience`**: This parameter sets the maximum number of consecutive episodes that the training process will wait for an improvement in performance (reward). In this case, it is set to 20 episodes. If the agent does not achieve a better reward within these episodes, training will be halted.\n",
    "\n",
    "- **`best_reward`**: This variable is initialized to negative infinity (`-float('inf')`). It will hold the highest reward received by the agent during training. Each time the agent achieves a reward greater than `best_reward`, this variable will be updated. This allows us to track the best performance of the agent.\n",
    "\n",
    "- **`wait`**: This counter keeps track of the number of consecutive episodes since the last improvement in reward. It starts at 0 and increments each time the agent fails to achieve a reward higher than `best_reward`. If `wait` exceeds `patience`, training will stop."
   ]
  },
  {
   "cell_type": "code",
   "execution_count": null,
   "metadata": {},
   "outputs": [],
   "source": [
    "# Early stopping parameters\n",
    "patience = 20  # How many episodes to wait for improvement\n",
    "best_reward = -float('inf')  # Initialize best_reward\n",
    "wait = 0  # Counter for episodes without improvement"
   ]
  },
  {
   "cell_type": "markdown",
   "metadata": {},
   "source": [
    "### Variable Descriptions"
   ]
  },
  {
   "cell_type": "markdown",
   "metadata": {},
   "source": [
    "- **`rewards_per_episode`**: This list is used to store the total reward received by the agent in each episode. By recording the total rewards, we can visualize the agent's performance over time and observe trends in learning. A rising trend in this list indicates that the agent is successfully learning to balance the pole.\n",
    "\n",
    "- **`episode_lengths`**: This list keeps track of the number of time steps (or actions taken) in each episode before the episode ends (either by success or failure). Monitoring episode lengths helps us understand how effectively the agent is maintaining balance. Longer episodes suggest better performance.\n",
    "\n",
    "- **`epsilon_values`**: This list stores the values of `epsilon` (the exploration rate) at each episode. Tracking `epsilon` allows us to visualize how the exploration strategy changes over time. As training progresses and `epsilon` decays, we can expect to see a shift from exploration towards exploitation of learned actions.\n",
    "\n",
    "- **`average_rewards`**: This list is used to store the rolling average of rewards over a specified window of episodes. The rolling average smooths out the reward signal, making it easier to visualize trends in performance without being affected by the noise of individual episodes. This metric is particularly useful for observing long-term improvements in the agent's ability to balance the pole."
   ]
  },
  {
   "cell_type": "code",
   "execution_count": null,
   "metadata": {},
   "outputs": [],
   "source": [
    "# Reward tracking for visualization\n",
    "rewards_per_episode = []  # To store total rewards per episode\n",
    "episode_lengths = []      # To store length of each episode\n",
    "epsilon_values = []       # To store epsilon decay values\n",
    "average_rewards = []      # To store the rolling average of rewards"
   ]
  },
  {
   "cell_type": "markdown",
   "metadata": {},
   "source": [
    "- **`loss_values`**: This list is used to store the loss computed at each training step. The loss is typically calculated using a loss function, such as Mean Squared Error (MSE), which measures the difference between the predicted Q-values (outputs of the neural network) and the target Q-values (calculated using the Bellman equation). \n",
    "\n",
    "By recording the loss values, we can visualize how the training process evolves over time. A decreasing trend in the loss indicates that the agent's model is improving its ability to predict Q-values accurately, which is essential for effective decision-making in the environment."
   ]
  },
  {
   "cell_type": "code",
   "execution_count": null,
   "metadata": {},
   "outputs": [],
   "source": [
    "# Loss tracking for visualization\n",
    "loss_values = []  # Store loss per training step"
   ]
  },
  {
   "cell_type": "markdown",
   "metadata": {},
   "source": [
    "## Building the Deep Q-Learning Model"
   ]
  },
  {
   "cell_type": "markdown",
   "metadata": {},
   "source": [
    "### Model Definition"
   ]
  },
  {
   "cell_type": "markdown",
   "metadata": {},
   "source": [
    "- **`global model, state_size, action_size`**: This line declares that the variables `model`, `state_size`, and `action_size` are global, allowing the function to access and modify these variables defined outside the function.\n",
    "\n",
    "- **`model = Sequential()`**: This creates an instance of a sequential model, which is a linear stack of layers in Keras. The Sequential API is easy to use for building simple models.\n",
    "\n",
    "- **`model.add(Dense(24, input_dim=state_size, activation='relu'))`**: This adds the first hidden layer to the model. \n",
    "  - `Dense(24)` specifies a fully connected layer with 24 neurons.\n",
    "  - `input_dim=state_size` defines the input dimension, which corresponds to the size of the state space (i.e., the number of features describing the environment).\n",
    "  - `activation='relu'` uses the Rectified Linear Unit (ReLU) activation function, which helps introduce non-linearity to the model, enabling it to learn complex patterns.\n",
    "\n",
    "- **`model.add(Dense(24, activation='relu'))`**: This adds a second hidden layer to the model, also with 24 neurons and ReLU activation. Stacking multiple layers allows the network to learn more abstract representations of the input.\n",
    "\n",
    "- **`model.add(Dense(action_size, activation='linear'))`**: This adds the output layer, which corresponds to the Q-values for each possible action the agent can take.\n",
    "  - `action_size` specifies the number of output neurons, which should match the number of actions available in the environment.\n",
    "  - `activation='linear'` is used here because we want to output raw Q-values without any activation function limiting the range.\n",
    "\n",
    "- **`model.compile(loss='mse', optimizer=Adam(learning_rate=learning_rate))`**: This compiles the model with the following specifications:\n",
    "  - `loss='mse'` specifies the Mean Squared Error (MSE) as the loss function. MSE measures the average squared difference between predicted Q-values and target Q-values, making it suitable for regression tasks.\n",
    "  - `optimizer=Adam(learning_rate=learning_rate)` uses the Adam optimizer, which is popular for training neural networks due to its adaptive learning rate capabilities."
   ]
  },
  {
   "cell_type": "code",
   "execution_count": null,
   "metadata": {},
   "outputs": [],
   "source": [
    "def build_model():\n",
    "    global model, state_size, action_size\n",
    "    model = Sequential()\n",
    "    model.add(Dense(24, input_dim=state_size, activation='relu'))\n",
    "    model.add(Dense(24, activation='relu'))\n",
    "    model.add(Dense(action_size, activation='linear'))\n",
    "    model.compile(loss='mse', optimizer=Adam(learning_rate=learning_rate))"
   ]
  },
  {
   "cell_type": "markdown",
   "metadata": {},
   "source": [
    "## Memory Management in Deep Q-Learning"
   ]
  },
  {
   "cell_type": "markdown",
   "metadata": {},
   "source": [
    "In reinforcement learning, especially with Deep Q-Learning, it is essential to store experiences from the agent's interactions with the environment. This storage allows the model to learn from past experiences, which is critical for improving its performance over time. The `remember` function is designed to facilitate this experience replay mechanism."
   ]
  },
  {
   "cell_type": "markdown",
   "metadata": {},
   "source": [
    "- **`state`**: This parameter represents the current state of the environment at the time of taking an action. It contains information about the CartPole system, such as the position and velocity of the cart and the angle and angular velocity of the pole.\n",
    "\n",
    "- **`action`**: This parameter denotes the action taken by the agent in the given state. In the CartPole problem, this could be moving the cart left or right.\n",
    "\n",
    "- **`reward`**: This parameter indicates the reward received after taking the action. In the context of the CartPole problem, the agent typically receives a positive reward for each time step the pole remains upright.\n",
    "\n",
    "- **`next_state`**: This parameter represents the state of the environment after the action has been taken. It contains updated information about the system after the agent's decision.\n",
    "\n",
    "- **`done`**: This boolean parameter indicates whether the episode has ended (i.e., whether the pole has fallen). It helps in understanding if the current experience was the last step in the episode.\n",
    "\n",
    "- **`memory.append(...)`**: This line appends the tuple `(state, action, reward, next_state, done)` to the `memory` deque (double-ended queue). The use of a deque allows for efficient appending and removing of old experiences. The maximum length of `memory` is predefined (as seen in the global variable section), ensuring that only the most recent experiences are stored, which is crucial for managing memory effectively."
   ]
  },
  {
   "cell_type": "code",
   "execution_count": null,
   "metadata": {},
   "outputs": [],
   "source": [
    "def remember(state, action, reward, next_state, done):\n",
    "    memory.append((state, action, reward, next_state, done))"
   ]
  },
  {
   "cell_type": "markdown",
   "metadata": {},
   "source": [
    "## Action Selection in Deep Q-Learning"
   ]
  },
  {
   "cell_type": "markdown",
   "metadata": {},
   "source": [
    "The agent’s ability to select the best action in any given state is crucial to solving the CartPole problem. The `act` function is responsible for deciding whether the agent should explore the environment by taking random actions or exploit its current knowledge by selecting the best-known action. This balance between exploration and exploitation is governed by an important parameter known as `epsilon` in the **epsilon-greedy policy**."
   ]
  },
  {
   "cell_type": "markdown",
   "metadata": {},
   "source": [
    "- **`global epsilon`**: The function uses the global `epsilon` variable, which represents the exploration rate. This value determines the likelihood of the agent choosing a random action over exploiting the learned Q-values.\n",
    "\n",
    "- **Exploration Phase (`if np.random.rand() <= epsilon`)**: \n",
    "    - `np.random.rand()` generates a random float between 0 and 1.\n",
    "    - If this random value is less than or equal to `epsilon`, the agent explores by taking a random action.\n",
    "    - `random.randrange(action_size)` returns a random action from the set of possible actions (in CartPole, this is typically 0 or 1, corresponding to moving the cart left or right). This random action encourages exploration, allowing the agent to discover potentially better strategies.\n",
    "\n",
    "- **Exploitation Phase (`act_values = model.predict(state, verbose=0)`)**:\n",
    "    - If the random value is greater than `epsilon`, the agent uses its trained neural network to predict the Q-values for the current state. \n",
    "    - `model.predict(state, verbose=0)` runs the input `state` through the model to obtain predicted Q-values for all possible actions. These Q-values represent the agent's current estimate of the total expected reward for each action.\n",
    "    - `return np.argmax(act_values[0])`: The agent selects the action with the highest predicted Q-value by taking the `argmax` (index of the maximum value) of the output array. This is the exploitation part, where the agent chooses the action it believes will yield the highest reward based on its learning so far."
   ]
  },
  {
   "cell_type": "markdown",
   "metadata": {},
   "source": [
    "### Epsilon-Greedy Policy\n",
    "\n",
    "The agent follows an **epsilon-greedy policy**, where:\n",
    "- With probability `epsilon`, the agent explores the environment by taking a random action.\n",
    "- With probability `1 - epsilon`, the agent exploits the learned Q-values by choosing the action with the highest predicted value.\n",
    "\n",
    "The exploration rate (`epsilon`) starts high (to encourage exploration) and decays over time as the agent becomes more confident in its learned strategy. The gradual reduction in exploration ensures that the agent focuses on exploiting its knowledge as training progresses."
   ]
  },
  {
   "cell_type": "code",
   "execution_count": null,
   "metadata": {},
   "outputs": [],
   "source": [
    "def act(state):\n",
    "    global epsilon\n",
    "    if np.random.rand() <= epsilon:\n",
    "        return random.randrange(action_size)\n",
    "    act_values = model.predict(state, verbose=0)\n",
    "    return np.argmax(act_values[0])"
   ]
  },
  {
   "cell_type": "markdown",
   "metadata": {},
   "source": [
    "## Experience Replay in Deep Q-Learning"
   ]
  },
  {
   "cell_type": "markdown",
   "metadata": {},
   "source": [
    "The `replay` function implements **experience replay**, a critical technique in Deep Q-Learning that allows the agent to learn from past experiences by sampling a random minibatch of stored experiences. This helps break the correlation between consecutive experiences and improves the stability and efficiency of the learning process."
   ]
  },
  {
   "cell_type": "markdown",
   "metadata": {},
   "source": [
    "1. **`minibatch = random.sample(memory, batch_size)`**:\n",
    "   - This line samples a random minibatch of experiences (of size `batch_size`) from the `memory` deque. Each experience contains the tuple `(state, action, reward, next_state, done)` that represents a single step in the environment.\n",
    "\n",
    "2. **`states = np.array([sample[0] for sample in minibatch])`**:\n",
    "   - This extracts the `state` part of each experience in the minibatch and converts it into a NumPy array for batch processing by the neural network.\n",
    "\n",
    "3. **Reshape States**:\n",
    "   - `states = states.reshape(batch_size, state_size)` ensures that the states have the correct shape for input into the model, with dimensions corresponding to the batch size and the size of the state space.\n",
    "\n",
    "4. **`targets = model.predict(states, verbose=0)`**:\n",
    "   - The model predicts the Q-values for all possible actions for each state in the minibatch. This generates a batch of Q-value predictions (`targets`), which will be used to compute the updated Q-values for training.\n",
    "\n",
    "5. **Tracking Loss**:\n",
    "   - `total_loss = 0` initializes a variable to keep track of the total loss for the current minibatch. Loss values are important for monitoring the model’s training progress.\n",
    "\n",
    "6. **Updating Q-Values in the Minibatch**:\n",
    "   - The loop `for i, (state, action, reward, next_state, done) in enumerate(minibatch)` iterates through each experience in the minibatch. For each experience:\n",
    "     - **Terminal States**: If `done` is `True`, the agent receives the immediate reward, as there are no future rewards.\n",
    "     - **Non-terminal States**: If `done` is `False`, the Q-value is updated as `reward + gamma * max(Q(next_state))`. The agent predicts the Q-values for the next state and selects the maximum future reward, discounted by `gamma`.\n",
    "     - **`targets[i][action] = target`**: The Q-value corresponding to the action taken is updated with the computed target value.\n",
    "\n",
    "7. **Training the Model**:\n",
    "   - `history = model.fit(states, targets, epochs=1, verbose=0)` trains the model on the batch of updated Q-values (`targets`). The `fit` function performs one epoch of training on the states and their corresponding target Q-values.\n",
    "   - The loss for this minibatch is extracted from `history.history['loss'][0]` and added to `total_loss`. This helps in monitoring how much the model is improving over time.\n",
    "\n",
    "8. **Track Loss**:\n",
    "   - `loss_values.append(total_loss)` appends the loss from the current minibatch to the `loss_values` list for visualization and analysis.\n",
    "\n",
    "9. **Epsilon Decay**:\n",
    "   - After each training step, the exploration rate (`epsilon`) decays, ensuring that the agent gradually shifts from exploration to exploitation as training progresses. This decay is defined as `epsilon *= epsilon_decay`, ensuring that `epsilon` never falls below `epsilon_min`."
   ]
  },
  {
   "cell_type": "markdown",
   "metadata": {},
   "source": [
    "### Key Concepts\n",
    "\n",
    "- **Experience Replay**: By randomly sampling experiences from memory, the agent learns from a diverse set of past experiences, which helps break the correlation between consecutive samples and improves learning efficiency.\n",
    "  \n",
    "- **Target Q-Values**: The target Q-values for each action are computed based on the Bellman equation, which updates the Q-value based on the reward and the discounted maximum future reward.\n",
    "\n",
    "- **Epsilon-Greedy Decay**: As training progresses, the exploration rate `epsilon` is reduced, allowing the agent to focus more on exploitation (choosing actions based on learned Q-values) as it becomes more confident in its knowledge."
   ]
  },
  {
   "cell_type": "code",
   "execution_count": null,
   "metadata": {},
   "outputs": [],
   "source": [
    "def replay(batch_size):\n",
    "    global epsilon\n",
    "    minibatch = random.sample(memory, batch_size)\n",
    "    states = np.array([sample[0] for sample in minibatch])\n",
    "\n",
    "    # Ensure states are shaped correctly\n",
    "    states = states.reshape(batch_size, state_size)\n",
    "\n",
    "    targets = model.predict(states, verbose=0)\n",
    "    \n",
    "    # Tracking loss\n",
    "    total_loss = 0\n",
    "\n",
    "    for i, (state, action, reward, next_state, done) in enumerate(minibatch):\n",
    "        target = reward\n",
    "        if not done:\n",
    "            next_state = np.reshape(next_state, [1, state_size])\n",
    "            target = (reward + gamma * np.amax(model.predict(next_state, verbose=0)[0]))\n",
    "        targets[i][action] = target\n",
    "    \n",
    "    # Train the model and track the loss\n",
    "    history = model.fit(states, targets, epochs=1, verbose=0)\n",
    "    total_loss += history.history['loss'][0]  # Capture loss for this minibatch\n",
    "\n",
    "    loss_values.append(total_loss)  # Track loss per batch\n",
    "\n",
    "    if epsilon > epsilon_min:\n",
    "        epsilon *= epsilon_decay"
   ]
  },
  {
   "cell_type": "markdown",
   "metadata": {},
   "source": [
    "## Saving the Model in Deep Q-Learning"
   ]
  },
  {
   "cell_type": "markdown",
   "metadata": {},
   "source": [
    "The `save_model` function is responsible for saving the trained weights of the neural network model at any given point in time. This is essential for preserving the model’s learning progress and reusing the trained model in future sessions without needing to retrain from scratch.\n",
    "\n",
    "**`model.save_weights(name)`**:\n",
    "   - The `save_weights` method is part of the Keras API, and it saves only the **weights** (parameters) of the neural network model. These weights represent the knowledge that the model has acquired through training.\n",
    "   - The `name` parameter specifies the filename or path where the model's weights will be stored. This allows flexibility in naming the saved file based on, for example, the number of episodes completed or the agent's performance."
   ]
  },
  {
   "cell_type": "markdown",
   "metadata": {},
   "source": [
    "### Why Save the Model?"
   ]
  },
  {
   "cell_type": "markdown",
   "metadata": {},
   "source": [
    "1. **Checkpointing**: Saving the model’s weights at regular intervals (e.g., after certain episodes or when the performance improves) acts as a checkpoint. This ensures that if the training process is interrupted, you can resume training or use the model for testing without losing progress.\n",
    "\n",
    "2. **Reusability**: Once the model has been trained to a satisfactory level, you can save its weights and load them later for use in predictions or deployment. This avoids retraining the model from scratch, saving time and computational resources.\n",
    "\n",
    "3. **Model Evaluation**: By saving models at different stages of training, you can compare their performance and identify the point at which the model performs best, which can be useful in tasks like hyperparameter tuning or avoiding overfitting."
   ]
  },
  {
   "cell_type": "code",
   "execution_count": null,
   "metadata": {},
   "outputs": [],
   "source": [
    "def save_model(name):\n",
    "    # Ensure the filename ends with .weights.h5\n",
    "    if not name.endswith('.weights.h5'):\n",
    "        name = name.replace('.h5', '.weights.h5')\n",
    "    model.save_weights(name)"
   ]
  },
  {
   "cell_type": "markdown",
   "metadata": {},
   "source": [
    "## Loading the Model in Deep Q-Learning"
   ]
  },
  {
   "cell_type": "markdown",
   "metadata": {},
   "source": [
    "The `load_model` function is responsible for loading previously saved weights into the neural network model. This allows you to restore the model's learned parameters and continue training or testing without retraining the model from scratch."
   ]
  },
  {
   "cell_type": "code",
   "execution_count": null,
   "metadata": {},
   "outputs": [],
   "source": [
    "def load_model(name):\n",
    "    model.load_weights(name)"
   ]
  },
  {
   "cell_type": "code",
   "execution_count": null,
   "metadata": {},
   "outputs": [],
   "source": [
    "def plot_visualizations():\n",
    "    # Plot rewards per episode\n",
    "    plt.figure(figsize=(14, 6))\n",
    "    \n",
    "    plt.subplot(2, 2, 1)\n",
    "    plt.plot(rewards_per_episode)\n",
    "    plt.title('Total Rewards per Episode')\n",
    "    plt.xlabel('Episode')\n",
    "    plt.ylabel('Total Reward')\n",
    "    plt.grid()\n",
    "\n",
    "    # Plot episode lengths\n",
    "    plt.subplot(2, 2, 2)\n",
    "    plt.plot(episode_lengths)\n",
    "    plt.title('Episode Length per Episode')\n",
    "    plt.xlabel('Episode')\n",
    "    plt.ylabel('Episode Length (Timesteps)')\n",
    "    plt.grid()\n",
    "\n",
    "    # Plot epsilon decay\n",
    "    plt.subplot(2, 2, 3)\n",
    "    plt.plot(epsilon_values)\n",
    "    plt.title('Epsilon Decay Over Time')\n",
    "    plt.xlabel('Episode')\n",
    "    plt.ylabel('Epsilon Value')\n",
    "    plt.grid()\n",
    "\n",
    "    # Plot loss over time\n",
    "    plt.subplot(2, 2, 4)\n",
    "    plt.plot(loss_values)\n",
    "    plt.title('Loss Per Training Step')\n",
    "    plt.xlabel('Training Step')\n",
    "    plt.ylabel('Loss')\n",
    "    plt.grid()\n",
    "\n",
    "    # Show the plot\n",
    "    plt.tight_layout()\n",
    "    plt.show()"
   ]
  },
  {
   "cell_type": "markdown",
   "metadata": {},
   "source": [
    "## Main Function: Putting It All Together in Deep Q-Learning"
   ]
  },
  {
   "cell_type": "markdown",
   "metadata": {},
   "source": [
    "The `main` function orchestrates the entire training process for the CartPole problem using Deep Q-Learning. It sets up the environment, initializes the agent, and executes the training loop. This function is where the reinforcement learning process unfolds over multiple episodes, allowing the agent to learn by interacting with the environment."
   ]
  },
  {
   "cell_type": "markdown",
   "metadata": {},
   "source": [
    "### Environment Setup\n",
    "\n",
    "```python\n",
    "env = gym.make('CartPole-v1')\n",
    "state_size = env.observation_space.shape[0]\n",
    "action_size = env.action_space.n\n",
    "build_model()\n",
    "```\n",
    "- **`env = gym.make('CartPole-v1')`**: This line creates the CartPole environment using OpenAI Gym, which provides a simulated environment for training reinforcement learning agents.\n",
    "- **`state_size`**: The state size corresponds to the number of features in the observation space, i.e., the state that the agent perceives (position, velocity, etc.).\n",
    "- **`action_size`**: This represents the number of possible actions (in the CartPole problem, this is moving left or right).\n",
    "- **`build_model()`**: The model is built using the neural network architecture defined earlier."
   ]
  },
  {
   "cell_type": "markdown",
   "metadata": {},
   "source": [
    "### Training Parameters\n",
    "\n",
    "```python\n",
    "batch_size = 32\n",
    "episodes = 1000\n",
    "rolling_avg_window = 10\n",
    "```\n",
    "- **`batch_size`**: The number of experiences sampled from memory for each replay to update the model.\n",
    "- **`episodes`**: Total number of episodes for training.\n",
    "- **`rolling_avg_window`**: Window size for calculating the rolling average of rewards to monitor performance trends."
   ]
  },
  {
   "cell_type": "markdown",
   "metadata": {},
   "source": [
    "### Training Loop\n",
    "\n",
    "```python\n",
    "for e in range(episodes):\n",
    "```\n",
    "The training loop runs for the specified number of episodes. In each episode, the agent interacts with the environment, gathers experiences, and uses them to improve its policy."
   ]
  },
  {
   "cell_type": "markdown",
   "metadata": {},
   "source": [
    "#### Resetting the Environment\n",
    "\n",
    "```python\n",
    "state, _ = env.reset()\n",
    "state = np.reshape(state, [1, state_size])\n",
    "total_reward = 0\n",
    "```\n",
    "- **`env.reset()`**: Resets the environment at the beginning of each episode, returning the initial state.\n",
    "- **`np.reshape(state, [1, state_size])`**: Reshapes the state to match the input shape required by the neural network model."
   ]
  },
  {
   "cell_type": "markdown",
   "metadata": {},
   "source": [
    "#### Episode Execution\n",
    "\n",
    "```python\n",
    "for time in range(500):\n",
    "    action = act(state)\n",
    "    next_state, reward, done, _, _ = env.step(action)\n",
    "    reward = reward if not done else -10\n",
    "    next_state = np.reshape(next_state, [1, state_size])\n",
    "    remember(state, action, reward, next_state, done)\n",
    "    state = next_state\n",
    "    total_reward += reward\n",
    "    if done:\n",
    "        break\n",
    "```\n",
    "- **`act(state)`**: The agent selects an action based on the current state using an epsilon-greedy strategy (explore vs exploit).\n",
    "- **`env.step(action)`**: Takes the action in the environment and returns the next state, reward, and whether the episode has ended (`done`).\n",
    "- **`reward = reward if not done else -10`**: Assigns a negative reward if the pole falls over (`done`).\n",
    "- **`remember(...)`**: The experience (state, action, reward, next state, done) is stored in memory for replay.\n",
    "- **`total_reward += reward`**: Tracks the cumulative reward for the episode."
   ]
  },
  {
   "cell_type": "markdown",
   "metadata": {},
   "source": [
    "#### Experience Replay\n",
    "\n",
    "```python\n",
    "if len(memory) > batch_size:\n",
    "    replay(batch_size)\n",
    "```\n",
    "Once the memory buffer has enough samples, the agent starts learning from past experiences by performing **experience replay**, which involves randomly sampling from memory and updating the model based on those experiences."
   ]
  },
  {
   "cell_type": "markdown",
   "metadata": {},
   "source": [
    "### Early Stopping\n",
    "\n",
    "```python\n",
    "if total_reward > best_reward:\n",
    "    best_reward = total_reward\n",
    "    wait = 0\n",
    "else:\n",
    "    wait += 1\n",
    "\n",
    "if wait >= patience:\n",
    "    print(f\"Early stopping on episode {e + 1}. Best reward was {best_reward}.\")\n",
    "    break\n",
    "```\n",
    "- **Early Stopping**: The training stops early if there’s no improvement in total rewards after a certain number of episodes (controlled by the `patience` parameter). This helps avoid unnecessary episodes when the model has converged."
   ]
  },
  {
   "cell_type": "markdown",
   "metadata": {},
   "source": [
    "### Saving the Model\n",
    "\n",
    "```python\n",
    "if e % 10 == 0:\n",
    "    save_model(\"cartpole-dqn.h5\")\n",
    "```\n",
    "The model is saved every 10 episodes using the `save_model` function to keep checkpoints of the model's progress.\n"
   ]
  },
  {
   "cell_type": "markdown",
   "metadata": {},
   "source": [
    "### Tracking Progress and Performance\n",
    "\n",
    "Throughout the loop, the function tracks key metrics like total rewards, episode lengths, and epsilon values for later visualization:\n",
    "\n",
    "```python\n",
    "rewards_per_episode.append(total_reward)\n",
    "episode_lengths.append(time)\n",
    "epsilon_values.append(epsilon)\n",
    "```"
   ]
  },
  {
   "cell_type": "markdown",
   "metadata": {},
   "source": [
    "### Progress Bar and Visualizations\n",
    "\n",
    "```python\n",
    "progress_bar = tqdm(total=episodes, desc='Training Progress', position=0, leave=True)\n",
    "progress_bar.update(1)\n",
    "progress_bar.set_postfix({'Episode': e + 1})\n",
    "```\n",
    "A progress bar (using `tqdm`) shows real-time progress through the episodes. At the end of training, the function calls `plot_visualizations()` to generate graphs for rewards, episode lengths, epsilon decay, and loss tracking."
   ]
  },
  {
   "cell_type": "code",
   "execution_count": null,
   "metadata": {},
   "outputs": [],
   "source": [
    "def main():\n",
    "    global state_size, action_size, model, best_reward, wait  # Declare as global\n",
    "    env = gym.make('CartPole-v1')\n",
    "    state_size = env.observation_space.shape[0]\n",
    "    action_size = env.action_space.n\n",
    "    build_model()\n",
    "    batch_size = 32\n",
    "    episodes = 1000\n",
    "    rolling_avg_window = 10  # Rolling average window for rewards\n",
    "\n",
    "    # Set up the progress bar\n",
    "    progress_bar = tqdm(total=episodes, desc='Training Progress', position=0, leave=True)\n",
    "\n",
    "    for e in range(episodes):\n",
    "        state, _ = env.reset()\n",
    "        state = np.reshape(state, [1, state_size])\n",
    "        total_reward = 0\n",
    "\n",
    "        for time in range(500):\n",
    "            action = act(state)\n",
    "            next_state, reward, done, _, _ = env.step(action)\n",
    "            reward = reward if not done else -10\n",
    "            next_state = np.reshape(next_state, [1, state_size])\n",
    "            remember(state, action, reward, next_state, done)\n",
    "            state = next_state\n",
    "            total_reward += reward\n",
    "            if done:\n",
    "                break\n",
    "            \n",
    "            if len(memory) > batch_size:\n",
    "                replay(batch_size)\n",
    "\n",
    "        # Store total reward for this episode\n",
    "        rewards_per_episode.append(total_reward)\n",
    "\n",
    "        # Store episode length\n",
    "        episode_lengths.append(time)\n",
    "\n",
    "        # Store epsilon values\n",
    "        epsilon_values.append(epsilon)\n",
    "\n",
    "        # Update the rolling average reward\n",
    "        if len(rewards_per_episode) >= rolling_avg_window:\n",
    "            avg_reward = np.mean(rewards_per_episode[-rolling_avg_window:])\n",
    "            average_rewards.append(avg_reward)\n",
    "        \n",
    "        # Update the progress bar\n",
    "        progress_bar.update(1)\n",
    "        progress_bar.set_postfix({'Episode': e + 1})\n",
    "\n",
    "        # Print episode details\n",
    "        print(f\"Episode: {e + 1}/{episodes}, Score: {total_reward}, Epsilon: {epsilon:.2f}\")\n",
    "\n",
    "        # Early stopping check\n",
    "        if total_reward > best_reward:\n",
    "            best_reward = total_reward\n",
    "            wait = 0  # Reset wait counter\n",
    "        else:\n",
    "            wait += 1  # Increment wait counter\n",
    "        \n",
    "        if wait >= patience:\n",
    "            print(f\"Early stopping on episode {e + 1}. Best reward was {best_reward}.\")\n",
    "            break\n",
    "        \n",
    "        if e % 10 == 0:\n",
    "            save_model(\"cartpole-dqn.h5\")\n",
    "    \n",
    "    # Close the progress bar\n",
    "    progress_bar.close()\n",
    "\n",
    "    # Generate the visualizations\n",
    "    plot_visualizations()"
   ]
  },
  {
   "cell_type": "code",
   "execution_count": null,
   "metadata": {},
   "outputs": [
    {
     "name": "stderr",
     "output_type": "stream",
     "text": [
      "Training Progress:   0%|          | 1/1000 [00:00<00:00, 1691.25it/s, Episode=1]"
     ]
    },
    {
     "name": "stdout",
     "output_type": "stream",
     "text": [
      "Episode: 1/1000, Score: 22.0, Epsilon: 1.00\n"
     ]
    },
    {
     "name": "stderr",
     "output_type": "stream",
     "text": [
      "Training Progress:   0%|          | 2/1000 [00:09<1:17:54,  4.68s/it, Episode=2]"
     ]
    },
    {
     "name": "stdout",
     "output_type": "stream",
     "text": [
      "Episode: 2/1000, Score: 0.0, Epsilon: 0.95\n"
     ]
    },
    {
     "name": "stderr",
     "output_type": "stream",
     "text": [
      "Training Progress:   0%|          | 3/1000 [00:25<2:38:08,  9.52s/it, Episode=3]"
     ]
    },
    {
     "name": "stdout",
     "output_type": "stream",
     "text": [
      "Episode: 3/1000, Score: 8.0, Epsilon: 0.87\n"
     ]
    },
    {
     "name": "stderr",
     "output_type": "stream",
     "text": [
      "Training Progress:   0%|          | 4/1000 [00:51<4:19:41, 15.64s/it, Episode=4]"
     ]
    },
    {
     "name": "stdout",
     "output_type": "stream",
     "text": [
      "Episode: 4/1000, Score: 19.0, Epsilon: 0.75\n"
     ]
    },
    {
     "name": "stderr",
     "output_type": "stream",
     "text": [
      "Training Progress:   0%|          | 5/1000 [01:05<4:07:25, 14.92s/it, Episode=5]"
     ]
    },
    {
     "name": "stdout",
     "output_type": "stream",
     "text": [
      "Episode: 5/1000, Score: 5.0, Epsilon: 0.70\n"
     ]
    },
    {
     "name": "stderr",
     "output_type": "stream",
     "text": [
      "Training Progress:   1%|          | 6/1000 [01:24<4:29:37, 16.27s/it, Episode=6]"
     ]
    },
    {
     "name": "stdout",
     "output_type": "stream",
     "text": [
      "Episode: 6/1000, Score: 11.0, Epsilon: 0.63\n"
     ]
    },
    {
     "name": "stderr",
     "output_type": "stream",
     "text": [
      "Training Progress:   1%|          | 7/1000 [01:48<5:12:58, 18.91s/it, Episode=7]"
     ]
    },
    {
     "name": "stdout",
     "output_type": "stream",
     "text": [
      "Episode: 7/1000, Score: 17.0, Epsilon: 0.55\n"
     ]
    },
    {
     "name": "stderr",
     "output_type": "stream",
     "text": [
      "Training Progress:   1%|          | 8/1000 [02:39<8:00:22, 29.05s/it, Episode=8]"
     ]
    },
    {
     "name": "stdout",
     "output_type": "stream",
     "text": [
      "Episode: 8/1000, Score: 45.0, Epsilon: 0.42\n"
     ]
    },
    {
     "name": "stderr",
     "output_type": "stream",
     "text": [
      "Training Progress:   1%|          | 9/1000 [03:21<9:07:03, 33.12s/it, Episode=9]"
     ]
    },
    {
     "name": "stdout",
     "output_type": "stream",
     "text": [
      "Episode: 9/1000, Score: 35.0, Epsilon: 0.33\n"
     ]
    },
    {
     "name": "stderr",
     "output_type": "stream",
     "text": [
      "Training Progress:   1%|          | 10/1000 [03:30<7:01:16, 25.53s/it, Episode=10]"
     ]
    },
    {
     "name": "stdout",
     "output_type": "stream",
     "text": [
      "Episode: 10/1000, Score: -1.0, Epsilon: 0.32\n"
     ]
    },
    {
     "name": "stderr",
     "output_type": "stream",
     "text": [
      "Training Progress:   1%|          | 11/1000 [03:39<5:36:09, 20.39s/it, Episode=11]"
     ]
    },
    {
     "name": "stdout",
     "output_type": "stream",
     "text": [
      "Episode: 11/1000, Score: -1.0, Epsilon: 0.30\n"
     ]
    },
    {
     "name": "stderr",
     "output_type": "stream",
     "text": [
      "Training Progress:   1%|          | 12/1000 [03:51<4:56:01, 17.98s/it, Episode=12]"
     ]
    },
    {
     "name": "stdout",
     "output_type": "stream",
     "text": [
      "Episode: 12/1000, Score: 3.0, Epsilon: 0.28\n"
     ]
    },
    {
     "name": "stderr",
     "output_type": "stream",
     "text": [
      "Training Progress:   1%|▏         | 13/1000 [03:59<4:07:03, 15.02s/it, Episode=13]"
     ]
    },
    {
     "name": "stdout",
     "output_type": "stream",
     "text": [
      "Episode: 13/1000, Score: -1.0, Epsilon: 0.27\n"
     ]
    },
    {
     "name": "stderr",
     "output_type": "stream",
     "text": [
      "Training Progress:   1%|▏         | 14/1000 [04:07<3:29:35, 12.75s/it, Episode=14]"
     ]
    },
    {
     "name": "stdout",
     "output_type": "stream",
     "text": [
      "Episode: 14/1000, Score: -2.0, Epsilon: 0.26\n"
     ]
    },
    {
     "name": "stderr",
     "output_type": "stream",
     "text": [
      "Training Progress:   2%|▏         | 15/1000 [04:17<3:17:12, 12.01s/it, Episode=15]"
     ]
    },
    {
     "name": "stdout",
     "output_type": "stream",
     "text": [
      "Episode: 15/1000, Score: 1.0, Epsilon: 0.25\n"
     ]
    },
    {
     "name": "stderr",
     "output_type": "stream",
     "text": [
      "Training Progress:   2%|▏         | 16/1000 [04:25<2:55:46, 10.72s/it, Episode=16]"
     ]
    },
    {
     "name": "stdout",
     "output_type": "stream",
     "text": [
      "Episode: 16/1000, Score: -2.0, Epsilon: 0.24\n"
     ]
    },
    {
     "name": "stderr",
     "output_type": "stream",
     "text": [
      "Training Progress:   2%|▏         | 17/1000 [04:36<2:57:40, 10.84s/it, Episode=17]"
     ]
    },
    {
     "name": "stdout",
     "output_type": "stream",
     "text": [
      "Episode: 17/1000, Score: 2.0, Epsilon: 0.22\n"
     ]
    },
    {
     "name": "stderr",
     "output_type": "stream",
     "text": [
      "Training Progress:   2%|▏         | 18/1000 [06:12<9:55:48, 36.40s/it, Episode=18]"
     ]
    },
    {
     "name": "stdout",
     "output_type": "stream",
     "text": [
      "Episode: 18/1000, Score: 92.0, Epsilon: 0.13\n"
     ]
    },
    {
     "name": "stderr",
     "output_type": "stream",
     "text": [
      "Training Progress:   2%|▏         | 19/1000 [06:20<7:36:16, 27.91s/it, Episode=19]"
     ]
    },
    {
     "name": "stdout",
     "output_type": "stream",
     "text": [
      "Episode: 19/1000, Score: -1.0, Epsilon: 0.13\n"
     ]
    },
    {
     "name": "stderr",
     "output_type": "stream",
     "text": [
      "Training Progress:   2%|▏         | 20/1000 [06:29<6:05:00, 22.35s/it, Episode=20]"
     ]
    },
    {
     "name": "stdout",
     "output_type": "stream",
     "text": [
      "Episode: 20/1000, Score: 0.0, Epsilon: 0.12\n"
     ]
    },
    {
     "name": "stderr",
     "output_type": "stream",
     "text": [
      "Training Progress:   2%|▏         | 21/1000 [06:44<5:28:21, 20.12s/it, Episode=21]"
     ]
    },
    {
     "name": "stdout",
     "output_type": "stream",
     "text": [
      "Episode: 21/1000, Score: 6.0, Epsilon: 0.11\n"
     ]
    },
    {
     "name": "stderr",
     "output_type": "stream",
     "text": [
      "Training Progress:   2%|▏         | 22/1000 [08:02<10:11:26, 37.51s/it, Episode=22]"
     ]
    },
    {
     "name": "stdout",
     "output_type": "stream",
     "text": [
      "Episode: 22/1000, Score: 75.0, Epsilon: 0.07\n"
     ]
    },
    {
     "name": "stderr",
     "output_type": "stream",
     "text": [
      "Training Progress:   2%|▏         | 23/1000 [09:45<15:31:27, 57.20s/it, Episode=23]"
     ]
    },
    {
     "name": "stdout",
     "output_type": "stream",
     "text": [
      "Episode: 23/1000, Score: 102.0, Epsilon: 0.04\n"
     ]
    },
    {
     "name": "stderr",
     "output_type": "stream",
     "text": [
      "Training Progress:   2%|▏         | 24/1000 [10:23<13:56:21, 51.42s/it, Episode=24]"
     ]
    },
    {
     "name": "stdout",
     "output_type": "stream",
     "text": [
      "Episode: 24/1000, Score: 31.0, Epsilon: 0.03\n"
     ]
    },
    {
     "name": "stderr",
     "output_type": "stream",
     "text": [
      "Training Progress:   2%|▎         | 25/1000 [11:11<13:39:22, 50.42s/it, Episode=25]"
     ]
    },
    {
     "name": "stdout",
     "output_type": "stream",
     "text": [
      "Episode: 25/1000, Score: 42.0, Epsilon: 0.03\n"
     ]
    },
    {
     "name": "stderr",
     "output_type": "stream",
     "text": [
      "Training Progress:   3%|▎         | 26/1000 [12:36<16:23:31, 60.59s/it, Episode=26]"
     ]
    },
    {
     "name": "stdout",
     "output_type": "stream",
     "text": [
      "Episode: 26/1000, Score: 81.0, Epsilon: 0.02\n"
     ]
    },
    {
     "name": "stderr",
     "output_type": "stream",
     "text": [
      "Training Progress:   3%|▎         | 27/1000 [13:15<14:38:00, 54.14s/it, Episode=27]"
     ]
    },
    {
     "name": "stdout",
     "output_type": "stream",
     "text": [
      "Episode: 27/1000, Score: 32.0, Epsilon: 0.01\n"
     ]
    },
    {
     "name": "stderr",
     "output_type": "stream",
     "text": [
      "Training Progress:   3%|▎         | 28/1000 [14:26<16:01:32, 59.35s/it, Episode=28]"
     ]
    },
    {
     "name": "stdout",
     "output_type": "stream",
     "text": [
      "Episode: 28/1000, Score: 66.0, Epsilon: 0.01\n"
     ]
    },
    {
     "name": "stderr",
     "output_type": "stream",
     "text": [
      "Training Progress:   3%|▎         | 29/1000 [14:53<13:24:08, 49.69s/it, Episode=29]"
     ]
    },
    {
     "name": "stdout",
     "output_type": "stream",
     "text": [
      "Episode: 29/1000, Score: 18.0, Epsilon: 0.01\n"
     ]
    },
    {
     "name": "stderr",
     "output_type": "stream",
     "text": [
      "Training Progress:   3%|▎         | 30/1000 [18:26<26:33:38, 98.58s/it, Episode=30]"
     ]
    },
    {
     "name": "stdout",
     "output_type": "stream",
     "text": [
      "Episode: 30/1000, Score: 215.0, Epsilon: 0.01\n"
     ]
    },
    {
     "name": "stderr",
     "output_type": "stream",
     "text": [
      "Training Progress:   3%|▎         | 31/1000 [21:14<32:09:46, 119.49s/it, Episode=31]"
     ]
    },
    {
     "name": "stdout",
     "output_type": "stream",
     "text": [
      "Episode: 31/1000, Score: 165.0, Epsilon: 0.01\n"
     ]
    },
    {
     "name": "stderr",
     "output_type": "stream",
     "text": [
      "Training Progress:   3%|▎         | 32/1000 [23:26<33:07:03, 123.16s/it, Episode=32]"
     ]
    },
    {
     "name": "stdout",
     "output_type": "stream",
     "text": [
      "Episode: 32/1000, Score: 127.0, Epsilon: 0.01\n"
     ]
    },
    {
     "name": "stderr",
     "output_type": "stream",
     "text": [
      "Training Progress:   3%|▎         | 33/1000 [25:27<32:53:27, 122.45s/it, Episode=33]"
     ]
    },
    {
     "name": "stdout",
     "output_type": "stream",
     "text": [
      "Episode: 33/1000, Score: 116.0, Epsilon: 0.01\n"
     ]
    },
    {
     "name": "stderr",
     "output_type": "stream",
     "text": [
      "Training Progress:   3%|▎         | 34/1000 [27:56<35:00:17, 130.45s/it, Episode=34]"
     ]
    },
    {
     "name": "stdout",
     "output_type": "stream",
     "text": [
      "Episode: 34/1000, Score: 147.0, Epsilon: 0.01\n"
     ]
    },
    {
     "name": "stderr",
     "output_type": "stream",
     "text": [
      "Training Progress:   4%|▎         | 35/1000 [30:35<37:14:57, 138.96s/it, Episode=35]"
     ]
    },
    {
     "name": "stdout",
     "output_type": "stream",
     "text": [
      "Episode: 35/1000, Score: 154.0, Epsilon: 0.01\n"
     ]
    },
    {
     "name": "stderr",
     "output_type": "stream",
     "text": [
      "Training Progress:   4%|▎         | 36/1000 [31:33<30:43:53, 114.77s/it, Episode=36]"
     ]
    },
    {
     "name": "stdout",
     "output_type": "stream",
     "text": [
      "Episode: 36/1000, Score: 50.0, Epsilon: 0.01\n"
     ]
    },
    {
     "name": "stderr",
     "output_type": "stream",
     "text": [
      "Training Progress:   4%|▎         | 37/1000 [32:49<27:33:59, 103.05s/it, Episode=37]"
     ]
    },
    {
     "name": "stdout",
     "output_type": "stream",
     "text": [
      "Episode: 37/1000, Score: 68.0, Epsilon: 0.01\n"
     ]
    },
    {
     "name": "stderr",
     "output_type": "stream",
     "text": [
      "Training Progress:   4%|▍         | 38/1000 [35:53<34:04:03, 127.49s/it, Episode=38]"
     ]
    },
    {
     "name": "stdout",
     "output_type": "stream",
     "text": [
      "Episode: 38/1000, Score: 178.0, Epsilon: 0.01\n"
     ]
    },
    {
     "name": "stderr",
     "output_type": "stream",
     "text": [
      "Training Progress:   4%|▍         | 39/1000 [38:09<34:38:58, 129.80s/it, Episode=39]"
     ]
    },
    {
     "name": "stdout",
     "output_type": "stream",
     "text": [
      "Episode: 39/1000, Score: 128.0, Epsilon: 0.01\n"
     ]
    },
    {
     "name": "stderr",
     "output_type": "stream",
     "text": [
      "Training Progress:   4%|▍         | 40/1000 [40:45<36:44:38, 137.79s/it, Episode=40]"
     ]
    },
    {
     "name": "stdout",
     "output_type": "stream",
     "text": [
      "Episode: 40/1000, Score: 149.0, Epsilon: 0.01\n"
     ]
    },
    {
     "name": "stderr",
     "output_type": "stream",
     "text": [
      "Training Progress:   4%|▍         | 41/1000 [43:08<37:09:15, 139.47s/it, Episode=41]"
     ]
    },
    {
     "name": "stdout",
     "output_type": "stream",
     "text": [
      "Episode: 41/1000, Score: 140.0, Epsilon: 0.01\n"
     ]
    },
    {
     "name": "stderr",
     "output_type": "stream",
     "text": [
      "Training Progress:   4%|▍         | 42/1000 [46:54<44:01:53, 165.46s/it, Episode=42]"
     ]
    },
    {
     "name": "stdout",
     "output_type": "stream",
     "text": [
      "Episode: 42/1000, Score: 225.0, Epsilon: 0.01\n"
     ]
    },
    {
     "name": "stderr",
     "output_type": "stream",
     "text": [
      "Training Progress:   4%|▍         | 43/1000 [48:53<40:16:49, 151.52s/it, Episode=43]"
     ]
    },
    {
     "name": "stdout",
     "output_type": "stream",
     "text": [
      "Episode: 43/1000, Score: 111.0, Epsilon: 0.01\n"
     ]
    },
    {
     "name": "stderr",
     "output_type": "stream",
     "text": [
      "Training Progress:   4%|▍         | 44/1000 [51:06<38:44:51, 145.91s/it, Episode=44]"
     ]
    },
    {
     "name": "stdout",
     "output_type": "stream",
     "text": [
      "Episode: 44/1000, Score: 125.0, Epsilon: 0.01\n"
     ]
    },
    {
     "name": "stderr",
     "output_type": "stream",
     "text": [
      "Training Progress:   4%|▍         | 45/1000 [53:02<36:19:47, 136.95s/it, Episode=45]"
     ]
    },
    {
     "name": "stdout",
     "output_type": "stream",
     "text": [
      "Episode: 45/1000, Score: 108.0, Epsilon: 0.01\n"
     ]
    },
    {
     "name": "stderr",
     "output_type": "stream",
     "text": [
      "Training Progress:   5%|▍         | 46/1000 [56:04<39:51:23, 150.40s/it, Episode=46]"
     ]
    },
    {
     "name": "stdout",
     "output_type": "stream",
     "text": [
      "Episode: 46/1000, Score: 175.0, Epsilon: 0.01\n"
     ]
    },
    {
     "name": "stderr",
     "output_type": "stream",
     "text": [
      "Training Progress:   5%|▍         | 47/1000 [58:07<37:37:19, 142.12s/it, Episode=47]"
     ]
    },
    {
     "name": "stdout",
     "output_type": "stream",
     "text": [
      "Episode: 47/1000, Score: 115.0, Epsilon: 0.01\n"
     ]
    },
    {
     "name": "stderr",
     "output_type": "stream",
     "text": [
      "Training Progress:   5%|▍         | 48/1000 [59:59<35:12:54, 133.17s/it, Episode=48]"
     ]
    },
    {
     "name": "stdout",
     "output_type": "stream",
     "text": [
      "Episode: 48/1000, Score: 104.0, Epsilon: 0.01\n"
     ]
    },
    {
     "name": "stderr",
     "output_type": "stream",
     "text": [
      "Training Progress:   5%|▍         | 49/1000 [1:01:55<33:49:58, 128.07s/it, Episode=49]"
     ]
    },
    {
     "name": "stdout",
     "output_type": "stream",
     "text": [
      "Episode: 49/1000, Score: 111.0, Epsilon: 0.01\n"
     ]
    },
    {
     "name": "stderr",
     "output_type": "stream",
     "text": [
      "Training Progress:   5%|▌         | 50/1000 [1:04:04<33:51:16, 128.29s/it, Episode=50]"
     ]
    },
    {
     "name": "stdout",
     "output_type": "stream",
     "text": [
      "Episode: 50/1000, Score: 124.0, Epsilon: 0.01\n"
     ]
    },
    {
     "name": "stderr",
     "output_type": "stream",
     "text": [
      "Training Progress:   5%|▌         | 51/1000 [1:07:03<37:47:07, 143.34s/it, Episode=51]"
     ]
    },
    {
     "name": "stdout",
     "output_type": "stream",
     "text": [
      "Episode: 51/1000, Score: 176.0, Epsilon: 0.01\n"
     ]
    },
    {
     "name": "stderr",
     "output_type": "stream",
     "text": [
      "Training Progress:   5%|▌         | 52/1000 [1:08:11<31:49:14, 120.84s/it, Episode=52]"
     ]
    },
    {
     "name": "stdout",
     "output_type": "stream",
     "text": [
      "Episode: 52/1000, Score: 61.0, Epsilon: 0.01\n"
     ]
    },
    {
     "name": "stderr",
     "output_type": "stream",
     "text": [
      "Training Progress:   5%|▌         | 53/1000 [1:10:27<32:58:25, 125.35s/it, Episode=53]"
     ]
    },
    {
     "name": "stdout",
     "output_type": "stream",
     "text": [
      "Episode: 53/1000, Score: 128.0, Epsilon: 0.01\n"
     ]
    },
    {
     "name": "stderr",
     "output_type": "stream",
     "text": [
      "Training Progress:   5%|▌         | 54/1000 [1:12:50<34:20:25, 130.68s/it, Episode=54]"
     ]
    },
    {
     "name": "stdout",
     "output_type": "stream",
     "text": [
      "Episode: 54/1000, Score: 134.0, Epsilon: 0.01\n"
     ]
    },
    {
     "name": "stderr",
     "output_type": "stream",
     "text": [
      "Training Progress:   6%|▌         | 55/1000 [1:14:58<34:04:09, 129.79s/it, Episode=55]"
     ]
    },
    {
     "name": "stdout",
     "output_type": "stream",
     "text": [
      "Episode: 55/1000, Score: 117.0, Epsilon: 0.01\n"
     ]
    },
    {
     "name": "stderr",
     "output_type": "stream",
     "text": [
      "Training Progress:   6%|▌         | 56/1000 [1:17:10<34:12:08, 130.43s/it, Episode=56]"
     ]
    },
    {
     "name": "stdout",
     "output_type": "stream",
     "text": [
      "Episode: 56/1000, Score: 119.0, Epsilon: 0.01\n"
     ]
    },
    {
     "name": "stderr",
     "output_type": "stream",
     "text": [
      "Training Progress:   6%|▌         | 57/1000 [1:19:28<34:49:06, 132.92s/it, Episode=57]"
     ]
    },
    {
     "name": "stdout",
     "output_type": "stream",
     "text": [
      "Episode: 57/1000, Score: 128.0, Epsilon: 0.01\n"
     ]
    },
    {
     "name": "stderr",
     "output_type": "stream",
     "text": [
      "Training Progress:   6%|▌         | 58/1000 [1:21:35<34:19:06, 131.15s/it, Episode=58]"
     ]
    },
    {
     "name": "stdout",
     "output_type": "stream",
     "text": [
      "Episode: 58/1000, Score: 120.0, Epsilon: 0.01\n"
     ]
    },
    {
     "name": "stderr",
     "output_type": "stream",
     "text": [
      "Training Progress:   6%|▌         | 59/1000 [1:23:39<33:41:16, 128.88s/it, Episode=59]"
     ]
    },
    {
     "name": "stdout",
     "output_type": "stream",
     "text": [
      "Episode: 59/1000, Score: 118.0, Epsilon: 0.01\n"
     ]
    },
    {
     "name": "stderr",
     "output_type": "stream",
     "text": [
      "Training Progress:   6%|▌         | 60/1000 [1:27:49<43:09:24, 165.28s/it, Episode=60]"
     ]
    },
    {
     "name": "stdout",
     "output_type": "stream",
     "text": [
      "Episode: 60/1000, Score: 248.0, Epsilon: 0.01\n"
     ]
    },
    {
     "name": "stderr",
     "output_type": "stream",
     "text": [
      "Training Progress:   6%|▌         | 61/1000 [1:30:27<42:31:33, 163.04s/it, Episode=61]"
     ]
    },
    {
     "name": "stdout",
     "output_type": "stream",
     "text": [
      "Episode: 61/1000, Score: 153.0, Epsilon: 0.01\n"
     ]
    },
    {
     "name": "stderr",
     "output_type": "stream",
     "text": [
      "Training Progress:   6%|▌         | 62/1000 [1:32:34<39:40:16, 152.26s/it, Episode=62]"
     ]
    },
    {
     "name": "stdout",
     "output_type": "stream",
     "text": [
      "Episode: 62/1000, Score: 119.0, Epsilon: 0.01\n"
     ]
    },
    {
     "name": "stderr",
     "output_type": "stream",
     "text": [
      "Training Progress:   6%|▋         | 63/1000 [1:35:27<41:12:24, 158.32s/it, Episode=63]"
     ]
    },
    {
     "name": "stdout",
     "output_type": "stream",
     "text": [
      "Episode: 63/1000, Score: 162.0, Epsilon: 0.01\n"
     ]
    },
    {
     "name": "stderr",
     "output_type": "stream",
     "text": [
      "Training Progress:   6%|▋         | 64/1000 [1:38:01<40:52:13, 157.19s/it, Episode=64]"
     ]
    },
    {
     "name": "stdout",
     "output_type": "stream",
     "text": [
      "Episode: 64/1000, Score: 145.0, Epsilon: 0.01\n"
     ]
    },
    {
     "name": "stderr",
     "output_type": "stream",
     "text": [
      "Training Progress:   6%|▋         | 65/1000 [1:40:01<37:53:27, 145.89s/it, Episode=65]"
     ]
    },
    {
     "name": "stdout",
     "output_type": "stream",
     "text": [
      "Episode: 65/1000, Score: 110.0, Epsilon: 0.01\n"
     ]
    },
    {
     "name": "stderr",
     "output_type": "stream",
     "text": [
      "Training Progress:   7%|▋         | 66/1000 [1:42:35<38:28:45, 148.31s/it, Episode=66]"
     ]
    },
    {
     "name": "stdout",
     "output_type": "stream",
     "text": [
      "Episode: 66/1000, Score: 143.0, Epsilon: 0.01\n"
     ]
    },
    {
     "name": "stderr",
     "output_type": "stream",
     "text": [
      "Training Progress:   7%|▋         | 67/1000 [1:44:49<37:22:31, 144.21s/it, Episode=67]"
     ]
    },
    {
     "name": "stdout",
     "output_type": "stream",
     "text": [
      "Episode: 67/1000, Score: 127.0, Epsilon: 0.01\n"
     ]
    },
    {
     "name": "stderr",
     "output_type": "stream",
     "text": [
      "Training Progress:   7%|▋         | 68/1000 [1:47:13<37:16:12, 143.96s/it, Episode=68]"
     ]
    },
    {
     "name": "stdout",
     "output_type": "stream",
     "text": [
      "Episode: 68/1000, Score: 137.0, Epsilon: 0.01\n"
     ]
    },
    {
     "name": "stderr",
     "output_type": "stream",
     "text": [
      "Training Progress:   7%|▋         | 69/1000 [1:49:46<37:56:22, 146.70s/it, Episode=69]"
     ]
    },
    {
     "name": "stdout",
     "output_type": "stream",
     "text": [
      "Episode: 69/1000, Score: 144.0, Epsilon: 0.01\n"
     ]
    },
    {
     "name": "stderr",
     "output_type": "stream",
     "text": [
      "Training Progress:   7%|▋         | 70/1000 [1:52:09<37:38:34, 145.71s/it, Episode=70]"
     ]
    },
    {
     "name": "stdout",
     "output_type": "stream",
     "text": [
      "Episode: 70/1000, Score: 137.0, Epsilon: 0.01\n"
     ]
    },
    {
     "name": "stderr",
     "output_type": "stream",
     "text": [
      "Training Progress:   7%|▋         | 71/1000 [1:55:07<40:07:08, 155.47s/it, Episode=71]"
     ]
    },
    {
     "name": "stdout",
     "output_type": "stream",
     "text": [
      "Episode: 71/1000, Score: 173.0, Epsilon: 0.01\n"
     ]
    },
    {
     "name": "stderr",
     "output_type": "stream",
     "text": [
      "Training Progress:   7%|▋         | 72/1000 [1:56:48<35:51:17, 139.09s/it, Episode=72]"
     ]
    },
    {
     "name": "stdout",
     "output_type": "stream",
     "text": [
      "Episode: 72/1000, Score: 94.0, Epsilon: 0.01\n"
     ]
    },
    {
     "name": "stderr",
     "output_type": "stream",
     "text": [
      "Training Progress:   7%|▋         | 73/1000 [1:58:46<34:10:11, 132.70s/it, Episode=73]"
     ]
    },
    {
     "name": "stdout",
     "output_type": "stream",
     "text": [
      "Episode: 73/1000, Score: 110.0, Epsilon: 0.01\n"
     ]
    },
    {
     "name": "stderr",
     "output_type": "stream",
     "text": [
      "Training Progress:   7%|▋         | 74/1000 [2:01:59<38:48:42, 150.89s/it, Episode=74]"
     ]
    },
    {
     "name": "stdout",
     "output_type": "stream",
     "text": [
      "Episode: 74/1000, Score: 184.0, Epsilon: 0.01\n"
     ]
    },
    {
     "name": "stderr",
     "output_type": "stream",
     "text": [
      "Training Progress:   8%|▊         | 75/1000 [2:04:43<39:45:21, 154.73s/it, Episode=75]"
     ]
    },
    {
     "name": "stdout",
     "output_type": "stream",
     "text": [
      "Episode: 75/1000, Score: 151.0, Epsilon: 0.01\n"
     ]
    },
    {
     "name": "stderr",
     "output_type": "stream",
     "text": [
      "Training Progress:   8%|▊         | 76/1000 [2:07:45<41:46:48, 162.78s/it, Episode=76]"
     ]
    },
    {
     "name": "stdout",
     "output_type": "stream",
     "text": [
      "Episode: 76/1000, Score: 170.0, Epsilon: 0.01\n"
     ]
    },
    {
     "name": "stderr",
     "output_type": "stream",
     "text": [
      "Training Progress:   8%|▊         | 77/1000 [2:10:59<44:09:46, 172.25s/it, Episode=77]"
     ]
    },
    {
     "name": "stdout",
     "output_type": "stream",
     "text": [
      "Episode: 77/1000, Score: 185.0, Epsilon: 0.01\n"
     ]
    },
    {
     "name": "stderr",
     "output_type": "stream",
     "text": [
      "Training Progress:   8%|▊         | 78/1000 [2:15:59<53:56:01, 210.59s/it, Episode=78]"
     ]
    },
    {
     "name": "stdout",
     "output_type": "stream",
     "text": [
      "Episode: 78/1000, Score: 291.0, Epsilon: 0.01\n"
     ]
    },
    {
     "name": "stderr",
     "output_type": "stream",
     "text": [
      "Training Progress:   8%|▊         | 79/1000 [2:18:19<48:26:25, 189.34s/it, Episode=79]"
     ]
    },
    {
     "name": "stdout",
     "output_type": "stream",
     "text": [
      "Episode: 79/1000, Score: 131.0, Epsilon: 0.01\n"
     ]
    },
    {
     "name": "stderr",
     "output_type": "stream",
     "text": [
      "Training Progress:   8%|▊         | 80/1000 [2:21:38<49:07:25, 192.22s/it, Episode=80]"
     ]
    },
    {
     "name": "stdout",
     "output_type": "stream",
     "text": [
      "Episode: 80/1000, Score: 192.0, Epsilon: 0.01\n"
     ]
    },
    {
     "name": "stderr",
     "output_type": "stream",
     "text": [
      "Training Progress:   8%|▊         | 81/1000 [2:24:08<45:53:00, 179.74s/it, Episode=81]"
     ]
    },
    {
     "name": "stdout",
     "output_type": "stream",
     "text": [
      "Episode: 81/1000, Score: 139.0, Epsilon: 0.01\n"
     ]
    },
    {
     "name": "stderr",
     "output_type": "stream",
     "text": [
      "Training Progress:   8%|▊         | 82/1000 [2:26:42<43:52:11, 172.04s/it, Episode=82]"
     ]
    },
    {
     "name": "stdout",
     "output_type": "stream",
     "text": [
      "Episode: 82/1000, Score: 142.0, Epsilon: 0.01\n"
     ]
    },
    {
     "name": "stderr",
     "output_type": "stream",
     "text": [
      "Training Progress:   8%|▊         | 83/1000 [2:29:48<44:51:35, 176.11s/it, Episode=83]"
     ]
    },
    {
     "name": "stdout",
     "output_type": "stream",
     "text": [
      "Episode: 83/1000, Score: 173.0, Epsilon: 0.01\n"
     ]
    },
    {
     "name": "stderr",
     "output_type": "stream",
     "text": [
      "Training Progress:   8%|▊         | 84/1000 [2:31:50<40:42:00, 159.96s/it, Episode=84]"
     ]
    },
    {
     "name": "stdout",
     "output_type": "stream",
     "text": [
      "Episode: 84/1000, Score: 110.0, Epsilon: 0.01\n"
     ]
    },
    {
     "name": "stderr",
     "output_type": "stream",
     "text": [
      "Training Progress:   8%|▊         | 85/1000 [2:34:13<39:22:29, 154.92s/it, Episode=85]"
     ]
    },
    {
     "name": "stdout",
     "output_type": "stream",
     "text": [
      "Episode: 85/1000, Score: 131.0, Epsilon: 0.01\n"
     ]
    },
    {
     "name": "stderr",
     "output_type": "stream",
     "text": [
      "Training Progress:   9%|▊         | 86/1000 [2:36:40<38:43:59, 152.56s/it, Episode=86]"
     ]
    },
    {
     "name": "stdout",
     "output_type": "stream",
     "text": [
      "Episode: 86/1000, Score: 134.0, Epsilon: 0.01\n"
     ]
    },
    {
     "name": "stderr",
     "output_type": "stream",
     "text": [
      "Training Progress:   9%|▊         | 87/1000 [2:38:49<36:52:21, 145.39s/it, Episode=87]"
     ]
    },
    {
     "name": "stdout",
     "output_type": "stream",
     "text": [
      "Episode: 87/1000, Score: 117.0, Epsilon: 0.01\n"
     ]
    },
    {
     "name": "stderr",
     "output_type": "stream",
     "text": [
      "Training Progress:   9%|▉         | 88/1000 [2:41:07<36:14:15, 143.04s/it, Episode=88]"
     ]
    },
    {
     "name": "stdout",
     "output_type": "stream",
     "text": [
      "Episode: 88/1000, Score: 126.0, Epsilon: 0.01\n"
     ]
    },
    {
     "name": "stderr",
     "output_type": "stream",
     "text": [
      "Training Progress:   9%|▉         | 89/1000 [2:43:22<35:35:59, 140.68s/it, Episode=89]"
     ]
    },
    {
     "name": "stdout",
     "output_type": "stream",
     "text": [
      "Episode: 89/1000, Score: 122.0, Epsilon: 0.01\n"
     ]
    },
    {
     "name": "stderr",
     "output_type": "stream",
     "text": [
      "Training Progress:   9%|▉         | 90/1000 [2:46:01<36:58:14, 146.26s/it, Episode=90]"
     ]
    },
    {
     "name": "stdout",
     "output_type": "stream",
     "text": [
      "Episode: 90/1000, Score: 149.0, Epsilon: 0.01\n"
     ]
    },
    {
     "name": "stderr",
     "output_type": "stream",
     "text": [
      "Training Progress:   9%|▉         | 91/1000 [2:48:07<35:24:00, 140.20s/it, Episode=91]"
     ]
    },
    {
     "name": "stdout",
     "output_type": "stream",
     "text": [
      "Episode: 91/1000, Score: 118.0, Epsilon: 0.01\n"
     ]
    },
    {
     "name": "stderr",
     "output_type": "stream",
     "text": [
      "Training Progress:   9%|▉         | 92/1000 [2:50:14<34:19:06, 136.06s/it, Episode=92]"
     ]
    },
    {
     "name": "stdout",
     "output_type": "stream",
     "text": [
      "Episode: 92/1000, Score: 120.0, Epsilon: 0.01\n"
     ]
    },
    {
     "name": "stderr",
     "output_type": "stream",
     "text": [
      "Training Progress:   9%|▉         | 93/1000 [2:52:05<32:24:15, 128.62s/it, Episode=93]"
     ]
    },
    {
     "name": "stdout",
     "output_type": "stream",
     "text": [
      "Episode: 93/1000, Score: 102.0, Epsilon: 0.01\n"
     ]
    },
    {
     "name": "stderr",
     "output_type": "stream",
     "text": [
      "Training Progress:   9%|▉         | 94/1000 [2:53:47<30:20:39, 120.57s/it, Episode=94]"
     ]
    },
    {
     "name": "stdout",
     "output_type": "stream",
     "text": [
      "Episode: 94/1000, Score: 93.0, Epsilon: 0.01\n"
     ]
    },
    {
     "name": "stderr",
     "output_type": "stream",
     "text": [
      "Training Progress:  10%|▉         | 95/1000 [2:55:47<30:16:23, 120.42s/it, Episode=95]"
     ]
    },
    {
     "name": "stdout",
     "output_type": "stream",
     "text": [
      "Episode: 95/1000, Score: 111.0, Epsilon: 0.01\n"
     ]
    },
    {
     "name": "stderr",
     "output_type": "stream",
     "text": [
      "Training Progress:  10%|▉         | 96/1000 [2:57:37<29:29:33, 117.45s/it, Episode=96]"
     ]
    },
    {
     "name": "stdout",
     "output_type": "stream",
     "text": [
      "Episode: 96/1000, Score: 103.0, Epsilon: 0.01\n"
     ]
    },
    {
     "name": "stderr",
     "output_type": "stream",
     "text": [
      "Training Progress:  10%|▉         | 97/1000 [2:59:12<27:47:06, 110.77s/it, Episode=97]"
     ]
    },
    {
     "name": "stdout",
     "output_type": "stream",
     "text": [
      "Episode: 97/1000, Score: 87.0, Epsilon: 0.01\n"
     ]
    },
    {
     "name": "stderr",
     "output_type": "stream",
     "text": [
      "Training Progress:  10%|▉         | 98/1000 [3:01:28<27:50:22, 111.11s/it, Episode=98]\n"
     ]
    },
    {
     "name": "stdout",
     "output_type": "stream",
     "text": [
      "Episode: 98/1000, Score: 127.0, Epsilon: 0.01\n",
      "Early stopping on episode 98. Best reward was 291.0.\n"
     ]
    },
    {
     "data": {
      "image/png": "[encoded data removed]",
      "text/plain": [
       "<Figure size 1008x432 with 4 Axes>"
      ]
     },
     "metadata": {
      "needs_background": "light"
     },
     "output_type": "display_data"
    }
   ],
   "source": [
    "if __name__ == \"__main__\":\n",
    "    main()"
   ]
  },
  {
   "cell_type": "markdown",
   "metadata": {},
   "source": [
    "## Explanation of Training Stats for CartPole DQN Model"
   ]
  },
  {
   "cell_type": "markdown",
   "metadata": {},
   "source": [
    "The above four graphs in the image represent key metrics tracked during the training process of a Deep Q-Network (DQN) on the CartPole problem. These plots help visualize how the model learns over time. Here's a breakdown of each graph:"
   ]
  },
  {
   "cell_type": "markdown",
   "metadata": {},
   "source": [
    "#### 1. **Top Left: Total Rewards per Episode**"
   ]
  },
  {
   "cell_type": "markdown",
   "metadata": {},
   "source": [
    "- **Description**: This graph shows the total rewards achieved in each episode.\n",
    "- **Insight**: The reward in the CartPole environment is based on how long the pole stays upright. Initially, the rewards fluctuate a lot, indicating the agent is still learning. As training progresses, there might be an upward trend, showing the agent is getting better at balancing the pole for longer durations. However, fluctuations are common due to exploration.\n",
    "- **Takeaway**: As the model improves, we expect to see a general increase in the rewards over episodes, even though there may still be variations due to the exploration-exploitation trade-off."
   ]
  },
  {
   "cell_type": "markdown",
   "metadata": {},
   "source": [
    "#### 2. **Top Right: Rolling Average of Rewards**"
   ]
  },
  {
   "cell_type": "markdown",
   "metadata": {},
   "source": [
    "- **Description**: This plot  represents a **rolling average** of the total rewards over a fixed window of episodes (e.g., a 10-episode rolling average). Smoothing out the raw reward data provides a clearer view of the agent's learning progress over time.\n",
    "- **Insight**: Unlike the more volatile raw rewards graph, this smoothed version helps identify the overall trend in learning performance. If the agent is learning, you'll see an upward trend, meaning the agent is consistently performing better.\n",
    "- **Takeaway**: A steady increase in the rolling average rewards signals consistent improvement in the agent’s ability to balance the pole over time."
   ]
  },
  {
   "cell_type": "markdown",
   "metadata": {},
   "source": [
    "#### 3. **Bottom Left: Epsilon Decay (Exploration Rate)**"
   ]
  },
  {
   "cell_type": "markdown",
   "metadata": {},
   "source": [
    "   - **Description**: This graph represents the **epsilon decay** over episodes. Epsilon controls the exploration-exploitation trade-off: at the beginning of training, the agent explores more by choosing random actions (high epsilon), and as training progresses, epsilon decreases, meaning the agent exploits its learned policy more.\n",
    "   - **Insight**: The graph shows a steep decline, indicating that early in training, the agent is exploring more, but as epsilon decays, it starts exploiting the learned Q-values. Eventually, epsilon reaches a minimum value (usually 0.01), where the agent almost always chooses actions based on its learned policy.\n",
    "   - **Takeaway**: This decline in exploration is crucial for converging to a good policy. Initially, exploration allows the agent to learn a variety of state-action pairs, and later exploitation ensures it uses what it has learned to maximize rewards."
   ]
  },
  {
   "cell_type": "markdown",
   "metadata": {},
   "source": [
    "#### 4. **Bottom Right: Loss per Batch**"
   ]
  },
  {
   "cell_type": "markdown",
   "metadata": {},
   "source": [
    "- **Description**: This graph tracks the **loss per training step** during experience replay. The loss measures how far the predicted Q-values are from the target Q-values (calculated using the Bellman equation).\n",
    "- **Insight**: Initially, there may be large fluctuations in loss values as the agent randomly explores and updates its Q-values. Over time, the loss generally decreases as the model stabilizes and predictions become more accurate. Spikes in loss can still occur, especially when the agent encounters novel states or transitions.\n",
    "- **Takeaway**: A decreasing trend in loss is a sign that the model is learning effectively and its Q-value predictions are becoming more accurate. Consistent spikes are normal but should smooth out as the model converges."
   ]
  },
  {
   "cell_type": "markdown",
   "metadata": {},
   "source": [
    "### Summary of Training Process:"
   ]
  },
  {
   "cell_type": "markdown",
   "metadata": {},
   "source": [
    "1. **Exploration (High Epsilon)**: At the start, the agent explores the environment extensively, leading to a wide range of rewards. This phase is necessary for the agent to learn about different state-action pairs.\n",
    "   \n",
    "2. **Exploitation (Low Epsilon)**: As epsilon decays, the agent relies more on the learned Q-values and starts exploiting its knowledge to accumulate more rewards consistently.\n",
    "\n",
    "3. **Reward Growth**: As training progresses, both the raw rewards and rolling average rewards increase, showing that the agent is improving its ability to balance the cart.\n",
    "\n",
    "4. **Loss Reduction**: The loss values decrease over time, indicating the agent’s Q-values are becoming more accurate, and the network is converging toward an optimal policy."
   ]
  }
 ],
 "metadata": {
  "kernelspec": {
   "display_name": "env",
   "language": "python",
   "name": "python3"
  },
  "language_info": {
   "codemirror_mode": {
    "name": "ipython",
    "version": 3
   },
   "file_extension": ".py",
   "mimetype": "text/x-python",
   "name": "python",
   "nbconvert_exporter": "python",
   "pygments_lexer": "ipython3",
   "version": "3.12.6"
  }
 },
 "nbformat": 4,
 "nbformat_minor": 4
}
