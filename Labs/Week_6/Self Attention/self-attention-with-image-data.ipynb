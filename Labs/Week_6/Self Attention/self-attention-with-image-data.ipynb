{
 "cells": [
  {
   "cell_type": "markdown",
   "metadata": {},
   "source": [
    "# Self Attention Mechanism for Image Processing"
   ]
  },
  {
   "cell_type": "markdown",
   "metadata": {},
   "source": [
    "## Brief Recap of Self-Attention in Computer Vision"
   ]
  },
  {
   "cell_type": "markdown",
   "metadata": {},
   "source": [
    "- Self-attention mechanisms have revolutionized how we process visual data by enabling models to focus on relevant parts of an image while considering spatial relationships. \n",
    "\n",
    "- Unlike traditional convolutional neural networks that process images using fixed-size kernels, self-attention allows for dynamic, content-dependent processing of visual information.\n",
    "\n",
    "- In the context of image processing, self-attention operates on patches or regions of an image, allowing each part to interact with every other part. This enables the model to capture both local details and global context simultaneously."
   ]
  },
  {
   "cell_type": "markdown",
   "metadata": {},
   "source": [
    "## Architecture of Visual Self-Attention"
   ]
  },
  {
   "cell_type": "markdown",
   "metadata": {},
   "source": [
    "When applying self-attention to images, we need to consider several key components:"
   ]
  },
  {
   "cell_type": "markdown",
   "metadata": {},
   "source": [
    "### Image Tokenization"
   ]
  },
  {
   "cell_type": "markdown",
   "metadata": {},
   "source": [
    "Before applying self-attention, we first need to convert our image into a sequence of tokens. This is typically done by:\n",
    "1. Dividing the image into fixed-size patches (e.g., 16x16 pixels)\n",
    "2. Flattening each patch into a 1D vector\n",
    "3. Projecting these vectors into a lower-dimensional embedding space\n",
    "\n",
    "For an image of size H×W×C (Height × Width × Channels), divided into P×P patches, we get:\n",
    "- Number of patches: N = (H×W)/(P×P)\n",
    "- Each patch vector: P×P×C dimensions\n",
    "- Final sequence length: N tokens"
   ]
  },
  {
   "cell_type": "markdown",
   "metadata": {},
   "source": [
    "### Query, Key, and Value Representations"
   ]
  },
  {
   "cell_type": "markdown",
   "metadata": {},
   "source": [
    "Each image patch token is transformed into three representations:\n",
    "- Query (Q): Represents what the current patch is \"looking for\"\n",
    "- Key (K): Represents what other patches offer\n",
    "- Value (V): Represents the actual content to be aggregated\n",
    "\n",
    "The mathematical formulation remains similar to text processing:\n",
    "```\n",
    "Attention(Q, K, V) = softmax(QK^T/√d_k)V\n",
    "```\n",
    "\n",
    "Where d_k is the dimension of the key vectors."
   ]
  },
  {
   "cell_type": "markdown",
   "metadata": {},
   "source": [
    "## Implementation with TensorFlow"
   ]
  },
  {
   "cell_type": "markdown",
   "metadata": {},
   "source": [
    "Let's create a custom Visual Attention layer that can process image data:"
   ]
  },
  {
   "cell_type": "code",
   "execution_count": 1,
   "metadata": {},
   "outputs": [
    {
     "name": "stderr",
     "output_type": "stream",
     "text": [
      "2024-12-29 13:22:37.181461: E external/local_xla/xla/stream_executor/cuda/cuda_fft.cc:477] Unable to register cuFFT factory: Attempting to register factory for plugin cuFFT when one has already been registered\n",
      "WARNING: All log messages before absl::InitializeLog() is called are written to STDERR\n",
      "E0000 00:00:1735496557.202245 2516231 cuda_dnn.cc:8310] Unable to register cuDNN factory: Attempting to register factory for plugin cuDNN when one has already been registered\n",
      "E0000 00:00:1735496557.208716 2516231 cuda_blas.cc:1418] Unable to register cuBLAS factory: Attempting to register factory for plugin cuBLAS when one has already been registered\n",
      "2024-12-29 13:22:37.229273: I tensorflow/core/platform/cpu_feature_guard.cc:210] This TensorFlow binary is optimized to use available CPU instructions in performance-critical operations.\n",
      "To enable the following instructions: AVX2 FMA, in other operations, rebuild TensorFlow with the appropriate compiler flags.\n"
     ]
    }
   ],
   "source": [
    "import tensorflow as tf\n",
    "\n",
    "\n",
    "class VisualAttention(tf.keras.layers.Layer):\n",
    "    def __init__(self, num_heads, projection_dim, transformer_units):\n",
    "        super().__init__()\n",
    "        self.num_heads = num_heads\n",
    "        self.projection_dim = projection_dim\n",
    "        \n",
    "        # Convert transformer_units to integer if it's a list\n",
    "        if isinstance(transformer_units, list):\n",
    "            self.transformer_units = transformer_units[0]\n",
    "        else:\n",
    "            self.transformer_units = transformer_units\n",
    "        \n",
    "        # Multi-head attention layer\n",
    "        self.mha = tf.keras.layers.MultiHeadAttention(\n",
    "            num_heads=num_heads,\n",
    "            key_dim=projection_dim,\n",
    "            dropout=0.1\n",
    "        )\n",
    "        \n",
    "        # Feedforward network\n",
    "        self.ffn = tf.keras.Sequential([\n",
    "            tf.keras.layers.Dense(self.transformer_units, activation=\"gelu\"),\n",
    "            tf.keras.layers.Dropout(0.1),\n",
    "            tf.keras.layers.Dense(projection_dim)\n",
    "        ])\n",
    "        \n",
    "        # Layer normalization\n",
    "        self.layernorm1 = tf.keras.layers.LayerNormalization(epsilon=1e-6)\n",
    "        self.layernorm2 = tf.keras.layers.LayerNormalization(epsilon=1e-6)\n",
    "        \n",
    "        # Add layers for residual connections\n",
    "        self.add1 = tf.keras.layers.Add()\n",
    "        self.add2 = tf.keras.layers.Add()\n",
    "        \n",
    "    def build(self, input_shape):\n",
    "        super().build(input_shape)\n",
    "    \n",
    "    def compute_output_shape(self, input_shape):\n",
    "        return input_shape\n",
    "    \n",
    "    def call(self, inputs, training=None):\n",
    "        # First layer normalization and attention\n",
    "        x1 = self.layernorm1(inputs)\n",
    "        attention_output = self.mha(x1, x1, x1, training=training)\n",
    "        \n",
    "        # First residual connection\n",
    "        x2 = self.add1([attention_output, inputs])\n",
    "        \n",
    "        # Second layer normalization and feedforward network\n",
    "        x3 = self.layernorm2(x2)\n",
    "        x4 = self.ffn(x3, training=training)\n",
    "        \n",
    "        # Second residual connection\n",
    "        return self.add2([x2, x4])\n",
    "        \n",
    "    def get_config(self):\n",
    "        config = super().get_config()\n",
    "        config.update({\n",
    "            \"num_heads\": self.num_heads,\n",
    "            \"projection_dim\": self.projection_dim,\n",
    "            \"transformer_units\": self.transformer_units,\n",
    "        })\n",
    "        return config"
   ]
  },
  {
   "cell_type": "markdown",
   "metadata": {},
   "source": [
    "**Code Explanation:**\n",
    "\n",
    "\n",
    "The VisualAttention class is a custom layer that implements the self-attention mechanism specifically for image processing. Let's examine each part:\n",
    "\n",
    "First, let's look at the class initialization:\n",
    "```python\n",
    "def __init__(self, num_heads, projection_dim, transformer_units):\n",
    "    super().__init__()\n",
    "    self.num_heads = num_heads\n",
    "    self.projection_dim = projection_dim\n",
    "    \n",
    "    # Convert transformer_units to integer if it's a list\n",
    "    if isinstance(transformer_units, list):\n",
    "        self.transformer_units = transformer_units[0]\n",
    "    else:\n",
    "        self.transformer_units = transformer_units\n",
    "```\n",
    "This part sets up the basic parameters of our attention mechanism. The `num_heads` parameter allows the attention layer to learn different types of relationships in parallel - imagine having multiple specialists each focusing on different aspects of the image. The `projection_dim` determines the size of our feature space, while `transformer_units` controls the size of our feedforward network.\n",
    "\n",
    "Next, we create the main components:\n",
    "```python\n",
    "# Multi-head attention layer\n",
    "self.mha = tf.keras.layers.MultiHeadAttention(\n",
    "    num_heads=num_heads,\n",
    "    key_dim=projection_dim,\n",
    "    dropout=0.1\n",
    ")\n",
    "```\n",
    "This creates the multi-head attention mechanism. Think of it like having multiple sets of eyes looking at the same image, each set focusing on different relationships between parts of the image. The dropout helps prevent overfitting by randomly \"turning off\" some connections during training.\n",
    "\n",
    "```python\n",
    "# Feedforward network\n",
    "self.ffn = tf.keras.Sequential([\n",
    "    tf.keras.layers.Dense(self.transformer_units, activation=\"gelu\"),\n",
    "    tf.keras.layers.Dropout(0.1),\n",
    "    tf.keras.layers.Dense(projection_dim)\n",
    "])\n",
    "```\n",
    "The feedforward network processes the attention output further. It first expands the representation (usually to a larger size) using the first Dense layer, applies a GELU activation for non-linearity, and then projects back to our original dimension. This allows the network to capture more complex relationships in the data.\n",
    "\n",
    "The normalization layers and residual connections are crucial for stable training:\n",
    "```python\n",
    "# Layer normalization\n",
    "self.layernorm1 = tf.keras.layers.LayerNormalization(epsilon=1e-6)\n",
    "self.layernorm2 = tf.keras.layers.LayerNormalization(epsilon=1e-6)\n",
    "\n",
    "# Add layers for residual connections\n",
    "self.add1 = tf.keras.layers.Add()\n",
    "self.add2 = tf.keras.layers.Add()\n",
    "```\n",
    "Layer normalization helps control the scale of our features throughout the network. The residual connections (implemented through the Add layers) allow the network to preserve important information from earlier layers and help with gradient flow during training.\n",
    "\n",
    "The core processing happens in the call method:\n",
    "```python\n",
    "def call(self, inputs, training=None):\n",
    "    # First layer normalization and attention\n",
    "    x1 = self.layernorm1(inputs)\n",
    "    attention_output = self.mha(x1, x1, x1, training=training)\n",
    "    \n",
    "    # First residual connection\n",
    "    x2 = self.add1([attention_output, inputs])\n",
    "    \n",
    "    # Second layer normalization and feedforward network\n",
    "    x3 = self.layernorm2(x2)\n",
    "    x4 = self.ffn(x3, training=training)\n",
    "    \n",
    "    # Second residual connection\n",
    "    return self.add2([x2, x4])\n",
    "```\n",
    "This implements what's known as a transformer block. The process flows like this:\n",
    "1. Normalize the input\n",
    "2. Apply self-attention (notice we use the same input three times for query, key, and value)\n",
    "3. Add the attention output to the original input (first residual connection)\n",
    "4. Normalize again\n",
    "5. Process through the feedforward network\n",
    "6. Add another residual connection\n",
    "\n",
    "The additional methods ensure proper Keras integration:\n",
    "```python\n",
    "def build(self, input_shape):\n",
    "    super().build(input_shape)\n",
    "\n",
    "def compute_output_shape(self, input_shape):\n",
    "    return input_shape\n",
    "\n",
    "def get_config(self):\n",
    "    config = super().get_config()\n",
    "    config.update({\n",
    "        \"num_heads\": self.num_heads,\n",
    "        \"projection_dim\": self.projection_dim,\n",
    "        \"transformer_units\": self.transformer_units,\n",
    "    })\n",
    "    return config\n",
    "```\n",
    "These methods handle shape inference, layer building, and serialization, making the layer behave properly within the Keras framework."
   ]
  },
  {
   "cell_type": "markdown",
   "metadata": {},
   "source": [
    "## Real-world Project: Image Classification with Visual Attention"
   ]
  },
  {
   "cell_type": "markdown",
   "metadata": {},
   "source": [
    "Let's build a complete image classification model using visual attention. We'll use the CIFAR-10 dataset as an example.\n"
   ]
  },
  {
   "cell_type": "markdown",
   "metadata": {},
   "source": [
    "### Data Preparation"
   ]
  },
  {
   "cell_type": "code",
   "execution_count": 2,
   "metadata": {},
   "outputs": [],
   "source": [
    "from tensorflow.keras.datasets import cifar10\n",
    "\n",
    "# Load and preprocess CIFAR-10\n",
    "(x_train, y_train), (x_test, y_test) = cifar10.load_data()\n",
    "\n",
    "# Normalize pixel values\n",
    "x_train = x_train.astype(\"float32\") / 255.0\n",
    "x_test = x_test.astype(\"float32\") / 255.0\n",
    "\n",
    "# Convert labels to one-hot encoding\n",
    "y_train = tf.keras.utils.to_categorical(y_train, 10)\n",
    "y_test = tf.keras.utils.to_categorical(y_test, 10)"
   ]
  },
  {
   "cell_type": "markdown",
   "metadata": {},
   "source": [
    "### Patch Creation and Embedding"
   ]
  },
  {
   "cell_type": "code",
   "execution_count": 3,
   "metadata": {},
   "outputs": [],
   "source": [
    "class PatchEncoder(tf.keras.layers.Layer):\n",
    "    def __init__(self, patch_size, projection_dim):\n",
    "        super().__init__()\n",
    "        self.patch_size = patch_size\n",
    "        self.projection_dim = projection_dim\n",
    "        self.projection = tf.keras.layers.Dense(projection_dim)\n",
    "        self.position_embedding = tf.keras.layers.Embedding(\n",
    "            input_dim=((32 // patch_size) ** 2),\n",
    "            output_dim=projection_dim\n",
    "        )\n",
    "\n",
    "    def call(self, patches):\n",
    "        batch_size = tf.shape(patches)[0]\n",
    "        positions = tf.range(start=0, limit=patches.shape[1], delta=1)\n",
    "        encoded = self.projection(patches) + self.position_embedding(positions)\n",
    "        return encoded"
   ]
  },
  {
   "cell_type": "markdown",
   "metadata": {},
   "source": [
    "### Complete Model Architecture"
   ]
  },
  {
   "cell_type": "code",
   "execution_count": 4,
   "metadata": {},
   "outputs": [],
   "source": [
    "def create_vision_transformer(\n",
    "    input_shape,\n",
    "    patch_size,\n",
    "    num_patches,\n",
    "    projection_dim,\n",
    "    num_transformer_blocks,\n",
    "    num_heads,\n",
    "    transformer_units,\n",
    "    num_classes,\n",
    "):\n",
    "    inputs = tf.keras.layers.Input(shape=input_shape)\n",
    "    \n",
    "    # Create patches - first reshape the image into patches\n",
    "    patch_dim = patch_size * patch_size * input_shape[-1]\n",
    "    patches = tf.keras.layers.Reshape((num_patches, patch_dim))(inputs)\n",
    "    \n",
    "    # Create patch embedding\n",
    "    x = tf.keras.layers.Dense(projection_dim)(patches)\n",
    "    \n",
    "    # Add position embeddings\n",
    "    positions = tf.range(start=0, limit=num_patches, delta=1)\n",
    "    position_embedding = tf.keras.layers.Embedding(\n",
    "        input_dim=num_patches, \n",
    "        output_dim=projection_dim\n",
    "    )(positions)\n",
    "    x = x + position_embedding\n",
    "    \n",
    "    # Create transformer blocks\n",
    "    for _ in range(num_transformer_blocks):\n",
    "        attention_block = VisualAttention(\n",
    "            num_heads=num_heads,\n",
    "            projection_dim=projection_dim,\n",
    "            transformer_units=transformer_units\n",
    "        )\n",
    "        x = attention_block(x)\n",
    "    \n",
    "    # Create classifier head\n",
    "    x = tf.keras.layers.LayerNormalization(epsilon=1e-6)(x)\n",
    "    x = tf.keras.layers.GlobalAveragePooling1D()(x)\n",
    "    x = tf.keras.layers.Dropout(0.3)(x)\n",
    "    x = tf.keras.layers.Dense(projection_dim, activation=\"gelu\")(x)\n",
    "    x = tf.keras.layers.Dropout(0.3)(x)\n",
    "    \n",
    "    # Output layer\n",
    "    outputs = tf.keras.layers.Dense(num_classes, activation=\"softmax\")(x)\n",
    "    \n",
    "    return tf.keras.Model(inputs=inputs, outputs=outputs)"
   ]
  },
  {
   "cell_type": "markdown",
   "metadata": {},
   "source": [
    "### Training the Model"
   ]
  },
  {
   "cell_type": "code",
   "execution_count": 5,
   "metadata": {},
   "outputs": [
    {
     "name": "stderr",
     "output_type": "stream",
     "text": [
      "I0000 00:00:1735496591.667805 2516231 gpu_device.cc:2022] Created device /job:localhost/replica:0/task:0/device:GPU:0 with 11437 MB memory:  -> device: 0, name: Tesla P100-PCIE-12GB, pci bus id: 0000:04:00.0, compute capability: 6.0\n"
     ]
    },
    {
     "name": "stdout",
     "output_type": "stream",
     "text": [
      "Epoch 1/20\n"
     ]
    },
    {
     "name": "stderr",
     "output_type": "stream",
     "text": [
      "WARNING: All log messages before absl::InitializeLog() is called are written to STDERR\n",
      "I0000 00:00:1735496606.644430 2516276 service.cc:148] XLA service 0x15074000e5f0 initialized for platform CUDA (this does not guarantee that XLA will be used). Devices:\n",
      "I0000 00:00:1735496606.644464 2516276 service.cc:156]   StreamExecutor device (0): Tesla P100-PCIE-12GB, Compute Capability 6.0\n",
      "2024-12-29 13:23:26.953823: I tensorflow/compiler/mlir/tensorflow/utils/dump_mlir_util.cc:268] disabling MLIR crash reproducer, set env var `MLIR_CRASH_REPRODUCER_DIRECTORY` to enable.\n",
      "I0000 00:00:1735496608.256349 2516276 cuda_dnn.cc:529] Loaded cuDNN version 90300\n"
     ]
    },
    {
     "name": "stdout",
     "output_type": "stream",
     "text": [
      "\u001b[1m  21/1407\u001b[0m \u001b[37m━━━━━━━━━━━━━━━━━━━━\u001b[0m \u001b[1m11s\u001b[0m 8ms/step - accuracy: 0.0988 - loss: 2.5078  "
     ]
    },
    {
     "name": "stderr",
     "output_type": "stream",
     "text": [
      "I0000 00:00:1735496616.020077 2516276 device_compiler.h:188] Compiled cluster using XLA!  This line is logged at most once for the lifetime of the process.\n"
     ]
    },
    {
     "name": "stdout",
     "output_type": "stream",
     "text": [
      "\u001b[1m1407/1407\u001b[0m \u001b[32m━━━━━━━━━━━━━━━━━━━━\u001b[0m\u001b[37m\u001b[0m \u001b[1m43s\u001b[0m 16ms/step - accuracy: 0.1807 - loss: 2.1765 - val_accuracy: 0.2716 - val_loss: 1.9046 - learning_rate: 0.0010\n",
      "Epoch 2/20\n",
      "\u001b[1m1407/1407\u001b[0m \u001b[32m━━━━━━━━━━━━━━━━━━━━\u001b[0m\u001b[37m\u001b[0m \u001b[1m11s\u001b[0m 8ms/step - accuracy: 0.2956 - loss: 1.8908 - val_accuracy: 0.3238 - val_loss: 1.8532 - learning_rate: 0.0010\n",
      "Epoch 3/20\n",
      "\u001b[1m1407/1407\u001b[0m \u001b[32m━━━━━━━━━━━━━━━━━━━━\u001b[0m\u001b[37m\u001b[0m \u001b[1m11s\u001b[0m 8ms/step - accuracy: 0.3258 - loss: 1.8071 - val_accuracy: 0.3662 - val_loss: 1.7153 - learning_rate: 0.0010\n",
      "Epoch 4/20\n",
      "\u001b[1m1407/1407\u001b[0m \u001b[32m━━━━━━━━━━━━━━━━━━━━\u001b[0m\u001b[37m\u001b[0m \u001b[1m12s\u001b[0m 8ms/step - accuracy: 0.3476 - loss: 1.7462 - val_accuracy: 0.3894 - val_loss: 1.6433 - learning_rate: 0.0010\n",
      "Epoch 5/20\n",
      "\u001b[1m1407/1407\u001b[0m \u001b[32m━━━━━━━━━━━━━━━━━━━━\u001b[0m\u001b[37m\u001b[0m \u001b[1m12s\u001b[0m 8ms/step - accuracy: 0.3808 - loss: 1.6898 - val_accuracy: 0.3960 - val_loss: 1.6332 - learning_rate: 0.0010\n",
      "Epoch 6/20\n",
      "\u001b[1m1407/1407\u001b[0m \u001b[32m━━━━━━━━━━━━━━━━━━━━\u001b[0m\u001b[37m\u001b[0m \u001b[1m11s\u001b[0m 8ms/step - accuracy: 0.3954 - loss: 1.6528 - val_accuracy: 0.4158 - val_loss: 1.5975 - learning_rate: 0.0010\n",
      "Epoch 7/20\n",
      "\u001b[1m1407/1407\u001b[0m \u001b[32m━━━━━━━━━━━━━━━━━━━━\u001b[0m\u001b[37m\u001b[0m \u001b[1m11s\u001b[0m 8ms/step - accuracy: 0.4118 - loss: 1.6135 - val_accuracy: 0.4432 - val_loss: 1.5269 - learning_rate: 0.0010\n",
      "Epoch 8/20\n",
      "\u001b[1m1407/1407\u001b[0m \u001b[32m━━━━━━━━━━━━━━━━━━━━\u001b[0m\u001b[37m\u001b[0m \u001b[1m12s\u001b[0m 8ms/step - accuracy: 0.4189 - loss: 1.5858 - val_accuracy: 0.4458 - val_loss: 1.5225 - learning_rate: 0.0010\n",
      "Epoch 9/20\n",
      "\u001b[1m1407/1407\u001b[0m \u001b[32m━━━━━━━━━━━━━━━━━━━━\u001b[0m\u001b[37m\u001b[0m \u001b[1m11s\u001b[0m 8ms/step - accuracy: 0.4360 - loss: 1.5581 - val_accuracy: 0.4510 - val_loss: 1.4923 - learning_rate: 0.0010\n",
      "Epoch 10/20\n",
      "\u001b[1m1407/1407\u001b[0m \u001b[32m━━━━━━━━━━━━━━━━━━━━\u001b[0m\u001b[37m\u001b[0m \u001b[1m11s\u001b[0m 8ms/step - accuracy: 0.4456 - loss: 1.5333 - val_accuracy: 0.4484 - val_loss: 1.5251 - learning_rate: 0.0010\n",
      "Epoch 11/20\n",
      "\u001b[1m1407/1407\u001b[0m \u001b[32m━━━━━━━━━━━━━━━━━━━━\u001b[0m\u001b[37m\u001b[0m \u001b[1m11s\u001b[0m 8ms/step - accuracy: 0.4564 - loss: 1.5196 - val_accuracy: 0.4636 - val_loss: 1.4689 - learning_rate: 0.0010\n",
      "Epoch 12/20\n",
      "\u001b[1m1407/1407\u001b[0m \u001b[32m━━━━━━━━━━━━━━━━━━━━\u001b[0m\u001b[37m\u001b[0m \u001b[1m11s\u001b[0m 8ms/step - accuracy: 0.4560 - loss: 1.4979 - val_accuracy: 0.4686 - val_loss: 1.4597 - learning_rate: 0.0010\n",
      "Epoch 13/20\n",
      "\u001b[1m1407/1407\u001b[0m \u001b[32m━━━━━━━━━━━━━━━━━━━━\u001b[0m\u001b[37m\u001b[0m \u001b[1m11s\u001b[0m 8ms/step - accuracy: 0.4664 - loss: 1.4704 - val_accuracy: 0.4852 - val_loss: 1.4261 - learning_rate: 0.0010\n",
      "Epoch 14/20\n",
      "\u001b[1m1407/1407\u001b[0m \u001b[32m━━━━━━━━━━━━━━━━━━━━\u001b[0m\u001b[37m\u001b[0m \u001b[1m11s\u001b[0m 8ms/step - accuracy: 0.4743 - loss: 1.4574 - val_accuracy: 0.4954 - val_loss: 1.4105 - learning_rate: 0.0010\n",
      "Epoch 15/20\n",
      "\u001b[1m1407/1407\u001b[0m \u001b[32m━━━━━━━━━━━━━━━━━━━━\u001b[0m\u001b[37m\u001b[0m \u001b[1m11s\u001b[0m 8ms/step - accuracy: 0.4816 - loss: 1.4370 - val_accuracy: 0.5022 - val_loss: 1.3827 - learning_rate: 0.0010\n",
      "Epoch 16/20\n",
      "\u001b[1m1407/1407\u001b[0m \u001b[32m━━━━━━━━━━━━━━━━━━━━\u001b[0m\u001b[37m\u001b[0m \u001b[1m11s\u001b[0m 8ms/step - accuracy: 0.4903 - loss: 1.4203 - val_accuracy: 0.4882 - val_loss: 1.4191 - learning_rate: 0.0010\n",
      "Epoch 17/20\n",
      "\u001b[1m1407/1407\u001b[0m \u001b[32m━━━━━━━━━━━━━━━━━━━━\u001b[0m\u001b[37m\u001b[0m \u001b[1m11s\u001b[0m 8ms/step - accuracy: 0.4987 - loss: 1.3918 - val_accuracy: 0.4972 - val_loss: 1.3774 - learning_rate: 0.0010\n",
      "Epoch 18/20\n",
      "\u001b[1m1407/1407\u001b[0m \u001b[32m━━━━━━━━━━━━━━━━━━━━\u001b[0m\u001b[37m\u001b[0m \u001b[1m11s\u001b[0m 8ms/step - accuracy: 0.4984 - loss: 1.3910 - val_accuracy: 0.5046 - val_loss: 1.3725 - learning_rate: 0.0010\n",
      "Epoch 19/20\n",
      "\u001b[1m1407/1407\u001b[0m \u001b[32m━━━━━━━━━━━━━━━━━━━━\u001b[0m\u001b[37m\u001b[0m \u001b[1m11s\u001b[0m 8ms/step - accuracy: 0.5068 - loss: 1.3743 - val_accuracy: 0.5046 - val_loss: 1.3759 - learning_rate: 0.0010\n",
      "Epoch 20/20\n",
      "\u001b[1m1407/1407\u001b[0m \u001b[32m━━━━━━━━━━━━━━━━━━━━\u001b[0m\u001b[37m\u001b[0m \u001b[1m12s\u001b[0m 8ms/step - accuracy: 0.5130 - loss: 1.3588 - val_accuracy: 0.5054 - val_loss: 1.3608 - learning_rate: 0.0010\n"
     ]
    }
   ],
   "source": [
    "# Model hyperparameters\n",
    "patch_size = 4\n",
    "num_patches = (32 // patch_size) ** 2\n",
    "projection_dim = 64\n",
    "num_heads = 4\n",
    "transformer_units = [\n",
    "    projection_dim * 2,\n",
    "    projection_dim,\n",
    "]\n",
    "num_transformer_blocks = 4\n",
    "\n",
    "# Create and compile model\n",
    "model = create_vision_transformer(\n",
    "    input_shape=(32, 32, 3),\n",
    "    patch_size=patch_size,\n",
    "    num_patches=num_patches,\n",
    "    projection_dim=projection_dim,\n",
    "    num_transformer_blocks=num_transformer_blocks,\n",
    "    num_heads=num_heads,\n",
    "    transformer_units=transformer_units,\n",
    "    num_classes=10,\n",
    ")\n",
    "\n",
    "model.compile(\n",
    "    optimizer=tf.keras.optimizers.Adam(learning_rate=1e-3),\n",
    "    loss=tf.keras.losses.CategoricalCrossentropy(),\n",
    "    metrics=[\"accuracy\"],\n",
    ")\n",
    "\n",
    "# Train the model\n",
    "history = model.fit(\n",
    "    x=x_train,\n",
    "    y=y_train,\n",
    "    batch_size=32,\n",
    "    epochs=20,\n",
    "    validation_split=0.1,\n",
    "    callbacks=[\n",
    "        tf.keras.callbacks.EarlyStopping(monitor=\"val_loss\", patience=3),\n",
    "        tf.keras.callbacks.ReduceLROnPlateau(monitor=\"val_loss\", factor=0.2, patience=2),\n",
    "    ],\n",
    ")"
   ]
  },
  {
   "cell_type": "code",
   "execution_count": 14,
   "metadata": {},
   "outputs": [
    {
     "name": "stdout",
     "output_type": "stream",
     "text": [
      "\u001b[1m313/313\u001b[0m \u001b[32m━━━━━━━━━━━━━━━━━━━━\u001b[0m\u001b[37m\u001b[0m \u001b[1m1s\u001b[0m 3ms/step - accuracy: 0.5061 - loss: 1.3834\n",
      "Test accuracy: 0.5012\n",
      "Test loss: 1.3919\n",
      "Generating training history plots...\n"
     ]
    },
    {
     "data": {
      "image/png": "[encoded data removed]",
      "text/plain": [
       "<Figure size 1200x400 with 2 Axes>"
      ]
     },
     "metadata": {},
     "output_type": "display_data"
    }
   ],
   "source": [
    "test_loss, test_accuracy = model.evaluate(x_test, y_test)\n",
    "print(f\"Test accuracy: {test_accuracy:.4f}\")\n",
    "print(f\"Test loss: {test_loss:.4f}\")\n",
    "\n",
    "# Plot and save training history\n",
    "print(\"Generating training history plots...\")\n",
    "plt.figure(figsize=(12, 4))\n",
    "\n",
    "# Loss plot\n",
    "plt.subplot(1, 2, 1)\n",
    "plt.plot(history.history['loss'], label='Training Loss')\n",
    "plt.plot(history.history['val_loss'], label='Validation Loss')\n",
    "plt.title('Model Loss')\n",
    "plt.xlabel('Epoch')\n",
    "plt.ylabel('Loss')\n",
    "plt.legend()\n",
    "\n",
    "# Accuracy plot\n",
    "plt.subplot(1, 2, 2)\n",
    "plt.plot(history.history['accuracy'], label='Training Accuracy')\n",
    "plt.plot(history.history['val_accuracy'], label='Validation Accuracy')\n",
    "plt.title('Model Accuracy')\n",
    "plt.xlabel('Epoch')\n",
    "plt.ylabel('Accuracy')\n",
    "plt.legend()\n",
    "\n",
    "plt.tight_layout()"
   ]
  },
  {
   "cell_type": "markdown",
   "metadata": {},
   "source": [
    "## Key Differences from Text-Based Attention"
   ]
  },
  {
   "cell_type": "markdown",
   "metadata": {},
   "source": [
    "When working with images, several unique considerations arise:\n",
    "\n",
    "1. **Spatial Information**: Images have inherent 2D structure that needs to be preserved\n",
    "2. **Local Dependencies**: Unlike text, images often have strong local dependencies\n",
    "3. **Computational Complexity**: The quadratic complexity of attention becomes more challenging with high-resolution images\n",
    "4. **Position Encoding**: 2D position information needs to be encoded differently from 1D text sequences"
   ]
  },
  {
   "cell_type": "markdown",
   "metadata": {},
   "source": [
    "## Applications of Visual Self-Attention"
   ]
  },
  {
   "cell_type": "markdown",
   "metadata": {},
   "source": [
    "Visual self-attention has enabled breakthroughs in various computer vision tasks:\n",
    "\n",
    "1. Image Classification\n",
    "2. Object Detection\n",
    "3. Semantic Segmentation\n",
    "4. Image Generation\n",
    "5. Video Understanding\n",
    "6. Medical Image Analysis\n",
    "7. Scene Understanding\n",
    "8. Visual Question Answering\n",
    "\n",
    "Each of these applications leverages attention's ability to capture long-range dependencies and focus on relevant image regions while maintaining spatial awareness."
   ]
  },
  {
   "cell_type": "code",
   "execution_count": null,
   "metadata": {},
   "outputs": [],
   "source": []
  }
 ],
 "metadata": {
  "kernelspec": {
   "display_name": "Python 3 (ipykernel)",
   "language": "python",
   "name": "python3"
  },
  "language_info": {
   "codemirror_mode": {
    "name": "ipython",
    "version": 3
   },
   "file_extension": ".py",
   "mimetype": "text/x-python",
   "name": "python",
   "nbconvert_exporter": "python",
   "pygments_lexer": "ipython3",
   "version": "3.12.4"
  }
 },
 "nbformat": 4,
 "nbformat_minor": 4
}
