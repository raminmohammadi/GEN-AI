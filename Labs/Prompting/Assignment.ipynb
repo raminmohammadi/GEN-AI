{
 "cells": [
  {
   "cell_type": "markdown",
   "metadata": {},
   "source": [
    "# Prompting Assignment (Graded): Building AI Writing Assistant"
   ]
  },
  {
   "cell_type": "markdown",
   "metadata": {},
   "source": [
    "Welcome to your programming assignment on prompting! You will build a comprehensive AI Writing Assistant."
   ]
  },
  {
   "cell_type": "markdown",
   "metadata": {},
   "source": [
    "## Problem Description"
   ]
  },
  {
   "cell_type": "markdown",
   "metadata": {},
   "source": [
    "- In this assignment, you will build a comprehensive AI Writing Assistant that combines multiple prompting techniques to help users create and refine content. \n",
    "\n",
    "- The system will utilize zero-shot, few-shot, chain-of-thought, and plan-and-solve prompting techniques."
   ]
  },
  {
   "cell_type": "markdown",
   "metadata": {},
   "source": [
    "## Assignment Tasks"
   ]
  },
  {
   "cell_type": "markdown",
   "metadata": {},
   "source": [
    "**1. Class Setup and API Integration**\n",
    "- Implement the `AIWritingAssistant` class constructor with OpenAI client integration\n",
    "\n",
    "\n",
    "**2. Basic Prompting Implementation**\n",
    "- Implement `get_completion` method with error handling to fetch response from OpenAI API\n",
    "\n",
    "\n",
    "**3. Content Generation Methods**\n",
    "- Implement `generate_initial_content` with zero-shot prompting\n",
    "- Add input validation for topic, content_type, and audience\n",
    "- Implement content quality checks\n",
    "- Handle edge cases and errors\n",
    "\n",
    "**4. Few-Shot Learning Implementation**\n",
    "- Implement `improve_content_with_examples` method\n",
    "- Add example validation and processing\n",
    "- Implement content improvement verification\n",
    "- Handle various example formats\n",
    "\n",
    "**5. Analysis Implementation**\n",
    "- Implement `structured_content_analysis` method\n",
    "- Add JSON response parsing and validation\n",
    "- Implement scoring system validation\n",
    "- Handle analysis failures gracefully\n",
    "\n",
    "**6. Content Revision**\n",
    "- Implement `plan_and_revise` method\n",
    "- Add analysis result validation\n",
    "- Implement improvement tracking\n",
    "- Handle revision failures"
   ]
  },
  {
   "cell_type": "markdown",
   "metadata": {},
   "source": [
    "## Instructions"
   ]
  },
  {
   "cell_type": "markdown",
   "metadata": {},
   "source": [
    "- Only write code when you see any of the below prompts,\n",
    "\n",
    "    ```\n",
    "    # YOUR CODE GOES HERE\n",
    "    # YOUR CODE ENDS HERE\n",
    "    # TODO\n",
    "    ```\n",
    "\n",
    "- Do not modify any other section of the code unless tated otherwise in the comments."
   ]
  },
  {
   "cell_type": "markdown",
   "metadata": {},
   "source": [
    "# Code Section"
   ]
  },
  {
   "cell_type": "code",
   "execution_count": null,
   "metadata": {},
   "outputs": [],
   "source": [
    "from openai import OpenAI\n",
    "from typing import Dict, List, Union\n",
    "import json\n",
    "import time\n",
    "import os\n",
    "from tests.test_methods import TestAIWritingAssistant"
   ]
  },
  {
   "cell_type": "markdown",
   "metadata": {},
   "source": [
    "## Task: Fill in your OpenAI API Key Below"
   ]
  },
  {
   "cell_type": "code",
   "execution_count": null,
   "metadata": {},
   "outputs": [],
   "source": [
    "# Load environment variables\n",
    "os.environ['OPENAI_API_KEY'] = 'FILL_YOUR_OPENAI_API_KEY_HERE'"
   ]
  },
  {
   "cell_type": "markdown",
   "metadata": {},
   "source": [
    "## Task: Implement the AIWritingAssistant Class\n",
    "\n",
    "**Task Hints:**\n",
    "\n",
    "- Implement the `__init__` method to initialize the OpenAI API client and set up the context dictionary.\n",
    "\n",
    "- Implement the `get_completion` method to call the OpenAI API and get the completion for the given prompt, including error handling and response validation.\n",
    "\n",
    "- Implement the `generate_initial_content` method using zero-shot prompting to create initial content based on topic, content type, and target audience.\n",
    "\n",
    "- Implement the `improve_content_with_examples` method using few-shot prompting to enhance content quality based on provided examples.\n",
    "\n",
    "- Implement the `structured_content_analysis` method using chain-of-thought prompting to analyze content and return a structured analysis in JSON format.\n",
    "\n",
    "- Implement the `plan_and_revise` method using plan-and-solve prompting to systematically improve content based on analysis results.\n"
   ]
  },
  {
   "cell_type": "code",
   "execution_count": null,
   "metadata": {},
   "outputs": [],
   "source": [
    "class AIWritingAssistant:\n",
    "    def __init__(self, api_key: str):\n",
    "        \"\"\"Initialize the AI Writing Assistant\"\"\"\n",
    "        # TODO: Initialize the OpenAI client with your API key here using the OpenAI class\n",
    "        self.client = \n",
    "        self.context = {}\n",
    "    \n",
    "    def get_completion(self, prompt: str) -> str:\n",
    "        \"\"\"Get completion from OpenAI API\"\"\"\n",
    "        try:\n",
    "            # TODO: Make an API call to the OpenAI API using the client and return the response with the generated content\n",
    "            # TODO: Use the GPT-3.5-turbo model with a temperature of 0.7 for better results\n",
    "            # TODO: Give the role as \"user\" and content as the prompt\n",
    "            response = \n",
    "            \n",
    "            # TODO: Return the response content from the first choice in the response choices list\n",
    "            return \n",
    "        \n",
    "        except Exception as e:\n",
    "            print(f\"Error in API call: {e}\")\n",
    "            return None\n",
    "\n",
    "    def generate_initial_content(self, topic: str, content_type: str, audience: str) -> str:\n",
    "        \"\"\"Generate initial content using zero-shot prompting\"\"\"\n",
    "        \n",
    "        # TODO: Create a prompt to generate initial content based on the topic, content type, and audience provided\n",
    "        # TODO: Use the zero-shot prompt to generate the content\n",
    "        # TODO: Consider the appropriate tone, style, audience knowledge level, key points, and engaging structure in the prompt\n",
    "        prompt = \n",
    "        \n",
    "        return self.get_completion(prompt)\n",
    "\n",
    "    def improve_content_with_examples(self, content: str, good_examples: List[str]) -> str:\n",
    "        \"\"\"Improve content using few-shot prompting\"\"\"\n",
    "        # TODO: Create a prompt to improve the content using the provided good examples\n",
    "        # TODO: Use the few-shot prompt to enhance the content based on the examples\n",
    "        # TODO: Maintain the core message of the content while incorporating elements from the examples\n",
    "        # TODO: Use a for loop to include each example in the prompt for better results\n",
    "        # TODO: Provide clear instructions on how to improve the content\n",
    "        # TODO: Add the content to be improved and the examples in the prompt\n",
    "        \n",
    "        prompt = \n",
    "        \n",
    "        return self.get_completion(prompt)\n",
    "\n",
    "    def structured_content_analysis(self, content: str) -> Dict:\n",
    "        \"\"\"Analyze content using chain-of-thought prompting\"\"\"\n",
    "        \n",
    "        # TODO: Create a prompt to analyze the content step by step and provide structured feedback in JSON format\n",
    "        # TODO: Ask the AI to evaluate the structure and flow, assess clarity and coherence, check the tone and style, and identify areas for improvement\n",
    "        # TODO: Request the analysis in JSON format with keys for structure_score, clarity_score, tone_assessment, improvement_areas, and specific_recommendations\n",
    "        # TODO: Provide clear instructions on how to analyze the content\n",
    "        \n",
    "        prompt = \n",
    "        \n",
    "        result = self.get_completion(prompt)\n",
    "        try:\n",
    "            return json.loads(result)\n",
    "        except:\n",
    "            return {\"error\": \"Failed to parse analysis\"}\n",
    "\n",
    "    def plan_and_revise(self, content: str, analysis: Dict) -> str:\n",
    "        \"\"\"Revise content using plan-and-solve prompting\"\"\"\n",
    "        \n",
    "        # TODO: Create a prompt to guide the user on revising the content based on the analysis results\n",
    "        # TODO: Attach the original content and the analysis results in the prompt\n",
    "        # TODO: Provide a structured plan for improving the content in a systematic manner\n",
    "        # TODO: Include steps to address structure issues, enhance clarity, adjust tone, and implement improvements\n",
    "        # TODO: Ask to provide the revised content with a brief explanation of the changes made\n",
    "        prompt = \n",
    "        \n",
    "        return self.get_completion(prompt)\n",
    "    \n",
    "    # DO NOT MODIFY THIS METHOD - IT IS USED FOR TESTING\n",
    "    def create_polished_content(self, topic: str, content_type: str, \n",
    "                              audience: str, examples: List[str]) -> Dict:\n",
    "        \"\"\"Complete content generation and refinement process\"\"\"\n",
    "        \n",
    "        # Step 1: Initial Generation (Zero-shot)\n",
    "        initial_content = self.generate_initial_content(topic, content_type, audience)\n",
    "        \n",
    "        # Step 2: Example-based Improvement (Few-shot)\n",
    "        improved_content = self.improve_content_with_examples(initial_content, examples)\n",
    "        \n",
    "        # Step 3: Analysis (Chain-of-thought)\n",
    "        analysis = self.structured_content_analysis(improved_content)\n",
    "        \n",
    "        # Step 4: Final Revision (Plan-and-solve)\n",
    "        final_content = self.plan_and_revise(improved_content, analysis)\n",
    "        \n",
    "        return {\n",
    "            \"initial_content\": initial_content,\n",
    "            \"improved_content\": improved_content,\n",
    "            \"analysis\": analysis,\n",
    "            \"final_content\": final_content\n",
    "        }"
   ]
  },
  {
   "cell_type": "markdown",
   "metadata": {},
   "source": [
    "## Driver Method: To run the code"
   ]
  },
  {
   "cell_type": "code",
   "execution_count": null,
   "metadata": {},
   "outputs": [],
   "source": [
    "# DO NOT MODIFY THE CODE BELOW\n",
    "\n",
    "# Initialize assistant\n",
    "api_key = os.getenv(\"OPENAI_API_KEY\")\n",
    "assistant = AIWritingAssistant(api_key)\n",
    "\n",
    "# Example inputs\n",
    "topic = \"Artificial Intelligence in Healthcare\"\n",
    "content_type = \"technical blog post\"\n",
    "audience = \"healthcare professionals\"\n",
    "examples = [\n",
    "    \"Example 1: [Insert high-quality technical blog post]\",\n",
    "    \"Example 2: [Insert another example]\"\n",
    "]\n",
    "\n",
    "# Generate content\n",
    "result = assistant.create_polished_content(topic, content_type, audience, examples)\n",
    "\n",
    "# Print results\n",
    "print(\"\\nInitial Content:\")\n",
    "print(result[\"initial_content\"])\n",
    "print(\"\\nAnalysis:\")\n",
    "print(json.dumps(result[\"analysis\"], indent=2))\n",
    "print(\"\\nFinal Content:\")\n",
    "print(result[\"final_content\"])"
   ]
  },
  {
   "cell_type": "code",
   "execution_count": null,
   "metadata": {},
   "outputs": [],
   "source": [
    "# DO NOT MODIFY THE CODE BELOW\n",
    "tester = TestAIWritingAssistant(assistant)\n",
    "\n",
    "# Run tests\n",
    "results = tester.run_all_tests()"
   ]
  }
 ],
 "metadata": {
  "kernelspec": {
   "display_name": "env",
   "language": "python",
   "name": "python3"
  },
  "language_info": {
   "codemirror_mode": {
    "name": "ipython",
    "version": 3
   },
   "file_extension": ".py",
   "mimetype": "text/x-python",
   "name": "python",
   "nbconvert_exporter": "python",
   "pygments_lexer": "ipython3",
   "version": "3.12.6"
  }
 },
 "nbformat": 4,
 "nbformat_minor": 2
}
