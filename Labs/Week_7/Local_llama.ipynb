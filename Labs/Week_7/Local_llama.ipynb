{
  "cells": [
    {
      "cell_type": "markdown",
      "metadata": {
        "id": "qmlOLiLaMWIB"
      },
      "source": [
        "## Follow the instructions to request access. (You'll need a Hugging Face account.)\n",
        "\n",
        "1.  ### Open https://huggingface.co/\n",
        "2.  ### Sign in to your account\n",
        "\n",
        "3.  ### Get Access to LLaMA 3\n",
        "*   Go to this website: https://huggingface.co/meta-llama/Meta-Llama-3-8B\n",
        "*   Click on \"Access repository\"\n",
        "*   Accept the terms of use\n",
        "*   Wait for approval (usually quick)\n",
        "\n",
        "\n",
        "4.   ### You will need your Hugging Face token.\n",
        "*   To get it, Go to \"Settings\"\n",
        "*   Click \"Access Tokens\" on the left\n",
        "*   Click \"New token\"\n",
        "*   Give it a name like \"llama_access\" and select “Write” access.\n",
        "*   Copy the token (it looks like \"hf_xxxxxxxxxxxxx\")\n",
        "*   Replace \"YOUR_HUGGINGFACE_ACCESS_TOKEN\" in the code with your access token you copied.\n",
        "\n",
        "\n",
        "5.   ### To try a different model\n",
        "*   Just change the model_id in your code to any other model from Hugging Face.\n",
        "*   For Llama 2: \"meta-llama/Llama-2-7b-chat-hf\"\n",
        "*   For Llama 3: \"meta-llama/Meta-Llama-3-8B\"\n",
        "*   For other models: Use the model name from Hugging Face website after you gain the required access.\n",
        "\n",
        "\n",
        "6.  ### Requirements before you run the notebook:\n",
        "\n",
        "* Python 3.8 or newer\n",
        "* Transformers, torch library\n",
        "* Hugging Face account with approved access\n",
        "* Llama 3-7B: At least 16GB RAM\n",
        "* Storage (SSD/HDD): Llama 3-7B: ~15GB free space\n",
        "\n",
        "\n",
        "7. ### Run the cells in the notebook\n",
        "\n",
        "\n",
        "\n",
        "\n",
        "\n",
        "\n",
        "\n",
        "\n",
        "\n",
        "\n",
        "\n",
        "\n",
        "\n",
        "\n",
        "\n",
        "\n",
        "\n",
        "\n",
        "\n",
        "\n"
      ]
    },
    {
      "cell_type": "code",
      "execution_count": null,
      "metadata": {
        "id": "twOe-G5RFJeS"
      },
      "outputs": [],
      "source": [
        "access_token = \"\""
      ]
    },
    {
      "cell_type": "code",
      "execution_count": null,
      "metadata": {
        "colab": {
          "base_uri": "https://localhost:8080/",
          "height": 49,
          "referenced_widgets": [
            "3d07fa80b5c24964a7571fcdcee12d27",
            "712850b666e042b7b2abfea4a222fec9",
            "70d425e6bf7c401da1baa14d3ead903c",
            "c6ce542da4f54fb591039de5497518f0",
            "33aa79ca8c614b5e9b002a955e395559",
            "80d344a8fb504bf7b3c39755c2909497",
            "01d65afdbe7a4b1191c8ef034d25f928",
            "4db4dd47a312439084b22d71c7f21039",
            "c1fad39156de4e6e94a30db5145c7da2",
            "ef5573d2d928469c9d44ba6ef6db2f11",
            "4abeb364f7174ba3b5260041ab741110"
          ]
        },
        "id": "nRWShiUhFaM9",
        "outputId": "c18ebb2d-5f19-4922-f54e-19190aebeb68"
      },
      "outputs": [],
      "source": [
        "from transformers import AutoTokenizer, AutoModelForCausalLM\n",
        "\n",
        "model_id = \"meta-llama/Meta-Llama-3-8B\"\n",
        "cache_dir = \"./llama3_cache\"\n",
        "access_token = \"\"\n",
        "try:\n",
        "    tokenizer = AutoTokenizer.from_pretrained(model_id, cache_dir=cache_dir, token=access_token)\n",
        "    model = AutoModelForCausalLM.from_pretrained(model_id, cache_dir=cache_dir, token=access_token)\n",
        "    print(\"Model and tokenizer loaded successfully!\")\n",
        "except Exception as e:\n",
        "    print(f\"Error loading model: {e}\")"
      ]
    },
    {
      "cell_type": "markdown",
      "metadata": {
        "id": "I_Z2TT5NgeTw"
      },
      "source": [
        "- ### The cache_dir \"./llama3_cache\" is a local folder where the model and tokenizer files are downloaded and stored.\n",
        "\n",
        "- ### The tokenizer converts human-readable text into tokens that the model can understand.\n",
        "\n",
        "\n"
      ]
    },
    {
      "cell_type": "code",
      "execution_count": null,
      "metadata": {
        "id": "xjy7CLBCPTPe"
      },
      "outputs": [],
      "source": [
        "# Simple function to generate responses\n",
        "def get_llama_response(prompt_text, max_tokens=75):\n",
        "    inputs = tokenizer(prompt_text, return_tensors=\"pt\")\n",
        "    outputs = model.generate(**inputs, max_new_tokens=max_tokens)\n",
        "    return tokenizer.decode(outputs[0], skip_special_tokens=True)\n"
      ]
    },
    {
      "cell_type": "markdown",
      "metadata": {
        "id": "uwf3gW-uhjt1"
      },
      "source": [
        "The function get_llama_response takes your text input (prompt_text), feeds it to the model, and returns the model's response as text, with max_tokens controlling the response length."
      ]
    },
    {
      "cell_type": "code",
      "execution_count": null,
      "metadata": {
        "colab": {
          "base_uri": "https://localhost:8080/"
        },
        "id": "gXOk7vXPdkuy",
        "outputId": "b8a8bc53-c833-4c87-c24e-6ce0f6c2b49c"
      },
      "outputs": [],
      "source": [
        "prompt = \"MLOPs is a set of\"\n",
        "print(f\"Prompt: {prompt}\")\n",
        "print(f\"Response: {get_llama_response(prompt, max_tokens=75)}\")"
      ]
    },
    {
      "cell_type": "code",
      "execution_count": null,
      "metadata": {
        "colab": {
          "base_uri": "https://localhost:8080/"
        },
        "id": "2_WiwOXqd4VP",
        "outputId": "c65bc696-398d-42a5-ed74-8bbf62c4593c"
      },
      "outputs": [],
      "source": [
        "prompt = \"The key to life is\"\n",
        "print(f\"Prompt: {prompt}\")\n",
        "print(f\"Response: {get_llama_response(prompt, max_tokens=75)}\")"
      ]
    }
  ],
  "metadata": {
    "accelerator": "GPU",
    "colab": {
      "gpuType": "A100",
      "machine_shape": "hm",
      "provenance": []
    },
    "kernelspec": {
      "display_name": "env_gpu",
      "language": "python",
      "name": "python3"
    },
    "language_info": {
      "codemirror_mode": {
        "name": "ipython",
        "version": 3
      },
      "file_extension": ".py",
      "mimetype": "text/x-python",
      "name": "python",
      "nbconvert_exporter": "python",
      "pygments_lexer": "ipython3",
      "version": "3.10.12"
    },
    "widgets": {
      "application/vnd.jupyter.widget-state+json": {
        "01d65afdbe7a4b1191c8ef034d25f928": {
          "model_module": "@jupyter-widgets/controls",
          "model_module_version": "1.5.0",
          "model_name": "DescriptionStyleModel",
          "state": {
            "_model_module": "@jupyter-widgets/controls",
            "_model_module_version": "1.5.0",
            "_model_name": "DescriptionStyleModel",
            "_view_count": null,
            "_view_module": "@jupyter-widgets/base",
            "_view_module_version": "1.2.0",
            "_view_name": "StyleView",
            "description_width": ""
          }
        },
        "33aa79ca8c614b5e9b002a955e395559": {
          "model_module": "@jupyter-widgets/base",
          "model_module_version": "1.2.0",
          "model_name": "LayoutModel",
          "state": {
            "_model_module": "@jupyter-widgets/base",
            "_model_module_version": "1.2.0",
            "_model_name": "LayoutModel",
            "_view_count": null,
            "_view_module": "@jupyter-widgets/base",
            "_view_module_version": "1.2.0",
            "_view_name": "LayoutView",
            "align_content": null,
            "align_items": null,
            "align_self": null,
            "border": null,
            "bottom": null,
            "display": null,
            "flex": null,
            "flex_flow": null,
            "grid_area": null,
            "grid_auto_columns": null,
            "grid_auto_flow": null,
            "grid_auto_rows": null,
            "grid_column": null,
            "grid_gap": null,
            "grid_row": null,
            "grid_template_areas": null,
            "grid_template_columns": null,
            "grid_template_rows": null,
            "height": null,
            "justify_content": null,
            "justify_items": null,
            "left": null,
            "margin": null,
            "max_height": null,
            "max_width": null,
            "min_height": null,
            "min_width": null,
            "object_fit": null,
            "object_position": null,
            "order": null,
            "overflow": null,
            "overflow_x": null,
            "overflow_y": null,
            "padding": null,
            "right": null,
            "top": null,
            "visibility": null,
            "width": null
          }
        },
        "3d07fa80b5c24964a7571fcdcee12d27": {
          "model_module": "@jupyter-widgets/controls",
          "model_module_version": "1.5.0",
          "model_name": "HBoxModel",
          "state": {
            "_dom_classes": [],
            "_model_module": "@jupyter-widgets/controls",
            "_model_module_version": "1.5.0",
            "_model_name": "HBoxModel",
            "_view_count": null,
            "_view_module": "@jupyter-widgets/controls",
            "_view_module_version": "1.5.0",
            "_view_name": "HBoxView",
            "box_style": "",
            "children": [
              "IPY_MODEL_712850b666e042b7b2abfea4a222fec9",
              "IPY_MODEL_70d425e6bf7c401da1baa14d3ead903c",
              "IPY_MODEL_c6ce542da4f54fb591039de5497518f0"
            ],
            "layout": "IPY_MODEL_33aa79ca8c614b5e9b002a955e395559"
          }
        },
        "4abeb364f7174ba3b5260041ab741110": {
          "model_module": "@jupyter-widgets/controls",
          "model_module_version": "1.5.0",
          "model_name": "DescriptionStyleModel",
          "state": {
            "_model_module": "@jupyter-widgets/controls",
            "_model_module_version": "1.5.0",
            "_model_name": "DescriptionStyleModel",
            "_view_count": null,
            "_view_module": "@jupyter-widgets/base",
            "_view_module_version": "1.2.0",
            "_view_name": "StyleView",
            "description_width": ""
          }
        },
        "4db4dd47a312439084b22d71c7f21039": {
          "model_module": "@jupyter-widgets/base",
          "model_module_version": "1.2.0",
          "model_name": "LayoutModel",
          "state": {
            "_model_module": "@jupyter-widgets/base",
            "_model_module_version": "1.2.0",
            "_model_name": "LayoutModel",
            "_view_count": null,
            "_view_module": "@jupyter-widgets/base",
            "_view_module_version": "1.2.0",
            "_view_name": "LayoutView",
            "align_content": null,
            "align_items": null,
            "align_self": null,
            "border": null,
            "bottom": null,
            "display": null,
            "flex": null,
            "flex_flow": null,
            "grid_area": null,
            "grid_auto_columns": null,
            "grid_auto_flow": null,
            "grid_auto_rows": null,
            "grid_column": null,
            "grid_gap": null,
            "grid_row": null,
            "grid_template_areas": null,
            "grid_template_columns": null,
            "grid_template_rows": null,
            "height": null,
            "justify_content": null,
            "justify_items": null,
            "left": null,
            "margin": null,
            "max_height": null,
            "max_width": null,
            "min_height": null,
            "min_width": null,
            "object_fit": null,
            "object_position": null,
            "order": null,
            "overflow": null,
            "overflow_x": null,
            "overflow_y": null,
            "padding": null,
            "right": null,
            "top": null,
            "visibility": null,
            "width": null
          }
        },
        "70d425e6bf7c401da1baa14d3ead903c": {
          "model_module": "@jupyter-widgets/controls",
          "model_module_version": "1.5.0",
          "model_name": "FloatProgressModel",
          "state": {
            "_dom_classes": [],
            "_model_module": "@jupyter-widgets/controls",
            "_model_module_version": "1.5.0",
            "_model_name": "FloatProgressModel",
            "_view_count": null,
            "_view_module": "@jupyter-widgets/controls",
            "_view_module_version": "1.5.0",
            "_view_name": "ProgressView",
            "bar_style": "success",
            "description": "",
            "description_tooltip": null,
            "layout": "IPY_MODEL_4db4dd47a312439084b22d71c7f21039",
            "max": 4,
            "min": 0,
            "orientation": "horizontal",
            "style": "IPY_MODEL_c1fad39156de4e6e94a30db5145c7da2",
            "value": 4
          }
        },
        "712850b666e042b7b2abfea4a222fec9": {
          "model_module": "@jupyter-widgets/controls",
          "model_module_version": "1.5.0",
          "model_name": "HTMLModel",
          "state": {
            "_dom_classes": [],
            "_model_module": "@jupyter-widgets/controls",
            "_model_module_version": "1.5.0",
            "_model_name": "HTMLModel",
            "_view_count": null,
            "_view_module": "@jupyter-widgets/controls",
            "_view_module_version": "1.5.0",
            "_view_name": "HTMLView",
            "description": "",
            "description_tooltip": null,
            "layout": "IPY_MODEL_80d344a8fb504bf7b3c39755c2909497",
            "placeholder": "​",
            "style": "IPY_MODEL_01d65afdbe7a4b1191c8ef034d25f928",
            "value": "Loading checkpoint shards: 100%"
          }
        },
        "80d344a8fb504bf7b3c39755c2909497": {
          "model_module": "@jupyter-widgets/base",
          "model_module_version": "1.2.0",
          "model_name": "LayoutModel",
          "state": {
            "_model_module": "@jupyter-widgets/base",
            "_model_module_version": "1.2.0",
            "_model_name": "LayoutModel",
            "_view_count": null,
            "_view_module": "@jupyter-widgets/base",
            "_view_module_version": "1.2.0",
            "_view_name": "LayoutView",
            "align_content": null,
            "align_items": null,
            "align_self": null,
            "border": null,
            "bottom": null,
            "display": null,
            "flex": null,
            "flex_flow": null,
            "grid_area": null,
            "grid_auto_columns": null,
            "grid_auto_flow": null,
            "grid_auto_rows": null,
            "grid_column": null,
            "grid_gap": null,
            "grid_row": null,
            "grid_template_areas": null,
            "grid_template_columns": null,
            "grid_template_rows": null,
            "height": null,
            "justify_content": null,
            "justify_items": null,
            "left": null,
            "margin": null,
            "max_height": null,
            "max_width": null,
            "min_height": null,
            "min_width": null,
            "object_fit": null,
            "object_position": null,
            "order": null,
            "overflow": null,
            "overflow_x": null,
            "overflow_y": null,
            "padding": null,
            "right": null,
            "top": null,
            "visibility": null,
            "width": null
          }
        },
        "c1fad39156de4e6e94a30db5145c7da2": {
          "model_module": "@jupyter-widgets/controls",
          "model_module_version": "1.5.0",
          "model_name": "ProgressStyleModel",
          "state": {
            "_model_module": "@jupyter-widgets/controls",
            "_model_module_version": "1.5.0",
            "_model_name": "ProgressStyleModel",
            "_view_count": null,
            "_view_module": "@jupyter-widgets/base",
            "_view_module_version": "1.2.0",
            "_view_name": "StyleView",
            "bar_color": null,
            "description_width": ""
          }
        },
        "c6ce542da4f54fb591039de5497518f0": {
          "model_module": "@jupyter-widgets/controls",
          "model_module_version": "1.5.0",
          "model_name": "HTMLModel",
          "state": {
            "_dom_classes": [],
            "_model_module": "@jupyter-widgets/controls",
            "_model_module_version": "1.5.0",
            "_model_name": "HTMLModel",
            "_view_count": null,
            "_view_module": "@jupyter-widgets/controls",
            "_view_module_version": "1.5.0",
            "_view_name": "HTMLView",
            "description": "",
            "description_tooltip": null,
            "layout": "IPY_MODEL_ef5573d2d928469c9d44ba6ef6db2f11",
            "placeholder": "​",
            "style": "IPY_MODEL_4abeb364f7174ba3b5260041ab741110",
            "value": " 4/4 [00:06&lt;00:00,  1.61s/it]"
          }
        },
        "ef5573d2d928469c9d44ba6ef6db2f11": {
          "model_module": "@jupyter-widgets/base",
          "model_module_version": "1.2.0",
          "model_name": "LayoutModel",
          "state": {
            "_model_module": "@jupyter-widgets/base",
            "_model_module_version": "1.2.0",
            "_model_name": "LayoutModel",
            "_view_count": null,
            "_view_module": "@jupyter-widgets/base",
            "_view_module_version": "1.2.0",
            "_view_name": "LayoutView",
            "align_content": null,
            "align_items": null,
            "align_self": null,
            "border": null,
            "bottom": null,
            "display": null,
            "flex": null,
            "flex_flow": null,
            "grid_area": null,
            "grid_auto_columns": null,
            "grid_auto_flow": null,
            "grid_auto_rows": null,
            "grid_column": null,
            "grid_gap": null,
            "grid_row": null,
            "grid_template_areas": null,
            "grid_template_columns": null,
            "grid_template_rows": null,
            "height": null,
            "justify_content": null,
            "justify_items": null,
            "left": null,
            "margin": null,
            "max_height": null,
            "max_width": null,
            "min_height": null,
            "min_width": null,
            "object_fit": null,
            "object_position": null,
            "order": null,
            "overflow": null,
            "overflow_x": null,
            "overflow_y": null,
            "padding": null,
            "right": null,
            "top": null,
            "visibility": null,
            "width": null
          }
        }
      }
    }
  },
  "nbformat": 4,
  "nbformat_minor": 0
}
