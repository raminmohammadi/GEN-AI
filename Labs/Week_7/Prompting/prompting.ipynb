{
 "cells": [
  {
   "cell_type": "markdown",
   "metadata": {
    "vscode": {
     "languageId": "plaintext"
    }
   },
   "source": [
    "<center>\n",
    "    <h1>Understanding Prompting Techniques</h1>\n",
    "</center>"
   ]
  },
  {
   "cell_type": "markdown",
   "metadata": {},
   "source": [
    "## Introduction"
   ]
  },
  {
   "cell_type": "markdown",
   "metadata": {},
   "source": [
    "- Prompt engineering is the art and science of effectively communicating with Large Language Models (LLMs) to achieve desired outcomes. \n",
    "\n",
    "- This guide explores how well-crafted prompts can significantly improve AI interactions and deliver more accurate, relevant results."
   ]
  },
  {
   "cell_type": "markdown",
   "metadata": {},
   "source": [
    "<center>\n",
    "    <img src=\"static/image1.gif\" alt=\"Prompting\" style=\"width:50%;\">\n",
    "</center>"
   ]
  },
  {
   "cell_type": "markdown",
   "metadata": {},
   "source": [
    "### Why Prompting Matters"
   ]
  },
  {
   "cell_type": "markdown",
   "metadata": {},
   "source": [
    "- Determines quality and relevance of AI responses\n",
    "- Enables complex task completion\n",
    "- Ensures consistent output formatting\n",
    "- Reduces errors and hallucinations\n",
    "- Improves efficiency of AI interactions"
   ]
  },
  {
   "cell_type": "markdown",
   "metadata": {},
   "source": [
    "### Real-World Impact"
   ]
  },
  {
   "cell_type": "markdown",
   "metadata": {},
   "source": [
    "- Content generation and editing\n",
    "- Code development and debugging\n",
    "- Data analysis and interpretation\n",
    "- Customer service applications\n",
    "- Educational content creation"
   ]
  },
  {
   "cell_type": "markdown",
   "metadata": {},
   "source": [
    "## Basic Prompting Concepts"
   ]
  },
  {
   "cell_type": "markdown",
   "metadata": {},
   "source": [
    "## Necessary Code Intializers"
   ]
  },
  {
   "cell_type": "code",
   "execution_count": null,
   "metadata": {},
   "outputs": [],
   "source": [
    "# Now we can import the OpenAI library\n",
    "from openai import OpenAI\n",
    "\n",
    "# Initialize the client\n",
    "client = OpenAI(api_key='FILL_IN_YOUR_OPENAI_API_KEY_HERE')"
   ]
  },
  {
   "cell_type": "code",
   "execution_count": null,
   "metadata": {},
   "outputs": [],
   "source": [
    "# Chat Completion Method\n",
    "def get_completion(prompt):\n",
    "    \"\"\"Simple function to get completion from OpenAI\"\"\"\n",
    "    try:\n",
    "        response = client.chat.completions.create(\n",
    "            model=\"gpt-3.5-turbo\",\n",
    "            messages=[{\"role\": \"user\", \"content\": prompt}],\n",
    "            temperature=0.7\n",
    "        )\n",
    "        return response.choices[0].message.content\n",
    "    except Exception as e:\n",
    "        print(f\"Error: {e}\")\n",
    "        return None"
   ]
  },
  {
   "cell_type": "markdown",
   "metadata": {},
   "source": [
    "### Zero-shot Prompting"
   ]
  },
  {
   "cell_type": "markdown",
   "metadata": {},
   "source": [
    "#### Definition and Fundamentals"
   ]
  },
  {
   "cell_type": "markdown",
   "metadata": {},
   "source": [
    "- Zero-shot prompting involves asking an LLM to perform tasks without providing specific examples. \n",
    "\n",
    "- It tests the model's ability to understand and execute instructions based on its training."
   ]
  },
  {
   "cell_type": "markdown",
   "metadata": {},
   "source": [
    "<center>\n",
    "    <img src=\"static/image2.gif\" alt=\"Zero Shot Prompting\" style=\"width:50%;\">\n",
    "</center>"
   ]
  },
  {
   "cell_type": "markdown",
   "metadata": {},
   "source": [
    "#### Implementation Example"
   ]
  },
  {
   "cell_type": "markdown",
   "metadata": {},
   "source": [
    "```plaintext\n",
    "# Basic Zero-shot Prompt\n",
    "Explain the concept of photosynthesis to a 10-year-old child.\n",
    "\n",
    "# Task-specific Zero-shot Prompt\n",
    "Generate a list of 5 creative titles for a blog post about sustainable living.\n",
    "\n",
    "# Analysis Zero-shot Prompt\n",
    "Analyze the following text for its main themes and emotional tone:\n",
    "[text content]\n",
    "```"
   ]
  },
  {
   "cell_type": "markdown",
   "metadata": {},
   "source": [
    "#### Advantages"
   ]
  },
  {
   "cell_type": "markdown",
   "metadata": {},
   "source": [
    "- Quick implementation\n",
    "- No example preparation needed\n",
    "- Tests model's base capabilities"
   ]
  },
  {
   "cell_type": "markdown",
   "metadata": {},
   "source": [
    "#### Limitations"
   ]
  },
  {
   "cell_type": "markdown",
   "metadata": {},
   "source": [
    "- Less precise control\n",
    "- May produce inconsistent results\n",
    "- Not ideal for complex tasks"
   ]
  },
  {
   "cell_type": "markdown",
   "metadata": {},
   "source": [
    "#### Code Example"
   ]
  },
  {
   "cell_type": "code",
   "execution_count": null,
   "metadata": {},
   "outputs": [],
   "source": [
    "# Method for Chat Completion Example for Classification\n",
    "def zero_shot_classification():\n",
    "    \"\"\"Example of zero-shot classification\"\"\"\n",
    "    text = \"The new iPhone's battery life is amazing!\"\n",
    "    \n",
    "    prompt = \"\"\"\n",
    "    Classify the following text into one category: Technology, Sports, Politics, Entertainment\n",
    "    \n",
    "    Text: The new iPhone's battery life is amazing!\n",
    "    \n",
    "    Category:\"\"\"\n",
    "    \n",
    "    result = get_completion(prompt)\n",
    "    print(f\"Zero-shot Classification Result: {result}\")"
   ]
  },
  {
   "cell_type": "code",
   "execution_count": null,
   "metadata": {},
   "outputs": [],
   "source": [
    "zero_shot_classification()"
   ]
  },
  {
   "cell_type": "code",
   "execution_count": null,
   "metadata": {},
   "outputs": [],
   "source": [
    "# Method for Chat Completion Example for Sentiment Analysis\n",
    "def zero_shot_sentiment():\n",
    "    \"\"\"Example of zero-shot sentiment analysis\"\"\"\n",
    "    prompt = \"\"\"\n",
    "    Analyze the sentiment of this text as positive, negative, or neutral:\n",
    "    \n",
    "    Text: \"The customer service was terrible and I waited for hours.\"\n",
    "    \n",
    "    Sentiment:\"\"\"\n",
    "    \n",
    "    result = get_completion(prompt)\n",
    "    print(f\"Zero-shot Sentiment Analysis: {result}\")"
   ]
  },
  {
   "cell_type": "code",
   "execution_count": null,
   "metadata": {},
   "outputs": [],
   "source": [
    "zero_shot_sentiment()"
   ]
  },
  {
   "cell_type": "code",
   "execution_count": null,
   "metadata": {},
   "outputs": [],
   "source": [
    "# Method for Chat Completion Example for Task Completion\n",
    "def zero_shot_task():\n",
    "    \"\"\"Example of zero-shot task completion\"\"\"\n",
    "    prompt = \"\"\"\n",
    "    Create a recipe for a chocolate cake. Include:\n",
    "    - Ingredients\n",
    "    - Steps\n",
    "    - Cooking time and temperature\n",
    "    \"\"\"\n",
    "    \n",
    "    result = get_completion(prompt)\n",
    "    print(f\"Zero-shot Task Result:\\n{result}\")"
   ]
  },
  {
   "cell_type": "code",
   "execution_count": null,
   "metadata": {},
   "outputs": [],
   "source": [
    "zero_shot_task()"
   ]
  },
  {
   "cell_type": "markdown",
   "metadata": {},
   "source": [
    "### Few-shot Prompting"
   ]
  },
  {
   "cell_type": "markdown",
   "metadata": {},
   "source": [
    "#### Understanding the Concept"
   ]
  },
  {
   "cell_type": "markdown",
   "metadata": {},
   "source": [
    "Few-shot prompting provides the model with examples of desired input-output pairs before asking it to perform a similar task."
   ]
  },
  {
   "cell_type": "markdown",
   "metadata": {},
   "source": [
    "<center>\n",
    "    <img src=\"static/image3.png\" alt=\"Few Shot Prompting\" style=\"width:50%;\">\n",
    "</center>"
   ]
  },
  {
   "cell_type": "markdown",
   "metadata": {},
   "source": [
    "#### Implementation Examples"
   ]
  },
  {
   "cell_type": "markdown",
   "metadata": {},
   "source": [
    "```plaintext\n",
    "# Classification Few-shot Prompt\n",
    "Input: \"The food was amazing!\"\n",
    "Sentiment: Positive\n",
    "\n",
    "Input: \"Terrible service, won't come back.\"\n",
    "Sentiment: Negative\n",
    "\n",
    "Input: \"The movie was okay.\"\n",
    "Sentiment: [Let model complete]\n",
    "\n",
    "# Format Few-shot Prompt\n",
    "Question: What is the capital of France?\n",
    "Answer: The capital of France is Paris.\n",
    "\n",
    "Question: What is the capital of Japan?\n",
    "Answer: The capital of Japan is Tokyo.\n",
    "\n",
    "Question: What is the capital of Brazil?\n",
    "Answer: [Let model complete]\n",
    "```"
   ]
  },
  {
   "cell_type": "markdown",
   "metadata": {},
   "source": [
    "#### Benefits"
   ]
  },
  {
   "cell_type": "markdown",
   "metadata": {},
   "source": [
    "- Improved consistency\n",
    "- Better format control\n",
    "- Enhanced accuracy\n",
    "- Clear pattern demonstration"
   ]
  },
  {
   "cell_type": "markdown",
   "metadata": {},
   "source": [
    "#### Code Example"
   ]
  },
  {
   "cell_type": "code",
   "execution_count": null,
   "metadata": {},
   "outputs": [],
   "source": [
    "# Method for Chat Completion Example for Classification with Few-Shot Learning\n",
    "def few_shot_classification():\n",
    "    \"\"\"Example of few-shot classification\"\"\"\n",
    "    prompt = \"\"\"\n",
    "    Classify these emails as Urgent or Not Urgent.\n",
    "\n",
    "    Email: \"Meeting tomorrow at 3pm to discuss project timeline\"\n",
    "    Category: Not Urgent\n",
    "\n",
    "    Email: \"Server is down, causing customer outage!\"\n",
    "    Category: Urgent\n",
    "\n",
    "    Email: \"Weekly team newsletter - March updates\"\n",
    "    Category: Not Urgent\n",
    "\n",
    "    Email: \"Critical security vulnerability detected\"\n",
    "    Category:\"\"\"\n",
    "    \n",
    "    result = get_completion(prompt)\n",
    "    print(f\"Few-shot Classification Result: {result}\")"
   ]
  },
  {
   "cell_type": "code",
   "execution_count": null,
   "metadata": {},
   "outputs": [],
   "source": [
    "few_shot_classification()"
   ]
  },
  {
   "cell_type": "code",
   "execution_count": null,
   "metadata": {},
   "outputs": [],
   "source": [
    "# Method for Chat Completion Example for Sentiment Analysis with Few-Shot Learning\n",
    "def few_shot_generation():\n",
    "    \"\"\"Example of few-shot content generation\"\"\"\n",
    "    prompt = \"\"\"\n",
    "    Convert these technical instructions into user-friendly language:\n",
    "\n",
    "    Technical: \"Initialize system configuration via command prompt\"\n",
    "    User-friendly: \"Open the command prompt and set up your system settings\"\n",
    "\n",
    "    Technical: \"Terminate background processes consuming memory\"\n",
    "    User-friendly: \"Close programs running in the background to free up memory\"\n",
    "\n",
    "    Technical: \"Configure wireless network authentication protocols\"\n",
    "    User-friendly:\"\"\"\n",
    "    \n",
    "    result = get_completion(prompt)\n",
    "    print(f\"Few-shot Generation Result: {result}\")"
   ]
  },
  {
   "cell_type": "code",
   "execution_count": null,
   "metadata": {},
   "outputs": [],
   "source": [
    "few_shot_generation()"
   ]
  },
  {
   "cell_type": "code",
   "execution_count": null,
   "metadata": {},
   "outputs": [],
   "source": [
    "# Method for Chat Completion Example for Coding with Few-Shot Learning\n",
    "def few_shot_coding():\n",
    "    \"\"\"Example of few-shot coding help\"\"\"\n",
    "    prompt = \"\"\"\n",
    "    Convert these requirements into Python functions:\n",
    "\n",
    "    Requirement: \"Calculate area of rectangle\"\n",
    "    Code:\n",
    "    def calculate_rectangle_area(length, width):\n",
    "        return length * width\n",
    "\n",
    "    Requirement: \"Calculate area of circle\"\n",
    "    Code:\n",
    "    def calculate_circle_area(radius):\n",
    "        return 3.14 * radius * radius\n",
    "\n",
    "    Requirement: \"Calculate area of triangle\"\n",
    "    Code:\"\"\"\n",
    "    \n",
    "    result = get_completion(prompt)\n",
    "    print(f\"Few-shot Coding Result:\\n{result}\")"
   ]
  },
  {
   "cell_type": "code",
   "execution_count": null,
   "metadata": {},
   "outputs": [],
   "source": [
    "few_shot_coding()"
   ]
  },
  {
   "cell_type": "markdown",
   "metadata": {},
   "source": [
    "## Advanced Prompting Techniques"
   ]
  },
  {
   "cell_type": "markdown",
   "metadata": {},
   "source": [
    "### Chain-of-Thought Prompting"
   ]
  },
  {
   "cell_type": "markdown",
   "metadata": {},
   "source": [
    "Chain-of-Thought (CoT) prompting is a technique that encourages LLMs to break down complex problems into a series of intermediate reasoning steps, leading to more accurate and explainable outputs."
   ]
  },
  {
   "cell_type": "markdown",
   "metadata": {},
   "source": [
    "<center>\n",
    "    <img src=\"static/image4.gif\" alt=\"Chain of Thought Prompting\" style=\"width:50%;\">\n",
    "</center>"
   ]
  },
  {
   "cell_type": "markdown",
   "metadata": {},
   "source": [
    "#### Breaking Down Complex Problems"
   ]
  },
  {
   "cell_type": "markdown",
   "metadata": {},
   "source": [
    "Chain-of-thought prompting encourages the model to show its reasoning process step by step."
   ]
  },
  {
   "cell_type": "markdown",
   "metadata": {},
   "source": [
    "#### Implementation Example"
   ]
  },
  {
   "cell_type": "markdown",
   "metadata": {},
   "source": [
    "```plaintext\n",
    "# Mathematical Reasoning\n",
    "Problem: If a shirt costs $25 and is on sale for 20% off, what is the final price?\n",
    "\n",
    "Let's solve this step by step:\n",
    "1. Calculate the discount percentage: 20% = 0.20\n",
    "2. Calculate the discount amount: $25 × 0.20 = $5\n",
    "3. Subtract the discount: $25 - $5 = $20\n",
    "\n",
    "The final price is $20.\n",
    "\n",
    "# Logical Analysis\n",
    "Question: Why might a company's stock price fall after reporting record profits?\n",
    "\n",
    "Let's analyze this step by step:\n",
    "1. Consider market expectations\n",
    "2. Examine future guidance\n",
    "3. Evaluate broader market conditions\n",
    "4. Analyze competitor performance\n",
    "```"
   ]
  },
  {
   "cell_type": "markdown",
   "metadata": {},
   "source": [
    "#### Code Example"
   ]
  },
  {
   "cell_type": "code",
   "execution_count": null,
   "metadata": {},
   "outputs": [],
   "source": [
    "def chain_of_thought_problem_solving():\n",
    "    \"\"\"Example of chain of thought for problem solving\"\"\"\n",
    "    \n",
    "    prompt = \"\"\"\n",
    "    Let's solve this problem step by step:\n",
    "    \n",
    "    Problem: A store is offering a 20% discount on a $150 item, \n",
    "    and you have a $20 coupon. Sales tax is 8%. \n",
    "    What's the final price?\n",
    "    \n",
    "    Let's think about this step by step:\n",
    "    1. First, let's calculate the discount\n",
    "    2. Then apply the coupon\n",
    "    3. Finally, calculate the tax\n",
    "    \n",
    "    Please show your work for each step.\n",
    "    \"\"\"\n",
    "    \n",
    "    result = get_completion(prompt)\n",
    "    print(\"Chain of Thought - Problem Solving:\\n\", result)"
   ]
  },
  {
   "cell_type": "code",
   "execution_count": null,
   "metadata": {},
   "outputs": [],
   "source": [
    "chain_of_thought_problem_solving()"
   ]
  },
  {
   "cell_type": "code",
   "execution_count": null,
   "metadata": {},
   "outputs": [],
   "source": [
    "def chain_of_thought_analysis():\n",
    "    \"\"\"Example of chain of thought for analysis\"\"\"\n",
    "    \n",
    "    prompt = \"\"\"\n",
    "    Analyze this business situation step by step:\n",
    "    \n",
    "    Situation: A coffee shop's sales have dropped 15% in the last quarter, \n",
    "    despite the overall market growing by 10%.\n",
    "    \n",
    "    Let's analyze this systematically:\n",
    "    1. First, identify the gap between market and business performance\n",
    "    2. List possible internal factors\n",
    "    3. List possible external factors\n",
    "    4. Suggest potential solutions\n",
    "    \n",
    "    Provide detailed thoughts for each step.\n",
    "    \"\"\"\n",
    "    \n",
    "    result = get_completion(prompt)\n",
    "    print(\"Chain of Thought - Analysis:\\n\", result)"
   ]
  },
  {
   "cell_type": "code",
   "execution_count": null,
   "metadata": {},
   "outputs": [],
   "source": [
    "chain_of_thought_analysis()"
   ]
  },
  {
   "cell_type": "markdown",
   "metadata": {},
   "source": [
    "### Template Prompting"
   ]
  },
  {
   "cell_type": "markdown",
   "metadata": {},
   "source": [
    "- Template prompting is a structured approach to crafting prompts using predefined formats and patterns. \n",
    "\n",
    "- It provides a consistent framework for communicating with language models, ensuring all necessary components are included and formatted properly."
   ]
  },
  {
   "cell_type": "markdown",
   "metadata": {},
   "source": [
    "<center>\n",
    "    <img src=\"static/image5.png\" alt=\"Template Prompting\" style=\"width:50%;\">\n",
    "</center>"
   ]
  },
  {
   "cell_type": "markdown",
   "metadata": {},
   "source": [
    "#### Structure Guidelines"
   ]
  },
  {
   "cell_type": "markdown",
   "metadata": {},
   "source": [
    "```plaintext\n",
    "# Standard Template Structure\n",
    "Context: [Background information]\n",
    "Task: [Specific instructions]\n",
    "Format: [Desired output format]\n",
    "Requirements: [Any constraints or specifications]\n",
    "Additional Notes: [Optional context or guidelines]\n",
    "\n",
    "# Example Implementation\n",
    "Context: You are writing product descriptions for an e-commerce website\n",
    "Task: Create a compelling product description for a wireless headphone\n",
    "Format: \n",
    "- Title (max 10 words)\n",
    "- Key Features (3-5 bullet points)\n",
    "- Description (2-3 paragraphs)\n",
    "Requirements:\n",
    "- Include technical specifications\n",
    "- Highlight unique selling points\n",
    "- Use professional tone\n",
    "```"
   ]
  },
  {
   "cell_type": "markdown",
   "metadata": {},
   "source": [
    "#### Code Example"
   ]
  },
  {
   "cell_type": "code",
   "execution_count": null,
   "metadata": {},
   "outputs": [],
   "source": [
    "def template_based_content_generation():\n",
    "    \"\"\"Example of template-based content generation\"\"\"\n",
    "    \n",
    "    template = \"\"\"\n",
    "    CONTENT BRIEF\n",
    "    Topic: {topic}\n",
    "    Target Audience: {audience}\n",
    "    Tone: {tone}\n",
    "    Length: {length}\n",
    "    Key Points to Cover:\n",
    "    {key_points}\n",
    "    Format: {format}\n",
    "    Call to Action: {cta}\n",
    "    \"\"\"\n",
    "    \n",
    "    # Example usage\n",
    "    content_request = template.format(\n",
    "        topic=\"Sustainable Living\",\n",
    "        audience=\"Young professionals (25-35)\",\n",
    "        tone=\"Informative but casual\",\n",
    "        length=\"500 words\",\n",
    "        key_points=\"- Daily habits for sustainability\\n- Cost benefits\\n- Environmental impact\",\n",
    "        format=\"Blog post\",\n",
    "        cta=\"Sign up for our eco-friendly newsletter\"\n",
    "    )\n",
    "    \n",
    "    result = get_completion(content_request)\n",
    "    print(\"Template-Based Content:\\n\", result)\n",
    "\n"
   ]
  },
  {
   "cell_type": "code",
   "execution_count": null,
   "metadata": {},
   "outputs": [],
   "source": [
    "template_based_content_generation()"
   ]
  },
  {
   "cell_type": "code",
   "execution_count": null,
   "metadata": {},
   "outputs": [],
   "source": [
    "def template_based_analysis():\n",
    "    \"\"\"Example of template-based analysis\"\"\"\n",
    "    \n",
    "    template = \"\"\"\n",
    "    ANALYSIS FRAMEWORK\n",
    "    \n",
    "    Subject: {subject}\n",
    "    \n",
    "    1. Current State\n",
    "       - Existing situation\n",
    "       - Key metrics\n",
    "       - Baseline data\n",
    "    \n",
    "    2. Analysis Parameters\n",
    "       - Evaluation criteria\n",
    "       - Measurement methods\n",
    "       - Benchmark standards\n",
    "    \n",
    "    3. Findings & Recommendations\n",
    "       - Key discoveries\n",
    "       - Action items\n",
    "       - Implementation path\n",
    "    \"\"\"\n",
    "    \n",
    "    analysis_request = template.format(\n",
    "        subject=\"Company's Remote Work Policy Effectiveness\"\n",
    "    )\n",
    "    \n",
    "    result = get_completion(analysis_request)\n",
    "    print(\"Template-Based Analysis:\\n\", result)"
   ]
  },
  {
   "cell_type": "code",
   "execution_count": null,
   "metadata": {},
   "outputs": [],
   "source": [
    "template_based_analysis()"
   ]
  },
  {
   "cell_type": "markdown",
   "metadata": {},
   "source": [
    "### Iterative Prompting"
   ]
  },
  {
   "cell_type": "markdown",
   "metadata": {},
   "source": [
    "- Iterative prompting is a systematic process of refining and improving prompts through multiple cycles of testing and optimization. \n",
    "\n",
    "- Each iteration builds upon the results of previous attempts, gradually enhancing the quality and accuracy of responses."
   ]
  },
  {
   "cell_type": "markdown",
   "metadata": {},
   "source": [
    "<center>\n",
    "    <img src=\"static/image6.png\" alt=\"Iterative Prompting\" style=\"width:50%;\">\n",
    "</center>"
   ]
  },
  {
   "cell_type": "markdown",
   "metadata": {},
   "source": [
    "#### Refinement Process"
   ]
  },
  {
   "cell_type": "markdown",
   "metadata": {},
   "source": [
    "```plaintext\n",
    "# Initial Prompt\n",
    "Summarize the main points of [article].\n",
    "\n",
    "# Refinement Prompt\n",
    "Based on the previous summary, expand on the following aspects:\n",
    "1. [Specific point 1]\n",
    "2. [Specific point 2]\n",
    "\n",
    "# Final Enhancement Prompt\n",
    "Polish the expanded summary by:\n",
    "- Improving clarity\n",
    "- Adding transitions\n",
    "- Ensuring consistency\n",
    "```"
   ]
  },
  {
   "cell_type": "markdown",
   "metadata": {},
   "source": [
    "#### Code Example"
   ]
  },
  {
   "cell_type": "code",
   "execution_count": null,
   "metadata": {},
   "outputs": [],
   "source": [
    "def iterative_content_improvement():\n",
    "    \"\"\"Example of iterative content improvement\"\"\"\n",
    "    \n",
    "    # Initial prompt\n",
    "    initial_prompt = \"\"\"\n",
    "    Write a short product description for a new smartphone:\n",
    "    - High-performance camera\n",
    "    - All-day battery life\n",
    "    - 5G capability\n",
    "    \"\"\"\n",
    "    \n",
    "    # First iteration\n",
    "    initial_content = get_completion(initial_prompt)\n",
    "    print(\"Initial Content:\\n\", initial_content)\n",
    "    \n",
    "    # Second iteration - Enhance clarity\n",
    "    clarity_prompt = f\"\"\"\n",
    "    Improve the clarity of this product description by:\n",
    "    - Adding specific technical details\n",
    "    - Using more engaging language\n",
    "    - Including comparison points\n",
    "    \n",
    "    Original content:\n",
    "    {initial_content}\n",
    "    \"\"\"\n",
    "    \n",
    "    improved_clarity = get_completion(clarity_prompt)\n",
    "    print(\"\\nImproved Clarity:\\n\", improved_clarity)\n",
    "    \n",
    "    # Third iteration - Add persuasive elements\n",
    "    persuasive_prompt = f\"\"\"\n",
    "    Enhance the persuasiveness of this description by:\n",
    "    - Adding social proof\n",
    "    - Highlighting unique selling points\n",
    "    - Including a call to action\n",
    "    \n",
    "    Current content:\n",
    "    {improved_clarity}\n",
    "    \"\"\"\n",
    "    \n",
    "    final_content = get_completion(persuasive_prompt)\n",
    "    print(\"\\nFinal Content:\\n\", final_content)"
   ]
  },
  {
   "cell_type": "code",
   "execution_count": null,
   "metadata": {},
   "outputs": [],
   "source": [
    "iterative_content_improvement()"
   ]
  },
  {
   "cell_type": "code",
   "execution_count": null,
   "metadata": {},
   "outputs": [],
   "source": [
    "def iterative_code_refinement():\n",
    "    \"\"\"Example of iterative code refinement\"\"\"\n",
    "    \n",
    "    # Initial prompt\n",
    "    initial_prompt = \"\"\"\n",
    "    Write a Python function to calculate the average of a list of numbers.\n",
    "    \"\"\"\n",
    "    \n",
    "    # First iteration - Basic implementation\n",
    "    initial_code = get_completion(initial_prompt)\n",
    "    print(\"Initial Code:\\n\", initial_code)\n",
    "    \n",
    "    # Second iteration - Add error handling\n",
    "    error_handling_prompt = f\"\"\"\n",
    "    Improve this code by adding error handling for:\n",
    "    - Empty lists\n",
    "    - Non-numeric values\n",
    "    - None values\n",
    "    \n",
    "    Original code:\n",
    "    {initial_code}\n",
    "    \"\"\"\n",
    "    \n",
    "    improved_code = get_completion(error_handling_prompt)\n",
    "    print(\"\\nImproved Code:\\n\", improved_code)\n",
    "    \n",
    "    # Third iteration - Add optimization and documentation\n",
    "    final_prompt = f\"\"\"\n",
    "    Further improve this code by:\n",
    "    - Adding comprehensive docstrings\n",
    "    - Optimizing performance\n",
    "    - Adding type hints\n",
    "    \n",
    "    Current code:\n",
    "    {improved_code}\n",
    "    \"\"\"\n",
    "    \n",
    "    final_code = get_completion(final_prompt)\n",
    "    print(\"\\nFinal Code:\\n\", final_code)"
   ]
  },
  {
   "cell_type": "code",
   "execution_count": null,
   "metadata": {},
   "outputs": [],
   "source": [
    "iterative_code_refinement()"
   ]
  },
  {
   "cell_type": "markdown",
   "metadata": {},
   "source": [
    "## Context and Structure"
   ]
  },
  {
   "cell_type": "markdown",
   "metadata": {},
   "source": [
    "- Context refers to the background information, parameters, and relevant details provided to a language model to help it generate more accurate, relevant, and targeted responses. \n",
    "\n",
    "- Effective context management is crucial for obtaining optimal results from LLMs."
   ]
  },
  {
   "cell_type": "markdown",
   "metadata": {},
   "source": [
    "<center>\n",
    "    <img src=\"static/image7.png\" alt=\"Using Context and Structure\" style=\"width:50%;\">\n",
    "</center>"
   ]
  },
  {
   "cell_type": "markdown",
   "metadata": {},
   "source": [
    "### Using Context Effectively"
   ]
  },
  {
   "cell_type": "markdown",
   "metadata": {},
   "source": [
    "#### Comparison Examples"
   ]
  },
  {
   "cell_type": "markdown",
   "metadata": {},
   "source": [
    "```plaintext\n",
    "# Without Context\n",
    "Write about climate change.\n",
    "\n",
    "# With Detailed Context\n",
    "Write about climate change considering:\n",
    "- Target audience: High school students\n",
    "- Purpose: Educational blog post\n",
    "- Length: 500 words\n",
    "- Focus: Recent scientific findings\n",
    "- Tone: Informative but engaging\n",
    "- Include: Real-world examples and solutions\n",
    "```"
   ]
  },
  {
   "cell_type": "markdown",
   "metadata": {},
   "source": [
    "#### Code Example"
   ]
  },
  {
   "cell_type": "code",
   "execution_count": null,
   "metadata": {},
   "outputs": [],
   "source": [
    "# Method for Chat Completion Example for Contextual Chat with Context Switching\n",
    "def structured_analysis_with_context():\n",
    "    \"\"\"Example of using structured context for analysis\"\"\"\n",
    "    \n",
    "    context = \"\"\"\n",
    "    ANALYSIS CONTEXT\n",
    "    \n",
    "    Subject: Electric Vehicle Market Analysis\n",
    "    Time Period: 2020-2024\n",
    "    Region: North America\n",
    "    Target Audience: Automotive Industry Executives\n",
    "    \n",
    "    Required Focus Areas:\n",
    "    1. Market Growth\n",
    "    2. Consumer Trends\n",
    "    3. Infrastructure Development\n",
    "    4. Competitive Landscape\n",
    "    \n",
    "    Data Requirements:\n",
    "    - Include market size figures\n",
    "    - Growth percentages\n",
    "    - Key player market shares\n",
    "    - Consumer adoption rates\n",
    "    \"\"\"\n",
    "    \n",
    "    prompt = f\"\"\"\n",
    "    Based on the following context, provide a detailed analysis:\n",
    "    \n",
    "    {context}\n",
    "    \n",
    "    Format your response as a professional report with clear sections and data points.\n",
    "    \"\"\"\n",
    "    \n",
    "    result = get_completion(prompt)\n",
    "    print(\"Structured Analysis Result:\\n\", result)\n"
   ]
  },
  {
   "cell_type": "code",
   "execution_count": null,
   "metadata": {},
   "outputs": [],
   "source": [
    "structured_analysis_with_context()"
   ]
  },
  {
   "cell_type": "code",
   "execution_count": null,
   "metadata": {},
   "outputs": [],
   "source": [
    "# Method for Chat Completion Example for Contextual Content Generation with Context Switching\n",
    "def contextual_content_generation():\n",
    "    \"\"\"Example of using context for content generation\"\"\"\n",
    "    \n",
    "    context = \"\"\"\n",
    "    CONTENT CONTEXT\n",
    "    \n",
    "    Type: Technical Blog Post\n",
    "    Topic: Machine Learning Deployment\n",
    "    Audience: Software Engineers\n",
    "    Knowledge Level: Intermediate\n",
    "    \n",
    "    Key Background:\n",
    "    - Readers understand basic ML concepts\n",
    "    - Familiar with cloud platforms\n",
    "    - Basic DevOps knowledge\n",
    "    \n",
    "    Technical Requirements:\n",
    "    - Include code snippets\n",
    "    - Focus on practical implementation\n",
    "    - Cover best practices\n",
    "    \n",
    "    Business Context:\n",
    "    - Enterprise environment\n",
    "    - Scalability concerns\n",
    "    - Budget constraints\n",
    "    \"\"\"\n",
    "    \n",
    "    prompt = f\"\"\"\n",
    "    Using this context, write a technical blog post:\n",
    "    \n",
    "    {context}\n",
    "    \n",
    "    Structure the content with clear headings, code examples, and practical tips.\n",
    "    \"\"\"\n",
    "    \n",
    "    result = get_completion(prompt)\n",
    "    print(\"Contextual Content Result:\\n\", result)"
   ]
  },
  {
   "cell_type": "code",
   "execution_count": null,
   "metadata": {},
   "outputs": [],
   "source": [
    "contextual_content_generation()"
   ]
  },
  {
   "cell_type": "markdown",
   "metadata": {},
   "source": [
    "### Output Formatting"
   ]
  },
  {
   "cell_type": "markdown",
   "metadata": {},
   "source": [
    "#### Template Examples"
   ]
  },
  {
   "cell_type": "markdown",
   "metadata": {},
   "source": [
    "```plaintext\n",
    "# JSON Output Template\n",
    "Provide the analysis in this format:\n",
    "{\n",
    "    \"main_points\": [],\n",
    "    \"key_findings\": {},\n",
    "    \"recommendations\": []\n",
    "}\n",
    "\n",
    "# Structured Report Template\n",
    "Report Structure:\n",
    "1. Executive Summary\n",
    "   - Key findings\n",
    "   - Main recommendations\n",
    "2. Detailed Analysis\n",
    "   - Point 1\n",
    "   - Point 2\n",
    "3. Conclusions\n",
    "4. Next Steps\n",
    "```"
   ]
  },
  {
   "cell_type": "markdown",
   "metadata": {},
   "source": [
    "#### Best Practices"
   ]
  },
  {
   "cell_type": "markdown",
   "metadata": {},
   "source": [
    "1. **Clarity in Instructions**\n",
    "   - Be specific about requirements\n",
    "   - Define format precisely\n",
    "   - Provide examples when needed\n",
    "\n",
    "2. **Consistency in Structure**\n",
    "   - Use standardized templates\n",
    "   - Maintain format across similar tasks\n",
    "   - Define clear sections\n",
    "\n",
    "3. **Quality Control**\n",
    "   - Include validation criteria\n",
    "   - Specify error checking\n",
    "   - Request self-review"
   ]
  },
  {
   "cell_type": "markdown",
   "metadata": {},
   "source": [
    "#### Code Example"
   ]
  },
  {
   "cell_type": "code",
   "execution_count": null,
   "metadata": {},
   "outputs": [],
   "source": [
    "import json\n",
    "from typing import Dict, List, Union\n",
    "\n",
    "# Method for Chat Completion Example for JSON Formatted Output\n",
    "def json_formatted_output():\n",
    "    \"\"\"Example of generating JSON-formatted output\"\"\"\n",
    "    \n",
    "    prompt = \"\"\"\n",
    "    Analyze this product review and provide the analysis in JSON format:\n",
    "    \n",
    "    \"The new XPS 13 laptop has amazing battery life and a beautiful display, \n",
    "    but the keyboard feels a bit cramped and it's quite expensive.\"\n",
    "    \n",
    "    Include these fields in JSON:\n",
    "    - sentiment\n",
    "    - pros (array)\n",
    "    - cons (array)\n",
    "    - overall_rating (1-5)\n",
    "    - key_features (object with ratings)\n",
    "    \"\"\"\n",
    "    \n",
    "    result = get_completion(prompt)\n",
    "    try:\n",
    "        # Parse and format JSON for verification\n",
    "        formatted_json = json.loads(result)\n",
    "        print(\"JSON Output:\\n\", json.dumps(formatted_json, indent=2))\n",
    "    except json.JSONDecodeError:\n",
    "        print(\"Raw Result (Invalid JSON):\\n\", result)\n",
    "\n"
   ]
  },
  {
   "cell_type": "code",
   "execution_count": null,
   "metadata": {},
   "outputs": [],
   "source": [
    "json_formatted_output()"
   ]
  },
  {
   "cell_type": "code",
   "execution_count": null,
   "metadata": {},
   "outputs": [],
   "source": [
    "# Method for Chat Completion Example for Table Formatted Output\n",
    "def structured_table_output():\n",
    "    \"\"\"Example of generating markdown table output\"\"\"\n",
    "    \n",
    "    prompt = \"\"\"\n",
    "    Create a comparison of cloud providers (AWS, Azure, GCP) in markdown table format.\n",
    "    Compare these aspects:\n",
    "    - Compute Services\n",
    "    - Storage Options\n",
    "    - Pricing Model\n",
    "    - Global Reach\n",
    "    \n",
    "    Use markdown table syntax with aligned columns.\n",
    "    \"\"\"\n",
    "    \n",
    "    result = get_completion(prompt)\n",
    "    print(\"Table Output:\\n\", result)"
   ]
  },
  {
   "cell_type": "code",
   "execution_count": null,
   "metadata": {},
   "outputs": [],
   "source": [
    "structured_table_output()"
   ]
  },
  {
   "cell_type": "code",
   "execution_count": null,
   "metadata": {},
   "outputs": [],
   "source": [
    "# Method for Chat Completion Example for Hierarchical List Formatted Output\n",
    "def hierarchical_list_output():\n",
    "    \"\"\"Example of generating hierarchical list output\"\"\"\n",
    "    \n",
    "    prompt = \"\"\"\n",
    "    Create a hierarchical outline of best practices for microservices architecture.\n",
    "    \n",
    "    Format the output as a numbered list with sub-points using this structure:\n",
    "    1. Main Point\n",
    "       1.1. Sub-point\n",
    "            1.1.1. Detail\n",
    "       1.2. Sub-point\n",
    "    2. Main Point\n",
    "    \n",
    "    Include at least 3 main points with relevant sub-points and details.\n",
    "    \"\"\"\n",
    "    \n",
    "    result = get_completion(prompt)\n",
    "    print(\"Hierarchical List Output:\\n\", result)"
   ]
  },
  {
   "cell_type": "code",
   "execution_count": null,
   "metadata": {},
   "outputs": [],
   "source": [
    "hierarchical_list_output()"
   ]
  },
  {
   "cell_type": "code",
   "execution_count": null,
   "metadata": {},
   "outputs": [],
   "source": [
    "# Method for Chat Completion Example for Custom Formatted Report\n",
    "def custom_formatted_report():\n",
    "    \"\"\"Example of generating a custom-formatted report\"\"\"\n",
    "    \n",
    "    report_template = \"\"\"\n",
    "    TECHNICAL ANALYSIS REPORT\n",
    "    ========================\n",
    "    \n",
    "    EXECUTIVE SUMMARY\n",
    "    ----------------\n",
    "    {summary}\n",
    "    \n",
    "    DETAILED FINDINGS\n",
    "    ----------------\n",
    "    {findings}\n",
    "    \n",
    "    RECOMMENDATIONS\n",
    "    --------------\n",
    "    {recommendations}\n",
    "    \n",
    "    METRICS DASHBOARD\n",
    "    ----------------\n",
    "    {metrics}\n",
    "    \n",
    "    NEXT STEPS\n",
    "    ----------\n",
    "    {next_steps}\n",
    "    \"\"\"\n",
    "    \n",
    "    prompt = f\"\"\"\n",
    "    Analyze the performance of a web application and provide results in this format:\n",
    "    \n",
    "    {report_template}\n",
    "    \n",
    "    Focus on:\n",
    "    - Response times\n",
    "    - Error rates\n",
    "    - Resource usage\n",
    "    - User experience\n",
    "    \n",
    "    Use concrete metrics and specific recommendations.\n",
    "    \"\"\"\n",
    "    \n",
    "    result = get_completion(prompt)\n",
    "    print(\"Custom Formatted Report:\\n\", result)"
   ]
  },
  {
   "cell_type": "code",
   "execution_count": null,
   "metadata": {},
   "outputs": [],
   "source": [
    "custom_formatted_report()"
   ]
  },
  {
   "cell_type": "code",
   "execution_count": null,
   "metadata": {},
   "outputs": [],
   "source": [
    "# Method for Chat Completion Example for Mixed Format Output\n",
    "def mixed_format_output():\n",
    "    \"\"\"Example of combining multiple output formats\"\"\"\n",
    "    \n",
    "    prompt = \"\"\"\n",
    "    Analyze a software project's status and provide a mixed-format report that includes:\n",
    "    \n",
    "    1. Executive Summary (prose format)\n",
    "    \n",
    "    2. Project Metrics (JSON format):\n",
    "       - timeline_status\n",
    "       - budget_status\n",
    "       - team_velocity\n",
    "       - bug_count\n",
    "    \n",
    "    3. Risk Analysis (markdown table)\n",
    "       Columns: Risk, Impact, Probability, Mitigation\n",
    "    \n",
    "    4. Action Items (bulleted list)\n",
    "    \n",
    "    5. Timeline (formatted as a simple ASCII timeline)\n",
    "    \n",
    "    Ensure each section is clearly separated and properly formatted.\n",
    "    \"\"\"\n",
    "    \n",
    "    result = get_completion(prompt)\n",
    "    print(\"Mixed Format Output:\\n\", result)"
   ]
  },
  {
   "cell_type": "code",
   "execution_count": null,
   "metadata": {},
   "outputs": [],
   "source": [
    "mixed_format_output()"
   ]
  },
  {
   "cell_type": "markdown",
   "metadata": {},
   "source": [
    "## Advanced Concepts: Plan and Solve (PS) Prompting"
   ]
  },
  {
   "cell_type": "markdown",
   "metadata": {},
   "source": [
    "Plan and Solve (PS) Prompting is a sophisticated approach that breaks down complex problems into manageable components, plans their solution systematically, and executes them methodically. This technique is particularly effective for complex tasks requiring multiple steps or interdependent solutions."
   ]
  },
  {
   "cell_type": "markdown",
   "metadata": {},
   "source": [
    "<center>\n",
    "    <img src=\"static/image8.png\" alt=\"Plan and Solve Prompting\" style=\"width:50%;\">\n",
    "</center>"
   ]
  },
  {
   "cell_type": "markdown",
   "metadata": {},
   "source": [
    "### Problem Definition"
   ]
  },
  {
   "cell_type": "markdown",
   "metadata": {},
   "source": [
    "#### Structured Problem Analysis"
   ]
  },
  {
   "cell_type": "markdown",
   "metadata": {},
   "source": [
    "```plaintext\n",
    "PROBLEM ANALYSIS FRAMEWORK:\n",
    "\n",
    "1. Core Problem Statement\n",
    "   □ Primary challenge\n",
    "   □ Expected outcome\n",
    "   □ Success criteria\n",
    "\n",
    "2. Context Analysis\n",
    "   □ Background information\n",
    "   □ Existing constraints\n",
    "   □ Available resources\n",
    "\n",
    "3. Requirement Specification\n",
    "   □ Functional requirements\n",
    "   □ Technical specifications\n",
    "   □ Quality parameters\n",
    "\n",
    "Example:\n",
    "Problem: Create an automated content moderation system\n",
    "\n",
    "Analysis:\n",
    "1. Core Challenge:\n",
    "   - Detect and filter inappropriate content\n",
    "   - Real-time processing requirements\n",
    "   - Multi-language support needed\n",
    "\n",
    "2. Context:\n",
    "   - High-volume platform (1M+ posts/day)\n",
    "   - Multi-language environment\n",
    "   - Legal compliance requirements\n",
    "\n",
    "3. Requirements:\n",
    "   - 99.9% uptime\n",
    "   - <100ms processing time\n",
    "   - <1% false positive rate\n",
    "```"
   ]
  },
  {
   "cell_type": "markdown",
   "metadata": {},
   "source": [
    "#### Component Breakdown"
   ]
  },
  {
   "cell_type": "markdown",
   "metadata": {},
   "source": [
    "```plaintext\n",
    "COMPONENT IDENTIFICATION TEMPLATE:\n",
    "\n",
    "1. Primary Components\n",
    "   □ Core functionalities\n",
    "   □ Critical paths\n",
    "   □ Dependencies\n",
    "\n",
    "2. Secondary Components\n",
    "   □ Supporting features\n",
    "   □ Optional enhancements\n",
    "   □ Fallback systems\n",
    "\n",
    "3. Integration Points\n",
    "   □ Component interfaces\n",
    "   □ Data flow paths\n",
    "   □ System interactions\n",
    "\n",
    "Example Implementation:\n",
    "Content Moderation System Breakdown:\n",
    "\n",
    "1. Primary:\n",
    "   - Text analysis engine\n",
    "   - Image recognition system\n",
    "   - User reporting handler\n",
    "   \n",
    "2. Secondary:\n",
    "   - Performance monitoring\n",
    "   - Audit logging\n",
    "   - Appeal system\n",
    "\n",
    "3. Integration:\n",
    "   - API endpoints\n",
    "   - Database connections\n",
    "   - Notification system\n",
    "```"
   ]
  },
  {
   "cell_type": "markdown",
   "metadata": {},
   "source": [
    "### Planning Methodology"
   ]
  },
  {
   "cell_type": "markdown",
   "metadata": {},
   "source": [
    "#### Strategic Planning Framework"
   ]
  },
  {
   "cell_type": "markdown",
   "metadata": {},
   "source": [
    "```plaintext\n",
    "PLANNING TEMPLATE:\n",
    "\n",
    "1. Phase Definition\n",
    "   □ Clear milestones\n",
    "   □ Timeline estimates\n",
    "   □ Resource allocation\n",
    "\n",
    "2. Risk Assessment\n",
    "   □ Potential obstacles\n",
    "   □ Mitigation strategies\n",
    "   □ Contingency plans\n",
    "\n",
    "3. Quality Assurance\n",
    "   □ Testing protocols\n",
    "   □ Validation methods\n",
    "   □ Performance metrics\n",
    "\n",
    "Example Plan:\n",
    "Content Moderation Implementation:\n",
    "\n",
    "Phase 1: Core Engine (Week 1-2)\n",
    "- Text analysis implementation\n",
    "- Basic image recognition\n",
    "- Initial API setup\n",
    "\n",
    "Phase 2: Enhancement (Week 3-4)\n",
    "- Advanced features\n",
    "- Performance optimization\n",
    "- Integration testing\n",
    "\n",
    "Phase 3: Deployment (Week 5)\n",
    "- System deployment\n",
    "- Monitoring setup\n",
    "- User training\n",
    "```"
   ]
  },
  {
   "cell_type": "markdown",
   "metadata": {},
   "source": [
    "#### Resource Optimization"
   ]
  },
  {
   "cell_type": "markdown",
   "metadata": {
    "vscode": {
     "languageId": "plaintext"
    }
   },
   "source": [
    "```plaintext\n",
    "RESOURCE ALLOCATION MATRIX:\n",
    "\n",
    "1. Technical Resources\n",
    "   □ Computing power\n",
    "   □ Storage requirements\n",
    "   □ Network bandwidth\n",
    "\n",
    "2. Human Resources\n",
    "   □ Team expertise\n",
    "   □ Role assignment\n",
    "   □ Training needs\n",
    "\n",
    "3. Time Management\n",
    "   □ Task scheduling\n",
    "   □ Timeline buffers\n",
    "   □ Milestone tracking\n",
    "\n",
    "Example:\n",
    "Resource Distribution:\n",
    "\n",
    "Technical:\n",
    "- 4 high-performance servers\n",
    "- 1TB storage allocation\n",
    "- 1Gbps dedicated bandwidth\n",
    "```"
   ]
  },
  {
   "cell_type": "markdown",
   "metadata": {},
   "source": [
    "#### Code Example"
   ]
  },
  {
   "cell_type": "code",
   "execution_count": null,
   "metadata": {},
   "outputs": [],
   "source": [
    "# 1. Basic Plan and Solve\n",
    "def basic_plan_and_solve():\n",
    "    \"\"\"Basic example of Plan and Solve prompting\"\"\"\n",
    "    \n",
    "    problem = \"\"\"\n",
    "    A software team needs to migrate a legacy application to the cloud. \n",
    "    The application is currently running on-premises and has 1000 daily active users. \n",
    "    Budget is $50,000 and timeline is 3 months.\n",
    "    \"\"\"\n",
    "    \n",
    "    prompt = f\"\"\"\n",
    "    Let's solve this problem step by step:\n",
    "\n",
    "    Problem: {problem}\n",
    "\n",
    "    1. First, analyze the problem and identify key components\n",
    "    2. Then, create a detailed plan\n",
    "    3. Finally, provide specific solutions for each part\n",
    "\n",
    "    Please follow this structure in your response:\n",
    "    1. Problem Analysis\n",
    "    2. Planning Phase\n",
    "    3. Solution Details\n",
    "    4. Implementation Steps\n",
    "    5. Risk Mitigation\n",
    "    \"\"\"\n",
    "    \n",
    "    result = get_completion(prompt)\n",
    "    print(\"Basic Plan and Solve Result:\\n\", result)\n",
    "\n",
    "\n"
   ]
  },
  {
   "cell_type": "code",
   "execution_count": null,
   "metadata": {},
   "outputs": [],
   "source": [
    "print(\"\\n=== Basic PS Example ===\")\n",
    "basic_plan_and_solve()"
   ]
  },
  {
   "cell_type": "code",
   "execution_count": null,
   "metadata": {},
   "outputs": [],
   "source": [
    "# 2. Complex Problem Decomposition\n",
    "\n",
    "def complex_problem_solver():\n",
    "    \"\"\"Example of solving complex problems with PS prompting\"\"\"\n",
    "    \n",
    "    def analyze_problem(problem: str) -> str:\n",
    "        analysis_prompt = f\"\"\"\n",
    "        Analyze this problem by breaking it down into its core components:\n",
    "\n",
    "        Problem: {problem}\n",
    "\n",
    "        Provide:\n",
    "        1. Key Challenges\n",
    "        2. Critical Requirements\n",
    "        3. Constraints\n",
    "        4. Dependencies\n",
    "        5. Success Criteria\n",
    "        \"\"\"\n",
    "        return get_completion(analysis_prompt)\n",
    "    \n",
    "    def create_plan(analysis: str) -> str:\n",
    "        planning_prompt = f\"\"\"\n",
    "        Based on this analysis, create a detailed plan:\n",
    "\n",
    "        Analysis: {analysis}\n",
    "\n",
    "        Include:\n",
    "        1. Phase Breakdown\n",
    "        2. Timeline Estimates\n",
    "        3. Resource Requirements\n",
    "        4. Milestones\n",
    "        5. Deliverables\n",
    "        \"\"\"\n",
    "        return get_completion(planning_prompt)\n",
    "    \n",
    "    def generate_solution(plan: str) -> str:\n",
    "        solution_prompt = f\"\"\"\n",
    "        Based on this plan, provide detailed solutions:\n",
    "\n",
    "        Plan: {plan}\n",
    "\n",
    "        Include:\n",
    "        1. Specific Actions\n",
    "        2. Technical Details\n",
    "        3. Implementation Guidelines\n",
    "        4. Quality Measures\n",
    "        5. Success Metrics\n",
    "        \"\"\"\n",
    "        return get_completion(solution_prompt)\n",
    "    \n",
    "    # Example usage\n",
    "    problem = \"\"\"\n",
    "    Design and implement a scalable e-commerce platform that can handle:\n",
    "    - 10,000 concurrent users\n",
    "    - 1 million products\n",
    "    - Real-time inventory management\n",
    "    - Secure payment processing\n",
    "    - Multiple vendor support\n",
    "    Budget: $200,000\n",
    "    Timeline: 6 months\n",
    "    \"\"\"\n",
    "    \n",
    "    analysis = analyze_problem(problem)\n",
    "    print(\"1. Problem Analysis:\\n\", analysis)\n",
    "    \n",
    "    plan = create_plan(analysis)\n",
    "    print(\"\\n2. Detailed Plan:\\n\", plan)\n",
    "    \n",
    "    solution = generate_solution(plan)\n",
    "    print(\"\\n3. Solution Details:\\n\", solution)"
   ]
  },
  {
   "cell_type": "code",
   "execution_count": null,
   "metadata": {},
   "outputs": [],
   "source": [
    "print(\"\\n=== Complex Problem Decomposition ===\")\n",
    "complex_problem_solver()"
   ]
  },
  {
   "cell_type": "code",
   "execution_count": null,
   "metadata": {},
   "outputs": [],
   "source": [
    "# 3. PS Prompting with Decision Trees\n",
    "\n",
    "def decision_tree_solver():\n",
    "    \"\"\"Example of PS prompting using decision trees\"\"\"\n",
    "    \n",
    "    problem = \"\"\"\n",
    "    Optimize the customer support system for a growing startup:\n",
    "    - Current: 100 tickets/day\n",
    "    - Growth: 20% monthly\n",
    "    - Current response time: 24 hours\n",
    "    - Target response time: 4 hours\n",
    "    - Budget: $30,000\n",
    "    \"\"\"\n",
    "    \n",
    "    prompt = f\"\"\"\n",
    "    Let's solve this problem using a decision tree approach:\n",
    "\n",
    "    Problem: {problem}\n",
    "\n",
    "    For each potential solution path:\n",
    "    1. Identify key decision points\n",
    "    2. Analyze pros and cons\n",
    "    3. Estimate resource requirements\n",
    "    4. Evaluate feasibility\n",
    "    5. Calculate potential impact\n",
    "\n",
    "    Present the analysis as a tree structure with:\n",
    "    - Decision nodes\n",
    "    - Branch conditions\n",
    "    - Outcome estimates\n",
    "    - Resource requirements\n",
    "    - Risk assessments\n",
    "    \"\"\"\n",
    "    \n",
    "    result = get_completion(prompt)\n",
    "    print(\"Decision Tree Analysis:\\n\", result)"
   ]
  },
  {
   "cell_type": "code",
   "execution_count": null,
   "metadata": {},
   "outputs": [],
   "source": [
    "print(\"\\n=== Decision Tree Analysis ===\")\n",
    "decision_tree_solver()"
   ]
  },
  {
   "cell_type": "code",
   "execution_count": null,
   "metadata": {},
   "outputs": [],
   "source": [
    "# 4. Iterative PS Prompting\n",
    "\n",
    "def iterative_problem_solver():\n",
    "    \"\"\"Example of iterative PS prompting\"\"\"\n",
    "    \n",
    "    initial_problem = \"\"\"\n",
    "    Improve website conversion rate:\n",
    "    - Current rate: 2%\n",
    "    - Target rate: 5%\n",
    "    - Monthly traffic: 100,000 visitors\n",
    "    - E-commerce website\n",
    "    - Budget: $20,000\n",
    "    \"\"\"\n",
    "    \n",
    "    # Step 1: Initial Analysis\n",
    "    analysis_prompt = f\"\"\"\n",
    "    Provide initial analysis of the conversion rate problem:\n",
    "\n",
    "    Problem: {initial_problem}\n",
    "\n",
    "    Include:\n",
    "    1. Potential causes of low conversion\n",
    "    2. Key areas for improvement\n",
    "    3. Initial hypotheses\n",
    "    \"\"\"\n",
    "    \n",
    "    initial_analysis = get_completion(analysis_prompt)\n",
    "    print(\"1. Initial Analysis:\\n\", initial_analysis)\n",
    "    \n",
    "    # Step 2: Solution Generation\n",
    "    solution_prompt = f\"\"\"\n",
    "    Based on this analysis, generate potential solutions:\n",
    "\n",
    "    Analysis: {initial_analysis}\n",
    "\n",
    "    For each solution, provide:\n",
    "    1. Implementation approach\n",
    "    2. Required resources\n",
    "    3. Expected impact\n",
    "    4. Timeline\n",
    "    \"\"\"\n",
    "    \n",
    "    solutions = get_completion(solution_prompt)\n",
    "    print(\"\\n2. Potential Solutions:\\n\", solutions)\n",
    "    \n",
    "    # Step 3: Implementation Planning\n",
    "    implementation_prompt = f\"\"\"\n",
    "    Create a detailed implementation plan for these solutions:\n",
    "\n",
    "    Solutions: {solutions}\n",
    "\n",
    "    Include:\n",
    "    1. Prioritized action items\n",
    "    2. Resource allocation\n",
    "    3. Timeline\n",
    "    4. Success metrics\n",
    "    5. Monitoring plan\n",
    "    \"\"\"\n",
    "    \n",
    "    implementation_plan = get_completion(implementation_prompt)\n",
    "    print(\"\\n3. Implementation Plan:\\n\", implementation_plan)"
   ]
  },
  {
   "cell_type": "code",
   "execution_count": null,
   "metadata": {},
   "outputs": [],
   "source": [
    "print(\"\\n=== Iterative Problem Solving ===\")\n",
    "iterative_problem_solver()"
   ]
  },
  {
   "cell_type": "code",
   "execution_count": null,
   "metadata": {},
   "outputs": [],
   "source": [
    "# 5. PS Prompting with Cost-Benefit Analysis\n",
    "\n",
    "def cost_benefit_solver():\n",
    "    \"\"\"Example of PS prompting with cost-benefit analysis\"\"\"\n",
    "    \n",
    "    scenario = \"\"\"\n",
    "    Choose a technology stack for a new mobile app:\n",
    "    Requirements:\n",
    "    - Cross-platform capability\n",
    "    - Real-time features\n",
    "    - Offline functionality\n",
    "    - Rich UI components\n",
    "    Budget: $150,000\n",
    "    Timeline: 4 months\n",
    "    \"\"\"\n",
    "    \n",
    "    prompt = f\"\"\"\n",
    "    Let's analyze this technology choice using cost-benefit analysis:\n",
    "\n",
    "    Scenario: {scenario}\n",
    "\n",
    "    For each potential solution stack:\n",
    "    1. Initial Costs\n",
    "       - Development tools\n",
    "       - Training needs\n",
    "       - Infrastructure setup\n",
    "\n",
    "    2. Ongoing Costs\n",
    "       - Maintenance\n",
    "       - Licensing\n",
    "       - Hosting\n",
    "\n",
    "    3. Benefits\n",
    "       - Development speed\n",
    "       - Performance\n",
    "       - Scalability\n",
    "       - Community support\n",
    "\n",
    "    4. Risks\n",
    "       - Technical risks\n",
    "       - Market risks\n",
    "       - Team risks\n",
    "\n",
    "    Provide a structured analysis with:\n",
    "    - Quantitative metrics where possible\n",
    "    - Qualitative assessments\n",
    "    - ROI calculations\n",
    "    - Recommendation with justification\n",
    "    \"\"\"\n",
    "    \n",
    "    result = get_completion(prompt)\n",
    "    print(\"Cost-Benefit Analysis:\\n\", result)"
   ]
  },
  {
   "cell_type": "code",
   "execution_count": null,
   "metadata": {},
   "outputs": [],
   "source": [
    "print(\"\\n=== Cost-Benefit Analysis ===\")\n",
    "cost_benefit_solver()"
   ]
  }
 ],
 "metadata": {
  "kernelspec": {
   "display_name": "env",
   "language": "python",
   "name": "python3"
  },
  "language_info": {
   "codemirror_mode": {
    "name": "ipython",
    "version": 3
   },
   "file_extension": ".py",
   "mimetype": "text/x-python",
   "name": "python",
   "nbconvert_exporter": "python",
   "pygments_lexer": "ipython3",
   "version": "3.12.6"
  }
 },
 "nbformat": 4,
 "nbformat_minor": 2
}
